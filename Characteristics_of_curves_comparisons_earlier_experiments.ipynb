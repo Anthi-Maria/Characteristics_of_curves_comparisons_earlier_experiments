{
  "cells": [
    {
      "cell_type": "code",
      "execution_count": 1,
      "id": "6507a9fc",
      "metadata": {
        "colab": {
          "base_uri": "https://localhost:8080/"
        },
        "id": "6507a9fc",
        "outputId": "c29c7635-7b82-4cea-a893-126c7291b381"
      },
      "outputs": [
        {
          "output_type": "stream",
          "name": "stdout",
          "text": [
            "Collecting FlowCal\n",
            "  Downloading FlowCal-1.3.0.tar.gz (82 kB)\n",
            "\u001b[2K     \u001b[90m━━━━━━━━━━━━━━━━━━━━━━━━━━━━━━━━━━━━━━━━\u001b[0m \u001b[32m82.3/82.3 kB\u001b[0m \u001b[31m706.3 kB/s\u001b[0m eta \u001b[36m0:00:00\u001b[0m\n",
            "\u001b[?25h  Preparing metadata (setup.py) ... \u001b[?25l\u001b[?25hdone\n",
            "Requirement already satisfied: packaging>=16.8 in /usr/local/lib/python3.10/dist-packages (from FlowCal) (23.2)\n",
            "Requirement already satisfied: six>=1.10.0 in /usr/local/lib/python3.10/dist-packages (from FlowCal) (1.16.0)\n",
            "Requirement already satisfied: numpy>=1.9.0 in /usr/local/lib/python3.10/dist-packages (from FlowCal) (1.23.5)\n",
            "Requirement already satisfied: scipy>=0.19.0 in /usr/local/lib/python3.10/dist-packages (from FlowCal) (1.11.4)\n",
            "Requirement already satisfied: matplotlib>=2.0.0 in /usr/local/lib/python3.10/dist-packages (from FlowCal) (3.7.1)\n",
            "Requirement already satisfied: scikit-image>=0.10.0 in /usr/local/lib/python3.10/dist-packages (from FlowCal) (0.19.3)\n",
            "Requirement already satisfied: scikit-learn>=0.16.0 in /usr/local/lib/python3.10/dist-packages (from FlowCal) (1.2.2)\n",
            "Requirement already satisfied: pandas>=0.23.0 in /usr/local/lib/python3.10/dist-packages (from FlowCal) (1.5.3)\n",
            "Collecting xlrd<2.0.0,>=0.9.2 (from FlowCal)\n",
            "  Downloading xlrd-1.2.0-py2.py3-none-any.whl (103 kB)\n",
            "\u001b[2K     \u001b[90m━━━━━━━━━━━━━━━━━━━━━━━━━━━━━━━━━━━━━━━━\u001b[0m \u001b[32m103.3/103.3 kB\u001b[0m \u001b[31m2.1 MB/s\u001b[0m eta \u001b[36m0:00:00\u001b[0m\n",
            "\u001b[?25hRequirement already satisfied: openpyxl>=2.2.0 in /usr/local/lib/python3.10/dist-packages (from FlowCal) (3.1.2)\n",
            "Requirement already satisfied: contourpy>=1.0.1 in /usr/local/lib/python3.10/dist-packages (from matplotlib>=2.0.0->FlowCal) (1.2.0)\n",
            "Requirement already satisfied: cycler>=0.10 in /usr/local/lib/python3.10/dist-packages (from matplotlib>=2.0.0->FlowCal) (0.12.1)\n",
            "Requirement already satisfied: fonttools>=4.22.0 in /usr/local/lib/python3.10/dist-packages (from matplotlib>=2.0.0->FlowCal) (4.45.1)\n",
            "Requirement already satisfied: kiwisolver>=1.0.1 in /usr/local/lib/python3.10/dist-packages (from matplotlib>=2.0.0->FlowCal) (1.4.5)\n",
            "Requirement already satisfied: pillow>=6.2.0 in /usr/local/lib/python3.10/dist-packages (from matplotlib>=2.0.0->FlowCal) (9.4.0)\n",
            "Requirement already satisfied: pyparsing>=2.3.1 in /usr/local/lib/python3.10/dist-packages (from matplotlib>=2.0.0->FlowCal) (3.1.1)\n",
            "Requirement already satisfied: python-dateutil>=2.7 in /usr/local/lib/python3.10/dist-packages (from matplotlib>=2.0.0->FlowCal) (2.8.2)\n",
            "Requirement already satisfied: et-xmlfile in /usr/local/lib/python3.10/dist-packages (from openpyxl>=2.2.0->FlowCal) (1.1.0)\n",
            "Requirement already satisfied: pytz>=2020.1 in /usr/local/lib/python3.10/dist-packages (from pandas>=0.23.0->FlowCal) (2023.3.post1)\n",
            "Requirement already satisfied: networkx>=2.2 in /usr/local/lib/python3.10/dist-packages (from scikit-image>=0.10.0->FlowCal) (3.2.1)\n",
            "Requirement already satisfied: imageio>=2.4.1 in /usr/local/lib/python3.10/dist-packages (from scikit-image>=0.10.0->FlowCal) (2.31.6)\n",
            "Requirement already satisfied: tifffile>=2019.7.26 in /usr/local/lib/python3.10/dist-packages (from scikit-image>=0.10.0->FlowCal) (2023.9.26)\n",
            "Requirement already satisfied: PyWavelets>=1.1.1 in /usr/local/lib/python3.10/dist-packages (from scikit-image>=0.10.0->FlowCal) (1.5.0)\n",
            "Requirement already satisfied: joblib>=1.1.1 in /usr/local/lib/python3.10/dist-packages (from scikit-learn>=0.16.0->FlowCal) (1.3.2)\n",
            "Requirement already satisfied: threadpoolctl>=2.0.0 in /usr/local/lib/python3.10/dist-packages (from scikit-learn>=0.16.0->FlowCal) (3.2.0)\n",
            "Building wheels for collected packages: FlowCal\n",
            "  Building wheel for FlowCal (setup.py) ... \u001b[?25l\u001b[?25hdone\n",
            "  Created wheel for FlowCal: filename=FlowCal-1.3.0-py3-none-any.whl size=84525 sha256=923ee0220b7cc30e80adac985047fc44e79cbea953890981a530d5b00d3f5cd7\n",
            "  Stored in directory: /root/.cache/pip/wheels/b1/9c/f3/4c59694424e6a6d70b11b66f076d8a2359b57dfdb9b723ed3f\n",
            "Successfully built FlowCal\n",
            "Installing collected packages: xlrd, FlowCal\n",
            "  Attempting uninstall: xlrd\n",
            "    Found existing installation: xlrd 2.0.1\n",
            "    Uninstalling xlrd-2.0.1:\n",
            "      Successfully uninstalled xlrd-2.0.1\n",
            "Successfully installed FlowCal-1.3.0 xlrd-1.2.0\n"
          ]
        }
      ],
      "source": [
        "!pip install FlowCal"
      ]
    },
    {
      "cell_type": "code",
      "execution_count": null,
      "id": "862fa2ce",
      "metadata": {
        "scrolled": true,
        "colab": {
          "base_uri": "https://localhost:8080/",
          "height": 391
        },
        "id": "862fa2ce",
        "outputId": "077c19b4-bc8a-4fd7-fba6-277f6a4b5268"
      },
      "outputs": [
        {
          "output_type": "error",
          "ename": "FileNotFoundError",
          "evalue": "ignored",
          "traceback": [
            "\u001b[0;31m---------------------------------------------------------------------------\u001b[0m",
            "\u001b[0;31mFileNotFoundError\u001b[0m                         Traceback (most recent call last)",
            "\u001b[0;32m<ipython-input-5-7a118ed7454a>\u001b[0m in \u001b[0;36m<cell line: 1>\u001b[0;34m()\u001b[0m\n\u001b[0;32m----> 1\u001b[0;31m \u001b[0ms\u001b[0m \u001b[0;34m=\u001b[0m \u001b[0mFlowCal\u001b[0m\u001b[0;34m.\u001b[0m\u001b[0mio\u001b[0m\u001b[0;34m.\u001b[0m\u001b[0mFCSData\u001b[0m\u001b[0;34m(\u001b[0m\u001b[0;34m'04-blank-A2-1.fcs'\u001b[0m\u001b[0;34m)\u001b[0m\u001b[0;34m\u001b[0m\u001b[0;34m\u001b[0m\u001b[0m\n\u001b[0m\u001b[1;32m      2\u001b[0m \u001b[0ms\u001b[0m\u001b[0;34m\u001b[0m\u001b[0;34m\u001b[0m\u001b[0m\n\u001b[1;32m      3\u001b[0m \u001b[0;34m\u001b[0m\u001b[0m\n\u001b[1;32m      4\u001b[0m \u001b[0ms_fl1\u001b[0m \u001b[0;34m=\u001b[0m \u001b[0ms\u001b[0m\u001b[0;34m[\u001b[0m\u001b[0;34m:\u001b[0m\u001b[0;34m,\u001b[0m \u001b[0;34m[\u001b[0m\u001b[0;34m'FL1-H'\u001b[0m\u001b[0;34m]\u001b[0m\u001b[0;34m]\u001b[0m\u001b[0;34m\u001b[0m\u001b[0;34m\u001b[0m\u001b[0m\n\u001b[1;32m      5\u001b[0m \u001b[0ms_fl1\u001b[0m\u001b[0;34m\u001b[0m\u001b[0;34m\u001b[0m\u001b[0m\n",
            "\u001b[0;32m/usr/local/lib/python3.10/dist-packages/FlowCal/io.py\u001b[0m in \u001b[0;36m__new__\u001b[0;34m(cls, infile)\u001b[0m\n\u001b[1;32m   1612\u001b[0m \u001b[0;34m\u001b[0m\u001b[0m\n\u001b[1;32m   1613\u001b[0m         \u001b[0;31m# Load FCS file\u001b[0m\u001b[0;34m\u001b[0m\u001b[0;34m\u001b[0m\u001b[0m\n\u001b[0;32m-> 1614\u001b[0;31m         \u001b[0mfcs_file\u001b[0m \u001b[0;34m=\u001b[0m \u001b[0mFCSFile\u001b[0m\u001b[0;34m(\u001b[0m\u001b[0minfile\u001b[0m\u001b[0;34m)\u001b[0m\u001b[0;34m\u001b[0m\u001b[0;34m\u001b[0m\u001b[0m\n\u001b[0m\u001b[1;32m   1615\u001b[0m \u001b[0;34m\u001b[0m\u001b[0m\n\u001b[1;32m   1616\u001b[0m         \u001b[0;31m###\u001b[0m\u001b[0;34m\u001b[0m\u001b[0;34m\u001b[0m\u001b[0m\n",
            "\u001b[0;32m/usr/local/lib/python3.10/dist-packages/FlowCal/io.py\u001b[0m in \u001b[0;36m__init__\u001b[0;34m(self, infile)\u001b[0m\n\u001b[1;32m    735\u001b[0m \u001b[0;34m\u001b[0m\u001b[0m\n\u001b[1;32m    736\u001b[0m         \u001b[0;32mif\u001b[0m \u001b[0misinstance\u001b[0m\u001b[0;34m(\u001b[0m\u001b[0minfile\u001b[0m\u001b[0;34m,\u001b[0m \u001b[0msix\u001b[0m\u001b[0;34m.\u001b[0m\u001b[0mstring_types\u001b[0m\u001b[0;34m)\u001b[0m\u001b[0;34m:\u001b[0m\u001b[0;34m\u001b[0m\u001b[0;34m\u001b[0m\u001b[0m\n\u001b[0;32m--> 737\u001b[0;31m             \u001b[0mf\u001b[0m \u001b[0;34m=\u001b[0m \u001b[0mopen\u001b[0m\u001b[0;34m(\u001b[0m\u001b[0minfile\u001b[0m\u001b[0;34m,\u001b[0m \u001b[0;34m'rb'\u001b[0m\u001b[0;34m)\u001b[0m\u001b[0;34m\u001b[0m\u001b[0;34m\u001b[0m\u001b[0m\n\u001b[0m\u001b[1;32m    738\u001b[0m         \u001b[0;32melse\u001b[0m\u001b[0;34m:\u001b[0m\u001b[0;34m\u001b[0m\u001b[0;34m\u001b[0m\u001b[0m\n\u001b[1;32m    739\u001b[0m             \u001b[0mf\u001b[0m \u001b[0;34m=\u001b[0m \u001b[0minfile\u001b[0m\u001b[0;34m\u001b[0m\u001b[0;34m\u001b[0m\u001b[0m\n",
            "\u001b[0;31mFileNotFoundError\u001b[0m: [Errno 2] No such file or directory: '04-blank-A2-1.fcs'"
          ]
        }
      ],
      "source": [
        "s = FlowCal.io.FCSData('04-blank-A2-1.fcs')\n",
        "s\n",
        "\n",
        "s_fl1 = s[:, ['FL1-H']]\n",
        "s_fl1\n",
        "\n",
        "s_fl1 = s_fl1.tolist()\n",
        "s_fl1[0][0]\n",
        "\n",
        "proper_s_fl1 = []\n",
        "for i in range(len(s_fl1)):\n",
        "    proper_s_fl1.append(s_fl1[i][0])\n",
        "\n",
        "proper_s_fl1[:100]\n",
        "type(proper_s_fl1[:100])\n",
        "\n",
        "import statistics\n",
        "from statistics import stdev\n",
        "from fractions import Fraction as fr\n",
        "\n",
        "print(np.mean(proper_s_fl1))\n",
        "print(statistics.median(proper_s_fl1))\n",
        "print(np.std(proper_s_fl1))\n",
        "print(statistics.variance(proper_s_fl1))\n",
        "\n",
        "ordered= sorted(proper_s_fl1)\n",
        "i= round(len(ordered)*0.05)\n",
        "lower = ordered[i]\n",
        "i= round(len(ordered)*0.95)\n",
        "upper= ordered[i]\n",
        "\n",
        "print(lower)\n",
        "print(upper)\n"
      ]
    },
    {
      "cell_type": "code",
      "execution_count": null,
      "id": "865179ff",
      "metadata": {
        "scrolled": true,
        "colab": {
          "base_uri": "https://localhost:8080/"
        },
        "id": "865179ff",
        "outputId": "80debf9e-63b1-40ac-db89-91feaf22f06a"
      },
      "outputs": [
        {
          "output_type": "stream",
          "name": "stdout",
          "text": [
            "104206.06276301495\n",
            "103930.703125\n",
            "63816.982650047736\n",
            "4072629174.7687645\n",
            "985.5999755859375\n",
            "206174.796875\n"
          ]
        }
      ],
      "source": [
        "s = FlowCal.io.FCSData('02-blank-A2-2.fcs')\n",
        "s\n",
        "\n",
        "s_fl1 = s[:, ['FL1-H']]\n",
        "s_fl1\n",
        "\n",
        "s_fl1 = s_fl1.tolist()\n",
        "s_fl1[0][0]\n",
        "\n",
        "proper_s_fl1 = []\n",
        "for i in range(len(s_fl1)):\n",
        "    proper_s_fl1.append(s_fl1[i][0])\n",
        "\n",
        "proper_s_fl1[:100]\n",
        "type(proper_s_fl1[:100])\n",
        "\n",
        "import statistics\n",
        "from statistics import stdev\n",
        "from fractions import Fraction as fr\n",
        "\n",
        "print(np.mean(proper_s_fl1))\n",
        "print(statistics.median(proper_s_fl1))\n",
        "print(np.std(proper_s_fl1))\n",
        "print(statistics.variance(proper_s_fl1))\n",
        "\n",
        "ordered= sorted(proper_s_fl1)\n",
        "i= round(len(ordered)*0.05)\n",
        "lower = ordered[i]\n",
        "i= round(len(ordered)*0.95)\n",
        "upper= ordered[i]\n",
        "\n",
        "print(lower)\n",
        "print(upper)\n"
      ]
    },
    {
      "cell_type": "code",
      "execution_count": null,
      "id": "e9ca0c75",
      "metadata": {
        "scrolled": true,
        "colab": {
          "base_uri": "https://localhost:8080/"
        },
        "id": "e9ca0c75",
        "outputId": "ce84a097-0c54-4b76-d579-1dd78a448bab"
      },
      "outputs": [
        {
          "output_type": "stream",
          "name": "stdout",
          "text": [
            "117445.1026010167\n",
            "115598.5\n",
            "72679.21083153276\n",
            "5282295138.854534\n",
            "3681.0\n",
            "238246.59375\n"
          ]
        }
      ],
      "source": [
        "s = FlowCal.io.FCSData('04-blank-A2-2.fcs')\n",
        "s\n",
        "\n",
        "s_fl1 = s[:, ['FL1-H']]\n",
        "s_fl1\n",
        "\n",
        "s_fl1 = s_fl1.tolist()\n",
        "s_fl1[0][0]\n",
        "\n",
        "proper_s_fl1 = []\n",
        "for i in range(len(s_fl1)):\n",
        "    proper_s_fl1.append(s_fl1[i][0])\n",
        "\n",
        "proper_s_fl1[:100]\n",
        "type(proper_s_fl1[:100])\n",
        "\n",
        "import statistics\n",
        "from statistics import stdev\n",
        "from fractions import Fraction as fr\n",
        "\n",
        "print(np.mean(proper_s_fl1))\n",
        "print(statistics.median(proper_s_fl1))\n",
        "print(np.std(proper_s_fl1))\n",
        "print(statistics.variance(proper_s_fl1))\n",
        "\n",
        "ordered= sorted(proper_s_fl1)\n",
        "i= round(len(ordered)*0.05)\n",
        "lower = ordered[i]\n",
        "i= round(len(ordered)*0.95)\n",
        "upper= ordered[i]\n",
        "\n",
        "print(lower)\n",
        "print(upper)"
      ]
    },
    {
      "cell_type": "code",
      "execution_count": null,
      "id": "d4625ad9",
      "metadata": {
        "scrolled": true,
        "colab": {
          "base_uri": "https://localhost:8080/"
        },
        "id": "d4625ad9",
        "outputId": "75dd6329-95b4-4527-e0c1-16ed9c02e6ef"
      },
      "outputs": [
        {
          "output_type": "stream",
          "name": "stdout",
          "text": [
            "97394.61334735664\n",
            "95101.5\n",
            "54979.57081097442\n",
            "3022772821.452735\n",
            "5847.0\n",
            "187134.796875\n"
          ]
        }
      ],
      "source": [
        "s = FlowCal.io.FCSData('02-blank-A2-3.fcs')\n",
        "s\n",
        "\n",
        "s_fl1 = s[:, ['FL1-H']]\n",
        "s_fl1\n",
        "\n",
        "s_fl1 = s_fl1.tolist()\n",
        "s_fl1[0][0]\n",
        "\n",
        "proper_s_fl1 = []\n",
        "for i in range(len(s_fl1)):\n",
        "    proper_s_fl1.append(s_fl1[i][0])\n",
        "\n",
        "proper_s_fl1[:100]\n",
        "type(proper_s_fl1[:100])\n",
        "\n",
        "import statistics\n",
        "from statistics import stdev\n",
        "from fractions import Fraction as fr\n",
        "\n",
        "print(np.mean(proper_s_fl1))\n",
        "print(statistics.median(proper_s_fl1))\n",
        "print(np.std(proper_s_fl1))\n",
        "print(statistics.variance(proper_s_fl1))\n",
        "\n",
        "ordered= sorted(proper_s_fl1)\n",
        "i= round(len(ordered)*0.05)\n",
        "lower = ordered[i]\n",
        "i= round(len(ordered)*0.95)\n",
        "upper= ordered[i]\n",
        "\n",
        "print(lower)\n",
        "print(upper)\n"
      ]
    },
    {
      "cell_type": "code",
      "execution_count": null,
      "id": "e4fd7b69",
      "metadata": {
        "scrolled": true,
        "colab": {
          "base_uri": "https://localhost:8080/"
        },
        "id": "e4fd7b69",
        "outputId": "fedab324-2f44-4b2e-c421-4c05a96a40af"
      },
      "outputs": [
        {
          "output_type": "stream",
          "name": "stdout",
          "text": [
            "151481.8771043741\n",
            "151091.40625\n",
            "83884.99563997042\n",
            "7036715047.742328\n",
            "5296.0\n",
            "288104.09375\n"
          ]
        }
      ],
      "source": [
        "s = FlowCal.io.FCSData('04-blank-A2-3.fcs')\n",
        "s\n",
        "\n",
        "s_fl1 = s[:, ['FL1-H']]\n",
        "s_fl1\n",
        "\n",
        "s_fl1 = s_fl1.tolist()\n",
        "s_fl1[0][0]\n",
        "\n",
        "proper_s_fl1 = []\n",
        "for i in range(len(s_fl1)):\n",
        "    proper_s_fl1.append(s_fl1[i][0])\n",
        "\n",
        "proper_s_fl1[:100]\n",
        "type(proper_s_fl1[:100])\n",
        "\n",
        "import statistics\n",
        "from statistics import stdev\n",
        "from fractions import Fraction as fr\n",
        "\n",
        "print(np.mean(proper_s_fl1))\n",
        "print(statistics.median(proper_s_fl1))\n",
        "print(np.std(proper_s_fl1))\n",
        "print(statistics.variance(proper_s_fl1))\n",
        "\n",
        "ordered= sorted(proper_s_fl1)\n",
        "i= round(len(ordered)*0.05)\n",
        "lower = ordered[i]\n",
        "i= round(len(ordered)*0.95)\n",
        "upper= ordered[i]\n",
        "\n",
        "print(lower)\n",
        "print(upper)\n"
      ]
    },
    {
      "cell_type": "code",
      "execution_count": null,
      "id": "2bc13ad3",
      "metadata": {
        "scrolled": true,
        "colab": {
          "base_uri": "https://localhost:8080/"
        },
        "id": "2bc13ad3",
        "outputId": "2ef54ddb-4258-4def-c63c-c5d3f71b43cb"
      },
      "outputs": [
        {
          "output_type": "stream",
          "name": "stdout",
          "text": [
            "66247.18521194857\n",
            "58343.1015625\n",
            "45970.33500873535\n",
            "2113282390.4250631\n",
            "1877.800048828125\n",
            "146182.0\n"
          ]
        }
      ],
      "source": [
        "s = FlowCal.io.FCSData('02-blank-A2-4.fcs')\n",
        "s\n",
        "\n",
        "s_fl1 = s[:, ['FL1-H']]\n",
        "s_fl1\n",
        "\n",
        "s_fl1 = s_fl1.tolist()\n",
        "s_fl1[0][0]\n",
        "\n",
        "proper_s_fl1 = []\n",
        "for i in range(len(s_fl1)):\n",
        "    proper_s_fl1.append(s_fl1[i][0])\n",
        "\n",
        "proper_s_fl1[:100]\n",
        "type(proper_s_fl1[:100])\n",
        "\n",
        "import statistics\n",
        "from statistics import stdev\n",
        "from fractions import Fraction as fr\n",
        "\n",
        "print(np.mean(proper_s_fl1))\n",
        "print(statistics.median(proper_s_fl1))\n",
        "print(np.std(proper_s_fl1))\n",
        "print(statistics.variance(proper_s_fl1))\n",
        "\n",
        "ordered= sorted(proper_s_fl1)\n",
        "i= round(len(ordered)*0.05)\n",
        "lower = ordered[i]\n",
        "i= round(len(ordered)*0.95)\n",
        "upper= ordered[i]\n",
        "\n",
        "print(lower)\n",
        "print(upper)\n"
      ]
    },
    {
      "cell_type": "code",
      "execution_count": null,
      "id": "0372fbb0",
      "metadata": {
        "scrolled": true,
        "colab": {
          "base_uri": "https://localhost:8080/"
        },
        "id": "0372fbb0",
        "outputId": "ea6c1aba-7526-4c57-a744-0fa7cb3cf289"
      },
      "outputs": [
        {
          "output_type": "stream",
          "name": "stdout",
          "text": [
            "133444.46379249103\n",
            "134425.796875\n",
            "73320.68192389367\n",
            "5375950179.180894\n",
            "5991.2998046875\n",
            "247527.40625\n"
          ]
        }
      ],
      "source": [
        "s = FlowCal.io.FCSData('04-blank-A2-4.fcs')\n",
        "s\n",
        "\n",
        "s_fl1 = s[:, ['FL1-H']]\n",
        "s_fl1\n",
        "\n",
        "s_fl1 = s_fl1.tolist()\n",
        "s_fl1[0][0]\n",
        "\n",
        "proper_s_fl1 = []\n",
        "for i in range(len(s_fl1)):\n",
        "    proper_s_fl1.append(s_fl1[i][0])\n",
        "\n",
        "proper_s_fl1[:100]\n",
        "type(proper_s_fl1[:100])\n",
        "\n",
        "import statistics\n",
        "from statistics import stdev\n",
        "from fractions import Fraction as fr\n",
        "\n",
        "print(np.mean(proper_s_fl1))\n",
        "print(statistics.median(proper_s_fl1))\n",
        "print(np.std(proper_s_fl1))\n",
        "print(statistics.variance(proper_s_fl1))\n",
        "\n",
        "ordered= sorted(proper_s_fl1)\n",
        "i= round(len(ordered)*0.05)\n",
        "lower = ordered[i]\n",
        "i= round(len(ordered)*0.95)\n",
        "upper= ordered[i]\n",
        "\n",
        "print(lower)\n",
        "print(upper)\n"
      ]
    },
    {
      "cell_type": "code",
      "execution_count": null,
      "id": "604821c1",
      "metadata": {
        "scrolled": true,
        "colab": {
          "base_uri": "https://localhost:8080/"
        },
        "id": "604821c1",
        "outputId": "dc8b7a17-c8cd-41b4-c396-63bfccc6118e"
      },
      "outputs": [
        {
          "output_type": "stream",
          "name": "stdout",
          "text": [
            "244566.80354587772\n",
            "237742.703125\n",
            "155503.79529435316\n",
            "24181608338.80582\n",
            "3294.0\n",
            "501638.5\n"
          ]
        }
      ],
      "source": [
        "s = FlowCal.io.FCSData('02-blank-A3-1.fcs')\n",
        "s\n",
        "\n",
        "s_fl1 = s[:, ['FL1-H']]\n",
        "s_fl1\n",
        "\n",
        "s_fl1 = s_fl1.tolist()\n",
        "s_fl1[0][0]\n",
        "\n",
        "proper_s_fl1 = []\n",
        "for i in range(len(s_fl1)):\n",
        "    proper_s_fl1.append(s_fl1[i][0])\n",
        "\n",
        "proper_s_fl1[:100]\n",
        "type(proper_s_fl1[:100])\n",
        "\n",
        "import statistics\n",
        "from statistics import stdev\n",
        "from fractions import Fraction as fr\n",
        "\n",
        "print(np.mean(proper_s_fl1))\n",
        "print(statistics.median(proper_s_fl1))\n",
        "print(np.std(proper_s_fl1))\n",
        "print(statistics.variance(proper_s_fl1))\n",
        "\n",
        "ordered= sorted(proper_s_fl1)\n",
        "i= round(len(ordered)*0.05)\n",
        "lower = ordered[i]\n",
        "i= round(len(ordered)*0.95)\n",
        "upper= ordered[i]\n",
        "\n",
        "print(lower)\n",
        "print(upper)\n"
      ]
    },
    {
      "cell_type": "code",
      "execution_count": null,
      "id": "a52d46b7",
      "metadata": {
        "colab": {
          "base_uri": "https://localhost:8080/"
        },
        "id": "a52d46b7",
        "outputId": "6ae34142-3a71-49a9-fdbb-59488c71c121"
      },
      "outputs": [
        {
          "output_type": "stream",
          "name": "stdout",
          "text": [
            "36080.58847905154\n",
            "489.0\n",
            "172527.65127157193\n",
            "29788582023.31062\n",
            "267.5\n",
            "161561.59375\n"
          ]
        }
      ],
      "source": [
        "s = FlowCal.io.FCSData('04-blank-A3-1.fcs')\n",
        "s\n",
        "\n",
        "s_fl1 = s[:, ['FL1-H']]\n",
        "s_fl1\n",
        "\n",
        "s_fl1 = s_fl1.tolist()\n",
        "s_fl1[0][0]\n",
        "\n",
        "proper_s_fl1 = []\n",
        "for i in range(len(s_fl1)):\n",
        "    proper_s_fl1.append(s_fl1[i][0])\n",
        "\n",
        "proper_s_fl1[:100]\n",
        "type(proper_s_fl1[:100])\n",
        "\n",
        "import statistics\n",
        "from statistics import stdev\n",
        "from fractions import Fraction as fr\n",
        "\n",
        "print(np.mean(proper_s_fl1))\n",
        "print(statistics.median(proper_s_fl1))\n",
        "print(np.std(proper_s_fl1))\n",
        "print(statistics.variance(proper_s_fl1))\n",
        "\n",
        "ordered= sorted(proper_s_fl1)\n",
        "i= round(len(ordered)*0.05)\n",
        "lower = ordered[i]\n",
        "i= round(len(ordered)*0.95)\n",
        "upper= ordered[i]\n",
        "\n",
        "print(lower)\n",
        "print(upper)\n"
      ]
    },
    {
      "cell_type": "code",
      "execution_count": null,
      "id": "b3d79cad",
      "metadata": {
        "colab": {
          "base_uri": "https://localhost:8080/"
        },
        "id": "b3d79cad",
        "outputId": "c0d3cf7d-6a16-4797-d825-91fb52815dae"
      },
      "outputs": [
        {
          "output_type": "stream",
          "name": "stdout",
          "text": [
            "245731.07061905533\n",
            "244583.1015625\n",
            "147053.9522227006\n",
            "21625096709.168133\n",
            "3170.0\n",
            "483663.1875\n"
          ]
        }
      ],
      "source": [
        "s = FlowCal.io.FCSData('02-blank-A3-2.fcs')\n",
        "s\n",
        "\n",
        "s_fl1 = s[:, ['FL1-H']]\n",
        "s_fl1\n",
        "\n",
        "s_fl1 = s_fl1.tolist()\n",
        "s_fl1[0][0]\n",
        "\n",
        "proper_s_fl1 = []\n",
        "for i in range(len(s_fl1)):\n",
        "    proper_s_fl1.append(s_fl1[i][0])\n",
        "\n",
        "proper_s_fl1[:100]\n",
        "type(proper_s_fl1[:100])\n",
        "\n",
        "import statistics\n",
        "from statistics import stdev\n",
        "from fractions import Fraction as fr\n",
        "\n",
        "print(np.mean(proper_s_fl1))\n",
        "print(statistics.median(proper_s_fl1))\n",
        "print(np.std(proper_s_fl1))\n",
        "print(statistics.variance(proper_s_fl1))\n",
        "\n",
        "ordered= sorted(proper_s_fl1)\n",
        "i= round(len(ordered)*0.05)\n",
        "lower = ordered[i]\n",
        "i= round(len(ordered)*0.95)\n",
        "upper= ordered[i]\n",
        "\n",
        "print(lower)\n",
        "print(upper)\n"
      ]
    },
    {
      "cell_type": "code",
      "execution_count": null,
      "id": "9a4f3381",
      "metadata": {
        "colab": {
          "base_uri": "https://localhost:8080/"
        },
        "id": "9a4f3381",
        "outputId": "1d79263a-581a-432a-ee8f-ef4ed3abdf1b"
      },
      "outputs": [
        {
          "output_type": "stream",
          "name": "stdout",
          "text": [
            "265913.36399522895\n",
            "238550.5\n",
            "195346.1608983832\n",
            "38160346064.39042\n",
            "6887.7998046875\n",
            "642284.375\n"
          ]
        }
      ],
      "source": [
        "s = FlowCal.io.FCSData('04-blank-A3-2.fcs')\n",
        "s\n",
        "\n",
        "s_fl1 = s[:, ['FL1-H']]\n",
        "s_fl1\n",
        "\n",
        "s_fl1 = s_fl1.tolist()\n",
        "s_fl1[0][0]\n",
        "\n",
        "proper_s_fl1 = []\n",
        "for i in range(len(s_fl1)):\n",
        "    proper_s_fl1.append(s_fl1[i][0])\n",
        "\n",
        "proper_s_fl1[:100]\n",
        "type(proper_s_fl1[:100])\n",
        "\n",
        "import statistics\n",
        "from statistics import stdev\n",
        "from fractions import Fraction as fr\n",
        "\n",
        "print(np.mean(proper_s_fl1))\n",
        "print(statistics.median(proper_s_fl1))\n",
        "print(np.std(proper_s_fl1))\n",
        "print(statistics.variance(proper_s_fl1))\n",
        "\n",
        "ordered= sorted(proper_s_fl1)\n",
        "i= round(len(ordered)*0.05)\n",
        "lower = ordered[i]\n",
        "i= round(len(ordered)*0.95)\n",
        "upper= ordered[i]\n",
        "\n",
        "print(lower)\n",
        "print(upper)\n"
      ]
    },
    {
      "cell_type": "code",
      "execution_count": null,
      "id": "d8414cd4",
      "metadata": {
        "id": "d8414cd4",
        "outputId": "355207a6-9212-4c5c-ef5a-d9f5fddaff2a",
        "colab": {
          "base_uri": "https://localhost:8080/"
        }
      },
      "outputs": [
        {
          "output_type": "stream",
          "name": "stdout",
          "text": [
            "236935.77654067415\n",
            "222758.0\n",
            "153374.558296276\n",
            "23523927587.80399\n",
            "9195.900390625\n",
            "497407.09375\n"
          ]
        }
      ],
      "source": [
        "s = FlowCal.io.FCSData('02-blank-A3-3.fcs')\n",
        "s\n",
        "\n",
        "s_fl1 = s[:, ['FL1-H']]\n",
        "s_fl1\n",
        "\n",
        "s_fl1 = s_fl1.tolist()\n",
        "s_fl1[0][0]\n",
        "\n",
        "proper_s_fl1 = []\n",
        "for i in range(len(s_fl1)):\n",
        "    proper_s_fl1.append(s_fl1[i][0])\n",
        "\n",
        "proper_s_fl1[:100]\n",
        "type(proper_s_fl1[:100])\n",
        "\n",
        "import statistics\n",
        "from statistics import stdev\n",
        "from fractions import Fraction as fr\n",
        "\n",
        "print(np.mean(proper_s_fl1))\n",
        "print(statistics.median(proper_s_fl1))\n",
        "print(np.std(proper_s_fl1))\n",
        "print(statistics.variance(proper_s_fl1))\n",
        "\n",
        "ordered= sorted(proper_s_fl1)\n",
        "i= round(len(ordered)*0.05)\n",
        "lower = ordered[i]\n",
        "i= round(len(ordered)*0.95)\n",
        "upper= ordered[i]\n",
        "\n",
        "print(lower)\n",
        "print(upper)"
      ]
    },
    {
      "cell_type": "code",
      "execution_count": null,
      "id": "58351d63",
      "metadata": {
        "id": "58351d63",
        "outputId": "3c58d7f6-cf87-436e-e436-10d137a67bbd",
        "colab": {
          "base_uri": "https://localhost:8080/"
        }
      },
      "outputs": [
        {
          "output_type": "stream",
          "name": "stdout",
          "text": [
            "408636.9150485104\n",
            "352937.90625\n",
            "294354.56335738767\n",
            "86644924676.63042\n",
            "3811.60009765625\n",
            "959836.8125\n"
          ]
        }
      ],
      "source": [
        "s = FlowCal.io.FCSData('04-blank-A3-3.fcs')\n",
        "s\n",
        "\n",
        "s_fl1 = s[:, ['FL1-H']]\n",
        "s_fl1\n",
        "\n",
        "s_fl1 = s_fl1.tolist()\n",
        "s_fl1[0][0]\n",
        "\n",
        "proper_s_fl1 = []\n",
        "for i in range(len(s_fl1)):\n",
        "    proper_s_fl1.append(s_fl1[i][0])\n",
        "\n",
        "proper_s_fl1[:100]\n",
        "type(proper_s_fl1[:100])\n",
        "\n",
        "import statistics\n",
        "from statistics import stdev\n",
        "from fractions import Fraction as fr\n",
        "\n",
        "print(np.mean(proper_s_fl1))\n",
        "print(statistics.median(proper_s_fl1))\n",
        "print(np.std(proper_s_fl1))\n",
        "print(statistics.variance(proper_s_fl1))\n",
        "\n",
        "ordered= sorted(proper_s_fl1)\n",
        "i= round(len(ordered)*0.05)\n",
        "lower = ordered[i]\n",
        "i= round(len(ordered)*0.95)\n",
        "upper= ordered[i]\n",
        "\n",
        "print(lower)\n",
        "print(upper)\n"
      ]
    },
    {
      "cell_type": "code",
      "execution_count": null,
      "id": "ba55e193",
      "metadata": {
        "id": "ba55e193",
        "outputId": "cb1bed5d-5716-451b-a85b-d6e5f5ffb436"
      },
      "outputs": [
        {
          "name": "stdout",
          "output_type": "stream",
          "text": [
            "199080.96577748642\n",
            "181825.3515625\n",
            "171346.26523246648\n",
            "29359684348.8455\n",
            "7615.39990234375\n",
            "405094.5\n"
          ]
        }
      ],
      "source": [
        "s = FlowCal.io.FCSData('02-blank-A3-4.fcs')\n",
        "s\n",
        "\n",
        "s_fl1 = s[:, ['FL1-H']]\n",
        "s_fl1\n",
        "\n",
        "s_fl1 = s_fl1.tolist()\n",
        "s_fl1[0][0]\n",
        "\n",
        "proper_s_fl1 = []\n",
        "for i in range(len(s_fl1)):\n",
        "    proper_s_fl1.append(s_fl1[i][0])\n",
        "\n",
        "proper_s_fl1[:100]\n",
        "type(proper_s_fl1[:100])\n",
        "\n",
        "import statistics\n",
        "from statistics import stdev\n",
        "from fractions import Fraction as fr\n",
        "\n",
        "print(np.mean(proper_s_fl1))\n",
        "print(statistics.median(proper_s_fl1))\n",
        "print(np.std(proper_s_fl1))\n",
        "print(statistics.variance(proper_s_fl1))\n",
        "\n",
        "ordered= sorted(proper_s_fl1)\n",
        "i= round(len(ordered)*0.05)\n",
        "lower = ordered[i]\n",
        "i= round(len(ordered)*0.95)\n",
        "upper= ordered[i]\n",
        "\n",
        "print(lower)\n",
        "print(upper)\n"
      ]
    },
    {
      "cell_type": "code",
      "execution_count": null,
      "id": "7342d397",
      "metadata": {
        "id": "7342d397",
        "outputId": "a37348a0-3131-4f0b-80c4-3ed3cd138f90",
        "colab": {
          "base_uri": "https://localhost:8080/"
        }
      },
      "outputs": [
        {
          "output_type": "stream",
          "name": "stdout",
          "text": [
            "324216.84368345595\n",
            "298377.359375\n",
            "213457.58934010746\n",
            "45564325414.1044\n",
            "9043.7998046875\n",
            "728288.6875\n"
          ]
        }
      ],
      "source": [
        "s = FlowCal.io.FCSData('04-blank-A3-4.fcs')\n",
        "s\n",
        "\n",
        "s_fl1 = s[:, ['FL1-H']]\n",
        "s_fl1\n",
        "\n",
        "s_fl1 = s_fl1.tolist()\n",
        "s_fl1[0][0]\n",
        "\n",
        "proper_s_fl1 = []\n",
        "for i in range(len(s_fl1)):\n",
        "    proper_s_fl1.append(s_fl1[i][0])\n",
        "\n",
        "proper_s_fl1[:100]\n",
        "type(proper_s_fl1[:100])\n",
        "\n",
        "import statistics\n",
        "from statistics import stdev\n",
        "from fractions import Fraction as fr\n",
        "\n",
        "print(np.mean(proper_s_fl1))\n",
        "print(statistics.median(proper_s_fl1))\n",
        "print(np.std(proper_s_fl1))\n",
        "print(statistics.variance(proper_s_fl1))\n",
        "\n",
        "ordered= sorted(proper_s_fl1)\n",
        "i= round(len(ordered)*0.05)\n",
        "lower = ordered[i]\n",
        "i= round(len(ordered)*0.95)\n",
        "upper= ordered[i]\n",
        "\n",
        "print(lower)\n",
        "print(upper)\n"
      ]
    },
    {
      "cell_type": "code",
      "execution_count": null,
      "id": "9b6d9d69",
      "metadata": {
        "id": "9b6d9d69",
        "outputId": "498bcc4a-8628-4771-fb1c-dfa7e6d0b753",
        "colab": {
          "base_uri": "https://localhost:8080/"
        }
      },
      "outputs": [
        {
          "output_type": "stream",
          "name": "stdout",
          "text": [
            "224595.83943894826\n",
            "219889.046875\n",
            "125520.13087814007\n",
            "15755452122.328196\n",
            "4404.2001953125\n",
            "429722.0\n"
          ]
        }
      ],
      "source": [
        "s = FlowCal.io.FCSData('02-blank-A4-1.fcs')\n",
        "s\n",
        "\n",
        "s_fl1 = s[:, ['FL1-H']]\n",
        "s_fl1\n",
        "\n",
        "s_fl1 = s_fl1.tolist()\n",
        "s_fl1[0][0]\n",
        "\n",
        "proper_s_fl1 = []\n",
        "for i in range(len(s_fl1)):\n",
        "    proper_s_fl1.append(s_fl1[i][0])\n",
        "\n",
        "proper_s_fl1[:100]\n",
        "type(proper_s_fl1[:100])\n",
        "\n",
        "import statistics\n",
        "from statistics import stdev\n",
        "from fractions import Fraction as fr\n",
        "\n",
        "print(np.mean(proper_s_fl1))\n",
        "print(statistics.median(proper_s_fl1))\n",
        "print(np.std(proper_s_fl1))\n",
        "print(statistics.variance(proper_s_fl1))\n",
        "\n",
        "ordered= sorted(proper_s_fl1)\n",
        "i= round(len(ordered)*0.05)\n",
        "lower = ordered[i]\n",
        "i= round(len(ordered)*0.95)\n",
        "upper= ordered[i]\n",
        "\n",
        "print(lower)\n",
        "print(upper)\n"
      ]
    },
    {
      "cell_type": "code",
      "execution_count": null,
      "id": "d0d98279",
      "metadata": {
        "id": "d0d98279",
        "outputId": "85a58b9c-d9ba-4d3c-9cd5-b670ad43dc1f",
        "colab": {
          "base_uri": "https://localhost:8080/"
        }
      },
      "outputs": [
        {
          "output_type": "stream",
          "name": "stdout",
          "text": [
            "10396.832940038234\n",
            "455.29998779296875\n",
            "66968.4297744239\n",
            "4491404862.467406\n",
            "267.29998779296875\n",
            "7020.60009765625\n"
          ]
        }
      ],
      "source": [
        "s = FlowCal.io.FCSData('04-blank-A4-1.fcs')\n",
        "s\n",
        "\n",
        "s_fl1 = s[:, ['FL1-H']]\n",
        "s_fl1\n",
        "\n",
        "s_fl1 = s_fl1.tolist()\n",
        "s_fl1[0][0]\n",
        "\n",
        "proper_s_fl1 = []\n",
        "for i in range(len(s_fl1)):\n",
        "    proper_s_fl1.append(s_fl1[i][0])\n",
        "\n",
        "proper_s_fl1[:100]\n",
        "type(proper_s_fl1[:100])\n",
        "\n",
        "import statistics\n",
        "from statistics import stdev\n",
        "from fractions import Fraction as fr\n",
        "\n",
        "print(np.mean(proper_s_fl1))\n",
        "print(statistics.median(proper_s_fl1))\n",
        "print(np.std(proper_s_fl1))\n",
        "print(statistics.variance(proper_s_fl1))\n",
        "\n",
        "ordered= sorted(proper_s_fl1)\n",
        "i= round(len(ordered)*0.05)\n",
        "lower = ordered[i]\n",
        "i= round(len(ordered)*0.95)\n",
        "upper= ordered[i]\n",
        "\n",
        "print(lower)\n",
        "print(upper)\n"
      ]
    },
    {
      "cell_type": "code",
      "execution_count": null,
      "id": "9f765c6b",
      "metadata": {
        "id": "9f765c6b",
        "outputId": "ddea9c29-10a3-4598-da62-84a1bbd9410a",
        "colab": {
          "base_uri": "https://localhost:8080/"
        }
      },
      "outputs": [
        {
          "output_type": "stream",
          "name": "stdout",
          "text": [
            "235487.3499631645\n",
            "236483.09375\n",
            "127271.25139388141\n",
            "16198156661.11746\n",
            "5252.89990234375\n",
            "437014.6875\n"
          ]
        }
      ],
      "source": [
        "s = FlowCal.io.FCSData('02-blank-A4-2.fcs')\n",
        "s\n",
        "\n",
        "s_fl1 = s[:, ['FL1-H']]\n",
        "s_fl1\n",
        "\n",
        "s_fl1 = s_fl1.tolist()\n",
        "s_fl1[0][0]\n",
        "\n",
        "proper_s_fl1 = []\n",
        "for i in range(len(s_fl1)):\n",
        "    proper_s_fl1.append(s_fl1[i][0])\n",
        "\n",
        "proper_s_fl1[:100]\n",
        "type(proper_s_fl1[:100])\n",
        "\n",
        "import statistics\n",
        "from statistics import stdev\n",
        "from fractions import Fraction as fr\n",
        "\n",
        "print(np.mean(proper_s_fl1))\n",
        "print(statistics.median(proper_s_fl1))\n",
        "print(np.std(proper_s_fl1))\n",
        "print(statistics.variance(proper_s_fl1))\n",
        "\n",
        "ordered= sorted(proper_s_fl1)\n",
        "i= round(len(ordered)*0.05)\n",
        "lower = ordered[i]\n",
        "i= round(len(ordered)*0.95)\n",
        "upper= ordered[i]\n",
        "\n",
        "print(lower)\n",
        "print(upper)\n"
      ]
    },
    {
      "cell_type": "code",
      "execution_count": null,
      "id": "7e27cbe1",
      "metadata": {
        "id": "7e27cbe1",
        "outputId": "93d612f4-9108-44cb-d319-dac5f98850d1",
        "colab": {
          "base_uri": "https://localhost:8080/"
        }
      },
      "outputs": [
        {
          "output_type": "stream",
          "name": "stdout",
          "text": [
            "223674.57909592253\n",
            "219002.5\n",
            "129806.36580849615\n",
            "16849811940.73551\n",
            "14559.599609375\n",
            "439300.59375\n"
          ]
        }
      ],
      "source": [
        "s = FlowCal.io.FCSData('04-blank-A4-2.fcs')\n",
        "s\n",
        "\n",
        "s_fl1 = s[:, ['FL1-H']]\n",
        "s_fl1\n",
        "\n",
        "s_fl1 = s_fl1.tolist()\n",
        "s_fl1[0][0]\n",
        "\n",
        "proper_s_fl1 = []\n",
        "for i in range(len(s_fl1)):\n",
        "    proper_s_fl1.append(s_fl1[i][0])\n",
        "\n",
        "proper_s_fl1[:100]\n",
        "type(proper_s_fl1[:100])\n",
        "\n",
        "import statistics\n",
        "from statistics import stdev\n",
        "from fractions import Fraction as fr\n",
        "\n",
        "print(np.mean(proper_s_fl1))\n",
        "print(statistics.median(proper_s_fl1))\n",
        "print(np.std(proper_s_fl1))\n",
        "print(statistics.variance(proper_s_fl1))\n",
        "\n",
        "ordered= sorted(proper_s_fl1)\n",
        "i= round(len(ordered)*0.05)\n",
        "lower = ordered[i]\n",
        "i= round(len(ordered)*0.95)\n",
        "upper= ordered[i]\n",
        "\n",
        "print(lower)\n",
        "print(upper)\n"
      ]
    },
    {
      "cell_type": "code",
      "execution_count": null,
      "id": "27d348cf",
      "metadata": {
        "id": "27d348cf",
        "outputId": "c39b585d-aed0-4263-dde9-74ee604c805d",
        "colab": {
          "base_uri": "https://localhost:8080/"
        }
      },
      "outputs": [
        {
          "output_type": "stream",
          "name": "stdout",
          "text": [
            "207251.284589651\n",
            "193239.59375\n",
            "124425.30816889167\n",
            "15481804709.55059\n",
            "24523.69921875\n",
            "424026.90625\n"
          ]
        }
      ],
      "source": [
        "s = FlowCal.io.FCSData('02-blank-A4-3.fcs')\n",
        "s\n",
        "\n",
        "s_fl1 = s[:, ['FL1-H']]\n",
        "s_fl1\n",
        "\n",
        "s_fl1 = s_fl1.tolist()\n",
        "s_fl1[0][0]\n",
        "\n",
        "proper_s_fl1 = []\n",
        "for i in range(len(s_fl1)):\n",
        "    proper_s_fl1.append(s_fl1[i][0])\n",
        "\n",
        "proper_s_fl1[:100]\n",
        "type(proper_s_fl1[:100])\n",
        "\n",
        "import statistics\n",
        "from statistics import stdev\n",
        "from fractions import Fraction as fr\n",
        "\n",
        "print(np.mean(proper_s_fl1))\n",
        "print(statistics.median(proper_s_fl1))\n",
        "print(np.std(proper_s_fl1))\n",
        "print(statistics.variance(proper_s_fl1))\n",
        "\n",
        "ordered= sorted(proper_s_fl1)\n",
        "i= round(len(ordered)*0.05)\n",
        "lower = ordered[i]\n",
        "i= round(len(ordered)*0.95)\n",
        "upper= ordered[i]\n",
        "\n",
        "print(lower)\n",
        "print(upper)\n"
      ]
    },
    {
      "cell_type": "code",
      "execution_count": null,
      "id": "19bd1c88",
      "metadata": {
        "id": "19bd1c88",
        "outputId": "cfecd93f-d807-4935-c0c5-705db908716c",
        "colab": {
          "base_uri": "https://localhost:8080/"
        }
      },
      "outputs": [
        {
          "output_type": "stream",
          "name": "stdout",
          "text": [
            "448312.70185950614\n",
            "390551.0\n",
            "306827.66731014015\n",
            "94143518347.28413\n",
            "3021.10009765625\n",
            "993179.5\n"
          ]
        }
      ],
      "source": [
        "s = FlowCal.io.FCSData('04-blank-A4-3.fcs')\n",
        "s\n",
        "\n",
        "s_fl1 = s[:, ['FL1-H']]\n",
        "s_fl1\n",
        "\n",
        "s_fl1 = s_fl1.tolist()\n",
        "s_fl1[0][0]\n",
        "\n",
        "proper_s_fl1 = []\n",
        "for i in range(len(s_fl1)):\n",
        "    proper_s_fl1.append(s_fl1[i][0])\n",
        "\n",
        "proper_s_fl1[:100]\n",
        "type(proper_s_fl1[:100])\n",
        "\n",
        "import statistics\n",
        "from statistics import stdev\n",
        "from fractions import Fraction as fr\n",
        "\n",
        "print(np.mean(proper_s_fl1))\n",
        "print(statistics.median(proper_s_fl1))\n",
        "print(np.std(proper_s_fl1))\n",
        "print(statistics.variance(proper_s_fl1))\n",
        "\n",
        "ordered= sorted(proper_s_fl1)\n",
        "i= round(len(ordered)*0.05)\n",
        "lower = ordered[i]\n",
        "i= round(len(ordered)*0.95)\n",
        "upper= ordered[i]\n",
        "\n",
        "print(lower)\n",
        "print(upper)\n"
      ]
    },
    {
      "cell_type": "code",
      "execution_count": null,
      "id": "2e0c5707",
      "metadata": {
        "id": "2e0c5707",
        "outputId": "00edfb2a-121c-4450-e54c-c5df3975bcbd",
        "colab": {
          "base_uri": "https://localhost:8080/"
        }
      },
      "outputs": [
        {
          "output_type": "stream",
          "name": "stdout",
          "text": [
            "230387.07615531562\n",
            "219920.296875\n",
            "144173.62963992247\n",
            "20786115079.00756\n",
            "1585.0\n",
            "474046.59375\n"
          ]
        }
      ],
      "source": [
        "s = FlowCal.io.FCSData('02-blank-A4-4.fcs')\n",
        "s\n",
        "\n",
        "s_fl1 = s[:, ['FL1-H']]\n",
        "s_fl1\n",
        "\n",
        "s_fl1 = s_fl1.tolist()\n",
        "s_fl1[0][0]\n",
        "\n",
        "proper_s_fl1 = []\n",
        "for i in range(len(s_fl1)):\n",
        "    proper_s_fl1.append(s_fl1[i][0])\n",
        "\n",
        "proper_s_fl1[:100]\n",
        "type(proper_s_fl1[:100])\n",
        "\n",
        "import statistics\n",
        "from statistics import stdev\n",
        "from fractions import Fraction as fr\n",
        "\n",
        "print(np.mean(proper_s_fl1))\n",
        "print(statistics.median(proper_s_fl1))\n",
        "print(np.std(proper_s_fl1))\n",
        "print(statistics.variance(proper_s_fl1))\n",
        "\n",
        "ordered= sorted(proper_s_fl1)\n",
        "i= round(len(ordered)*0.05)\n",
        "lower = ordered[i]\n",
        "i= round(len(ordered)*0.95)\n",
        "upper= ordered[i]\n",
        "\n",
        "print(lower)\n",
        "print(upper)\n"
      ]
    },
    {
      "cell_type": "code",
      "execution_count": null,
      "id": "adfbbac6",
      "metadata": {
        "id": "adfbbac6",
        "outputId": "8969baf8-715e-464d-c81d-5432679c842e",
        "colab": {
          "base_uri": "https://localhost:8080/"
        }
      },
      "outputs": [
        {
          "output_type": "stream",
          "name": "stdout",
          "text": [
            "377438.9305046718\n",
            "336132.90625\n",
            "250486.6882548169\n",
            "62743806352.781746\n",
            "5966.5\n",
            "859676.625\n"
          ]
        }
      ],
      "source": [
        "s = FlowCal.io.FCSData('04-blank-A4-4.fcs')\n",
        "s\n",
        "\n",
        "s_fl1 = s[:, ['FL1-H']]\n",
        "s_fl1\n",
        "\n",
        "s_fl1 = s_fl1.tolist()\n",
        "s_fl1[0][0]\n",
        "\n",
        "proper_s_fl1 = []\n",
        "for i in range(len(s_fl1)):\n",
        "    proper_s_fl1.append(s_fl1[i][0])\n",
        "\n",
        "proper_s_fl1[:100]\n",
        "type(proper_s_fl1[:100])\n",
        "\n",
        "import statistics\n",
        "from statistics import stdev\n",
        "from fractions import Fraction as fr\n",
        "\n",
        "print(np.mean(proper_s_fl1))\n",
        "print(statistics.median(proper_s_fl1))\n",
        "print(np.std(proper_s_fl1))\n",
        "print(statistics.variance(proper_s_fl1))\n",
        "\n",
        "ordered= sorted(proper_s_fl1)\n",
        "i= round(len(ordered)*0.05)\n",
        "lower = ordered[i]\n",
        "i= round(len(ordered)*0.95)\n",
        "upper= ordered[i]\n",
        "\n",
        "print(lower)\n",
        "print(upper)\n"
      ]
    },
    {
      "cell_type": "code",
      "execution_count": null,
      "id": "3c97606d",
      "metadata": {
        "id": "3c97606d",
        "outputId": "900f9000-ce21-4613-957e-f5a633c2ea18",
        "colab": {
          "base_uri": "https://localhost:8080/"
        }
      },
      "outputs": [
        {
          "output_type": "stream",
          "name": "stdout",
          "text": [
            "186329.6522870174\n",
            "182083.703125\n",
            "108940.48429932907\n",
            "11868168566.06503\n",
            "5048.2998046875\n",
            "357606.3125\n"
          ]
        }
      ],
      "source": [
        "s = FlowCal.io.FCSData('02-blank-A5-1.fcs')\n",
        "s\n",
        "\n",
        "s_fl1 = s[:, ['FL1-H']]\n",
        "s_fl1\n",
        "\n",
        "s_fl1 = s_fl1.tolist()\n",
        "s_fl1[0][0]\n",
        "\n",
        "proper_s_fl1 = []\n",
        "for i in range(len(s_fl1)):\n",
        "    proper_s_fl1.append(s_fl1[i][0])\n",
        "\n",
        "proper_s_fl1[:100]\n",
        "type(proper_s_fl1[:100])\n",
        "\n",
        "import statistics\n",
        "from statistics import stdev\n",
        "from fractions import Fraction as fr\n",
        "\n",
        "print(np.mean(proper_s_fl1))\n",
        "print(statistics.median(proper_s_fl1))\n",
        "print(np.std(proper_s_fl1))\n",
        "print(statistics.variance(proper_s_fl1))\n",
        "\n",
        "ordered= sorted(proper_s_fl1)\n",
        "i= round(len(ordered)*0.05)\n",
        "lower = ordered[i]\n",
        "i= round(len(ordered)*0.95)\n",
        "upper= ordered[i]\n",
        "\n",
        "print(lower)\n",
        "print(upper)\n"
      ]
    },
    {
      "cell_type": "code",
      "execution_count": null,
      "id": "f89bf2d3",
      "metadata": {
        "id": "f89bf2d3",
        "outputId": "cf989850-5616-472e-e0c4-b59e9b089106",
        "colab": {
          "base_uri": "https://localhost:8080/"
        }
      },
      "outputs": [
        {
          "output_type": "stream",
          "name": "stdout",
          "text": [
            "17198.356795202602\n",
            "473.25\n",
            "121960.9572698442\n",
            "14888574126.70584\n",
            "264.3999938964844\n",
            "40409.5\n"
          ]
        }
      ],
      "source": [
        "s = FlowCal.io.FCSData('04-blank-A5-1.fcs')\n",
        "s\n",
        "\n",
        "s_fl1 = s[:, ['FL1-H']]\n",
        "s_fl1\n",
        "\n",
        "s_fl1 = s_fl1.tolist()\n",
        "s_fl1[0][0]\n",
        "\n",
        "proper_s_fl1 = []\n",
        "for i in range(len(s_fl1)):\n",
        "    proper_s_fl1.append(s_fl1[i][0])\n",
        "\n",
        "proper_s_fl1[:100]\n",
        "type(proper_s_fl1[:100])\n",
        "\n",
        "import statistics\n",
        "from statistics import stdev\n",
        "from fractions import Fraction as fr\n",
        "\n",
        "print(np.mean(proper_s_fl1))\n",
        "print(statistics.median(proper_s_fl1))\n",
        "print(np.std(proper_s_fl1))\n",
        "print(statistics.variance(proper_s_fl1))\n",
        "\n",
        "ordered= sorted(proper_s_fl1)\n",
        "i= round(len(ordered)*0.05)\n",
        "lower = ordered[i]\n",
        "i= round(len(ordered)*0.95)\n",
        "upper= ordered[i]\n",
        "\n",
        "print(lower)\n",
        "print(upper)\n"
      ]
    },
    {
      "cell_type": "code",
      "execution_count": null,
      "id": "530645b5",
      "metadata": {
        "id": "530645b5",
        "outputId": "92ed6afb-2478-40eb-b859-6cac4e091776",
        "colab": {
          "base_uri": "https://localhost:8080/"
        }
      },
      "outputs": [
        {
          "output_type": "stream",
          "name": "stdout",
          "text": [
            "266974.19558305497\n",
            "273709.1875\n",
            "146307.59347235362\n",
            "21406166509.601982\n",
            "2371.60009765625\n",
            "493992.5\n"
          ]
        }
      ],
      "source": [
        "s = FlowCal.io.FCSData('02-blank-A5-2.fcs')\n",
        "s\n",
        "\n",
        "s_fl1 = s[:, ['FL1-H']]\n",
        "s_fl1\n",
        "\n",
        "s_fl1 = s_fl1.tolist()\n",
        "s_fl1[0][0]\n",
        "\n",
        "proper_s_fl1 = []\n",
        "for i in range(len(s_fl1)):\n",
        "    proper_s_fl1.append(s_fl1[i][0])\n",
        "\n",
        "proper_s_fl1[:100]\n",
        "type(proper_s_fl1[:100])\n",
        "\n",
        "import statistics\n",
        "from statistics import stdev\n",
        "from fractions import Fraction as fr\n",
        "\n",
        "print(np.mean(proper_s_fl1))\n",
        "print(statistics.median(proper_s_fl1))\n",
        "print(np.std(proper_s_fl1))\n",
        "print(statistics.variance(proper_s_fl1))\n",
        "\n",
        "ordered= sorted(proper_s_fl1)\n",
        "i= round(len(ordered)*0.05)\n",
        "lower = ordered[i]\n",
        "i= round(len(ordered)*0.95)\n",
        "upper= ordered[i]\n",
        "\n",
        "print(lower)\n",
        "print(upper)\n"
      ]
    },
    {
      "cell_type": "code",
      "execution_count": null,
      "id": "ad9ae9cb",
      "metadata": {
        "id": "ad9ae9cb",
        "outputId": "ce2bbce4-6dfa-4cad-ff3f-15fbcfd4fb83",
        "colab": {
          "base_uri": "https://localhost:8080/"
        }
      },
      "outputs": [
        {
          "output_type": "stream",
          "name": "stdout",
          "text": [
            "215610.61745326413\n",
            "218997.40625\n",
            "115198.3004353628\n",
            "13270741731.276485\n",
            "12202.2998046875\n",
            "397251.59375\n"
          ]
        }
      ],
      "source": [
        "s = FlowCal.io.FCSData('04-blank-A5-2.fcs')\n",
        "s\n",
        "\n",
        "s_fl1 = s[:, ['FL1-H']]\n",
        "s_fl1\n",
        "\n",
        "s_fl1 = s_fl1.tolist()\n",
        "s_fl1[0][0]\n",
        "\n",
        "proper_s_fl1 = []\n",
        "for i in range(len(s_fl1)):\n",
        "    proper_s_fl1.append(s_fl1[i][0])\n",
        "\n",
        "proper_s_fl1[:100]\n",
        "type(proper_s_fl1[:100])\n",
        "\n",
        "import statistics\n",
        "from statistics import stdev\n",
        "from fractions import Fraction as fr\n",
        "\n",
        "print(np.mean(proper_s_fl1))\n",
        "print(statistics.median(proper_s_fl1))\n",
        "print(np.std(proper_s_fl1))\n",
        "print(statistics.variance(proper_s_fl1))\n",
        "\n",
        "ordered= sorted(proper_s_fl1)\n",
        "i= round(len(ordered)*0.05)\n",
        "lower = ordered[i]\n",
        "i= round(len(ordered)*0.95)\n",
        "upper= ordered[i]\n",
        "\n",
        "print(lower)\n",
        "print(upper)\n"
      ]
    },
    {
      "cell_type": "code",
      "execution_count": null,
      "id": "b0548f13",
      "metadata": {
        "id": "b0548f13",
        "outputId": "d9b52d10-73e9-4ad2-dd30-d69f11fb867d",
        "colab": {
          "base_uri": "https://localhost:8080/"
        }
      },
      "outputs": [
        {
          "output_type": "stream",
          "name": "stdout",
          "text": [
            "198368.7729874968\n",
            "188714.09375\n",
            "118282.566340262\n",
            "13990929169.17935\n",
            "18518.599609375\n",
            "399646.0\n"
          ]
        }
      ],
      "source": [
        "s = FlowCal.io.FCSData('02-blank-A5-3.fcs')\n",
        "s\n",
        "\n",
        "s_fl1 = s[:, ['FL1-H']]\n",
        "s_fl1\n",
        "\n",
        "s_fl1 = s_fl1.tolist()\n",
        "s_fl1[0][0]\n",
        "\n",
        "proper_s_fl1 = []\n",
        "for i in range(len(s_fl1)):\n",
        "    proper_s_fl1.append(s_fl1[i][0])\n",
        "\n",
        "proper_s_fl1[:100]\n",
        "type(proper_s_fl1[:100])\n",
        "\n",
        "import statistics\n",
        "from statistics import stdev\n",
        "from fractions import Fraction as fr\n",
        "\n",
        "print(np.mean(proper_s_fl1))\n",
        "print(statistics.median(proper_s_fl1))\n",
        "print(np.std(proper_s_fl1))\n",
        "print(statistics.variance(proper_s_fl1))\n",
        "\n",
        "ordered= sorted(proper_s_fl1)\n",
        "i= round(len(ordered)*0.05)\n",
        "lower = ordered[i]\n",
        "i= round(len(ordered)*0.95)\n",
        "upper= ordered[i]\n",
        "\n",
        "print(lower)\n",
        "print(upper)\n"
      ]
    },
    {
      "cell_type": "code",
      "execution_count": null,
      "id": "791dcd04",
      "metadata": {
        "id": "791dcd04",
        "outputId": "45f4fa5f-6028-45ae-a6f9-aea25a7eb760",
        "colab": {
          "base_uri": "https://localhost:8080/"
        }
      },
      "outputs": [
        {
          "output_type": "stream",
          "name": "stdout",
          "text": [
            "278216.13293775043\n",
            "237658.25\n",
            "200050.5066001794\n",
            "40020391318.49204\n",
            "11926.400390625\n",
            "667330.625\n"
          ]
        }
      ],
      "source": [
        "s = FlowCal.io.FCSData('04-blank-A5-3.fcs')\n",
        "s\n",
        "\n",
        "s_fl1 = s[:, ['FL1-H']]\n",
        "s_fl1\n",
        "\n",
        "s_fl1 = s_fl1.tolist()\n",
        "s_fl1[0][0]\n",
        "\n",
        "proper_s_fl1 = []\n",
        "for i in range(len(s_fl1)):\n",
        "    proper_s_fl1.append(s_fl1[i][0])\n",
        "\n",
        "proper_s_fl1[:100]\n",
        "type(proper_s_fl1[:100])\n",
        "\n",
        "import statistics\n",
        "from statistics import stdev\n",
        "from fractions import Fraction as fr\n",
        "\n",
        "print(np.mean(proper_s_fl1))\n",
        "print(statistics.median(proper_s_fl1))\n",
        "print(np.std(proper_s_fl1))\n",
        "print(statistics.variance(proper_s_fl1))\n",
        "\n",
        "ordered= sorted(proper_s_fl1)\n",
        "i= round(len(ordered)*0.05)\n",
        "lower = ordered[i]\n",
        "i= round(len(ordered)*0.95)\n",
        "upper= ordered[i]\n",
        "\n",
        "print(lower)\n",
        "print(upper)\n"
      ]
    },
    {
      "cell_type": "code",
      "execution_count": null,
      "id": "41d25b98",
      "metadata": {
        "id": "41d25b98",
        "outputId": "a13f924a-6713-44c5-ff0e-285adb6767e7",
        "colab": {
          "base_uri": "https://localhost:8080/"
        }
      },
      "outputs": [
        {
          "output_type": "stream",
          "name": "stdout",
          "text": [
            "183537.8812359962\n",
            "178606.75\n",
            "102637.29565005275\n",
            "10534486335.693819\n",
            "6543.5\n",
            "350347.59375\n"
          ]
        }
      ],
      "source": [
        "s = FlowCal.io.FCSData('02-blank-A5-4.fcs')\n",
        "s\n",
        "\n",
        "s_fl1 = s[:, ['FL1-H']]\n",
        "s_fl1\n",
        "\n",
        "s_fl1 = s_fl1.tolist()\n",
        "s_fl1[0][0]\n",
        "\n",
        "proper_s_fl1 = []\n",
        "for i in range(len(s_fl1)):\n",
        "    proper_s_fl1.append(s_fl1[i][0])\n",
        "\n",
        "proper_s_fl1[:100]\n",
        "type(proper_s_fl1[:100])\n",
        "\n",
        "import statistics\n",
        "from statistics import stdev\n",
        "from fractions import Fraction as fr\n",
        "\n",
        "print(np.mean(proper_s_fl1))\n",
        "print(statistics.median(proper_s_fl1))\n",
        "print(np.std(proper_s_fl1))\n",
        "print(statistics.variance(proper_s_fl1))\n",
        "\n",
        "ordered= sorted(proper_s_fl1)\n",
        "i= round(len(ordered)*0.05)\n",
        "lower = ordered[i]\n",
        "i= round(len(ordered)*0.95)\n",
        "upper= ordered[i]\n",
        "\n",
        "print(lower)\n",
        "print(upper)\n"
      ]
    },
    {
      "cell_type": "code",
      "execution_count": null,
      "id": "5fbcbf61",
      "metadata": {
        "id": "5fbcbf61",
        "outputId": "2ba29d9e-ffaf-4963-fe58-477c68da78e5",
        "colab": {
          "base_uri": "https://localhost:8080/"
        }
      },
      "outputs": [
        {
          "output_type": "stream",
          "name": "stdout",
          "text": [
            "403410.2160063667\n",
            "359820.3125\n",
            "272757.2548035511\n",
            "74396761632.76192\n",
            "2039.0\n",
            "920478.3125\n"
          ]
        }
      ],
      "source": [
        "s = FlowCal.io.FCSData('04-blank-A5-4.fcs')\n",
        "s\n",
        "\n",
        "s_fl1 = s[:, ['FL1-H']]\n",
        "s_fl1\n",
        "\n",
        "s_fl1 = s_fl1.tolist()\n",
        "s_fl1[0][0]\n",
        "\n",
        "proper_s_fl1 = []\n",
        "for i in range(len(s_fl1)):\n",
        "    proper_s_fl1.append(s_fl1[i][0])\n",
        "\n",
        "proper_s_fl1[:100]\n",
        "type(proper_s_fl1[:100])\n",
        "\n",
        "import statistics\n",
        "from statistics import stdev\n",
        "from fractions import Fraction as fr\n",
        "\n",
        "print(np.mean(proper_s_fl1))\n",
        "print(statistics.median(proper_s_fl1))\n",
        "print(np.std(proper_s_fl1))\n",
        "print(statistics.variance(proper_s_fl1))\n",
        "\n",
        "ordered= sorted(proper_s_fl1)\n",
        "i= round(len(ordered)*0.05)\n",
        "lower = ordered[i]\n",
        "i= round(len(ordered)*0.95)\n",
        "upper= ordered[i]\n",
        "\n",
        "print(lower)\n",
        "print(upper)\n"
      ]
    },
    {
      "cell_type": "code",
      "execution_count": null,
      "id": "161a3f47",
      "metadata": {
        "id": "161a3f47",
        "outputId": "667b10de-549a-4d49-a191-7a749614f2ab",
        "colab": {
          "base_uri": "https://localhost:8080/",
          "height": 245
        }
      },
      "outputs": [
        {
          "output_type": "error",
          "ename": "NameError",
          "evalue": "ignored",
          "traceback": [
            "\u001b[0;31m---------------------------------------------------------------------------\u001b[0m",
            "\u001b[0;31mNameError\u001b[0m                                 Traceback (most recent call last)",
            "\u001b[0;32m<ipython-input-2-1ba3986d7726>\u001b[0m in \u001b[0;36m<cell line: 1>\u001b[0;34m()\u001b[0m\n\u001b[0;32m----> 1\u001b[0;31m \u001b[0ms\u001b[0m \u001b[0;34m=\u001b[0m \u001b[0mFlowCal\u001b[0m\u001b[0;34m.\u001b[0m\u001b[0mio\u001b[0m\u001b[0;34m.\u001b[0m\u001b[0mFCSData\u001b[0m\u001b[0;34m(\u001b[0m\u001b[0;34m'02-blank-A6-1.fcs'\u001b[0m\u001b[0;34m)\u001b[0m\u001b[0;34m\u001b[0m\u001b[0;34m\u001b[0m\u001b[0m\n\u001b[0m\u001b[1;32m      2\u001b[0m \u001b[0ms\u001b[0m\u001b[0;34m\u001b[0m\u001b[0;34m\u001b[0m\u001b[0m\n\u001b[1;32m      3\u001b[0m \u001b[0;34m\u001b[0m\u001b[0m\n\u001b[1;32m      4\u001b[0m \u001b[0ms_fl1\u001b[0m \u001b[0;34m=\u001b[0m \u001b[0ms\u001b[0m\u001b[0;34m[\u001b[0m\u001b[0;34m:\u001b[0m\u001b[0;34m,\u001b[0m \u001b[0;34m[\u001b[0m\u001b[0;34m'FL1-H'\u001b[0m\u001b[0;34m]\u001b[0m\u001b[0;34m]\u001b[0m\u001b[0;34m\u001b[0m\u001b[0;34m\u001b[0m\u001b[0m\n\u001b[1;32m      5\u001b[0m \u001b[0ms_fl1\u001b[0m\u001b[0;34m\u001b[0m\u001b[0;34m\u001b[0m\u001b[0m\n",
            "\u001b[0;31mNameError\u001b[0m: name 'FlowCal' is not defined"
          ]
        }
      ],
      "source": [
        "s = FlowCal.io.FCSData('02-blank-A6-1.fcs')\n",
        "s\n",
        "\n",
        "s_fl1 = s[:, ['FL1-H']]\n",
        "s_fl1\n",
        "\n",
        "s_fl1 = s_fl1.tolist()\n",
        "s_fl1[0][0]\n",
        "\n",
        "proper_s_fl1 = []\n",
        "for i in range(len(s_fl1)):\n",
        "    proper_s_fl1.append(s_fl1[i][0])\n",
        "\n",
        "proper_s_fl1[:100]\n",
        "type(proper_s_fl1[:100])\n",
        "\n",
        "import statistics\n",
        "from statistics import stdev\n",
        "from fractions import Fraction as fr\n",
        "\n",
        "print(np.mean(proper_s_fl1))\n",
        "print(statistics.median(proper_s_fl1))\n",
        "print(np.std(proper_s_fl1))\n",
        "print(statistics.variance(proper_s_fl1))\n",
        "\n",
        "ordered= sorted(proper_s_fl1)\n",
        "i= round(len(ordered)*0.05)\n",
        "lower = ordered[i]\n",
        "i= round(len(ordered)*0.95)\n",
        "upper= ordered[i]\n",
        "\n",
        "print(lower)\n",
        "print(upper)\n"
      ]
    },
    {
      "cell_type": "code",
      "execution_count": null,
      "id": "2f45aa47",
      "metadata": {
        "id": "2f45aa47",
        "outputId": "e676a2e9-832d-4ffc-e824-aff3b660162f"
      },
      "outputs": [
        {
          "name": "stdout",
          "output_type": "stream",
          "text": [
            "35672.59378791578\n",
            "2018.8499755859375\n",
            "120392.74427791896\n",
            "14717403842.072515\n",
            "1074.0\n",
            "302825.5\n"
          ]
        }
      ],
      "source": [
        "s = FlowCal.io.FCSData('04-blank-A6-1.fcs')\n",
        "s\n",
        "\n",
        "s_fl1 = s[:, ['FL1-H']]\n",
        "s_fl1\n",
        "\n",
        "s_fl1 = s_fl1.tolist()\n",
        "s_fl1[0][0]\n",
        "\n",
        "proper_s_fl1 = []\n",
        "for i in range(len(s_fl1)):\n",
        "    proper_s_fl1.append(s_fl1[i][0])\n",
        "\n",
        "proper_s_fl1[:100]\n",
        "type(proper_s_fl1[:100])\n",
        "\n",
        "import statistics\n",
        "from statistics import stdev\n",
        "from fractions import Fraction as fr\n",
        "\n",
        "print(np.mean(proper_s_fl1))\n",
        "print(statistics.median(proper_s_fl1))\n",
        "print(np.std(proper_s_fl1))\n",
        "print(statistics.variance(proper_s_fl1))\n",
        "\n",
        "ordered= sorted(proper_s_fl1)\n",
        "i= round(len(ordered)*0.05)\n",
        "lower = ordered[i]\n",
        "i= round(len(ordered)*0.95)\n",
        "upper= ordered[i]\n",
        "\n",
        "print(lower)\n",
        "print(upper)\n"
      ]
    },
    {
      "cell_type": "code",
      "execution_count": null,
      "id": "4b6ab901",
      "metadata": {
        "id": "4b6ab901",
        "outputId": "094ff0d3-6fa5-4a0f-db1f-9e52ab40491e"
      },
      "outputs": [
        {
          "name": "stdout",
          "output_type": "stream",
          "text": [
            "186729.65760482312\n",
            "189648.5\n",
            "108496.10545450555\n",
            "11771545014.551256\n",
            "2624.39990234375\n",
            "356696.5\n"
          ]
        }
      ],
      "source": [
        "s = FlowCal.io.FCSData('02-blank-A6-2.fcs')\n",
        "s\n",
        "\n",
        "s_fl1 = s[:, ['FL1-H']]\n",
        "s_fl1 = s[:, ['FL1-H']]\n",
        "s_fl1\n",
        "\n",
        "s_fl1 = s_fl1.tolist()\n",
        "s_fl1[0][0]\n",
        "\n",
        "proper_s_fl1 = []\n",
        "for i in range(len(s_fl1)):\n",
        "    proper_s_fl1.append(s_fl1[i][0])\n",
        "\n",
        "proper_s_fl1[:100]\n",
        "type(proper_s_fl1[:100])\n",
        "\n",
        "import statistics\n",
        "from statistics import stdev\n",
        "from fractions import Fraction as fr\n",
        "\n",
        "print(np.mean(proper_s_fl1))\n",
        "print(statistics.median(proper_s_fl1))\n",
        "print(np.std(proper_s_fl1))\n",
        "print(statistics.variance(proper_s_fl1))\n",
        "\n",
        "ordered= sorted(proper_s_fl1)\n",
        "i= round(len(ordered)*0.05)\n",
        "lower = ordered[i]\n",
        "i= round(len(ordered)*0.95)\n",
        "upper= ordered[i]\n",
        "\n",
        "print(lower)\n",
        "print(upper)\n"
      ]
    },
    {
      "cell_type": "code",
      "execution_count": null,
      "id": "449b0a63",
      "metadata": {
        "id": "449b0a63",
        "outputId": "c91deab5-fb19-4b3e-8f2c-f260f3a23319"
      },
      "outputs": [
        {
          "name": "stdout",
          "output_type": "stream",
          "text": [
            "214197.60108741777\n",
            "217981.59375\n",
            "118546.05269812484\n",
            "14053249794.671515\n",
            "4730.5\n",
            "398769.59375\n"
          ]
        }
      ],
      "source": [
        "s = FlowCal.io.FCSData('04-blank-A6-2.fcs')\n",
        "s\n",
        "\n",
        "s_fl1 = s[:, ['FL1-H']]\n",
        "s_fl1\n",
        "\n",
        "s_fl1 = s_fl1.tolist()\n",
        "s_fl1[0][0]\n",
        "\n",
        "proper_s_fl1 = []\n",
        "for i in range(len(s_fl1)):\n",
        "    proper_s_fl1.append(s_fl1[i][0])\n",
        "\n",
        "proper_s_fl1[:100]\n",
        "type(proper_s_fl1[:100])\n",
        "\n",
        "import statistics\n",
        "from statistics import stdev\n",
        "from fractions import Fraction as fr\n",
        "\n",
        "print(np.mean(proper_s_fl1))\n",
        "print(statistics.median(proper_s_fl1))\n",
        "print(np.std(proper_s_fl1))\n",
        "print(statistics.variance(proper_s_fl1))\n",
        "\n",
        "ordered= sorted(proper_s_fl1)\n",
        "i= round(len(ordered)*0.05)\n",
        "lower = ordered[i]\n",
        "i= round(len(ordered)*0.95)\n",
        "upper= ordered[i]\n",
        "\n",
        "print(lower)\n",
        "print(upper)\n"
      ]
    },
    {
      "cell_type": "code",
      "execution_count": null,
      "id": "5f24b4cf",
      "metadata": {
        "id": "5f24b4cf",
        "outputId": "fc32b75b-a492-47b8-e43f-14e449db5f85"
      },
      "outputs": [
        {
          "name": "stdout",
          "output_type": "stream",
          "text": [
            "68863.78006486442\n",
            "67234.203125\n",
            "37275.107436885875\n",
            "1389451062.0413792\n",
            "8976.099609375\n",
            "128536.6015625\n"
          ]
        }
      ],
      "source": [
        "s = FlowCal.io.FCSData('02-blank-A6-3.fcs')\n",
        "s\n",
        "\n",
        "s_fl1 = s[:, ['FL1-H']]\n",
        "s_fl1\n",
        "\n",
        "s_fl1 = s_fl1.tolist()\n",
        "s_fl1[0][0]\n",
        "\n",
        "proper_s_fl1 = []\n",
        "for i in range(len(s_fl1)):\n",
        "    proper_s_fl1.append(s_fl1[i][0])\n",
        "\n",
        "proper_s_fl1[:100]\n",
        "type(proper_s_fl1[:100])\n",
        "\n",
        "import statistics\n",
        "from statistics import stdev\n",
        "from fractions import Fraction as fr\n",
        "\n",
        "print(np.mean(proper_s_fl1))\n",
        "print(statistics.median(proper_s_fl1))\n",
        "print(np.std(proper_s_fl1))\n",
        "print(statistics.variance(proper_s_fl1))\n",
        "\n",
        "ordered= sorted(proper_s_fl1)\n",
        "i= round(len(ordered)*0.05)\n",
        "lower = ordered[i]\n",
        "i= round(len(ordered)*0.95)\n",
        "upper= ordered[i]\n",
        "\n",
        "print(lower)\n",
        "print(upper)\n"
      ]
    },
    {
      "cell_type": "code",
      "execution_count": null,
      "id": "71309532",
      "metadata": {
        "id": "71309532",
        "outputId": "019f3dea-5745-407e-94cb-320f51f50e7e"
      },
      "outputs": [
        {
          "name": "stdout",
          "output_type": "stream",
          "text": [
            "86460.31052298062\n",
            "76316.44921875\n",
            "58278.62078978717\n",
            "3396416190.674782\n",
            "6750.7001953125\n",
            "198670.0\n"
          ]
        }
      ],
      "source": [
        "s = FlowCal.io.FCSData('04-blank-A6-3.fcs')\n",
        "s\n",
        "\n",
        "s_fl1 = s[:, ['FL1-H']]\n",
        "s_fl1\n",
        "\n",
        "s_fl1 = s_fl1.tolist()\n",
        "s_fl1[0][0]\n",
        "\n",
        "proper_s_fl1 = []\n",
        "for i in range(len(s_fl1)):\n",
        "    proper_s_fl1.append(s_fl1[i][0])\n",
        "\n",
        "proper_s_fl1[:100]\n",
        "type(proper_s_fl1[:100])\n",
        "\n",
        "import statistics\n",
        "from statistics import stdev\n",
        "from fractions import Fraction as fr\n",
        "\n",
        "print(np.mean(proper_s_fl1))\n",
        "print(statistics.median(proper_s_fl1))\n",
        "print(np.std(proper_s_fl1))\n",
        "print(statistics.variance(proper_s_fl1))\n",
        "\n",
        "ordered= sorted(proper_s_fl1)\n",
        "i= round(len(ordered)*0.05)\n",
        "lower = ordered[i]\n",
        "i= round(len(ordered)*0.95)\n",
        "upper= ordered[i]\n",
        "\n",
        "print(lower)\n",
        "print(upper)\n"
      ]
    },
    {
      "cell_type": "code",
      "execution_count": null,
      "id": "8509cdfd",
      "metadata": {
        "id": "8509cdfd",
        "outputId": "69db8da9-5eb1-48d2-f3cb-8a0d92bde034"
      },
      "outputs": [
        {
          "name": "stdout",
          "output_type": "stream",
          "text": [
            "193258.60307385682\n",
            "185955.59375\n",
            "116333.07509152025\n",
            "13533453812.439642\n",
            "3257.699951171875\n",
            "388442.09375\n"
          ]
        }
      ],
      "source": [
        "s = FlowCal.io.FCSData('02-blank-A6-4.fcs')\n",
        "s\n",
        "\n",
        "s_fl1 = s[:, ['FL1-H']]\n",
        "s_fl1\n",
        "\n",
        "s_fl1 = s_fl1.tolist()\n",
        "s_fl1[0][0]\n",
        "\n",
        "proper_s_fl1 = []\n",
        "for i in range(len(s_fl1)):\n",
        "    proper_s_fl1.append(s_fl1[i][0])\n",
        "\n",
        "proper_s_fl1[:100]\n",
        "type(proper_s_fl1[:100])\n",
        "\n",
        "import statistics\n",
        "from statistics import stdev\n",
        "from fractions import Fraction as fr\n",
        "\n",
        "print(np.mean(proper_s_fl1))\n",
        "print(statistics.median(proper_s_fl1))\n",
        "print(np.std(proper_s_fl1))\n",
        "print(statistics.variance(proper_s_fl1))\n",
        "\n",
        "ordered= sorted(proper_s_fl1)\n",
        "i= round(len(ordered)*0.05)\n",
        "lower = ordered[i]\n",
        "i= round(len(ordered)*0.95)\n",
        "upper= ordered[i]\n",
        "\n",
        "print(lower)\n",
        "print(upper)\n"
      ]
    },
    {
      "cell_type": "code",
      "execution_count": null,
      "id": "530f73f4",
      "metadata": {
        "id": "530f73f4",
        "outputId": "255f28dd-3552-467f-d658-08d146819d46"
      },
      "outputs": [
        {
          "name": "stdout",
          "output_type": "stream",
          "text": [
            "274286.02604178636\n",
            "253233.296875\n",
            "180590.26106941732\n",
            "32612947805.98335\n",
            "3853.800048828125\n",
            "605893.0\n"
          ]
        }
      ],
      "source": [
        "s = FlowCal.io.FCSData('04-blank-A6-4.fcs')\n",
        "s\n",
        "\n",
        "s_fl1 = s[:, ['FL1-H']]\n",
        "s_fl1\n",
        "\n",
        "s_fl1 = s_fl1.tolist()\n",
        "s_fl1[0][0]\n",
        "\n",
        "proper_s_fl1 = []\n",
        "for i in range(len(s_fl1)):\n",
        "    proper_s_fl1.append(s_fl1[i][0])\n",
        "\n",
        "proper_s_fl1[:100]\n",
        "type(proper_s_fl1[:100])\n",
        "\n",
        "import statistics\n",
        "from statistics import stdev\n",
        "from fractions import Fraction as fr\n",
        "\n",
        "print(np.mean(proper_s_fl1))\n",
        "print(statistics.median(proper_s_fl1))\n",
        "print(np.std(proper_s_fl1))\n",
        "print(statistics.variance(proper_s_fl1))\n",
        "\n",
        "ordered= sorted(proper_s_fl1)\n",
        "i= round(len(ordered)*0.05)\n",
        "lower = ordered[i]\n",
        "i= round(len(ordered)*0.95)\n",
        "upper= ordered[i]\n",
        "\n",
        "print(lower)\n",
        "print(upper)\n"
      ]
    },
    {
      "cell_type": "code",
      "execution_count": null,
      "id": "8e8da5c7",
      "metadata": {
        "id": "8e8da5c7",
        "outputId": "3016e9c4-db74-43b0-dc6a-c9044022a09d"
      },
      "outputs": [
        {
          "name": "stdout",
          "output_type": "stream",
          "text": [
            "91455.5292909357\n",
            "89181.65234375\n",
            "53679.59763114565\n",
            "2881540748.942871\n",
            "4082.60009765625\n",
            "177390.296875\n"
          ]
        }
      ],
      "source": [
        "s = FlowCal.io.FCSData('02-blank-A7-1.fcs')\n",
        "s\n",
        "\n",
        "s_fl1 = s[:, ['FL1-H']]\n",
        "s_fl1\n",
        "\n",
        "s_fl1 = s_fl1.tolist()\n",
        "s_fl1[0][0]\n",
        "\n",
        "proper_s_fl1 = []\n",
        "for i in range(len(s_fl1)):\n",
        "    proper_s_fl1.append(s_fl1[i][0])\n",
        "\n",
        "proper_s_fl1[:100]\n",
        "type(proper_s_fl1[:100])\n",
        "\n",
        "import statistics\n",
        "from statistics import stdev\n",
        "from fractions import Fraction as fr\n",
        "\n",
        "print(np.mean(proper_s_fl1))\n",
        "print(statistics.median(proper_s_fl1))\n",
        "print(np.std(proper_s_fl1))\n",
        "print(statistics.variance(proper_s_fl1))\n",
        "\n",
        "ordered= sorted(proper_s_fl1)\n",
        "i= round(len(ordered)*0.05)\n",
        "lower = ordered[i]\n",
        "i= round(len(ordered)*0.95)\n",
        "upper= ordered[i]\n",
        "\n",
        "print(lower)\n",
        "print(upper)\n"
      ]
    },
    {
      "cell_type": "code",
      "execution_count": null,
      "id": "d7790f0e",
      "metadata": {
        "id": "d7790f0e",
        "outputId": "d0cad1b4-f187-4ead-d5ae-d98e7b861dbe"
      },
      "outputs": [
        {
          "name": "stdout",
          "output_type": "stream",
          "text": [
            "43562.66809626988\n",
            "1934.550048828125\n",
            "145450.617200013\n",
            "21346475575.79142\n",
            "1058.800048828125\n",
            "364401.40625\n"
          ]
        }
      ],
      "source": [
        "s = FlowCal.io.FCSData('04-blank-A7-1.fcs')\n",
        "s\n",
        "\n",
        "s_fl1 = s[:, ['FL1-H']]\n",
        "s_fl1\n",
        "\n",
        "s_fl1 = s_fl1.tolist()\n",
        "s_fl1[0][0]\n",
        "\n",
        "proper_s_fl1 = []\n",
        "for i in range(len(s_fl1)):\n",
        "    proper_s_fl1.append(s_fl1[i][0])\n",
        "\n",
        "proper_s_fl1[:100]\n",
        "type(proper_s_fl1[:100])\n",
        "\n",
        "import statistics\n",
        "from statistics import stdev\n",
        "from fractions import Fraction as fr\n",
        "\n",
        "print(np.mean(proper_s_fl1))\n",
        "print(statistics.median(proper_s_fl1))\n",
        "print(np.std(proper_s_fl1))\n",
        "print(statistics.variance(proper_s_fl1))\n",
        "\n",
        "ordered= sorted(proper_s_fl1)\n",
        "i= round(len(ordered)*0.05)\n",
        "lower = ordered[i]\n",
        "i= round(len(ordered)*0.95)\n",
        "upper= ordered[i]\n",
        "\n",
        "print(lower)\n",
        "print(upper)\n"
      ]
    },
    {
      "cell_type": "code",
      "execution_count": null,
      "id": "c30ae5bc",
      "metadata": {
        "id": "c30ae5bc",
        "outputId": "72f2d145-c5f0-4e3f-bccb-a6da769f526d"
      },
      "outputs": [
        {
          "name": "stdout",
          "output_type": "stream",
          "text": [
            "111693.21389832898\n",
            "111265.80078125\n",
            "61457.75654462118\n",
            "3777096739.3001933\n",
            "5826.10009765625\n",
            "212780.703125\n"
          ]
        }
      ],
      "source": [
        "s = FlowCal.io.FCSData('02-blank-A7-2.fcs')\n",
        "s\n",
        "\n",
        "s_fl1 = s[:, ['FL1-H']]\n",
        "s_fl1\n",
        "\n",
        "s_fl1 = s_fl1.tolist()\n",
        "s_fl1[0][0]\n",
        "\n",
        "proper_s_fl1 = []\n",
        "for i in range(len(s_fl1)):\n",
        "    proper_s_fl1.append(s_fl1[i][0])\n",
        "\n",
        "proper_s_fl1[:100]\n",
        "type(proper_s_fl1[:100])\n",
        "\n",
        "import statistics\n",
        "from statistics import stdev\n",
        "from fractions import Fraction as fr\n",
        "\n",
        "print(np.mean(proper_s_fl1))\n",
        "print(statistics.median(proper_s_fl1))\n",
        "print(np.std(proper_s_fl1))\n",
        "print(statistics.variance(proper_s_fl1))\n",
        "\n",
        "ordered= sorted(proper_s_fl1)\n",
        "i= round(len(ordered)*0.05)\n",
        "lower = ordered[i]\n",
        "i= round(len(ordered)*0.95)\n",
        "upper= ordered[i]\n",
        "\n",
        "print(lower)\n",
        "print(upper)\n"
      ]
    },
    {
      "cell_type": "code",
      "execution_count": null,
      "id": "00a520d6",
      "metadata": {
        "id": "00a520d6",
        "outputId": "33811ee1-f67b-4845-f7ed-29d8a745c542"
      },
      "outputs": [
        {
          "name": "stdout",
          "output_type": "stream",
          "text": [
            "142075.88701712055\n",
            "144139.59375\n",
            "75302.96337026864\n",
            "5670573093.934663\n",
            "7631.60009765625\n",
            "261049.796875\n"
          ]
        }
      ],
      "source": [
        "s = FlowCal.io.FCSData('04-blank-A7-2.fcs')\n",
        "s\n",
        "\n",
        "s_fl1 = s[:, ['FL1-H']]\n",
        "s_fl1\n",
        "\n",
        "s_fl1 = s_fl1.tolist()\n",
        "s_fl1[0][0]\n",
        "\n",
        "proper_s_fl1 = []\n",
        "for i in range(len(s_fl1)):\n",
        "    proper_s_fl1.append(s_fl1[i][0])\n",
        "\n",
        "proper_s_fl1[:100]\n",
        "type(proper_s_fl1[:100])\n",
        "\n",
        "import statistics\n",
        "from statistics import stdev\n",
        "from fractions import Fraction as fr\n",
        "\n",
        "print(np.mean(proper_s_fl1))\n",
        "print(statistics.median(proper_s_fl1))\n",
        "print(np.std(proper_s_fl1))\n",
        "print(statistics.variance(proper_s_fl1))\n",
        "\n",
        "ordered= sorted(proper_s_fl1)\n",
        "i= round(len(ordered)*0.05)\n",
        "lower = ordered[i]\n",
        "i= round(len(ordered)*0.95)\n",
        "upper= ordered[i]\n",
        "\n",
        "print(lower)\n",
        "print(upper)"
      ]
    },
    {
      "cell_type": "code",
      "execution_count": null,
      "id": "9180bd1f",
      "metadata": {
        "id": "9180bd1f",
        "outputId": "8347bd29-1e04-4f63-f12a-c6f4d742a0ca"
      },
      "outputs": [
        {
          "name": "stdout",
          "output_type": "stream",
          "text": [
            "101752.36861767704\n",
            "100736.19921875\n",
            "56810.73683160373\n",
            "3227501515.1034913\n",
            "9810.599609375\n",
            "194790.703125\n"
          ]
        }
      ],
      "source": [
        "s = FlowCal.io.FCSData('02-blank-A7-3.fcs')\n",
        "s\n",
        "\n",
        "s_fl1 = s[:, ['FL1-H']]\n",
        "s_fl1\n",
        "\n",
        "s_fl1 = s_fl1.tolist()\n",
        "s_fl1[0][0]\n",
        "\n",
        "proper_s_fl1 = []\n",
        "for i in range(len(s_fl1)):\n",
        "    proper_s_fl1.append(s_fl1[i][0])\n",
        "\n",
        "proper_s_fl1[:100]\n",
        "type(proper_s_fl1[:100])\n",
        "\n",
        "import statistics\n",
        "from statistics import stdev\n",
        "from fractions import Fraction as fr\n",
        "\n",
        "print(np.mean(proper_s_fl1))\n",
        "print(statistics.median(proper_s_fl1))\n",
        "print(np.std(proper_s_fl1))\n",
        "print(statistics.variance(proper_s_fl1))\n",
        "\n",
        "ordered= sorted(proper_s_fl1)\n",
        "i= round(len(ordered)*0.05)\n",
        "lower = ordered[i]\n",
        "i= round(len(ordered)*0.95)\n",
        "upper= ordered[i]\n",
        "\n",
        "print(lower)\n",
        "print(upper)\n"
      ]
    },
    {
      "cell_type": "code",
      "execution_count": null,
      "id": "3c5fbbb5",
      "metadata": {
        "id": "3c5fbbb5",
        "outputId": "dc6a29b7-166c-481b-d38e-6e7519c7e385"
      },
      "outputs": [
        {
          "name": "stdout",
          "output_type": "stream",
          "text": [
            "131042.00148316141\n",
            "132823.0\n",
            "77038.37581479404\n",
            "5934948144.020992\n",
            "6322.89990234375\n",
            "256202.90625\n"
          ]
        }
      ],
      "source": [
        "s = FlowCal.io.FCSData('04-blank-A7-3.fcs')\n",
        "s\n",
        "\n",
        "s_fl1 = s[:, ['FL1-H']]\n",
        "s_fl1\n",
        "\n",
        "s_fl1 = s_fl1.tolist()\n",
        "s_fl1[0][0]\n",
        "\n",
        "proper_s_fl1 = []\n",
        "for i in range(len(s_fl1)):\n",
        "    proper_s_fl1.append(s_fl1[i][0])\n",
        "\n",
        "proper_s_fl1[:100]\n",
        "type(proper_s_fl1[:100])\n",
        "\n",
        "import statistics\n",
        "from statistics import stdev\n",
        "from fractions import Fraction as fr\n",
        "\n",
        "print(np.mean(proper_s_fl1))\n",
        "print(statistics.median(proper_s_fl1))\n",
        "print(np.std(proper_s_fl1))\n",
        "print(statistics.variance(proper_s_fl1))\n",
        "\n",
        "ordered= sorted(proper_s_fl1)\n",
        "i= round(len(ordered)*0.05)\n",
        "lower = ordered[i]\n",
        "i= round(len(ordered)*0.95)\n",
        "upper= ordered[i]\n",
        "\n",
        "print(lower)\n",
        "print(upper)\n"
      ]
    },
    {
      "cell_type": "code",
      "execution_count": null,
      "id": "590161e6",
      "metadata": {
        "id": "590161e6",
        "outputId": "140f7f1b-e628-47d2-fcbe-f5a97fd7b5d6"
      },
      "outputs": [
        {
          "name": "stdout",
          "output_type": "stream",
          "text": [
            "94841.89930258282\n",
            "91591.3984375\n",
            "55140.610187688355\n",
            "3040521215.0767317\n",
            "8550.2001953125\n",
            "181785.09375\n"
          ]
        }
      ],
      "source": [
        "s = FlowCal.io.FCSData('02-blank-A7-4.fcs')\n",
        "s\n",
        "\n",
        "s_fl1 = s[:, ['FL1-H']]\n",
        "s_fl1\n",
        "\n",
        "s_fl1 = s_fl1.tolist()\n",
        "s_fl1[0][0]\n",
        "\n",
        "proper_s_fl1 = []\n",
        "for i in range(len(s_fl1)):\n",
        "    proper_s_fl1.append(s_fl1[i][0])\n",
        "\n",
        "proper_s_fl1[:100]\n",
        "type(proper_s_fl1[:100])\n",
        "\n",
        "import statistics\n",
        "from statistics import stdev\n",
        "from fractions import Fraction as fr\n",
        "\n",
        "print(np.mean(proper_s_fl1))\n",
        "print(statistics.median(proper_s_fl1))\n",
        "print(np.std(proper_s_fl1))\n",
        "print(statistics.variance(proper_s_fl1))\n",
        "\n",
        "ordered= sorted(proper_s_fl1)\n",
        "i= round(len(ordered)*0.05)\n",
        "lower = ordered[i]\n",
        "i= round(len(ordered)*0.95)\n",
        "upper= ordered[i]\n",
        "\n",
        "print(lower)\n",
        "print(upper)"
      ]
    },
    {
      "cell_type": "code",
      "execution_count": null,
      "id": "9f8d04d0",
      "metadata": {
        "id": "9f8d04d0",
        "outputId": "18d4598a-26f9-449a-be62-5ba7c52270d5"
      },
      "outputs": [
        {
          "name": "stdout",
          "output_type": "stream",
          "text": [
            "177542.83873331902\n",
            "174356.90625\n",
            "97600.0100548321\n",
            "9525798059.081333\n",
            "8089.7998046875\n",
            "340564.3125\n"
          ]
        }
      ],
      "source": [
        "s = FlowCal.io.FCSData('04-blank-A7-4.fcs')\n",
        "s\n",
        "\n",
        "s_fl1 = s[:, ['FL1-H']]\n",
        "s_fl1\n",
        "\n",
        "s_fl1 = s_fl1.tolist()\n",
        "s_fl1[0][0]\n",
        "\n",
        "proper_s_fl1 = []\n",
        "for i in range(len(s_fl1)):\n",
        "    proper_s_fl1.append(s_fl1[i][0])\n",
        "\n",
        "proper_s_fl1[:100]\n",
        "type(proper_s_fl1[:100])\n",
        "\n",
        "import statistics\n",
        "from statistics import stdev\n",
        "from fractions import Fraction as fr\n",
        "\n",
        "print(np.mean(proper_s_fl1))\n",
        "print(statistics.median(proper_s_fl1))\n",
        "print(np.std(proper_s_fl1))\n",
        "print(statistics.variance(proper_s_fl1))\n",
        "\n",
        "ordered= sorted(proper_s_fl1)\n",
        "i= round(len(ordered)*0.05)\n",
        "lower = ordered[i]\n",
        "i= round(len(ordered)*0.95)\n",
        "upper= ordered[i]\n",
        "\n",
        "print(lower)\n",
        "print(upper)\n"
      ]
    },
    {
      "cell_type": "code",
      "execution_count": null,
      "id": "21684748",
      "metadata": {
        "id": "21684748",
        "outputId": "e17b7116-93d9-4870-e91a-aeff9dd7a233",
        "colab": {
          "base_uri": "https://localhost:8080/"
        }
      },
      "outputs": [
        {
          "output_type": "stream",
          "name": "stdout",
          "text": [
            "44918.64616189419\n",
            "39739.3984375\n",
            "32675.629954228938\n",
            "1067714403.5277414\n",
            "1223.0999755859375\n",
            "99208.296875\n"
          ]
        }
      ],
      "source": [
        "s = FlowCal.io.FCSData('02-blank-A8-1.fcs')\n",
        "s\n",
        "\n",
        "s_fl1 = s[:, ['FL1-H']]\n",
        "s_fl1\n",
        "\n",
        "s_fl1 = s_fl1.tolist()\n",
        "s_fl1[0][0]\n",
        "\n",
        "proper_s_fl1 = []\n",
        "for i in range(len(s_fl1)):\n",
        "    proper_s_fl1.append(s_fl1[i][0])\n",
        "\n",
        "proper_s_fl1[:100]\n",
        "type(proper_s_fl1[:100])\n",
        "\n",
        "import statistics\n",
        "from statistics import stdev\n",
        "from fractions import Fraction as fr\n",
        "\n",
        "print(np.mean(proper_s_fl1))\n",
        "print(statistics.median(proper_s_fl1))\n",
        "print(np.std(proper_s_fl1))\n",
        "print(statistics.variance(proper_s_fl1))\n",
        "\n",
        "ordered= sorted(proper_s_fl1)\n",
        "i= round(len(ordered)*0.05)\n",
        "lower = ordered[i]\n",
        "i= round(len(ordered)*0.95)\n",
        "upper= ordered[i]\n",
        "\n",
        "print(lower)\n",
        "print(upper)"
      ]
    },
    {
      "cell_type": "code",
      "execution_count": null,
      "id": "65dcd22d",
      "metadata": {
        "id": "65dcd22d",
        "outputId": "60df56e5-394f-48d3-ee31-2405921dd506",
        "colab": {
          "base_uri": "https://localhost:8080/"
        }
      },
      "outputs": [
        {
          "output_type": "stream",
          "name": "stdout",
          "text": [
            "6054.515076236226\n",
            "450.8999938964844\n",
            "38609.01468736891\n",
            "1493661369.9986808\n",
            "265.6000061035156\n",
            "2004.0999755859375\n"
          ]
        }
      ],
      "source": [
        "s = FlowCal.io.FCSData('04-blank-A8-1.fcs')\n",
        "s\n",
        "\n",
        "s_fl1 = s[:, ['FL1-H']]\n",
        "s_fl1\n",
        "\n",
        "s_fl1 = s_fl1.tolist()\n",
        "s_fl1[0][0]\n",
        "\n",
        "proper_s_fl1 = []\n",
        "for i in range(len(s_fl1)):\n",
        "    proper_s_fl1.append(s_fl1[i][0])\n",
        "\n",
        "proper_s_fl1[:100]\n",
        "type(proper_s_fl1[:100])\n",
        "\n",
        "import statistics\n",
        "from statistics import stdev\n",
        "from fractions import Fraction as fr\n",
        "\n",
        "print(np.mean(proper_s_fl1))\n",
        "print(statistics.median(proper_s_fl1))\n",
        "print(np.std(proper_s_fl1))\n",
        "print(statistics.variance(proper_s_fl1))\n",
        "\n",
        "ordered= sorted(proper_s_fl1)\n",
        "i= round(len(ordered)*0.05)\n",
        "lower = ordered[i]\n",
        "i= round(len(ordered)*0.95)\n",
        "upper= ordered[i]\n",
        "\n",
        "print(lower)\n",
        "print(upper)\n"
      ]
    },
    {
      "cell_type": "code",
      "execution_count": null,
      "id": "783fc7b6",
      "metadata": {
        "id": "783fc7b6",
        "outputId": "c7234457-7f5b-4fdc-b837-ed0c3ec089bc",
        "colab": {
          "base_uri": "https://localhost:8080/"
        }
      },
      "outputs": [
        {
          "output_type": "stream",
          "name": "stdout",
          "text": [
            "30305.594070867613\n",
            "28487.099609375\n",
            "18779.318105001697\n",
            "352667209.26238585\n",
            "3114.0\n",
            "59382.69921875\n"
          ]
        }
      ],
      "source": [
        "s = FlowCal.io.FCSData('02-blank-A8-2.fcs')\n",
        "s\n",
        "\n",
        "s_fl1 = s[:, ['FL1-H']]\n",
        "s_fl1\n",
        "\n",
        "s_fl1 = s[:, ['FL1-H']]\n",
        "s_fl1\n",
        "\n",
        "s_fl1 = s_fl1.tolist()\n",
        "s_fl1[0][0]\n",
        "\n",
        "proper_s_fl1 = []\n",
        "for i in range(len(s_fl1)):\n",
        "    proper_s_fl1.append(s_fl1[i][0])\n",
        "\n",
        "proper_s_fl1[:100]\n",
        "type(proper_s_fl1[:100])\n",
        "\n",
        "import statistics\n",
        "from statistics import stdev\n",
        "from fractions import Fraction as fr\n",
        "\n",
        "print(np.mean(proper_s_fl1))\n",
        "print(statistics.median(proper_s_fl1))\n",
        "print(np.std(proper_s_fl1))\n",
        "print(statistics.variance(proper_s_fl1))\n",
        "\n",
        "ordered= sorted(proper_s_fl1)\n",
        "i= round(len(ordered)*0.05)\n",
        "lower = ordered[i]\n",
        "i= round(len(ordered)*0.95)\n",
        "upper= ordered[i]\n",
        "\n",
        "print(lower)\n",
        "print(upper)\n"
      ]
    },
    {
      "cell_type": "code",
      "execution_count": null,
      "id": "64f09d39",
      "metadata": {
        "id": "64f09d39",
        "outputId": "639cf75c-2398-49e6-9830-8108a7129a34",
        "colab": {
          "base_uri": "https://localhost:8080/"
        }
      },
      "outputs": [
        {
          "output_type": "stream",
          "name": "stdout",
          "text": [
            "45589.58125684197\n",
            "43272.099609375\n",
            "28347.46276647726\n",
            "803585256.9905534\n",
            "1270.699951171875\n",
            "88125.1015625\n"
          ]
        }
      ],
      "source": [
        "s = FlowCal.io.FCSData('04-blank-A8-2.fcs')\n",
        "s\n",
        "\n",
        "s_fl1 = s[:, ['FL1-H']]\n",
        "s_fl1\n",
        "\n",
        "s_fl1 = s_fl1.tolist()\n",
        "s_fl1[0][0]\n",
        "\n",
        "proper_s_fl1 = []\n",
        "for i in range(len(s_fl1)):\n",
        "    proper_s_fl1.append(s_fl1[i][0])\n",
        "\n",
        "proper_s_fl1[:100]\n",
        "type(proper_s_fl1[:100])\n",
        "\n",
        "import statistics\n",
        "from statistics import stdev\n",
        "from fractions import Fraction as fr\n",
        "\n",
        "print(np.mean(proper_s_fl1))\n",
        "print(statistics.median(proper_s_fl1))\n",
        "print(np.std(proper_s_fl1))\n",
        "print(statistics.variance(proper_s_fl1))\n",
        "\n",
        "ordered= sorted(proper_s_fl1)\n",
        "i= round(len(ordered)*0.05)\n",
        "lower = ordered[i]\n",
        "i= round(len(ordered)*0.95)\n",
        "upper= ordered[i]\n",
        "\n",
        "print(lower)\n",
        "print(upper)\n"
      ]
    },
    {
      "cell_type": "code",
      "execution_count": null,
      "id": "3f0c6d0d",
      "metadata": {
        "id": "3f0c6d0d",
        "outputId": "a598889a-4540-4567-80cb-6637ff2b4f8a",
        "colab": {
          "base_uri": "https://localhost:8080/"
        }
      },
      "outputs": [
        {
          "output_type": "stream",
          "name": "stdout",
          "text": [
            "30530.284904712422\n",
            "28748.099609375\n",
            "20262.72819005441\n",
            "410584411.3726489\n",
            "4273.10009765625\n",
            "57540.30078125\n"
          ]
        }
      ],
      "source": [
        "s = FlowCal.io.FCSData('02-blank-A8-3.fcs')\n",
        "s\n",
        "\n",
        "s_fl1 = s[:, ['FL1-H']]\n",
        "s_fl1\n",
        "\n",
        "s_fl1 = s_fl1.tolist()\n",
        "s_fl1[0][0]\n",
        "\n",
        "proper_s_fl1 = []\n",
        "for i in range(len(s_fl1)):\n",
        "    proper_s_fl1.append(s_fl1[i][0])\n",
        "\n",
        "proper_s_fl1[:100]\n",
        "type(proper_s_fl1[:100])\n",
        "\n",
        "import statistics\n",
        "from statistics import stdev\n",
        "from fractions import Fraction as fr\n",
        "\n",
        "print(np.mean(proper_s_fl1))\n",
        "print(statistics.median(proper_s_fl1))\n",
        "print(np.std(proper_s_fl1))\n",
        "print(statistics.variance(proper_s_fl1))\n",
        "\n",
        "ordered= sorted(proper_s_fl1)\n",
        "i= round(len(ordered)*0.05)\n",
        "lower = ordered[i]\n",
        "i= round(len(ordered)*0.95)\n",
        "upper= ordered[i]\n",
        "\n",
        "print(lower)\n",
        "print(upper)\n"
      ]
    },
    {
      "cell_type": "code",
      "execution_count": null,
      "id": "83060887",
      "metadata": {
        "id": "83060887",
        "outputId": "bd93656a-5fd1-446f-8d78-d036d7a694d3",
        "colab": {
          "base_uri": "https://localhost:8080/"
        }
      },
      "outputs": [
        {
          "output_type": "stream",
          "name": "stdout",
          "text": [
            "30385.279193629605\n",
            "27389.80078125\n",
            "23367.002708126583\n",
            "546020709.2848753\n",
            "2817.89990234375\n",
            "64217.1015625\n"
          ]
        }
      ],
      "source": [
        "s = FlowCal.io.FCSData('04-blank-A8-3.fcs')\n",
        "s\n",
        "\n",
        "s_fl1 = s[:, ['FL1-H']]\n",
        "s_fl1\n",
        "\n",
        "s_fl1 = s_fl1.tolist()\n",
        "s_fl1[0][0]\n",
        "\n",
        "proper_s_fl1 = []\n",
        "for i in range(len(s_fl1)):\n",
        "    proper_s_fl1.append(s_fl1[i][0])\n",
        "\n",
        "proper_s_fl1[:100]\n",
        "type(proper_s_fl1[:100])\n",
        "\n",
        "import statistics\n",
        "from statistics import stdev\n",
        "from fractions import Fraction as fr\n",
        "\n",
        "print(np.mean(proper_s_fl1))\n",
        "print(statistics.median(proper_s_fl1))\n",
        "print(np.std(proper_s_fl1))\n",
        "print(statistics.variance(proper_s_fl1))\n",
        "\n",
        "ordered= sorted(proper_s_fl1)\n",
        "i= round(len(ordered)*0.05)\n",
        "lower = ordered[i]\n",
        "i= round(len(ordered)*0.95)\n",
        "upper= ordered[i]\n",
        "\n",
        "print(lower)\n",
        "print(upper)\n"
      ]
    },
    {
      "cell_type": "code",
      "execution_count": null,
      "id": "4750e5bf",
      "metadata": {
        "id": "4750e5bf",
        "outputId": "04fd8dab-b0e5-450a-8a57-3160a59d0e63",
        "colab": {
          "base_uri": "https://localhost:8080/"
        }
      },
      "outputs": [
        {
          "output_type": "stream",
          "name": "stdout",
          "text": [
            "54099.007112187486\n",
            "48570.3984375\n",
            "36824.99350793206\n",
            "1356102050.9158823\n",
            "2222.0\n",
            "116838.0\n"
          ]
        }
      ],
      "source": [
        "s = FlowCal.io.FCSData('02-blank-A8-4.fcs')\n",
        "s\n",
        "\n",
        "s_fl1 = s[:, ['FL1-H']]\n",
        "s_fl1\n",
        "\n",
        "s_fl1 = s_fl1.tolist()\n",
        "s_fl1[0][0]\n",
        "\n",
        "proper_s_fl1 = []\n",
        "for i in range(len(s_fl1)):\n",
        "    proper_s_fl1.append(s_fl1[i][0])\n",
        "\n",
        "proper_s_fl1[:100]\n",
        "type(proper_s_fl1[:100])\n",
        "\n",
        "import statistics\n",
        "from statistics import stdev\n",
        "from fractions import Fraction as fr\n",
        "\n",
        "print(np.mean(proper_s_fl1))\n",
        "print(statistics.median(proper_s_fl1))\n",
        "print(np.std(proper_s_fl1))\n",
        "print(statistics.variance(proper_s_fl1))\n",
        "\n",
        "ordered= sorted(proper_s_fl1)\n",
        "i= round(len(ordered)*0.05)\n",
        "lower = ordered[i]\n",
        "i= round(len(ordered)*0.95)\n",
        "upper= ordered[i]\n",
        "\n",
        "print(lower)\n",
        "print(upper)\n"
      ]
    },
    {
      "cell_type": "code",
      "execution_count": null,
      "id": "40573fff",
      "metadata": {
        "id": "40573fff",
        "outputId": "01498774-2015-45f8-8802-71ef2824f0d0",
        "colab": {
          "base_uri": "https://localhost:8080/"
        }
      },
      "outputs": [
        {
          "output_type": "stream",
          "name": "stdout",
          "text": [
            "74754.11958066923\n",
            "59387.650390625\n",
            "60539.51343233444\n",
            "3665038122.268988\n",
            "731.2999877929688\n",
            "190485.5\n"
          ]
        }
      ],
      "source": [
        "s = FlowCal.io.FCSData('04-blank-A8-4.fcs')\n",
        "s\n",
        "\n",
        "s_fl1 = s[:, ['FL1-H']]\n",
        "s_fl1\n",
        "\n",
        "s_fl1 = s_fl1.tolist()\n",
        "s_fl1[0][0]\n",
        "\n",
        "proper_s_fl1 = []\n",
        "for i in range(len(s_fl1)):\n",
        "    proper_s_fl1.append(s_fl1[i][0])\n",
        "\n",
        "proper_s_fl1[:100]\n",
        "type(proper_s_fl1[:100])\n",
        "\n",
        "import statistics\n",
        "from statistics import stdev\n",
        "from fractions import Fraction as fr\n",
        "\n",
        "print(np.mean(proper_s_fl1))\n",
        "print(statistics.median(proper_s_fl1))\n",
        "print(np.std(proper_s_fl1))\n",
        "print(statistics.variance(proper_s_fl1))\n",
        "\n",
        "ordered= sorted(proper_s_fl1)\n",
        "i= round(len(ordered)*0.05)\n",
        "lower = ordered[i]\n",
        "i= round(len(ordered)*0.95)\n",
        "upper= ordered[i]\n",
        "\n",
        "print(lower)\n",
        "print(upper)\n"
      ]
    },
    {
      "cell_type": "code",
      "execution_count": null,
      "id": "43746c34",
      "metadata": {
        "id": "43746c34",
        "outputId": "52e35b6b-77c2-4481-cace-a3009c170afd",
        "colab": {
          "base_uri": "https://localhost:8080/"
        }
      },
      "outputs": [
        {
          "output_type": "stream",
          "name": "stdout",
          "text": [
            "78802.8022934229\n",
            "77070.5\n",
            "48990.46010212072\n",
            "2400093721.962887\n",
            "1461.300048828125\n",
            "156732.40625\n"
          ]
        }
      ],
      "source": [
        "s = FlowCal.io.FCSData('02-blank-A9-1.fcs')\n",
        "s\n",
        "\n",
        "s_fl1 = s[:, ['FL1-H']]\n",
        "s_fl1\n",
        "\n",
        "s_fl1 = s_fl1.tolist()\n",
        "s_fl1[0][0]\n",
        "\n",
        "proper_s_fl1 = []\n",
        "for i in range(len(s_fl1)):\n",
        "    proper_s_fl1.append(s_fl1[i][0])\n",
        "\n",
        "proper_s_fl1[:100]\n",
        "type(proper_s_fl1[:100])\n",
        "\n",
        "import statistics\n",
        "from statistics import stdev\n",
        "from fractions import Fraction as fr\n",
        "\n",
        "print(np.mean(proper_s_fl1))\n",
        "print(statistics.median(proper_s_fl1))\n",
        "print(np.std(proper_s_fl1))\n",
        "print(statistics.variance(proper_s_fl1))\n",
        "\n",
        "ordered= sorted(proper_s_fl1)\n",
        "i= round(len(ordered)*0.05)\n",
        "lower = ordered[i]\n",
        "i= round(len(ordered)*0.95)\n",
        "upper= ordered[i]\n",
        "\n",
        "print(lower)\n",
        "print(upper)\n"
      ]
    },
    {
      "cell_type": "code",
      "execution_count": null,
      "id": "34bb9bbe",
      "metadata": {
        "id": "34bb9bbe",
        "outputId": "eba8c36c-9c35-444a-a8df-423ec0448817",
        "colab": {
          "base_uri": "https://localhost:8080/"
        }
      },
      "outputs": [
        {
          "output_type": "stream",
          "name": "stdout",
          "text": [
            "2142.726924637324\n",
            "442.75\n",
            "26292.518405127244\n",
            "692864089.8982043\n",
            "261.70001220703125\n",
            "1363.300048828125\n"
          ]
        }
      ],
      "source": [
        "s = FlowCal.io.FCSData('04-blank-A9-1.fcs')\n",
        "s\n",
        "\n",
        "s_fl1 = s[:, ['FL1-H']]\n",
        "s_fl1\n",
        "\n",
        "s_fl1 = s_fl1.tolist()\n",
        "s_fl1[0][0]\n",
        "\n",
        "proper_s_fl1 = []\n",
        "for i in range(len(s_fl1)):\n",
        "    proper_s_fl1.append(s_fl1[i][0])\n",
        "\n",
        "proper_s_fl1[:100]\n",
        "type(proper_s_fl1[:100])\n",
        "\n",
        "import statistics\n",
        "from statistics import stdev\n",
        "from fractions import Fraction as fr\n",
        "\n",
        "print(np.mean(proper_s_fl1))\n",
        "print(statistics.median(proper_s_fl1))\n",
        "print(np.std(proper_s_fl1))\n",
        "print(statistics.variance(proper_s_fl1))\n",
        "\n",
        "ordered= sorted(proper_s_fl1)\n",
        "i= round(len(ordered)*0.05)\n",
        "lower = ordered[i]\n",
        "i= round(len(ordered)*0.95)\n",
        "upper= ordered[i]\n",
        "\n",
        "print(lower)\n",
        "print(upper)\n"
      ]
    },
    {
      "cell_type": "code",
      "execution_count": null,
      "id": "8d2447a4",
      "metadata": {
        "id": "8d2447a4",
        "outputId": "72f5ee8c-a691-466e-979b-7696aa5e4ddb",
        "colab": {
          "base_uri": "https://localhost:8080/"
        }
      },
      "outputs": [
        {
          "output_type": "stream",
          "name": "stdout",
          "text": [
            "89761.86584358723\n",
            "90017.0\n",
            "50123.859333264336\n",
            "2512432813.913719\n",
            "5852.7001953125\n",
            "171562.09375\n"
          ]
        }
      ],
      "source": [
        "s = FlowCal.io.FCSData('02-blank-A9-2.fcs')\n",
        "s\n",
        "\n",
        "s_fl1 = s[:, ['FL1-H']]\n",
        "s_fl1\n",
        "\n",
        "s_fl1 = s_fl1.tolist()\n",
        "s_fl1[0][0]\n",
        "\n",
        "proper_s_fl1 = []\n",
        "for i in range(len(s_fl1)):\n",
        "    proper_s_fl1.append(s_fl1[i][0])\n",
        "\n",
        "proper_s_fl1[:100]\n",
        "type(proper_s_fl1[:100])\n",
        "\n",
        "import statistics\n",
        "from statistics import stdev\n",
        "from fractions import Fraction as fr\n",
        "\n",
        "print(np.mean(proper_s_fl1))\n",
        "print(statistics.median(proper_s_fl1))\n",
        "print(np.std(proper_s_fl1))\n",
        "print(statistics.variance(proper_s_fl1))\n",
        "\n",
        "ordered= sorted(proper_s_fl1)\n",
        "i= round(len(ordered)*0.05)\n",
        "lower = ordered[i]\n",
        "i= round(len(ordered)*0.95)\n",
        "upper= ordered[i]\n",
        "\n",
        "print(lower)\n",
        "print(upper)\n"
      ]
    },
    {
      "cell_type": "code",
      "execution_count": null,
      "id": "8bfe8351",
      "metadata": {
        "id": "8bfe8351",
        "outputId": "c52ab4dc-67fb-44f4-9e17-86c78a398435",
        "colab": {
          "base_uri": "https://localhost:8080/"
        }
      },
      "outputs": [
        {
          "output_type": "stream",
          "name": "stdout",
          "text": [
            "134018.7947699834\n",
            "138153.0\n",
            "67536.88440872479\n",
            "4561263957.200677\n",
            "3759.199951171875\n",
            "236830.5\n"
          ]
        }
      ],
      "source": [
        "s = FlowCal.io.FCSData('04-blank-A9-2.fcs')\n",
        "s\n",
        "\n",
        "s_fl1 = s[:, ['FL1-H']]\n",
        "s_fl1\n",
        "\n",
        "s_fl1 = s_fl1.tolist()\n",
        "s_fl1[0][0]\n",
        "\n",
        "proper_s_fl1 = []\n",
        "for i in range(len(s_fl1)):\n",
        "    proper_s_fl1.append(s_fl1[i][0])\n",
        "\n",
        "proper_s_fl1[:100]\n",
        "type(proper_s_fl1[:100])\n",
        "\n",
        "import statistics\n",
        "from statistics import stdev\n",
        "from fractions import Fraction as fr\n",
        "\n",
        "print(np.mean(proper_s_fl1))\n",
        "print(statistics.median(proper_s_fl1))\n",
        "print(np.std(proper_s_fl1))\n",
        "print(statistics.variance(proper_s_fl1))\n",
        "\n",
        "ordered= sorted(proper_s_fl1)\n",
        "i= round(len(ordered)*0.05)\n",
        "lower = ordered[i]\n",
        "i= round(len(ordered)*0.95)\n",
        "upper= ordered[i]\n",
        "\n",
        "print(lower)\n",
        "print(upper)\n"
      ]
    },
    {
      "cell_type": "code",
      "execution_count": null,
      "id": "06edd419",
      "metadata": {
        "id": "06edd419",
        "outputId": "57cef6e0-40af-48f5-da10-026fc6ebc678",
        "colab": {
          "base_uri": "https://localhost:8080/"
        }
      },
      "outputs": [
        {
          "output_type": "stream",
          "name": "stdout",
          "text": [
            "89558.75402596811\n",
            "89430.6484375\n",
            "50506.76637253844\n",
            "2550968654.608284\n",
            "7077.60009765625\n",
            "172492.296875\n"
          ]
        }
      ],
      "source": [
        "s = FlowCal.io.FCSData('02-blank-A9-3.fcs')\n",
        "s\n",
        "\n",
        "s_fl1 = s[:, ['FL1-H']]\n",
        "s_fl1\n",
        "\n",
        "s_fl1 = s_fl1.tolist()\n",
        "s_fl1[0][0]\n",
        "\n",
        "proper_s_fl1 = []\n",
        "for i in range(len(s_fl1)):\n",
        "    proper_s_fl1.append(s_fl1[i][0])\n",
        "\n",
        "proper_s_fl1[:100]\n",
        "type(proper_s_fl1[:100])\n",
        "\n",
        "import statistics\n",
        "from statistics import stdev\n",
        "from fractions import Fraction as fr\n",
        "\n",
        "print(np.mean(proper_s_fl1))\n",
        "print(statistics.median(proper_s_fl1))\n",
        "print(np.std(proper_s_fl1))\n",
        "print(statistics.variance(proper_s_fl1))\n",
        "\n",
        "ordered= sorted(proper_s_fl1)\n",
        "i= round(len(ordered)*0.05)\n",
        "lower = ordered[i]\n",
        "i= round(len(ordered)*0.95)\n",
        "upper= ordered[i]\n",
        "\n",
        "print(lower)\n",
        "print(upper)\n"
      ]
    },
    {
      "cell_type": "code",
      "execution_count": null,
      "id": "6f6b6061",
      "metadata": {
        "id": "6f6b6061",
        "outputId": "2f703dd8-0a87-4735-fb75-4df1dfc41374",
        "colab": {
          "base_uri": "https://localhost:8080/"
        }
      },
      "outputs": [
        {
          "output_type": "stream",
          "name": "stdout",
          "text": [
            "119015.91165512333\n",
            "122025.40234375\n",
            "68141.47384862306\n",
            "4643286166.31816\n",
            "5051.7001953125\n",
            "227062.40625\n"
          ]
        }
      ],
      "source": [
        "s = FlowCal.io.FCSData('04-blank-A9-3.fcs')\n",
        "s\n",
        "\n",
        "s_fl1 = s[:, ['FL1-H']]\n",
        "s_fl1\n",
        "\n",
        "s_fl1 = s_fl1.tolist()\n",
        "s_fl1[0][0]\n",
        "\n",
        "proper_s_fl1 = []\n",
        "for i in range(len(s_fl1)):\n",
        "    proper_s_fl1.append(s_fl1[i][0])\n",
        "\n",
        "proper_s_fl1[:100]\n",
        "type(proper_s_fl1[:100])\n",
        "\n",
        "import statistics\n",
        "from statistics import stdev\n",
        "from fractions import Fraction as fr\n",
        "\n",
        "print(np.mean(proper_s_fl1))\n",
        "print(statistics.median(proper_s_fl1))\n",
        "print(np.std(proper_s_fl1))\n",
        "print(statistics.variance(proper_s_fl1))\n",
        "\n",
        "ordered= sorted(proper_s_fl1)\n",
        "i= round(len(ordered)*0.05)\n",
        "lower = ordered[i]\n",
        "i= round(len(ordered)*0.95)\n",
        "upper= ordered[i]\n",
        "\n",
        "print(lower)\n",
        "print(upper)\n"
      ]
    },
    {
      "cell_type": "code",
      "execution_count": null,
      "id": "38a5c84f",
      "metadata": {
        "id": "38a5c84f",
        "outputId": "d33ff283-a52d-47b2-dfd3-4207b0d35dd6",
        "colab": {
          "base_uri": "https://localhost:8080/"
        }
      },
      "outputs": [
        {
          "output_type": "stream",
          "name": "stdout",
          "text": [
            "80729.09775888869\n",
            "79058.25\n",
            "46719.52451513525\n",
            "2182741440.6087284\n",
            "4737.89990234375\n",
            "152879.09375\n"
          ]
        }
      ],
      "source": [
        "s = FlowCal.io.FCSData('02-blank-A9-4.fcs')\n",
        "s\n",
        "\n",
        "s_fl1 = s[:, ['FL1-H']]\n",
        "s_fl1\n",
        "\n",
        "s_fl1 = s_fl1.tolist()\n",
        "s_fl1[0][0]\n",
        "\n",
        "proper_s_fl1 = []\n",
        "for i in range(len(s_fl1)):\n",
        "    proper_s_fl1.append(s_fl1[i][0])\n",
        "\n",
        "proper_s_fl1[:100]\n",
        "type(proper_s_fl1[:100])\n",
        "\n",
        "import statistics\n",
        "from statistics import stdev\n",
        "from fractions import Fraction as fr\n",
        "\n",
        "print(np.mean(proper_s_fl1))\n",
        "print(statistics.median(proper_s_fl1))\n",
        "print(np.std(proper_s_fl1))\n",
        "print(statistics.variance(proper_s_fl1))\n",
        "\n",
        "ordered= sorted(proper_s_fl1)\n",
        "i= round(len(ordered)*0.05)\n",
        "lower = ordered[i]\n",
        "i= round(len(ordered)*0.95)\n",
        "upper= ordered[i]\n",
        "\n",
        "print(lower)\n",
        "print(upper)\n"
      ]
    },
    {
      "cell_type": "code",
      "execution_count": null,
      "id": "f281f499",
      "metadata": {
        "id": "f281f499",
        "outputId": "882f5e77-96fb-4290-8bd5-e1d2fabff832",
        "colab": {
          "base_uri": "https://localhost:8080/"
        }
      },
      "outputs": [
        {
          "output_type": "stream",
          "name": "stdout",
          "text": [
            "124458.5056503579\n",
            "125934.05078125\n",
            "69872.00602334118\n",
            "4882119033.361589\n",
            "4605.2998046875\n",
            "236459.296875\n"
          ]
        }
      ],
      "source": [
        "s = FlowCal.io.FCSData('04-blank-A9-4.fcs')\n",
        "s\n",
        "\n",
        "s_fl1 = s[:, ['FL1-H']]\n",
        "s_fl1\n",
        "\n",
        "s_fl1 = s_fl1.tolist()\n",
        "s_fl1[0][0]\n",
        "\n",
        "proper_s_fl1 = []\n",
        "for i in range(len(s_fl1)):\n",
        "    proper_s_fl1.append(s_fl1[i][0])\n",
        "\n",
        "proper_s_fl1[:100]\n",
        "type(proper_s_fl1[:100])\n",
        "\n",
        "import statistics\n",
        "from statistics import stdev\n",
        "from fractions import Fraction as fr\n",
        "\n",
        "print(np.mean(proper_s_fl1))\n",
        "print(statistics.median(proper_s_fl1))\n",
        "print(np.std(proper_s_fl1))\n",
        "print(statistics.variance(proper_s_fl1))\n",
        "\n",
        "ordered= sorted(proper_s_fl1)\n",
        "i= round(len(ordered)*0.05)\n",
        "lower = ordered[i]\n",
        "i= round(len(ordered)*0.95)\n",
        "upper= ordered[i]\n",
        "\n",
        "print(lower)\n",
        "print(upper)\n"
      ]
    },
    {
      "cell_type": "code",
      "execution_count": null,
      "id": "56b66a2d",
      "metadata": {
        "id": "56b66a2d",
        "outputId": "50424e17-4ce1-4a05-a044-4f9c8995e315",
        "colab": {
          "base_uri": "https://localhost:8080/"
        }
      },
      "outputs": [
        {
          "output_type": "stream",
          "name": "stdout",
          "text": [
            "221919.9523217917\n",
            "204589.0546875\n",
            "154942.355604599\n",
            "24007281751.569714\n",
            "5977.89990234375\n",
            "478172.0\n"
          ]
        }
      ],
      "source": [
        "s = FlowCal.io.FCSData('02-blank-A10-1.fcs')\n",
        "s\n",
        "\n",
        "s_fl1 = s[:, ['FL1-H']]\n",
        "s_fl1\n",
        "\n",
        "s_fl1 = s_fl1.tolist()\n",
        "s_fl1[0][0]\n",
        "\n",
        "proper_s_fl1 = []\n",
        "for i in range(len(s_fl1)):\n",
        "    proper_s_fl1.append(s_fl1[i][0])\n",
        "\n",
        "proper_s_fl1[:100]\n",
        "type(proper_s_fl1[:100])\n",
        "\n",
        "import statistics\n",
        "from statistics import stdev\n",
        "from fractions import Fraction as fr\n",
        "\n",
        "print(np.mean(proper_s_fl1))\n",
        "print(statistics.median(proper_s_fl1))\n",
        "print(np.std(proper_s_fl1))\n",
        "print(statistics.variance(proper_s_fl1))\n",
        "\n",
        "ordered= sorted(proper_s_fl1)\n",
        "i= round(len(ordered)*0.05)\n",
        "lower = ordered[i]\n",
        "i= round(len(ordered)*0.95)\n",
        "upper= ordered[i]\n",
        "\n",
        "print(lower)\n",
        "print(upper)\n"
      ]
    },
    {
      "cell_type": "code",
      "execution_count": null,
      "id": "5d9d24eb",
      "metadata": {
        "id": "5d9d24eb",
        "outputId": "b1181665-c3b3-4a39-9899-5ac106ebcf33",
        "colab": {
          "base_uri": "https://localhost:8080/"
        }
      },
      "outputs": [
        {
          "output_type": "stream",
          "name": "stdout",
          "text": [
            "14272.830247513508\n",
            "471.0\n",
            "83091.62761169906\n",
            "6928359203.563932\n",
            "293.0\n",
            "2748.0\n"
          ]
        }
      ],
      "source": [
        "s = FlowCal.io.FCSData('04-blank-A10-1.fcs')\n",
        "s\n",
        "\n",
        "s_fl1 = s[:, ['FL1-H']]\n",
        "s_fl1\n",
        "\n",
        "s_fl1 = s_fl1.tolist()\n",
        "s_fl1[0][0]\n",
        "\n",
        "proper_s_fl1 = []\n",
        "for i in range(len(s_fl1)):\n",
        "    proper_s_fl1.append(s_fl1[i][0])\n",
        "\n",
        "proper_s_fl1[:100]\n",
        "type(proper_s_fl1[:100])\n",
        "\n",
        "import statistics\n",
        "from statistics import stdev\n",
        "from fractions import Fraction as fr\n",
        "\n",
        "print(np.mean(proper_s_fl1))\n",
        "print(statistics.median(proper_s_fl1))\n",
        "print(np.std(proper_s_fl1))\n",
        "print(statistics.variance(proper_s_fl1))\n",
        "\n",
        "ordered= sorted(proper_s_fl1)\n",
        "i= round(len(ordered)*0.05)\n",
        "lower = ordered[i]\n",
        "i= round(len(ordered)*0.95)\n",
        "upper= ordered[i]\n",
        "\n",
        "print(lower)\n",
        "print(upper)\n"
      ]
    },
    {
      "cell_type": "code",
      "execution_count": null,
      "id": "5bba5fe6",
      "metadata": {
        "id": "5bba5fe6",
        "outputId": "fae75f8b-55bd-4b05-fe0c-c62484d64195",
        "colab": {
          "base_uri": "https://localhost:8080/"
        }
      },
      "outputs": [
        {
          "output_type": "stream",
          "name": "stdout",
          "text": [
            "228926.86766343922\n",
            "215849.5\n",
            "152475.56587665432\n",
            "23248958060.6647\n",
            "3082.39990234375\n",
            "499554.6875\n"
          ]
        }
      ],
      "source": [
        "s = FlowCal.io.FCSData('02-blank-A10-2.fcs')\n",
        "s\n",
        "\n",
        "s_fl1 = s[:, ['FL1-H']]\n",
        "s_fl1\n",
        "\n",
        "s_fl1 = s_fl1.tolist()\n",
        "s_fl1[0][0]\n",
        "\n",
        "proper_s_fl1 = []\n",
        "for i in range(len(s_fl1)):\n",
        "    proper_s_fl1.append(s_fl1[i][0])\n",
        "\n",
        "proper_s_fl1[:100]\n",
        "type(proper_s_fl1[:100])\n",
        "\n",
        "import statistics\n",
        "from statistics import stdev\n",
        "from fractions import Fraction as fr\n",
        "\n",
        "print(np.mean(proper_s_fl1))\n",
        "print(statistics.median(proper_s_fl1))\n",
        "print(np.std(proper_s_fl1))\n",
        "print(statistics.variance(proper_s_fl1))\n",
        "\n",
        "ordered= sorted(proper_s_fl1)\n",
        "i= round(len(ordered)*0.05)\n",
        "lower = ordered[i]\n",
        "i= round(len(ordered)*0.95)\n",
        "upper= ordered[i]\n",
        "\n",
        "print(lower)\n",
        "print(upper)\n"
      ]
    },
    {
      "cell_type": "code",
      "execution_count": null,
      "id": "b921f3b4",
      "metadata": {
        "id": "b921f3b4",
        "outputId": "5aca46bd-9674-4a8d-8ae3-440123962082",
        "colab": {
          "base_uri": "https://localhost:8080/"
        }
      },
      "outputs": [
        {
          "output_type": "stream",
          "name": "stdout",
          "text": [
            "295830.12134211883\n",
            "270407.6875\n",
            "198592.32404556056\n",
            "39439092726.028496\n",
            "2976.300048828125\n",
            "679914.1875\n"
          ]
        }
      ],
      "source": [
        "s = FlowCal.io.FCSData('04-blank-A10-2.fcs')\n",
        "s\n",
        "\n",
        "s_fl1 = s[:, ['FL1-H']]\n",
        "s_fl1\n",
        "\n",
        "s_fl1 = s_fl1.tolist()\n",
        "s_fl1[0][0]\n",
        "\n",
        "proper_s_fl1 = []\n",
        "for i in range(len(s_fl1)):\n",
        "    proper_s_fl1.append(s_fl1[i][0])\n",
        "\n",
        "proper_s_fl1[:100]\n",
        "type(proper_s_fl1[:100])\n",
        "\n",
        "import statistics\n",
        "from statistics import stdev\n",
        "from fractions import Fraction as fr\n",
        "\n",
        "print(np.mean(proper_s_fl1))\n",
        "print(statistics.median(proper_s_fl1))\n",
        "print(np.std(proper_s_fl1))\n",
        "print(statistics.variance(proper_s_fl1))\n",
        "\n",
        "ordered= sorted(proper_s_fl1)\n",
        "i= round(len(ordered)*0.05)\n",
        "lower = ordered[i]\n",
        "i= round(len(ordered)*0.95)\n",
        "upper= ordered[i]\n",
        "\n",
        "print(lower)\n",
        "print(upper)\n"
      ]
    },
    {
      "cell_type": "code",
      "execution_count": null,
      "id": "5de02439",
      "metadata": {
        "id": "5de02439",
        "outputId": "996d1792-1417-40bc-be4d-0bb0391b24e2",
        "colab": {
          "base_uri": "https://localhost:8080/"
        }
      },
      "outputs": [
        {
          "output_type": "stream",
          "name": "stdout",
          "text": [
            "320497.5061343622\n",
            "298341.3125\n",
            "240778.44932405083\n",
            "57974624774.18881\n",
            "2652.0\n",
            "754570.6875\n"
          ]
        }
      ],
      "source": [
        "s = FlowCal.io.FCSData('02-blank-A10-3.fcs')\n",
        "s\n",
        "\n",
        "s_fl1 = s[:, ['FL1-H']]\n",
        "s_fl1\n",
        "\n",
        "s_fl1 = s_fl1.tolist()\n",
        "s_fl1[0][0]\n",
        "\n",
        "proper_s_fl1 = []\n",
        "for i in range(len(s_fl1)):\n",
        "    proper_s_fl1.append(s_fl1[i][0])\n",
        "\n",
        "proper_s_fl1[:100]\n",
        "type(proper_s_fl1[:100])\n",
        "\n",
        "import statistics\n",
        "from statistics import stdev\n",
        "from fractions import Fraction as fr\n",
        "\n",
        "print(np.mean(proper_s_fl1))\n",
        "print(statistics.median(proper_s_fl1))\n",
        "print(np.std(proper_s_fl1))\n",
        "print(statistics.variance(proper_s_fl1))\n",
        "\n",
        "ordered= sorted(proper_s_fl1)\n",
        "i= round(len(ordered)*0.05)\n",
        "lower = ordered[i]\n",
        "i= round(len(ordered)*0.95)\n",
        "upper= ordered[i]\n",
        "\n",
        "print(lower)\n",
        "print(upper)\n"
      ]
    },
    {
      "cell_type": "code",
      "execution_count": null,
      "id": "1b31cabe",
      "metadata": {
        "id": "1b31cabe",
        "outputId": "bdf3c479-e014-4867-94ab-43d43e1a0f54",
        "colab": {
          "base_uri": "https://localhost:8080/"
        }
      },
      "outputs": [
        {
          "output_type": "stream",
          "name": "stdout",
          "text": [
            "369496.52583917347\n",
            "346527.59375\n",
            "273311.1559070655\n",
            "74699278092.75302\n",
            "5170.10009765625\n",
            "883963.1875\n"
          ]
        }
      ],
      "source": [
        "s = FlowCal.io.FCSData('04-blank-A10-3.fcs')\n",
        "s\n",
        "\n",
        "s_fl1 = s[:, ['FL1-H']]\n",
        "s_fl1\n",
        "\n",
        "s_fl1 = s_fl1.tolist()\n",
        "s_fl1[0][0]\n",
        "\n",
        "proper_s_fl1 = []\n",
        "for i in range(len(s_fl1)):\n",
        "    proper_s_fl1.append(s_fl1[i][0])\n",
        "\n",
        "proper_s_fl1[:100]\n",
        "type(proper_s_fl1[:100])\n",
        "\n",
        "import statistics\n",
        "from statistics import stdev\n",
        "from fractions import Fraction as fr\n",
        "\n",
        "print(np.mean(proper_s_fl1))\n",
        "print(statistics.median(proper_s_fl1))\n",
        "print(np.std(proper_s_fl1))\n",
        "print(statistics.variance(proper_s_fl1))\n",
        "\n",
        "ordered= sorted(proper_s_fl1)\n",
        "i= round(len(ordered)*0.05)\n",
        "lower = ordered[i]\n",
        "i= round(len(ordered)*0.95)\n",
        "upper= ordered[i]\n",
        "\n",
        "print(lower)\n",
        "print(upper)\n"
      ]
    },
    {
      "cell_type": "code",
      "execution_count": null,
      "id": "909a524e",
      "metadata": {
        "id": "909a524e",
        "outputId": "86002869-6f96-4994-970a-c530fefb7a95",
        "colab": {
          "base_uri": "https://localhost:8080/"
        }
      },
      "outputs": [
        {
          "output_type": "stream",
          "name": "stdout",
          "text": [
            "356871.904385499\n",
            "326107.8125\n",
            "266072.00491945026\n",
            "70794683281.23827\n",
            "1449.5\n",
            "821251.1875\n"
          ]
        }
      ],
      "source": [
        "s = FlowCal.io.FCSData('02-blank-A10-4.fcs')\n",
        "s\n",
        "\n",
        "s_fl1 = s[:, ['FL1-H']]\n",
        "s_fl1\n",
        "\n",
        "s_fl1 = s_fl1.tolist()\n",
        "s_fl1[0][0]\n",
        "\n",
        "proper_s_fl1 = []\n",
        "for i in range(len(s_fl1)):\n",
        "    proper_s_fl1.append(s_fl1[i][0])\n",
        "\n",
        "proper_s_fl1[:100]\n",
        "type(proper_s_fl1[:100])\n",
        "\n",
        "import statistics\n",
        "from statistics import stdev\n",
        "from fractions import Fraction as fr\n",
        "\n",
        "print(np.mean(proper_s_fl1))\n",
        "print(statistics.median(proper_s_fl1))\n",
        "print(np.std(proper_s_fl1))\n",
        "print(statistics.variance(proper_s_fl1))\n",
        "\n",
        "ordered= sorted(proper_s_fl1)\n",
        "i= round(len(ordered)*0.05)\n",
        "lower = ordered[i]\n",
        "i= round(len(ordered)*0.95)\n",
        "upper= ordered[i]\n",
        "\n",
        "print(lower)\n",
        "print(upper)\n"
      ]
    },
    {
      "cell_type": "code",
      "execution_count": null,
      "id": "cdd956fd",
      "metadata": {
        "id": "cdd956fd",
        "outputId": "9147f856-7f96-4082-a1d6-e487f8d6a44b",
        "colab": {
          "base_uri": "https://localhost:8080/"
        }
      },
      "outputs": [
        {
          "output_type": "stream",
          "name": "stdout",
          "text": [
            "425723.74438874493\n",
            "392822.59375\n",
            "321498.59802028723\n",
            "103361727920.24695\n",
            "1990.4000244140625\n",
            "1041620.1875\n"
          ]
        }
      ],
      "source": [
        "s = FlowCal.io.FCSData('04-blank-A10-4.fcs')\n",
        "s\n",
        "\n",
        "s_fl1 = s[:, ['FL1-H']]\n",
        "s_fl1\n",
        "\n",
        "s_fl1 = s_fl1.tolist()\n",
        "s_fl1[0][0]\n",
        "\n",
        "proper_s_fl1 = []\n",
        "for i in range(len(s_fl1)):\n",
        "    proper_s_fl1.append(s_fl1[i][0])\n",
        "\n",
        "proper_s_fl1[:100]\n",
        "type(proper_s_fl1[:100])\n",
        "\n",
        "import statistics\n",
        "from statistics import stdev\n",
        "from fractions import Fraction as fr\n",
        "\n",
        "print(np.mean(proper_s_fl1))\n",
        "print(statistics.median(proper_s_fl1))\n",
        "print(np.std(proper_s_fl1))\n",
        "print(statistics.variance(proper_s_fl1))\n",
        "\n",
        "ordered= sorted(proper_s_fl1)\n",
        "i= round(len(ordered)*0.05)\n",
        "lower = ordered[i]\n",
        "i= round(len(ordered)*0.95)\n",
        "upper= ordered[i]\n",
        "\n",
        "print(lower)\n",
        "print(upper)\n"
      ]
    },
    {
      "cell_type": "code",
      "execution_count": null,
      "id": "622d03bf",
      "metadata": {
        "id": "622d03bf",
        "outputId": "5076ac4c-b1f1-4f8f-da9c-adf83989c5c0",
        "colab": {
          "base_uri": "https://localhost:8080/"
        }
      },
      "outputs": [
        {
          "output_type": "stream",
          "name": "stdout",
          "text": [
            "114247.00402547464\n",
            "104705.0\n",
            "75774.90697216959\n",
            "5741864266.723794\n",
            "1621.5\n",
            "245309.90625\n"
          ]
        }
      ],
      "source": [
        "s = FlowCal.io.FCSData('02-blank-A11-1.fcs')\n",
        "s\n",
        "\n",
        "s_fl1 = s[:, ['FL1-H']]\n",
        "s_fl1\n",
        "\n",
        "s_fl1 = s_fl1.tolist()\n",
        "s_fl1[0][0]\n",
        "\n",
        "proper_s_fl1 = []\n",
        "for i in range(len(s_fl1)):\n",
        "    proper_s_fl1.append(s_fl1[i][0])\n",
        "\n",
        "proper_s_fl1[:100]\n",
        "type(proper_s_fl1[:100])\n",
        "\n",
        "import statistics\n",
        "from statistics import stdev\n",
        "from fractions import Fraction as fr\n",
        "\n",
        "print(np.mean(proper_s_fl1))\n",
        "print(statistics.median(proper_s_fl1))\n",
        "print(np.std(proper_s_fl1))\n",
        "print(statistics.variance(proper_s_fl1))\n",
        "\n",
        "ordered= sorted(proper_s_fl1)\n",
        "i= round(len(ordered)*0.05)\n",
        "lower = ordered[i]\n",
        "i= round(len(ordered)*0.95)\n",
        "upper= ordered[i]\n",
        "\n",
        "print(lower)\n",
        "print(upper)\n"
      ]
    },
    {
      "cell_type": "code",
      "execution_count": null,
      "id": "909dbc60",
      "metadata": {
        "id": "909dbc60",
        "outputId": "2d46cc4a-e53a-4b81-841a-076b9f2a04f0",
        "colab": {
          "base_uri": "https://localhost:8080/"
        }
      },
      "outputs": [
        {
          "output_type": "stream",
          "name": "stdout",
          "text": [
            "14829.928757080079\n",
            "460.4499969482422\n",
            "92233.83516853888\n",
            "8541245331.222087\n",
            "257.5\n",
            "2502.699951171875\n"
          ]
        }
      ],
      "source": [
        "s = FlowCal.io.FCSData('04-blank-A11-1.fcs')\n",
        "s\n",
        "\n",
        "s_fl1 = s[:, ['FL1-H']]\n",
        "s_fl1\n",
        "\n",
        "s_fl1 = s_fl1.tolist()\n",
        "s_fl1[0][0]\n",
        "\n",
        "proper_s_fl1 = []\n",
        "for i in range(len(s_fl1)):\n",
        "    proper_s_fl1.append(s_fl1[i][0])\n",
        "\n",
        "proper_s_fl1[:100]\n",
        "type(proper_s_fl1[:100])\n",
        "\n",
        "import statistics\n",
        "from statistics import stdev\n",
        "from fractions import Fraction as fr\n",
        "\n",
        "print(np.mean(proper_s_fl1))\n",
        "print(statistics.median(proper_s_fl1))\n",
        "print(np.std(proper_s_fl1))\n",
        "print(statistics.variance(proper_s_fl1))\n",
        "\n",
        "ordered= sorted(proper_s_fl1)\n",
        "i= round(len(ordered)*0.05)\n",
        "lower = ordered[i]\n",
        "i= round(len(ordered)*0.95)\n",
        "upper= ordered[i]\n",
        "\n",
        "print(lower)\n",
        "print(upper)\n"
      ]
    },
    {
      "cell_type": "code",
      "execution_count": null,
      "id": "48ca531d",
      "metadata": {
        "id": "48ca531d",
        "outputId": "5134e333-bb69-4348-9267-99d831e2b4a4",
        "colab": {
          "base_uri": "https://localhost:8080/"
        }
      },
      "outputs": [
        {
          "output_type": "stream",
          "name": "stdout",
          "text": [
            "127588.79901399338\n",
            "116401.0\n",
            "88159.32270377426\n",
            "7772088459.460751\n",
            "826.5\n",
            "285356.1875\n"
          ]
        }
      ],
      "source": [
        "s = FlowCal.io.FCSData('02-blank-A11-2.fcs')\n",
        "s\n",
        "\n",
        "s_fl1 = s[:, ['FL1-H']]\n",
        "s_fl1\n",
        "\n",
        "s_fl1 = s_fl1.tolist()\n",
        "s_fl1[0][0]\n",
        "\n",
        "proper_s_fl1 = []\n",
        "for i in range(len(s_fl1)):\n",
        "    proper_s_fl1.append(s_fl1[i][0])\n",
        "\n",
        "proper_s_fl1[:100]\n",
        "type(proper_s_fl1[:100])\n",
        "\n",
        "import statistics\n",
        "from statistics import stdev\n",
        "from fractions import Fraction as fr\n",
        "\n",
        "print(np.mean(proper_s_fl1))\n",
        "print(statistics.median(proper_s_fl1))\n",
        "print(np.std(proper_s_fl1))\n",
        "print(statistics.variance(proper_s_fl1))\n",
        "\n",
        "ordered= sorted(proper_s_fl1)\n",
        "i= round(len(ordered)*0.05)\n",
        "lower = ordered[i]\n",
        "i= round(len(ordered)*0.95)\n",
        "upper= ordered[i]\n",
        "\n",
        "print(lower)\n",
        "print(upper)\n"
      ]
    },
    {
      "cell_type": "code",
      "execution_count": null,
      "id": "7066018a",
      "metadata": {
        "id": "7066018a",
        "outputId": "287e5011-6a2f-4a86-f01e-2b78c6c4f54b",
        "colab": {
          "base_uri": "https://localhost:8080/"
        }
      },
      "outputs": [
        {
          "output_type": "stream",
          "name": "stdout",
          "text": [
            "187022.5940369467\n",
            "168355.5\n",
            "133778.60467673384\n",
            "17896748696.421806\n",
            "678.5\n",
            "423558.0\n"
          ]
        }
      ],
      "source": [
        "s = FlowCal.io.FCSData('04-blank-A11-2.fcs')\n",
        "s\n",
        "\n",
        "s_fl1 = s[:, ['FL1-H']]\n",
        "s_fl1\n",
        "\n",
        "s_fl1 = s_fl1.tolist()\n",
        "s_fl1[0][0]\n",
        "\n",
        "proper_s_fl1 = []\n",
        "for i in range(len(s_fl1)):\n",
        "    proper_s_fl1.append(s_fl1[i][0])\n",
        "\n",
        "proper_s_fl1[:100]\n",
        "type(proper_s_fl1[:100])\n",
        "\n",
        "import statistics\n",
        "from statistics import stdev\n",
        "from fractions import Fraction as fr\n",
        "\n",
        "print(np.mean(proper_s_fl1))\n",
        "print(statistics.median(proper_s_fl1))\n",
        "print(np.std(proper_s_fl1))\n",
        "print(statistics.variance(proper_s_fl1))\n",
        "\n",
        "ordered= sorted(proper_s_fl1)\n",
        "i= round(len(ordered)*0.05)\n",
        "lower = ordered[i]\n",
        "i= round(len(ordered)*0.95)\n",
        "upper= ordered[i]\n",
        "\n",
        "print(lower)\n",
        "print(upper)\n"
      ]
    },
    {
      "cell_type": "code",
      "execution_count": null,
      "id": "d3adcf3b",
      "metadata": {
        "id": "d3adcf3b",
        "outputId": "7e724ba7-2621-4862-8b45-16d20f2843c5",
        "colab": {
          "base_uri": "https://localhost:8080/"
        }
      },
      "outputs": [
        {
          "output_type": "stream",
          "name": "stdout",
          "text": [
            "137052.50818697718\n",
            "124375.203125\n",
            "93704.20401103202\n",
            "8780506696.24352\n",
            "1235.5\n",
            "304777.6875\n"
          ]
        }
      ],
      "source": [
        "s = FlowCal.io.FCSData('02-blank-A11-3.fcs')\n",
        "s\n",
        "\n",
        "s_fl1 = s[:, ['FL1-H']]\n",
        "s_fl1\n",
        "\n",
        "s_fl1 = s_fl1.tolist()\n",
        "s_fl1[0][0]\n",
        "\n",
        "proper_s_fl1 = []\n",
        "for i in range(len(s_fl1)):\n",
        "    proper_s_fl1.append(s_fl1[i][0])\n",
        "\n",
        "proper_s_fl1[:100]\n",
        "type(proper_s_fl1[:100])\n",
        "\n",
        "import statistics\n",
        "from statistics import stdev\n",
        "from fractions import Fraction as fr\n",
        "\n",
        "print(np.mean(proper_s_fl1))\n",
        "print(statistics.median(proper_s_fl1))\n",
        "print(np.std(proper_s_fl1))\n",
        "print(statistics.variance(proper_s_fl1))\n",
        "\n",
        "ordered= sorted(proper_s_fl1)\n",
        "i= round(len(ordered)*0.05)\n",
        "lower = ordered[i]\n",
        "i= round(len(ordered)*0.95)\n",
        "upper= ordered[i]\n",
        "\n",
        "print(lower)\n",
        "print(upper)\n"
      ]
    },
    {
      "cell_type": "code",
      "execution_count": null,
      "id": "c14784f8",
      "metadata": {
        "id": "c14784f8",
        "outputId": "97604b1d-545d-4952-9f79-b75fc40ad3b1",
        "colab": {
          "base_uri": "https://localhost:8080/"
        }
      },
      "outputs": [
        {
          "output_type": "stream",
          "name": "stdout",
          "text": [
            "149560.27974208113\n",
            "128140.6015625\n",
            "112168.00833892792\n",
            "12581680144.643896\n",
            "1212.699951171875\n",
            "355254.8125\n"
          ]
        }
      ],
      "source": [
        "s = FlowCal.io.FCSData('04-blank-A11-3.fcs')\n",
        "s\n",
        "\n",
        "s_fl1 = s[:, ['FL1-H']]\n",
        "s_fl1\n",
        "\n",
        "s_fl1 = s_fl1.tolist()\n",
        "s_fl1[0][0]\n",
        "\n",
        "proper_s_fl1 = []\n",
        "for i in range(len(s_fl1)):\n",
        "    proper_s_fl1.append(s_fl1[i][0])\n",
        "\n",
        "proper_s_fl1[:100]\n",
        "type(proper_s_fl1[:100])\n",
        "\n",
        "import statistics\n",
        "from statistics import stdev\n",
        "from fractions import Fraction as fr\n",
        "\n",
        "print(np.mean(proper_s_fl1))\n",
        "print(statistics.median(proper_s_fl1))\n",
        "print(np.std(proper_s_fl1))\n",
        "print(statistics.variance(proper_s_fl1))\n",
        "\n",
        "ordered= sorted(proper_s_fl1)\n",
        "i= round(len(ordered)*0.05)\n",
        "lower = ordered[i]\n",
        "i= round(len(ordered)*0.95)\n",
        "upper= ordered[i]\n",
        "\n",
        "print(lower)\n",
        "print(upper)\n"
      ]
    },
    {
      "cell_type": "code",
      "execution_count": null,
      "id": "045993d1",
      "metadata": {
        "id": "045993d1",
        "outputId": "c037624b-58d6-49ca-e78c-a37c98bb2fc5",
        "colab": {
          "base_uri": "https://localhost:8080/"
        }
      },
      "outputs": [
        {
          "output_type": "stream",
          "name": "stdout",
          "text": [
            "135787.11931102202\n",
            "124746.3984375\n",
            "89535.53050207361\n",
            "8016628225.437895\n",
            "1172.800048828125\n",
            "294882.0\n"
          ]
        }
      ],
      "source": [
        "s = FlowCal.io.FCSData('02-blank-A11-4.fcs')\n",
        "s\n",
        "\n",
        "s_fl1 = s[:, ['FL1-H']]\n",
        "s_fl1\n",
        "\n",
        "s_fl1 = s_fl1.tolist()\n",
        "s_fl1[0][0]\n",
        "\n",
        "proper_s_fl1 = []\n",
        "for i in range(len(s_fl1)):\n",
        "    proper_s_fl1.append(s_fl1[i][0])\n",
        "\n",
        "proper_s_fl1[:100]\n",
        "type(proper_s_fl1[:100])\n",
        "\n",
        "import statistics\n",
        "from statistics import stdev\n",
        "from fractions import Fraction as fr\n",
        "\n",
        "print(np.mean(proper_s_fl1))\n",
        "print(statistics.median(proper_s_fl1))\n",
        "print(np.std(proper_s_fl1))\n",
        "print(statistics.variance(proper_s_fl1))\n",
        "\n",
        "ordered= sorted(proper_s_fl1)\n",
        "i= round(len(ordered)*0.05)\n",
        "lower = ordered[i]\n",
        "i= round(len(ordered)*0.95)\n",
        "upper= ordered[i]\n",
        "\n",
        "print(lower)\n",
        "print(upper)\n"
      ]
    },
    {
      "cell_type": "code",
      "execution_count": null,
      "id": "bd843aea",
      "metadata": {
        "id": "bd843aea",
        "outputId": "7ba1711a-101b-41a6-fe64-f6694f79bea9",
        "colab": {
          "base_uri": "https://localhost:8080/"
        }
      },
      "outputs": [
        {
          "output_type": "stream",
          "name": "stdout",
          "text": [
            "159642.51543994356\n",
            "148135.59375\n",
            "104106.2508797907\n",
            "10838135809.395445\n",
            "1623.800048828125\n",
            "342656.3125\n"
          ]
        }
      ],
      "source": [
        "s = FlowCal.io.FCSData('04-blank-A11-4.fcs')\n",
        "s\n",
        "\n",
        "s_fl1 = s[:, ['FL1-H']]\n",
        "s_fl1\n",
        "\n",
        "s_fl1 = s_fl1.tolist()\n",
        "s_fl1[0][0]\n",
        "\n",
        "proper_s_fl1 = []\n",
        "for i in range(len(s_fl1)):\n",
        "    proper_s_fl1.append(s_fl1[i][0])\n",
        "\n",
        "proper_s_fl1[:100]\n",
        "type(proper_s_fl1[:100])\n",
        "\n",
        "import statistics\n",
        "from statistics import stdev\n",
        "from fractions import Fraction as fr\n",
        "\n",
        "print(np.mean(proper_s_fl1))\n",
        "print(statistics.median(proper_s_fl1))\n",
        "print(np.std(proper_s_fl1))\n",
        "print(statistics.variance(proper_s_fl1))\n",
        "\n",
        "ordered= sorted(proper_s_fl1)\n",
        "i= round(len(ordered)*0.05)\n",
        "lower = ordered[i]\n",
        "i= round(len(ordered)*0.95)\n",
        "upper= ordered[i]\n",
        "\n",
        "print(lower)\n",
        "print(upper)\n"
      ]
    },
    {
      "cell_type": "code",
      "execution_count": null,
      "id": "893671e9",
      "metadata": {
        "id": "893671e9",
        "outputId": "b3c3202c-fd9d-4acb-cdbe-4448ccf9b347",
        "colab": {
          "base_uri": "https://localhost:8080/"
        }
      },
      "outputs": [
        {
          "output_type": "stream",
          "name": "stdout",
          "text": [
            "255636.1324652271\n",
            "228148.0\n",
            "189815.59656492728\n",
            "36030206038.06661\n",
            "2385.0\n",
            "607188.6875\n"
          ]
        }
      ],
      "source": [
        "s = FlowCal.io.FCSData('02-blank-C2-1.fcs')\n",
        "s\n",
        "\n",
        "s_fl1 = s[:, ['FL1-H']]\n",
        "s_fl1\n",
        "\n",
        "s_fl1 = s_fl1.tolist()\n",
        "s_fl1[0][0]\n",
        "\n",
        "proper_s_fl1 = []\n",
        "for i in range(len(s_fl1)):\n",
        "    proper_s_fl1.append(s_fl1[i][0])\n",
        "\n",
        "proper_s_fl1[:100]\n",
        "type(proper_s_fl1[:100])\n",
        "\n",
        "import statistics\n",
        "from statistics import stdev\n",
        "from fractions import Fraction as fr\n",
        "\n",
        "print(np.mean(proper_s_fl1))\n",
        "print(statistics.median(proper_s_fl1))\n",
        "print(np.std(proper_s_fl1))\n",
        "print(statistics.variance(proper_s_fl1))\n",
        "\n",
        "ordered= sorted(proper_s_fl1)\n",
        "i= round(len(ordered)*0.05)\n",
        "lower = ordered[i]\n",
        "i= round(len(ordered)*0.95)\n",
        "upper= ordered[i]\n",
        "\n",
        "print(lower)\n",
        "print(upper)\n"
      ]
    },
    {
      "cell_type": "code",
      "execution_count": null,
      "id": "602ae13d",
      "metadata": {
        "id": "602ae13d",
        "outputId": "7ec1fe0f-60c8-4c89-d265-521c4f95c84f",
        "colab": {
          "base_uri": "https://localhost:8080/"
        }
      },
      "outputs": [
        {
          "output_type": "stream",
          "name": "stdout",
          "text": [
            "7526.8495286741845\n",
            "527.2000122070312\n",
            "60994.57037599708\n",
            "3733817099.4660554\n",
            "270.0\n",
            "4536.7001953125\n"
          ]
        }
      ],
      "source": [
        "s = FlowCal.io.FCSData('04-blank-C2-1.fcs')\n",
        "s\n",
        "\n",
        "s_fl1 = s[:, ['FL1-H']]\n",
        "s_fl1\n",
        "\n",
        "s_fl1 = s_fl1.tolist()\n",
        "s_fl1[0][0]\n",
        "\n",
        "proper_s_fl1 = []\n",
        "for i in range(len(s_fl1)):\n",
        "    proper_s_fl1.append(s_fl1[i][0])\n",
        "\n",
        "proper_s_fl1[:100]\n",
        "type(proper_s_fl1[:100])\n",
        "\n",
        "import statistics\n",
        "from statistics import stdev\n",
        "from fractions import Fraction as fr\n",
        "\n",
        "print(np.mean(proper_s_fl1))\n",
        "print(statistics.median(proper_s_fl1))\n",
        "print(np.std(proper_s_fl1))\n",
        "print(statistics.variance(proper_s_fl1))\n",
        "\n",
        "ordered= sorted(proper_s_fl1)\n",
        "i= round(len(ordered)*0.05)\n",
        "lower = ordered[i]\n",
        "i= round(len(ordered)*0.95)\n",
        "upper= ordered[i]\n",
        "\n",
        "print(lower)\n",
        "print(upper)\n"
      ]
    },
    {
      "cell_type": "code",
      "execution_count": null,
      "id": "b61e7ae5",
      "metadata": {
        "id": "b61e7ae5",
        "outputId": "0fc2096b-5e12-4b25-c305-6d461e9ac8e6",
        "colab": {
          "base_uri": "https://localhost:8080/"
        }
      },
      "outputs": [
        {
          "output_type": "stream",
          "name": "stdout",
          "text": [
            "189954.7866053817\n",
            "190465.0546875\n",
            "106613.28500114218\n",
            "11366489786.298864\n",
            "8925.7998046875\n",
            "359992.90625\n"
          ]
        }
      ],
      "source": [
        "s = FlowCal.io.FCSData('02-blank-C2-2.fcs')\n",
        "s\n",
        "\n",
        "s_fl1 = s[:, ['FL1-H']]\n",
        "s_fl1\n",
        "\n",
        "s_fl1 = s_fl1.tolist()\n",
        "s_fl1[0][0]\n",
        "\n",
        "proper_s_fl1 = []\n",
        "for i in range(len(s_fl1)):\n",
        "    proper_s_fl1.append(s_fl1[i][0])\n",
        "\n",
        "proper_s_fl1[:100]\n",
        "type(proper_s_fl1[:100])\n",
        "\n",
        "import statistics\n",
        "from statistics import stdev\n",
        "from fractions import Fraction as fr\n",
        "\n",
        "print(np.mean(proper_s_fl1))\n",
        "print(statistics.median(proper_s_fl1))\n",
        "print(np.std(proper_s_fl1))\n",
        "print(statistics.variance(proper_s_fl1))\n",
        "\n",
        "ordered= sorted(proper_s_fl1)\n",
        "i= round(len(ordered)*0.05)\n",
        "lower = ordered[i]\n",
        "i= round(len(ordered)*0.95)\n",
        "upper= ordered[i]\n",
        "\n",
        "print(lower)\n",
        "print(upper)\n"
      ]
    },
    {
      "cell_type": "code",
      "execution_count": null,
      "id": "7c81640f",
      "metadata": {
        "id": "7c81640f",
        "outputId": "6b7a60d7-4d60-45c6-a6f8-097fa3de4d01",
        "colab": {
          "base_uri": "https://localhost:8080/"
        }
      },
      "outputs": [
        {
          "output_type": "stream",
          "name": "stdout",
          "text": [
            "246344.79762681617\n",
            "224658.703125\n",
            "171274.02187583857\n",
            "29334919599.868893\n",
            "8276.400390625\n",
            "569794.8125\n"
          ]
        }
      ],
      "source": [
        "s = FlowCal.io.FCSData('04-blank-C2-2.fcs')\n",
        "s\n",
        "\n",
        "s_fl1 = s[:, ['FL1-H']]\n",
        "s_fl1\n",
        "\n",
        "s_fl1 = s_fl1.tolist()\n",
        "s_fl1[0][0]\n",
        "\n",
        "proper_s_fl1 = []\n",
        "for i in range(len(s_fl1)):\n",
        "    proper_s_fl1.append(s_fl1[i][0])\n",
        "\n",
        "proper_s_fl1[:100]\n",
        "type(proper_s_fl1[:100])\n",
        "\n",
        "import statistics\n",
        "from statistics import stdev\n",
        "from fractions import Fraction as fr\n",
        "\n",
        "print(np.mean(proper_s_fl1))\n",
        "print(statistics.median(proper_s_fl1))\n",
        "print(np.std(proper_s_fl1))\n",
        "print(statistics.variance(proper_s_fl1))\n",
        "\n",
        "ordered= sorted(proper_s_fl1)\n",
        "i= round(len(ordered)*0.05)\n",
        "lower = ordered[i]\n",
        "i= round(len(ordered)*0.95)\n",
        "upper= ordered[i]\n",
        "\n",
        "print(lower)\n",
        "print(upper)\n"
      ]
    },
    {
      "cell_type": "code",
      "execution_count": null,
      "id": "a2046c1e",
      "metadata": {
        "id": "a2046c1e",
        "outputId": "324e82c6-90d4-4226-e990-e967fc45441a",
        "colab": {
          "base_uri": "https://localhost:8080/"
        }
      },
      "outputs": [
        {
          "output_type": "stream",
          "name": "stdout",
          "text": [
            "282683.52996241197\n",
            "265157.09375\n",
            "210015.22972044724\n",
            "44106750545.10898\n",
            "4393.2001953125\n",
            "663630.875\n"
          ]
        }
      ],
      "source": [
        "s = FlowCal.io.FCSData('02-blank-C2-3.fcs')\n",
        "s\n",
        "\n",
        "s_fl1 = s[:, ['FL1-H']]\n",
        "s_fl1\n",
        "\n",
        "s_fl1 = s_fl1.tolist()\n",
        "s_fl1[0][0]\n",
        "\n",
        "proper_s_fl1 = []\n",
        "for i in range(len(s_fl1)):\n",
        "    proper_s_fl1.append(s_fl1[i][0])\n",
        "\n",
        "proper_s_fl1[:100]\n",
        "type(proper_s_fl1[:100])\n",
        "\n",
        "import statistics\n",
        "from statistics import stdev\n",
        "from fractions import Fraction as fr\n",
        "\n",
        "print(np.mean(proper_s_fl1))\n",
        "print(statistics.median(proper_s_fl1))\n",
        "print(np.std(proper_s_fl1))\n",
        "print(statistics.variance(proper_s_fl1))\n",
        "\n",
        "ordered= sorted(proper_s_fl1)\n",
        "i= round(len(ordered)*0.05)\n",
        "lower = ordered[i]\n",
        "i= round(len(ordered)*0.95)\n",
        "upper= ordered[i]\n",
        "\n",
        "print(lower)\n",
        "print(upper)\n"
      ]
    },
    {
      "cell_type": "code",
      "execution_count": null,
      "id": "3d27eeb5",
      "metadata": {
        "id": "3d27eeb5",
        "outputId": "5c25b2ab-46a0-4998-bceb-8ca33b4b51ee",
        "colab": {
          "base_uri": "https://localhost:8080/"
        }
      },
      "outputs": [
        {
          "output_type": "stream",
          "name": "stdout",
          "text": [
            "315543.26130067796\n",
            "326247.8125\n",
            "204965.97685254112\n",
            "42011229613.69426\n",
            "5841.7001953125\n",
            "643666.0\n"
          ]
        }
      ],
      "source": [
        "s = FlowCal.io.FCSData('04-blank-C2-3.fcs')\n",
        "s\n",
        "\n",
        "s_fl1 = s[:, ['FL1-H']]\n",
        "s_fl1\n",
        "\n",
        "s_fl1 = s_fl1.tolist()\n",
        "s_fl1[0][0]\n",
        "\n",
        "proper_s_fl1 = []\n",
        "for i in range(len(s_fl1)):\n",
        "    proper_s_fl1.append(s_fl1[i][0])\n",
        "\n",
        "proper_s_fl1[:100]\n",
        "type(proper_s_fl1[:100])\n",
        "\n",
        "import statistics\n",
        "from statistics import stdev\n",
        "from fractions import Fraction as fr\n",
        "\n",
        "print(np.mean(proper_s_fl1))\n",
        "print(statistics.median(proper_s_fl1))\n",
        "print(np.std(proper_s_fl1))\n",
        "print(statistics.variance(proper_s_fl1))\n",
        "\n",
        "ordered= sorted(proper_s_fl1)\n",
        "i= round(len(ordered)*0.05)\n",
        "lower = ordered[i]\n",
        "i= round(len(ordered)*0.95)\n",
        "upper= ordered[i]\n",
        "\n",
        "print(lower)\n",
        "print(upper)\n"
      ]
    },
    {
      "cell_type": "code",
      "execution_count": null,
      "id": "b35d5bd8",
      "metadata": {
        "id": "b35d5bd8",
        "outputId": "96547bd8-b945-40be-b65f-07e4350723ea",
        "colab": {
          "base_uri": "https://localhost:8080/"
        }
      },
      "outputs": [
        {
          "output_type": "stream",
          "name": "stdout",
          "text": [
            "221031.41988303975\n",
            "217898.1484375\n",
            "139612.86212634415\n",
            "19491992514.612076\n",
            "11774.7998046875\n",
            "450687.0\n"
          ]
        }
      ],
      "source": [
        "s = FlowCal.io.FCSData('02-blank-C2-4.fcs')\n",
        "s\n",
        "\n",
        "s_fl1 = s[:, ['FL1-H']]\n",
        "s_fl1\n",
        "\n",
        "s_fl1 = s_fl1.tolist()\n",
        "s_fl1[0][0]\n",
        "\n",
        "proper_s_fl1 = []\n",
        "for i in range(len(s_fl1)):\n",
        "    proper_s_fl1.append(s_fl1[i][0])\n",
        "\n",
        "proper_s_fl1[:100]\n",
        "type(proper_s_fl1[:100])\n",
        "\n",
        "import statistics\n",
        "from statistics import stdev\n",
        "from fractions import Fraction as fr\n",
        "\n",
        "print(np.mean(proper_s_fl1))\n",
        "print(statistics.median(proper_s_fl1))\n",
        "print(np.std(proper_s_fl1))\n",
        "print(statistics.variance(proper_s_fl1))\n",
        "\n",
        "ordered= sorted(proper_s_fl1)\n",
        "i= round(len(ordered)*0.05)\n",
        "lower = ordered[i]\n",
        "i= round(len(ordered)*0.95)\n",
        "upper= ordered[i]\n",
        "\n",
        "print(lower)\n",
        "print(upper)\n"
      ]
    },
    {
      "cell_type": "code",
      "execution_count": null,
      "id": "32bd377b",
      "metadata": {
        "id": "32bd377b",
        "outputId": "3ca0ec51-92ca-4abb-bdc9-b3d0a8a64f3f",
        "colab": {
          "base_uri": "https://localhost:8080/"
        }
      },
      "outputs": [
        {
          "output_type": "stream",
          "name": "stdout",
          "text": [
            "268161.09980248776\n",
            "280327.59375\n",
            "188685.1415232752\n",
            "35602353540.92152\n",
            "3217.699951171875\n",
            "572991.6875\n"
          ]
        }
      ],
      "source": [
        "s = FlowCal.io.FCSData('04-blank-C2-4.fcs')\n",
        "s\n",
        "\n",
        "s_fl1 = s[:, ['FL1-H']]\n",
        "s_fl1\n",
        "\n",
        "s_fl1 = s_fl1.tolist()\n",
        "s_fl1[0][0]\n",
        "\n",
        "proper_s_fl1 = []\n",
        "for i in range(len(s_fl1)):\n",
        "    proper_s_fl1.append(s_fl1[i][0])\n",
        "\n",
        "proper_s_fl1[:100]\n",
        "type(proper_s_fl1[:100])\n",
        "\n",
        "import statistics\n",
        "from statistics import stdev\n",
        "from fractions import Fraction as fr\n",
        "\n",
        "print(np.mean(proper_s_fl1))\n",
        "print(statistics.median(proper_s_fl1))\n",
        "print(np.std(proper_s_fl1))\n",
        "print(statistics.variance(proper_s_fl1))\n",
        "\n",
        "ordered= sorted(proper_s_fl1)\n",
        "i= round(len(ordered)*0.05)\n",
        "lower = ordered[i]\n",
        "i= round(len(ordered)*0.95)\n",
        "upper= ordered[i]\n",
        "\n",
        "print(lower)\n",
        "print(upper)\n"
      ]
    },
    {
      "cell_type": "code",
      "execution_count": null,
      "id": "9bdb6e72",
      "metadata": {
        "id": "9bdb6e72",
        "outputId": "5885077d-6f01-420a-c187-4c5a0276239b",
        "colab": {
          "base_uri": "https://localhost:8080/"
        }
      },
      "outputs": [
        {
          "output_type": "stream",
          "name": "stdout",
          "text": [
            "125774.14098139488\n",
            "114126.6015625\n",
            "86696.62246571355\n",
            "7516351019.327455\n",
            "4240.2001953125\n",
            "276114.8125\n"
          ]
        }
      ],
      "source": [
        "s = FlowCal.io.FCSData('02-blank-C3-1.fcs')\n",
        "s\n",
        "\n",
        "s_fl1 = s[:, ['FL1-H']]\n",
        "s_fl1\n",
        "\n",
        "s_fl1 = s_fl1.tolist()\n",
        "s_fl1[0][0]\n",
        "\n",
        "proper_s_fl1 = []\n",
        "for i in range(len(s_fl1)):\n",
        "    proper_s_fl1.append(s_fl1[i][0])\n",
        "\n",
        "proper_s_fl1[:100]\n",
        "type(proper_s_fl1[:100])\n",
        "\n",
        "import statistics\n",
        "from statistics import stdev\n",
        "from fractions import Fraction as fr\n",
        "\n",
        "print(np.mean(proper_s_fl1))\n",
        "print(statistics.median(proper_s_fl1))\n",
        "print(np.std(proper_s_fl1))\n",
        "print(statistics.variance(proper_s_fl1))\n",
        "\n",
        "ordered= sorted(proper_s_fl1)\n",
        "i= round(len(ordered)*0.05)\n",
        "lower = ordered[i]\n",
        "i= round(len(ordered)*0.95)\n",
        "upper= ordered[i]\n",
        "\n",
        "print(lower)\n",
        "print(upper)\n"
      ]
    },
    {
      "cell_type": "code",
      "execution_count": null,
      "id": "ffac1daf",
      "metadata": {
        "id": "ffac1daf",
        "outputId": "fc2a5927-de35-406d-f114-0f72977c8cad",
        "colab": {
          "base_uri": "https://localhost:8080/"
        }
      },
      "outputs": [
        {
          "output_type": "stream",
          "name": "stdout",
          "text": [
            "2306.333016444962\n",
            "471.20001220703125\n",
            "21334.642158533694\n",
            "456987623.856814\n",
            "283.5\n",
            "1329.0999755859375\n"
          ]
        }
      ],
      "source": [
        "s = FlowCal.io.FCSData('04-blank-C3-1.fcs')\n",
        "s\n",
        "\n",
        "s_fl1 = s[:, ['FL1-H']]\n",
        "s_fl1\n",
        "\n",
        "s_fl1 = s_fl1.tolist()\n",
        "s_fl1[0][0]\n",
        "\n",
        "proper_s_fl1 = []\n",
        "for i in range(len(s_fl1)):\n",
        "    proper_s_fl1.append(s_fl1[i][0])\n",
        "\n",
        "proper_s_fl1[:100]\n",
        "type(proper_s_fl1[:100])\n",
        "\n",
        "import statistics\n",
        "from statistics import stdev\n",
        "from fractions import Fraction as fr\n",
        "\n",
        "print(np.mean(proper_s_fl1))\n",
        "print(statistics.median(proper_s_fl1))\n",
        "print(np.std(proper_s_fl1))\n",
        "print(statistics.variance(proper_s_fl1))\n",
        "\n",
        "ordered= sorted(proper_s_fl1)\n",
        "i= round(len(ordered)*0.05)\n",
        "lower = ordered[i]\n",
        "i= round(len(ordered)*0.95)\n",
        "upper= ordered[i]\n",
        "\n",
        "print(lower)\n",
        "print(upper)\n"
      ]
    },
    {
      "cell_type": "code",
      "execution_count": null,
      "id": "4dd337c6",
      "metadata": {
        "id": "4dd337c6",
        "outputId": "d109ecd3-d620-4f37-e2a5-201102513bc9",
        "colab": {
          "base_uri": "https://localhost:8080/"
        }
      },
      "outputs": [
        {
          "output_type": "stream",
          "name": "stdout",
          "text": [
            "130643.12799342652\n",
            "130197.0\n",
            "71209.86753514406\n",
            "5070883726.55973\n",
            "6473.2001953125\n",
            "244827.09375\n"
          ]
        }
      ],
      "source": [
        "s = FlowCal.io.FCSData('02-blank-C3-2.fcs')\n",
        "s\n",
        "\n",
        "s_fl1 = s[:, ['FL1-H']]\n",
        "s_fl1\n",
        "\n",
        "s_fl1 = s_fl1.tolist()\n",
        "s_fl1[0][0]\n",
        "\n",
        "proper_s_fl1 = []\n",
        "for i in range(len(s_fl1)):\n",
        "    proper_s_fl1.append(s_fl1[i][0])\n",
        "\n",
        "proper_s_fl1[:100]\n",
        "type(proper_s_fl1[:100])\n",
        "\n",
        "import statistics\n",
        "from statistics import stdev\n",
        "from fractions import Fraction as fr\n",
        "\n",
        "print(np.mean(proper_s_fl1))\n",
        "print(statistics.median(proper_s_fl1))\n",
        "print(np.std(proper_s_fl1))\n",
        "print(statistics.variance(proper_s_fl1))\n",
        "\n",
        "ordered= sorted(proper_s_fl1)\n",
        "i= round(len(ordered)*0.05)\n",
        "lower = ordered[i]\n",
        "i= round(len(ordered)*0.95)\n",
        "upper= ordered[i]\n",
        "\n",
        "print(lower)\n",
        "print(upper)\n"
      ]
    },
    {
      "cell_type": "code",
      "execution_count": null,
      "id": "65503b5e",
      "metadata": {
        "id": "65503b5e",
        "outputId": "bc135572-3e71-40b6-9748-d06ce94e5a1f",
        "colab": {
          "base_uri": "https://localhost:8080/"
        }
      },
      "outputs": [
        {
          "output_type": "stream",
          "name": "stdout",
          "text": [
            "165303.84795578412\n",
            "149753.1484375\n",
            "107458.42234818457\n",
            "11547358425.614012\n",
            "7797.2998046875\n",
            "368496.5\n"
          ]
        }
      ],
      "source": [
        "s = FlowCal.io.FCSData('04-blank-C3-2.fcs')\n",
        "s\n",
        "\n",
        "s_fl1 = s[:, ['FL1-H']]\n",
        "s_fl1\n",
        "\n",
        "s_fl1 = s_fl1.tolist()\n",
        "s_fl1[0][0]\n",
        "\n",
        "proper_s_fl1 = []\n",
        "for i in range(len(s_fl1)):\n",
        "    proper_s_fl1.append(s_fl1[i][0])\n",
        "\n",
        "proper_s_fl1[:100]\n",
        "type(proper_s_fl1[:100])\n",
        "\n",
        "import statistics\n",
        "from statistics import stdev\n",
        "from fractions import Fraction as fr\n",
        "\n",
        "print(np.mean(proper_s_fl1))\n",
        "print(statistics.median(proper_s_fl1))\n",
        "print(np.std(proper_s_fl1))\n",
        "print(statistics.variance(proper_s_fl1))\n",
        "\n",
        "ordered= sorted(proper_s_fl1)\n",
        "i= round(len(ordered)*0.05)\n",
        "lower = ordered[i]\n",
        "i= round(len(ordered)*0.95)\n",
        "upper= ordered[i]\n",
        "\n",
        "print(lower)\n",
        "print(upper)\n"
      ]
    },
    {
      "cell_type": "code",
      "source": [
        "import FlowCal\n",
        "import numpy as np"
      ],
      "metadata": {
        "id": "RzWa6-lnFhwT"
      },
      "id": "RzWa6-lnFhwT",
      "execution_count": null,
      "outputs": []
    },
    {
      "cell_type": "code",
      "execution_count": null,
      "id": "7d011616",
      "metadata": {
        "id": "7d011616",
        "outputId": "6ae32069-76e7-454e-b5bd-f2ff850eb812",
        "colab": {
          "base_uri": "https://localhost:8080/"
        }
      },
      "outputs": [
        {
          "output_type": "stream",
          "name": "stdout",
          "text": [
            "223050.53720396015\n",
            "202060.8046875\n",
            "148983.41080089647\n",
            "22196212406.497627\n",
            "7019.2998046875\n",
            "502961.90625\n"
          ]
        }
      ],
      "source": [
        "s = FlowCal.io.FCSData('02-blank-C3-3.fcs')\n",
        "s\n",
        "\n",
        "s_fl1 = s[:, ['FL1-H']]\n",
        "s_fl1\n",
        "\n",
        "s_fl1 = s_fl1.tolist()\n",
        "s_fl1[0][0]\n",
        "\n",
        "proper_s_fl1 = []\n",
        "for i in range(len(s_fl1)):\n",
        "    proper_s_fl1.append(s_fl1[i][0])\n",
        "\n",
        "proper_s_fl1[:100]\n",
        "type(proper_s_fl1[:100])\n",
        "\n",
        "import statistics\n",
        "from statistics import stdev\n",
        "from fractions import Fraction as fr\n",
        "\n",
        "print(np.mean(proper_s_fl1))\n",
        "print(statistics.median(proper_s_fl1))\n",
        "print(np.std(proper_s_fl1))\n",
        "print(statistics.variance(proper_s_fl1))\n",
        "\n",
        "ordered= sorted(proper_s_fl1)\n",
        "i= round(len(ordered)*0.05)\n",
        "lower = ordered[i]\n",
        "i= round(len(ordered)*0.95)\n",
        "upper= ordered[i]\n",
        "\n",
        "print(lower)\n",
        "print(upper)\n"
      ]
    },
    {
      "cell_type": "code",
      "execution_count": null,
      "id": "282c11b5",
      "metadata": {
        "id": "282c11b5",
        "outputId": "c86e3657-34f0-484c-e67e-1a6abe4bd16d",
        "colab": {
          "base_uri": "https://localhost:8080/"
        }
      },
      "outputs": [
        {
          "output_type": "stream",
          "name": "stdout",
          "text": [
            "219298.54425751482\n",
            "223773.1015625\n",
            "123049.3718552071\n",
            "15141219814.371382\n",
            "9141.2998046875\n",
            "415124.40625\n"
          ]
        }
      ],
      "source": [
        "s = FlowCal.io.FCSData('04-blank-C3-3.fcs')\n",
        "s\n",
        "\n",
        "s_fl1 = s[:, ['FL1-H']]\n",
        "s_fl1\n",
        "\n",
        "s_fl1 = s_fl1.tolist()\n",
        "s_fl1[0][0]\n",
        "\n",
        "proper_s_fl1 = []\n",
        "for i in range(len(s_fl1)):\n",
        "    proper_s_fl1.append(s_fl1[i][0])\n",
        "\n",
        "proper_s_fl1[:100]\n",
        "type(proper_s_fl1[:100])\n",
        "\n",
        "import statistics\n",
        "from statistics import stdev\n",
        "from fractions import Fraction as fr\n",
        "\n",
        "print(np.mean(proper_s_fl1))\n",
        "print(statistics.median(proper_s_fl1))\n",
        "print(np.std(proper_s_fl1))\n",
        "print(statistics.variance(proper_s_fl1))\n",
        "\n",
        "ordered= sorted(proper_s_fl1)\n",
        "i= round(len(ordered)*0.05)\n",
        "lower = ordered[i]\n",
        "i= round(len(ordered)*0.95)\n",
        "upper= ordered[i]\n",
        "\n",
        "print(lower)\n",
        "print(upper)\n"
      ]
    },
    {
      "cell_type": "code",
      "execution_count": null,
      "id": "9c6b6042",
      "metadata": {
        "id": "9c6b6042",
        "outputId": "ffc30440-c1e3-462c-8257-72d076b86de7",
        "colab": {
          "base_uri": "https://localhost:8080/"
        }
      },
      "outputs": [
        {
          "output_type": "stream",
          "name": "stdout",
          "text": [
            "172504.201412073\n",
            "162370.25\n",
            "117052.87588634105\n",
            "13701491671.1284\n",
            "11110.7001953125\n",
            "379164.8125\n"
          ]
        }
      ],
      "source": [
        "s = FlowCal.io.FCSData('02-blank-C3-4.fcs')\n",
        "s\n",
        "\n",
        "s_fl1 = s[:, ['FL1-H']]\n",
        "s_fl1\n",
        "\n",
        "s_fl1 = s_fl1.tolist()\n",
        "s_fl1[0][0]\n",
        "\n",
        "proper_s_fl1 = []\n",
        "for i in range(len(s_fl1)):\n",
        "    proper_s_fl1.append(s_fl1[i][0])\n",
        "\n",
        "proper_s_fl1[:100]\n",
        "type(proper_s_fl1[:100])\n",
        "\n",
        "import statistics\n",
        "from statistics import stdev\n",
        "from fractions import Fraction as fr\n",
        "\n",
        "print(np.mean(proper_s_fl1))\n",
        "print(statistics.median(proper_s_fl1))\n",
        "print(np.std(proper_s_fl1))\n",
        "print(statistics.variance(proper_s_fl1))\n",
        "\n",
        "ordered= sorted(proper_s_fl1)\n",
        "i= round(len(ordered)*0.05)\n",
        "lower = ordered[i]\n",
        "i= round(len(ordered)*0.95)\n",
        "upper= ordered[i]\n",
        "\n",
        "print(lower)\n",
        "print(upper)\n"
      ]
    },
    {
      "cell_type": "code",
      "execution_count": null,
      "id": "f2da8c92",
      "metadata": {
        "id": "f2da8c92",
        "outputId": "a04c8abd-05df-4f9c-e1c9-c0c3b6166505",
        "colab": {
          "base_uri": "https://localhost:8080/"
        }
      },
      "outputs": [
        {
          "output_type": "stream",
          "name": "stdout",
          "text": [
            "205541.77714338922\n",
            "213370.296875\n",
            "129962.87797588481\n",
            "16890460858.827911\n",
            "6338.60009765625\n",
            "412741.59375\n"
          ]
        }
      ],
      "source": [
        "s = FlowCal.io.FCSData('04-blank-C3-4.fcs')\n",
        "s\n",
        "\n",
        "s_fl1 = s[:, ['FL1-H']]\n",
        "s_fl1\n",
        "\n",
        "s_fl1 = s_fl1.tolist()\n",
        "s_fl1[0][0]\n",
        "\n",
        "proper_s_fl1 = []\n",
        "for i in range(len(s_fl1)):\n",
        "    proper_s_fl1.append(s_fl1[i][0])\n",
        "\n",
        "proper_s_fl1[:100]\n",
        "type(proper_s_fl1[:100])\n",
        "\n",
        "import statistics\n",
        "from statistics import stdev\n",
        "from fractions import Fraction as fr\n",
        "\n",
        "print(np.mean(proper_s_fl1))\n",
        "print(statistics.median(proper_s_fl1))\n",
        "print(np.std(proper_s_fl1))\n",
        "print(statistics.variance(proper_s_fl1))\n",
        "\n",
        "ordered= sorted(proper_s_fl1)\n",
        "i= round(len(ordered)*0.05)\n",
        "lower = ordered[i]\n",
        "i= round(len(ordered)*0.95)\n",
        "upper= ordered[i]\n",
        "\n",
        "print(lower)\n",
        "print(upper)\n"
      ]
    },
    {
      "cell_type": "code",
      "execution_count": null,
      "id": "5500311f",
      "metadata": {
        "id": "5500311f",
        "outputId": "5d9f28f2-1001-4f84-bb31-9f7deecf6721",
        "colab": {
          "base_uri": "https://localhost:8080/"
        }
      },
      "outputs": [
        {
          "output_type": "stream",
          "name": "stdout",
          "text": [
            "175984.3198038417\n",
            "161037.40625\n",
            "126744.09876782227\n",
            "16064136456.950497\n",
            "1176.0\n",
            "400688.5\n"
          ]
        }
      ],
      "source": [
        "s = FlowCal.io.FCSData('02-blank-C4-1.fcs')\n",
        "s\n",
        "\n",
        "s_fl1 = s[:, ['FL1-H']]\n",
        "s_fl1\n",
        "\n",
        "s_fl1 = s_fl1.tolist()\n",
        "s_fl1[0][0]\n",
        "\n",
        "proper_s_fl1 = []\n",
        "for i in range(len(s_fl1)):\n",
        "    proper_s_fl1.append(s_fl1[i][0])\n",
        "\n",
        "proper_s_fl1[:100]\n",
        "type(proper_s_fl1[:100])\n",
        "\n",
        "import statistics\n",
        "from statistics import stdev\n",
        "from fractions import Fraction as fr\n",
        "\n",
        "print(np.mean(proper_s_fl1))\n",
        "print(statistics.median(proper_s_fl1))\n",
        "print(np.std(proper_s_fl1))\n",
        "print(statistics.variance(proper_s_fl1))\n",
        "\n",
        "ordered= sorted(proper_s_fl1)\n",
        "i= round(len(ordered)*0.05)\n",
        "lower = ordered[i]\n",
        "i= round(len(ordered)*0.95)\n",
        "upper= ordered[i]\n",
        "\n",
        "print(lower)\n",
        "print(upper)\n"
      ]
    },
    {
      "cell_type": "code",
      "execution_count": null,
      "id": "c7b39282",
      "metadata": {
        "id": "c7b39282",
        "outputId": "9c74b473-192d-40d7-b4d2-d0bf512f061b",
        "colab": {
          "base_uri": "https://localhost:8080/"
        }
      },
      "outputs": [
        {
          "output_type": "stream",
          "name": "stdout",
          "text": [
            "5902.089533620641\n",
            "452.29998779296875\n",
            "43406.988991180966\n",
            "1889643922.0400422\n",
            "248.60000610351562\n",
            "1668.800048828125\n"
          ]
        }
      ],
      "source": [
        "s = FlowCal.io.FCSData('04-blank-C4-1.fcs')\n",
        "s\n",
        "\n",
        "s_fl1 = s[:, ['FL1-H']]\n",
        "s_fl1\n",
        "\n",
        "s_fl1 = s_fl1.tolist()\n",
        "s_fl1[0][0]\n",
        "\n",
        "proper_s_fl1 = []\n",
        "for i in range(len(s_fl1)):\n",
        "    proper_s_fl1.append(s_fl1[i][0])\n",
        "\n",
        "proper_s_fl1[:100]\n",
        "type(proper_s_fl1[:100])\n",
        "\n",
        "import statistics\n",
        "from statistics import stdev\n",
        "from fractions import Fraction as fr\n",
        "\n",
        "print(np.mean(proper_s_fl1))\n",
        "print(statistics.median(proper_s_fl1))\n",
        "print(np.std(proper_s_fl1))\n",
        "print(statistics.variance(proper_s_fl1))\n",
        "\n",
        "ordered= sorted(proper_s_fl1)\n",
        "i= round(len(ordered)*0.05)\n",
        "lower = ordered[i]\n",
        "i= round(len(ordered)*0.95)\n",
        "upper= ordered[i]\n",
        "\n",
        "print(lower)\n",
        "print(upper)\n"
      ]
    },
    {
      "cell_type": "code",
      "execution_count": null,
      "id": "dd2c95d6",
      "metadata": {
        "id": "dd2c95d6",
        "outputId": "a341a240-f43b-4398-d1d0-4b26d5c547d7",
        "colab": {
          "base_uri": "https://localhost:8080/"
        }
      },
      "outputs": [
        {
          "output_type": "stream",
          "name": "stdout",
          "text": [
            "140104.1885126877\n",
            "141436.5\n",
            "82073.75793182105\n",
            "6736148807.161701\n",
            "1694.300048828125\n",
            "272330.6875\n"
          ]
        }
      ],
      "source": [
        "s = FlowCal.io.FCSData('02-blank-C4-2.fcs')\n",
        "s\n",
        "\n",
        "s_fl1 = s[:, ['FL1-H']]\n",
        "s_fl1\n",
        "\n",
        "s_fl1 = s_fl1.tolist()\n",
        "s_fl1[0][0]\n",
        "\n",
        "proper_s_fl1 = []\n",
        "for i in range(len(s_fl1)):\n",
        "    proper_s_fl1.append(s_fl1[i][0])\n",
        "\n",
        "proper_s_fl1[:100]\n",
        "type(proper_s_fl1[:100])\n",
        "\n",
        "import statistics\n",
        "from statistics import stdev\n",
        "from fractions import Fraction as fr\n",
        "\n",
        "print(np.mean(proper_s_fl1))\n",
        "print(statistics.median(proper_s_fl1))\n",
        "print(np.std(proper_s_fl1))\n",
        "print(statistics.variance(proper_s_fl1))\n",
        "\n",
        "ordered= sorted(proper_s_fl1)\n",
        "i= round(len(ordered)*0.05)\n",
        "lower = ordered[i]\n",
        "i= round(len(ordered)*0.95)\n",
        "upper= ordered[i]\n",
        "\n",
        "print(lower)\n",
        "print(upper)\n"
      ]
    },
    {
      "cell_type": "code",
      "execution_count": null,
      "id": "dc5fa843",
      "metadata": {
        "id": "dc5fa843",
        "outputId": "e573a4cb-d46b-4f91-8a3e-0a5a7a060d12",
        "colab": {
          "base_uri": "https://localhost:8080/"
        }
      },
      "outputs": [
        {
          "output_type": "stream",
          "name": "stdout",
          "text": [
            "194466.97729676662\n",
            "173127.25\n",
            "137542.6789973639\n",
            "18918042248.71237\n",
            "2497.10009765625\n",
            "453289.09375\n"
          ]
        }
      ],
      "source": [
        "s = FlowCal.io.FCSData('04-blank-C4-2.fcs')\n",
        "s\n",
        "\n",
        "s_fl1 = s[:, ['FL1-H']]\n",
        "s_fl1\n",
        "\n",
        "s_fl1 = s_fl1.tolist()\n",
        "s_fl1[0][0]\n",
        "\n",
        "proper_s_fl1 = []\n",
        "for i in range(len(s_fl1)):\n",
        "    proper_s_fl1.append(s_fl1[i][0])\n",
        "\n",
        "proper_s_fl1[:100]\n",
        "type(proper_s_fl1[:100])\n",
        "\n",
        "import statistics\n",
        "from statistics import stdev\n",
        "from fractions import Fraction as fr\n",
        "\n",
        "print(np.mean(proper_s_fl1))\n",
        "print(statistics.median(proper_s_fl1))\n",
        "print(np.std(proper_s_fl1))\n",
        "print(statistics.variance(proper_s_fl1))\n",
        "\n",
        "ordered= sorted(proper_s_fl1)\n",
        "i= round(len(ordered)*0.05)\n",
        "lower = ordered[i]\n",
        "i= round(len(ordered)*0.95)\n",
        "upper= ordered[i]\n",
        "\n",
        "print(lower)\n",
        "print(upper)\n"
      ]
    },
    {
      "cell_type": "code",
      "execution_count": null,
      "id": "08b9efdb",
      "metadata": {
        "id": "08b9efdb",
        "outputId": "19ef5ccb-8e37-4a64-c00e-d64fce4caf24",
        "colab": {
          "base_uri": "https://localhost:8080/"
        }
      },
      "outputs": [
        {
          "output_type": "stream",
          "name": "stdout",
          "text": [
            "216885.38841017272\n",
            "194011.40625\n",
            "167560.00008235042\n",
            "28076551699.90607\n",
            "5089.0\n",
            "528783.625\n"
          ]
        }
      ],
      "source": [
        "s = FlowCal.io.FCSData('02-blank-C4-3.fcs')\n",
        "s\n",
        "\n",
        "s_fl1 = s[:, ['FL1-H']]\n",
        "s_fl1\n",
        "\n",
        "s_fl1 = s_fl1.tolist()\n",
        "s_fl1[0][0]\n",
        "\n",
        "proper_s_fl1 = []\n",
        "for i in range(len(s_fl1)):\n",
        "    proper_s_fl1.append(s_fl1[i][0])\n",
        "\n",
        "proper_s_fl1[:100]\n",
        "type(proper_s_fl1[:100])\n",
        "\n",
        "import statistics\n",
        "from statistics import stdev\n",
        "from fractions import Fraction as fr\n",
        "\n",
        "print(np.mean(proper_s_fl1))\n",
        "print(statistics.median(proper_s_fl1))\n",
        "print(np.std(proper_s_fl1))\n",
        "print(statistics.variance(proper_s_fl1))\n",
        "\n",
        "ordered= sorted(proper_s_fl1)\n",
        "i= round(len(ordered)*0.05)\n",
        "lower = ordered[i]\n",
        "i= round(len(ordered)*0.95)\n",
        "upper= ordered[i]\n",
        "\n",
        "print(lower)\n",
        "print(upper)\n"
      ]
    },
    {
      "cell_type": "code",
      "execution_count": null,
      "id": "db86da07",
      "metadata": {
        "id": "db86da07",
        "outputId": "ab0bb2a9-98a8-4617-f456-c98ccce5b8b9",
        "colab": {
          "base_uri": "https://localhost:8080/"
        }
      },
      "outputs": [
        {
          "output_type": "stream",
          "name": "stdout",
          "text": [
            "237868.75346944958\n",
            "246492.0\n",
            "156181.0715079064\n",
            "24392649663.01629\n",
            "3869.60009765625\n",
            "489919.59375\n"
          ]
        }
      ],
      "source": [
        "s = FlowCal.io.FCSData('04-blank-C4-3.fcs')\n",
        "s\n",
        "\n",
        "s_fl1 = s[:, ['FL1-H']]\n",
        "s_fl1\n",
        "\n",
        "s_fl1 = s_fl1.tolist()\n",
        "s_fl1[0][0]\n",
        "\n",
        "proper_s_fl1 = []\n",
        "for i in range(len(s_fl1)):\n",
        "    proper_s_fl1.append(s_fl1[i][0])\n",
        "\n",
        "proper_s_fl1[:100]\n",
        "type(proper_s_fl1[:100])\n",
        "\n",
        "import statistics\n",
        "from statistics import stdev\n",
        "from fractions import Fraction as fr\n",
        "\n",
        "print(np.mean(proper_s_fl1))\n",
        "print(statistics.median(proper_s_fl1))\n",
        "print(np.std(proper_s_fl1))\n",
        "print(statistics.variance(proper_s_fl1))\n",
        "\n",
        "ordered= sorted(proper_s_fl1)\n",
        "i= round(len(ordered)*0.05)\n",
        "lower = ordered[i]\n",
        "i= round(len(ordered)*0.95)\n",
        "upper= ordered[i]\n",
        "\n",
        "print(lower)\n",
        "print(upper)\n"
      ]
    },
    {
      "cell_type": "code",
      "execution_count": null,
      "id": "d767f7bc",
      "metadata": {
        "id": "d767f7bc",
        "outputId": "a92aecd4-d543-423a-98a9-bc8576a6c61f",
        "colab": {
          "base_uri": "https://localhost:8080/"
        }
      },
      "outputs": [
        {
          "output_type": "stream",
          "name": "stdout",
          "text": [
            "189936.80294201884\n",
            "170748.5\n",
            "145905.24856804116\n",
            "21288502879.0129\n",
            "8142.10009765625\n",
            "457773.6875\n"
          ]
        }
      ],
      "source": [
        "s = FlowCal.io.FCSData('02-blank-C4-4.fcs')\n",
        "s\n",
        "\n",
        "s_fl1 = s[:, ['FL1-H']]\n",
        "s_fl1\n",
        "\n",
        "s_fl1 = s_fl1.tolist()\n",
        "s_fl1[0][0]\n",
        "\n",
        "proper_s_fl1 = []\n",
        "for i in range(len(s_fl1)):\n",
        "    proper_s_fl1.append(s_fl1[i][0])\n",
        "\n",
        "proper_s_fl1[:100]\n",
        "type(proper_s_fl1[:100])\n",
        "\n",
        "import statistics\n",
        "from statistics import stdev\n",
        "from fractions import Fraction as fr\n",
        "\n",
        "print(np.mean(proper_s_fl1))\n",
        "print(statistics.median(proper_s_fl1))\n",
        "print(np.std(proper_s_fl1))\n",
        "print(statistics.variance(proper_s_fl1))\n",
        "\n",
        "ordered= sorted(proper_s_fl1)\n",
        "i= round(len(ordered)*0.05)\n",
        "lower = ordered[i]\n",
        "i= round(len(ordered)*0.95)\n",
        "upper= ordered[i]\n",
        "\n",
        "print(lower)\n",
        "print(upper)\n"
      ]
    },
    {
      "cell_type": "code",
      "execution_count": null,
      "id": "abbfef5b",
      "metadata": {
        "id": "abbfef5b",
        "outputId": "10127c93-d8ba-4c66-d0f2-0ded4451cddc",
        "colab": {
          "base_uri": "https://localhost:8080/"
        }
      },
      "outputs": [
        {
          "output_type": "stream",
          "name": "stdout",
          "text": [
            "218273.70597074655\n",
            "219492.0\n",
            "161806.01976531572\n",
            "26181376987.013306\n",
            "5050.7001953125\n",
            "494529.3125\n"
          ]
        }
      ],
      "source": [
        "s = FlowCal.io.FCSData('04-blank-C4-4.fcs')\n",
        "s\n",
        "\n",
        "s_fl1 = s[:, ['FL1-H']]\n",
        "s_fl1\n",
        "\n",
        "s_fl1 = s_fl1.tolist()\n",
        "s_fl1[0][0]\n",
        "\n",
        "proper_s_fl1 = []\n",
        "for i in range(len(s_fl1)):\n",
        "    proper_s_fl1.append(s_fl1[i][0])\n",
        "\n",
        "proper_s_fl1[:100]\n",
        "type(proper_s_fl1[:100])\n",
        "\n",
        "import statistics\n",
        "from statistics import stdev\n",
        "from fractions import Fraction as fr\n",
        "\n",
        "print(np.mean(proper_s_fl1))\n",
        "print(statistics.median(proper_s_fl1))\n",
        "print(np.std(proper_s_fl1))\n",
        "print(statistics.variance(proper_s_fl1))\n",
        "\n",
        "ordered= sorted(proper_s_fl1)\n",
        "i= round(len(ordered)*0.05)\n",
        "lower = ordered[i]\n",
        "i= round(len(ordered)*0.95)\n",
        "upper= ordered[i]\n",
        "\n",
        "print(lower)\n",
        "print(upper)\n"
      ]
    },
    {
      "cell_type": "code",
      "execution_count": null,
      "id": "b3295683",
      "metadata": {
        "id": "b3295683",
        "outputId": "bf05bc16-4297-4f70-92c8-00c56530f236",
        "colab": {
          "base_uri": "https://localhost:8080/"
        }
      },
      "outputs": [
        {
          "output_type": "stream",
          "name": "stdout",
          "text": [
            "13302.030652652355\n",
            "3420.60009765625\n",
            "49532.704923716\n",
            "2453501441.829161\n",
            "420.1000061035156\n",
            "53466.8984375\n"
          ]
        }
      ],
      "source": [
        "s = FlowCal.io.FCSData('02-blank-C5-1.fcs')\n",
        "s\n",
        "\n",
        "s_fl1 = s[:, ['FL1-H']]\n",
        "s_fl1\n",
        "\n",
        "s_fl1 = s_fl1.tolist()\n",
        "s_fl1[0][0]\n",
        "\n",
        "proper_s_fl1 = []\n",
        "for i in range(len(s_fl1)):\n",
        "    proper_s_fl1.append(s_fl1[i][0])\n",
        "\n",
        "proper_s_fl1[:100]\n",
        "type(proper_s_fl1[:100])\n",
        "\n",
        "import statistics\n",
        "from statistics import stdev\n",
        "from fractions import Fraction as fr\n",
        "\n",
        "print(np.mean(proper_s_fl1))\n",
        "print(statistics.median(proper_s_fl1))\n",
        "print(np.std(proper_s_fl1))\n",
        "print(statistics.variance(proper_s_fl1))\n",
        "\n",
        "ordered= sorted(proper_s_fl1)\n",
        "i= round(len(ordered)*0.05)\n",
        "lower = ordered[i]\n",
        "i= round(len(ordered)*0.95)\n",
        "upper= ordered[i]\n",
        "\n",
        "print(lower)\n",
        "print(upper)\n"
      ]
    },
    {
      "cell_type": "code",
      "execution_count": null,
      "id": "7ec26bbf",
      "metadata": {
        "id": "7ec26bbf",
        "outputId": "0ede58ed-0d51-4028-9871-53e023cd7960",
        "colab": {
          "base_uri": "https://localhost:8080/"
        }
      },
      "outputs": [
        {
          "output_type": "stream",
          "name": "stdout",
          "text": [
            "8666.034769700213\n",
            "485.25\n",
            "62496.26679587108\n",
            "3915332955.9962997\n",
            "278.5\n",
            "1912.5\n"
          ]
        }
      ],
      "source": [
        "s = FlowCal.io.FCSData('04-blank-C5-1.fcs')\n",
        "s\n",
        "\n",
        "s_fl1 = s[:, ['FL1-H']]\n",
        "s_fl1\n",
        "\n",
        "s_fl1 = s_fl1.tolist()\n",
        "s_fl1[0][0]\n",
        "\n",
        "proper_s_fl1 = []\n",
        "for i in range(len(s_fl1)):\n",
        "    proper_s_fl1.append(s_fl1[i][0])\n",
        "\n",
        "proper_s_fl1[:100]\n",
        "type(proper_s_fl1[:100])\n",
        "\n",
        "import statistics\n",
        "from statistics import stdev\n",
        "from fractions import Fraction as fr\n",
        "\n",
        "print(np.mean(proper_s_fl1))\n",
        "print(statistics.median(proper_s_fl1))\n",
        "print(np.std(proper_s_fl1))\n",
        "print(statistics.variance(proper_s_fl1))\n",
        "\n",
        "ordered= sorted(proper_s_fl1)\n",
        "i= round(len(ordered)*0.05)\n",
        "lower = ordered[i]\n",
        "i= round(len(ordered)*0.95)\n",
        "upper= ordered[i]\n",
        "\n",
        "print(lower)\n",
        "print(upper)\n"
      ]
    },
    {
      "cell_type": "code",
      "execution_count": null,
      "id": "7f21764f",
      "metadata": {
        "id": "7f21764f",
        "outputId": "3c22bc16-e6c6-411e-a174-6e30b1acfd95",
        "colab": {
          "base_uri": "https://localhost:8080/"
        }
      },
      "outputs": [
        {
          "output_type": "stream",
          "name": "stdout",
          "text": [
            "4044.369263405646\n",
            "3187.6500244140625\n",
            "11736.923504262115\n",
            "137756422.7897132\n",
            "494.20001220703125\n",
            "6544.89990234375\n"
          ]
        }
      ],
      "source": [
        "s = FlowCal.io.FCSData('02-blank-C5-2.fcs')\n",
        "s\n",
        "\n",
        "s_fl1 = s[:, ['FL1-H']]\n",
        "s_fl1\n",
        "\n",
        "s_fl1 = s_fl1.tolist()\n",
        "s_fl1[0][0]\n",
        "\n",
        "proper_s_fl1 = []\n",
        "for i in range(len(s_fl1)):\n",
        "    proper_s_fl1.append(s_fl1[i][0])\n",
        "\n",
        "proper_s_fl1[:100]\n",
        "type(proper_s_fl1[:100])\n",
        "\n",
        "import statistics\n",
        "from statistics import stdev\n",
        "from fractions import Fraction as fr\n",
        "\n",
        "print(np.mean(proper_s_fl1))\n",
        "print(statistics.median(proper_s_fl1))\n",
        "print(np.std(proper_s_fl1))\n",
        "print(statistics.variance(proper_s_fl1))\n",
        "\n",
        "ordered= sorted(proper_s_fl1)\n",
        "i= round(len(ordered)*0.05)\n",
        "lower = ordered[i]\n",
        "i= round(len(ordered)*0.95)\n",
        "upper= ordered[i]\n",
        "\n",
        "print(lower)\n",
        "print(upper)\n"
      ]
    },
    {
      "cell_type": "code",
      "execution_count": null,
      "id": "52feb0d4",
      "metadata": {
        "id": "52feb0d4",
        "outputId": "7b37f086-b823-4f55-b261-bf8cf5bda32e",
        "colab": {
          "base_uri": "https://localhost:8080/"
        }
      },
      "outputs": [
        {
          "output_type": "stream",
          "name": "stdout",
          "text": [
            "3881.945550276913\n",
            "2684.199951171875\n",
            "17127.946906774498\n",
            "293367616.0827544\n",
            "477.20001220703125\n",
            "6590.5\n"
          ]
        }
      ],
      "source": [
        "s = FlowCal.io.FCSData('04-blank-C5-2.fcs')\n",
        "s\n",
        "\n",
        "s_fl1 = s[:, ['FL1-H']]\n",
        "s_fl1\n",
        "\n",
        "s_fl1 = s_fl1.tolist()\n",
        "s_fl1[0][0]\n",
        "\n",
        "proper_s_fl1 = []\n",
        "for i in range(len(s_fl1)):\n",
        "    proper_s_fl1.append(s_fl1[i][0])\n",
        "\n",
        "proper_s_fl1[:100]\n",
        "type(proper_s_fl1[:100])\n",
        "\n",
        "import statistics\n",
        "from statistics import stdev\n",
        "from fractions import Fraction as fr\n",
        "\n",
        "print(np.mean(proper_s_fl1))\n",
        "print(statistics.median(proper_s_fl1))\n",
        "print(np.std(proper_s_fl1))\n",
        "print(statistics.variance(proper_s_fl1))\n",
        "\n",
        "ordered= sorted(proper_s_fl1)\n",
        "i= round(len(ordered)*0.05)\n",
        "lower = ordered[i]\n",
        "i= round(len(ordered)*0.95)\n",
        "upper= ordered[i]\n",
        "\n",
        "print(lower)\n",
        "print(upper)\n"
      ]
    },
    {
      "cell_type": "code",
      "execution_count": null,
      "id": "8b4f7de9",
      "metadata": {
        "id": "8b4f7de9",
        "outputId": "35e4a41f-322e-4da5-d660-5002325dd76a",
        "colab": {
          "base_uri": "https://localhost:8080/"
        }
      },
      "outputs": [
        {
          "output_type": "stream",
          "name": "stdout",
          "text": [
            "6745.585403060071\n",
            "5706.39990234375\n",
            "14479.915874140663\n",
            "209669274.42548844\n",
            "697.7999877929688\n",
            "13100.2998046875\n"
          ]
        }
      ],
      "source": [
        "s = FlowCal.io.FCSData('02-blank-C5-3.fcs')\n",
        "s\n",
        "\n",
        "s_fl1 = s[:, ['FL1-H']]\n",
        "s_fl1\n",
        "\n",
        "s_fl1 = s_fl1.tolist()\n",
        "s_fl1[0][0]\n",
        "\n",
        "proper_s_fl1 = []\n",
        "for i in range(len(s_fl1)):\n",
        "    proper_s_fl1.append(s_fl1[i][0])\n",
        "\n",
        "proper_s_fl1[:100]\n",
        "type(proper_s_fl1[:100])\n",
        "\n",
        "import statistics\n",
        "from statistics import stdev\n",
        "from fractions import Fraction as fr\n",
        "\n",
        "print(np.mean(proper_s_fl1))\n",
        "print(statistics.median(proper_s_fl1))\n",
        "print(np.std(proper_s_fl1))\n",
        "print(statistics.variance(proper_s_fl1))\n",
        "\n",
        "ordered= sorted(proper_s_fl1)\n",
        "i= round(len(ordered)*0.05)\n",
        "lower = ordered[i]\n",
        "i= round(len(ordered)*0.95)\n",
        "upper= ordered[i]\n",
        "\n",
        "print(lower)\n",
        "print(upper)\n"
      ]
    },
    {
      "cell_type": "code",
      "execution_count": null,
      "id": "2fb8858b",
      "metadata": {
        "id": "2fb8858b",
        "outputId": "16c4aa7a-da70-4df9-e93c-31e64b73865c",
        "colab": {
          "base_uri": "https://localhost:8080/"
        }
      },
      "outputs": [
        {
          "output_type": "stream",
          "name": "stdout",
          "text": [
            "6568.032619056999\n",
            "5204.5\n",
            "19747.580770481472\n",
            "389968621.1002812\n",
            "696.0\n",
            "10038.0\n"
          ]
        }
      ],
      "source": [
        "s = FlowCal.io.FCSData('04-blank-C5-3.fcs')\n",
        "s\n",
        "\n",
        "s_fl1 = s[:, ['FL1-H']]\n",
        "s_fl1\n",
        "\n",
        "s_fl1 = s_fl1.tolist()\n",
        "s_fl1[0][0]\n",
        "\n",
        "proper_s_fl1 = []\n",
        "for i in range(len(s_fl1)):\n",
        "    proper_s_fl1.append(s_fl1[i][0])\n",
        "\n",
        "proper_s_fl1[:100]\n",
        "type(proper_s_fl1[:100])\n",
        "\n",
        "import statistics\n",
        "from statistics import stdev\n",
        "from fractions import Fraction as fr\n",
        "\n",
        "print(np.mean(proper_s_fl1))\n",
        "print(statistics.median(proper_s_fl1))\n",
        "print(np.std(proper_s_fl1))\n",
        "print(statistics.variance(proper_s_fl1))\n",
        "\n",
        "ordered= sorted(proper_s_fl1)\n",
        "i= round(len(ordered)*0.05)\n",
        "lower = ordered[i]\n",
        "i= round(len(ordered)*0.95)\n",
        "upper= ordered[i]\n",
        "\n",
        "print(lower)\n",
        "print(upper)\n"
      ]
    },
    {
      "cell_type": "code",
      "execution_count": null,
      "id": "b8f2059c",
      "metadata": {
        "id": "b8f2059c",
        "outputId": "6aa70b8e-23b2-4187-eeee-db58545ab2c2",
        "colab": {
          "base_uri": "https://localhost:8080/"
        }
      },
      "outputs": [
        {
          "output_type": "stream",
          "name": "stdout",
          "text": [
            "7920.041896813329\n",
            "5017.89990234375\n",
            "24512.38422353096\n",
            "600861001.180445\n",
            "599.5\n",
            "11799.400390625\n"
          ]
        }
      ],
      "source": [
        "s = FlowCal.io.FCSData('02-blank-C5-4.fcs')\n",
        "s\n",
        "\n",
        "s_fl1 = s[:, ['FL1-H']]\n",
        "s_fl1\n",
        "\n",
        "s_fl1 = s_fl1.tolist()\n",
        "s_fl1[0][0]\n",
        "\n",
        "proper_s_fl1 = []\n",
        "for i in range(len(s_fl1)):\n",
        "    proper_s_fl1.append(s_fl1[i][0])\n",
        "\n",
        "proper_s_fl1[:100]\n",
        "type(proper_s_fl1[:100])\n",
        "\n",
        "import statistics\n",
        "from statistics import stdev\n",
        "from fractions import Fraction as fr\n",
        "\n",
        "print(np.mean(proper_s_fl1))\n",
        "print(statistics.median(proper_s_fl1))\n",
        "print(np.std(proper_s_fl1))\n",
        "print(statistics.variance(proper_s_fl1))\n",
        "\n",
        "ordered= sorted(proper_s_fl1)\n",
        "i= round(len(ordered)*0.05)\n",
        "lower = ordered[i]\n",
        "i= round(len(ordered)*0.95)\n",
        "upper= ordered[i]\n",
        "\n",
        "print(lower)\n",
        "print(upper)\n"
      ]
    },
    {
      "cell_type": "code",
      "execution_count": null,
      "id": "a6c8f645",
      "metadata": {
        "id": "a6c8f645",
        "outputId": "f5001927-4f1d-48ae-df16-fea0ac3bf656",
        "colab": {
          "base_uri": "https://localhost:8080/"
        }
      },
      "outputs": [
        {
          "output_type": "stream",
          "name": "stdout",
          "text": [
            "5984.287133453073\n",
            "4458.2001953125\n",
            "19635.73430180454\n",
            "385563772.7769323\n",
            "584.2000122070312\n",
            "9460.2001953125\n"
          ]
        }
      ],
      "source": [
        "s = FlowCal.io.FCSData('04-blank-C5-4.fcs')\n",
        "s\n",
        "\n",
        "s_fl1 = s[:, ['FL1-H']]\n",
        "s_fl1\n",
        "\n",
        "s_fl1 = s_fl1.tolist()\n",
        "s_fl1[0][0]\n",
        "\n",
        "proper_s_fl1 = []\n",
        "for i in range(len(s_fl1)):\n",
        "    proper_s_fl1.append(s_fl1[i][0])\n",
        "\n",
        "proper_s_fl1[:100]\n",
        "type(proper_s_fl1[:100])\n",
        "\n",
        "import statistics\n",
        "from statistics import stdev\n",
        "from fractions import Fraction as fr\n",
        "\n",
        "print(np.mean(proper_s_fl1))\n",
        "print(statistics.median(proper_s_fl1))\n",
        "print(np.std(proper_s_fl1))\n",
        "print(statistics.variance(proper_s_fl1))\n",
        "\n",
        "ordered= sorted(proper_s_fl1)\n",
        "i= round(len(ordered)*0.05)\n",
        "lower = ordered[i]\n",
        "i= round(len(ordered)*0.95)\n",
        "upper= ordered[i]\n",
        "\n",
        "print(lower)\n",
        "print(upper)\n"
      ]
    },
    {
      "cell_type": "code",
      "execution_count": null,
      "id": "6e32bc4e",
      "metadata": {
        "id": "6e32bc4e",
        "outputId": "82d8b9b0-e850-457e-d7b1-ba96f09db60a",
        "colab": {
          "base_uri": "https://localhost:8080/"
        }
      },
      "outputs": [
        {
          "output_type": "stream",
          "name": "stdout",
          "text": [
            "223699.17843780396\n",
            "208221.796875\n",
            "165061.1240008609\n",
            "27245316882.832916\n",
            "2248.0\n",
            "523332.5\n"
          ]
        }
      ],
      "source": [
        "s = FlowCal.io.FCSData('02-blank-C6-1.fcs')\n",
        "s\n",
        "\n",
        "s_fl1 = s[:, ['FL1-H']]\n",
        "s_fl1\n",
        "\n",
        "s_fl1 = s_fl1.tolist()\n",
        "s_fl1[0][0]\n",
        "\n",
        "proper_s_fl1 = []\n",
        "for i in range(len(s_fl1)):\n",
        "    proper_s_fl1.append(s_fl1[i][0])\n",
        "\n",
        "proper_s_fl1[:100]\n",
        "type(proper_s_fl1[:100])\n",
        "\n",
        "import statistics\n",
        "from statistics import stdev\n",
        "from fractions import Fraction as fr\n",
        "\n",
        "print(np.mean(proper_s_fl1))\n",
        "print(statistics.median(proper_s_fl1))\n",
        "print(np.std(proper_s_fl1))\n",
        "print(statistics.variance(proper_s_fl1))\n",
        "\n",
        "ordered= sorted(proper_s_fl1)\n",
        "i= round(len(ordered)*0.05)\n",
        "lower = ordered[i]\n",
        "i= round(len(ordered)*0.95)\n",
        "upper= ordered[i]\n",
        "\n",
        "print(lower)\n",
        "print(upper)\n"
      ]
    },
    {
      "cell_type": "code",
      "execution_count": null,
      "id": "76879069",
      "metadata": {
        "id": "76879069",
        "outputId": "bc91de20-8a49-493b-82e2-2e1e0f34761c",
        "colab": {
          "base_uri": "https://localhost:8080/"
        }
      },
      "outputs": [
        {
          "output_type": "stream",
          "name": "stdout",
          "text": [
            "3718.9199642172543\n",
            "480.5\n",
            "29581.071934340453\n",
            "877074793.1027282\n",
            "274.5\n",
            "1773.5999755859375\n"
          ]
        }
      ],
      "source": [
        "s = FlowCal.io.FCSData('04-blank-C6-1.fcs')\n",
        "s\n",
        "\n",
        "s_fl1 = s[:, ['FL1-H']]\n",
        "s_fl1\n",
        "\n",
        "s_fl1 = s_fl1.tolist()\n",
        "s_fl1[0][0]\n",
        "\n",
        "proper_s_fl1 = []\n",
        "for i in range(len(s_fl1)):\n",
        "    proper_s_fl1.append(s_fl1[i][0])\n",
        "\n",
        "proper_s_fl1[:100]\n",
        "type(proper_s_fl1[:100])\n",
        "\n",
        "import statistics\n",
        "from statistics import stdev\n",
        "from fractions import Fraction as fr\n",
        "\n",
        "print(np.mean(proper_s_fl1))\n",
        "print(statistics.median(proper_s_fl1))\n",
        "print(np.std(proper_s_fl1))\n",
        "print(statistics.variance(proper_s_fl1))\n",
        "\n",
        "ordered= sorted(proper_s_fl1)\n",
        "i= round(len(ordered)*0.05)\n",
        "lower = ordered[i]\n",
        "i= round(len(ordered)*0.95)\n",
        "upper= ordered[i]\n",
        "\n",
        "print(lower)\n",
        "print(upper)\n"
      ]
    },
    {
      "cell_type": "code",
      "execution_count": null,
      "id": "608835c1",
      "metadata": {
        "id": "608835c1",
        "outputId": "fc4fd9ae-ddd0-4d2d-c6c0-a5d0330e9e90",
        "colab": {
          "base_uri": "https://localhost:8080/"
        }
      },
      "outputs": [
        {
          "output_type": "stream",
          "name": "stdout",
          "text": [
            "248244.93203298785\n",
            "253448.8515625\n",
            "152909.71571082596\n",
            "23381542157.623665\n",
            "2027.5\n",
            "489799.1875\n"
          ]
        }
      ],
      "source": [
        "s = FlowCal.io.FCSData('02-blank-C6-2.fcs')\n",
        "s\n",
        "\n",
        "s_fl1 = s[:, ['FL1-H']]\n",
        "s_fl1\n",
        "\n",
        "s_fl1 = s_fl1.tolist()\n",
        "s_fl1[0][0]\n",
        "\n",
        "proper_s_fl1 = []\n",
        "for i in range(len(s_fl1)):\n",
        "    proper_s_fl1.append(s_fl1[i][0])\n",
        "\n",
        "proper_s_fl1[:100]\n",
        "type(proper_s_fl1[:100])\n",
        "\n",
        "import statistics\n",
        "from statistics import stdev\n",
        "from fractions import Fraction as fr\n",
        "\n",
        "print(np.mean(proper_s_fl1))\n",
        "print(statistics.median(proper_s_fl1))\n",
        "print(np.std(proper_s_fl1))\n",
        "print(statistics.variance(proper_s_fl1))\n",
        "\n",
        "ordered= sorted(proper_s_fl1)\n",
        "i= round(len(ordered)*0.05)\n",
        "lower = ordered[i]\n",
        "i= round(len(ordered)*0.95)\n",
        "upper= ordered[i]\n",
        "\n",
        "print(lower)\n",
        "print(upper)\n"
      ]
    },
    {
      "cell_type": "code",
      "execution_count": null,
      "id": "24398f59",
      "metadata": {
        "id": "24398f59",
        "outputId": "3be19b81-7ef4-42e4-b3b5-b9c5aa4cf17a",
        "colab": {
          "base_uri": "https://localhost:8080/"
        }
      },
      "outputs": [
        {
          "output_type": "stream",
          "name": "stdout",
          "text": [
            "359324.0725888325\n",
            "307936.90625\n",
            "298359.4660793752\n",
            "89018630537.02829\n",
            "769.0999755859375\n",
            "938533.125\n"
          ]
        }
      ],
      "source": [
        "s = FlowCal.io.FCSData('04-blank-C6-2.fcs')\n",
        "s\n",
        "\n",
        "s_fl1 = s[:, ['FL1-H']]\n",
        "s_fl1\n",
        "\n",
        "s_fl1 = s_fl1.tolist()\n",
        "s_fl1[0][0]\n",
        "\n",
        "proper_s_fl1 = []\n",
        "for i in range(len(s_fl1)):\n",
        "    proper_s_fl1.append(s_fl1[i][0])\n",
        "\n",
        "proper_s_fl1[:100]\n",
        "type(proper_s_fl1[:100])\n",
        "\n",
        "import statistics\n",
        "from statistics import stdev\n",
        "from fractions import Fraction as fr\n",
        "\n",
        "print(np.mean(proper_s_fl1))\n",
        "print(statistics.median(proper_s_fl1))\n",
        "print(np.std(proper_s_fl1))\n",
        "print(statistics.variance(proper_s_fl1))\n",
        "\n",
        "ordered= sorted(proper_s_fl1)\n",
        "i= round(len(ordered)*0.05)\n",
        "lower = ordered[i]\n",
        "i= round(len(ordered)*0.95)\n",
        "upper= ordered[i]\n",
        "\n",
        "print(lower)\n",
        "print(upper)\n"
      ]
    },
    {
      "cell_type": "code",
      "execution_count": null,
      "id": "b787f5d6",
      "metadata": {
        "id": "b787f5d6",
        "outputId": "1379dc8a-23b1-48da-f6ca-ad746ec4be08",
        "colab": {
          "base_uri": "https://localhost:8080/"
        }
      },
      "outputs": [
        {
          "output_type": "stream",
          "name": "stdout",
          "text": [
            "345616.7806723665\n",
            "298881.140625\n",
            "271401.45626069594\n",
            "73659268859.10939\n",
            "5412.60009765625\n",
            "860931.1875\n"
          ]
        }
      ],
      "source": [
        "s = FlowCal.io.FCSData('02-blank-C6-3.fcs')\n",
        "s\n",
        "\n",
        "s_fl1 = s[:, ['FL1-H']]\n",
        "s_fl1\n",
        "\n",
        "s_fl1 = s_fl1.tolist()\n",
        "s_fl1[0][0]\n",
        "\n",
        "proper_s_fl1 = []\n",
        "for i in range(len(s_fl1)):\n",
        "    proper_s_fl1.append(s_fl1[i][0])\n",
        "\n",
        "proper_s_fl1[:100]\n",
        "type(proper_s_fl1[:100])\n",
        "\n",
        "import statistics\n",
        "from statistics import stdev\n",
        "from fractions import Fraction as fr\n",
        "\n",
        "print(np.mean(proper_s_fl1))\n",
        "print(statistics.median(proper_s_fl1))\n",
        "print(np.std(proper_s_fl1))\n",
        "print(statistics.variance(proper_s_fl1))\n",
        "\n",
        "ordered= sorted(proper_s_fl1)\n",
        "i= round(len(ordered)*0.05)\n",
        "lower = ordered[i]\n",
        "i= round(len(ordered)*0.95)\n",
        "upper= ordered[i]\n",
        "\n",
        "print(lower)\n",
        "print(upper)\n"
      ]
    },
    {
      "cell_type": "code",
      "execution_count": null,
      "id": "3315e257",
      "metadata": {
        "id": "3315e257",
        "outputId": "717ee5cf-3248-4ea0-f7ef-f75ec214140d",
        "colab": {
          "base_uri": "https://localhost:8080/"
        }
      },
      "outputs": [
        {
          "output_type": "stream",
          "name": "stdout",
          "text": [
            "338594.44093729643\n",
            "354683.453125\n",
            "209781.08215028033\n",
            "44008296290.45716\n",
            "6200.39990234375\n",
            "668586.1875\n"
          ]
        }
      ],
      "source": [
        "s = FlowCal.io.FCSData('04-blank-C6-3.fcs')\n",
        "s\n",
        "\n",
        "s_fl1 = s[:, ['FL1-H']]\n",
        "s_fl1\n",
        "\n",
        "s_fl1 = s_fl1.tolist()\n",
        "s_fl1[0][0]\n",
        "\n",
        "proper_s_fl1 = []\n",
        "for i in range(len(s_fl1)):\n",
        "    proper_s_fl1.append(s_fl1[i][0])\n",
        "\n",
        "proper_s_fl1[:100]\n",
        "type(proper_s_fl1[:100])\n",
        "\n",
        "import statistics\n",
        "from statistics import stdev\n",
        "from fractions import Fraction as fr\n",
        "\n",
        "print(np.mean(proper_s_fl1))\n",
        "print(statistics.median(proper_s_fl1))\n",
        "print(np.std(proper_s_fl1))\n",
        "print(statistics.variance(proper_s_fl1))\n",
        "\n",
        "ordered= sorted(proper_s_fl1)\n",
        "i= round(len(ordered)*0.05)\n",
        "lower = ordered[i]\n",
        "i= round(len(ordered)*0.95)\n",
        "upper= ordered[i]\n",
        "\n",
        "print(lower)\n",
        "print(upper)\n"
      ]
    },
    {
      "cell_type": "code",
      "execution_count": null,
      "id": "ead99687",
      "metadata": {
        "id": "ead99687",
        "outputId": "122b26c1-4f38-4e84-de98-f1b5a9a1af0b",
        "colab": {
          "base_uri": "https://localhost:8080/"
        }
      },
      "outputs": [
        {
          "output_type": "stream",
          "name": "stdout",
          "text": [
            "299654.4706128251\n",
            "263411.546875\n",
            "239124.92693499962\n",
            "57181169652.12577\n",
            "6015.2001953125\n",
            "742284.875\n"
          ]
        }
      ],
      "source": [
        "s = FlowCal.io.FCSData('02-blank-C6-4.fcs')\n",
        "s\n",
        "\n",
        "s_fl1 = s[:, ['FL1-H']]\n",
        "s_fl1\n",
        "\n",
        "s_fl1 = s_fl1.tolist()\n",
        "s_fl1[0][0]\n",
        "\n",
        "proper_s_fl1 = []\n",
        "for i in range(len(s_fl1)):\n",
        "    proper_s_fl1.append(s_fl1[i][0])\n",
        "\n",
        "proper_s_fl1[:100]\n",
        "type(proper_s_fl1[:100])\n",
        "\n",
        "import statistics\n",
        "from statistics import stdev\n",
        "from fractions import Fraction as fr\n",
        "\n",
        "print(np.mean(proper_s_fl1))\n",
        "print(statistics.median(proper_s_fl1))\n",
        "print(np.std(proper_s_fl1))\n",
        "print(statistics.variance(proper_s_fl1))\n",
        "\n",
        "ordered= sorted(proper_s_fl1)\n",
        "i= round(len(ordered)*0.05)\n",
        "lower = ordered[i]\n",
        "i= round(len(ordered)*0.95)\n",
        "upper= ordered[i]\n",
        "\n",
        "print(lower)\n",
        "print(upper)\n"
      ]
    },
    {
      "cell_type": "code",
      "execution_count": null,
      "id": "e2f5eac8",
      "metadata": {
        "id": "e2f5eac8",
        "outputId": "19a9cb4f-5047-470f-fb46-ca0f8111a3a4",
        "colab": {
          "base_uri": "https://localhost:8080/"
        }
      },
      "outputs": [
        {
          "output_type": "stream",
          "name": "stdout",
          "text": [
            "355450.92396193766\n",
            "324726.40625\n",
            "287599.62075748685\n",
            "82714003204.40125\n",
            "5448.0\n",
            "901512.3125\n"
          ]
        }
      ],
      "source": [
        "s = FlowCal.io.FCSData('04-blank-C6-4.fcs')\n",
        "s\n",
        "\n",
        "s_fl1 = s[:, ['FL1-H']]\n",
        "s_fl1\n",
        "\n",
        "s_fl1 = s_fl1.tolist()\n",
        "s_fl1[0][0]\n",
        "\n",
        "proper_s_fl1 = []\n",
        "for i in range(len(s_fl1)):\n",
        "    proper_s_fl1.append(s_fl1[i][0])\n",
        "\n",
        "proper_s_fl1[:100]\n",
        "type(proper_s_fl1[:100])\n",
        "\n",
        "import statistics\n",
        "from statistics import stdev\n",
        "from fractions import Fraction as fr\n",
        "\n",
        "print(np.mean(proper_s_fl1))\n",
        "print(statistics.median(proper_s_fl1))\n",
        "print(np.std(proper_s_fl1))\n",
        "print(statistics.variance(proper_s_fl1))\n",
        "\n",
        "ordered= sorted(proper_s_fl1)\n",
        "i= round(len(ordered)*0.05)\n",
        "lower = ordered[i]\n",
        "i= round(len(ordered)*0.95)\n",
        "upper= ordered[i]\n",
        "\n",
        "print(lower)\n",
        "print(upper)\n"
      ]
    },
    {
      "cell_type": "code",
      "execution_count": null,
      "id": "565a09ad",
      "metadata": {
        "id": "565a09ad",
        "outputId": "2d70d850-3310-407f-e12f-9f2b7fed1472",
        "colab": {
          "base_uri": "https://localhost:8080/"
        }
      },
      "outputs": [
        {
          "output_type": "stream",
          "name": "stdout",
          "text": [
            "109544.14340349026\n",
            "92733.15234375\n",
            "85329.14537903508\n",
            "7281098625.242309\n",
            "924.0999755859375\n",
            "264591.1875\n"
          ]
        }
      ],
      "source": [
        "s = FlowCal.io.FCSData('02-blank-C7-1.fcs')\n",
        "s\n",
        "\n",
        "s_fl1 = s[:, ['FL1-H']]\n",
        "s_fl1\n",
        "\n",
        "s_fl1 = s_fl1.tolist()\n",
        "s_fl1[0][0]\n",
        "\n",
        "proper_s_fl1 = []\n",
        "for i in range(len(s_fl1)):\n",
        "    proper_s_fl1.append(s_fl1[i][0])\n",
        "\n",
        "proper_s_fl1[:100]\n",
        "type(proper_s_fl1[:100])\n",
        "\n",
        "import statistics\n",
        "from statistics import stdev\n",
        "from fractions import Fraction as fr\n",
        "\n",
        "print(np.mean(proper_s_fl1))\n",
        "print(statistics.median(proper_s_fl1))\n",
        "print(np.std(proper_s_fl1))\n",
        "print(statistics.variance(proper_s_fl1))\n",
        "\n",
        "ordered= sorted(proper_s_fl1)\n",
        "i= round(len(ordered)*0.05)\n",
        "lower = ordered[i]\n",
        "i= round(len(ordered)*0.95)\n",
        "upper= ordered[i]\n",
        "\n",
        "print(lower)\n",
        "print(upper)\n"
      ]
    },
    {
      "cell_type": "code",
      "execution_count": null,
      "id": "ebe4bf2a",
      "metadata": {
        "id": "ebe4bf2a",
        "outputId": "c799f817-0fca-4da8-d23e-bb8657f4a2fb",
        "colab": {
          "base_uri": "https://localhost:8080/"
        }
      },
      "outputs": [
        {
          "output_type": "stream",
          "name": "stdout",
          "text": [
            "910.310046377962\n",
            "493.6000061035156\n",
            "3579.8800774144956\n",
            "12833954.5028196\n",
            "285.70001220703125\n",
            "2161.39990234375\n"
          ]
        }
      ],
      "source": [
        "s = FlowCal.io.FCSData('04-blank-C7-1.fcs')\n",
        "s\n",
        "\n",
        "s_fl1 = s[:, ['FL1-H']]\n",
        "s_fl1\n",
        "\n",
        "s_fl1 = s_fl1.tolist()\n",
        "s_fl1[0][0]\n",
        "\n",
        "proper_s_fl1 = []\n",
        "for i in range(len(s_fl1)):\n",
        "    proper_s_fl1.append(s_fl1[i][0])\n",
        "\n",
        "proper_s_fl1[:100]\n",
        "type(proper_s_fl1[:100])\n",
        "\n",
        "import statistics\n",
        "from statistics import stdev\n",
        "from fractions import Fraction as fr\n",
        "\n",
        "print(np.mean(proper_s_fl1))\n",
        "print(statistics.median(proper_s_fl1))\n",
        "print(np.std(proper_s_fl1))\n",
        "print(statistics.variance(proper_s_fl1))\n",
        "\n",
        "ordered= sorted(proper_s_fl1)\n",
        "i= round(len(ordered)*0.05)\n",
        "lower = ordered[i]\n",
        "i= round(len(ordered)*0.95)\n",
        "upper= ordered[i]\n",
        "\n",
        "print(lower)\n",
        "print(upper)\n"
      ]
    },
    {
      "cell_type": "code",
      "execution_count": null,
      "id": "5a230c05",
      "metadata": {
        "id": "5a230c05",
        "outputId": "0a771139-2cdc-4e54-cded-8b7d05fc8657",
        "colab": {
          "base_uri": "https://localhost:8080/"
        }
      },
      "outputs": [
        {
          "output_type": "stream",
          "name": "stdout",
          "text": [
            "293491.2044026658\n",
            "285070.140625\n",
            "185591.1126557768\n",
            "34444322426.68105\n",
            "7397.7998046875\n",
            "575414.0\n"
          ]
        }
      ],
      "source": [
        "s = FlowCal.io.FCSData('02-blank-C7-2.fcs')\n",
        "s\n",
        "\n",
        "s_fl1 = s[:, ['FL1-H']]\n",
        "s_fl1\n",
        "\n",
        "s_fl1 = s_fl1.tolist()\n",
        "s_fl1[0][0]\n",
        "\n",
        "proper_s_fl1 = []\n",
        "for i in range(len(s_fl1)):\n",
        "    proper_s_fl1.append(s_fl1[i][0])\n",
        "\n",
        "proper_s_fl1[:100]\n",
        "type(proper_s_fl1[:100])\n",
        "\n",
        "import statistics\n",
        "from statistics import stdev\n",
        "from fractions import Fraction as fr\n",
        "\n",
        "print(np.mean(proper_s_fl1))\n",
        "print(statistics.median(proper_s_fl1))\n",
        "print(np.std(proper_s_fl1))\n",
        "print(statistics.variance(proper_s_fl1))\n",
        "\n",
        "ordered= sorted(proper_s_fl1)\n",
        "i= round(len(ordered)*0.05)\n",
        "lower = ordered[i]\n",
        "i= round(len(ordered)*0.95)\n",
        "upper= ordered[i]\n",
        "\n",
        "print(lower)\n",
        "print(upper)\n"
      ]
    },
    {
      "cell_type": "code",
      "execution_count": null,
      "id": "7aac9538",
      "metadata": {
        "id": "7aac9538",
        "outputId": "0737e5af-a49b-4ab8-8190-55474c11cd98",
        "colab": {
          "base_uri": "https://localhost:8080/"
        }
      },
      "outputs": [
        {
          "output_type": "stream",
          "name": "stdout",
          "text": [
            "311071.88695763197\n",
            "277435.703125\n",
            "241001.42275993977\n",
            "58081978813.72109\n",
            "3586.300048828125\n",
            "791362.375\n"
          ]
        }
      ],
      "source": [
        "s = FlowCal.io.FCSData('04-blank-C7-2.fcs')\n",
        "s\n",
        "\n",
        "s_fl1 = s[:, ['FL1-H']]\n",
        "s_fl1\n",
        "\n",
        "s_fl1 = s_fl1.tolist()\n",
        "s_fl1[0][0]\n",
        "\n",
        "proper_s_fl1 = []\n",
        "for i in range(len(s_fl1)):\n",
        "    proper_s_fl1.append(s_fl1[i][0])\n",
        "\n",
        "proper_s_fl1[:100]\n",
        "type(proper_s_fl1[:100])\n",
        "\n",
        "import statistics\n",
        "from statistics import stdev\n",
        "from fractions import Fraction as fr\n",
        "\n",
        "print(np.mean(proper_s_fl1))\n",
        "print(statistics.median(proper_s_fl1))\n",
        "print(np.std(proper_s_fl1))\n",
        "print(statistics.variance(proper_s_fl1))\n",
        "\n",
        "ordered= sorted(proper_s_fl1)\n",
        "i= round(len(ordered)*0.05)\n",
        "lower = ordered[i]\n",
        "i= round(len(ordered)*0.95)\n",
        "upper= ordered[i]\n",
        "\n",
        "print(lower)\n",
        "print(upper)\n"
      ]
    },
    {
      "cell_type": "code",
      "execution_count": null,
      "id": "765d1228",
      "metadata": {
        "id": "765d1228",
        "outputId": "ddd009fd-631f-43a0-bcef-60bbc90eedd5",
        "colab": {
          "base_uri": "https://localhost:8080/"
        }
      },
      "outputs": [
        {
          "output_type": "stream",
          "name": "stdout",
          "text": [
            "89101.52333160097\n",
            "72015.25\n",
            "69774.7347969172\n",
            "4868542278.743168\n",
            "4617.2001953125\n",
            "221910.5\n"
          ]
        }
      ],
      "source": [
        "s = FlowCal.io.FCSData('02-blank-C7-3.fcs')\n",
        "s\n",
        "\n",
        "s_fl1 = s[:, ['FL1-H']]\n",
        "s_fl1\n",
        "\n",
        "s_fl1 = s_fl1.tolist()\n",
        "s_fl1[0][0]\n",
        "\n",
        "proper_s_fl1 = []\n",
        "for i in range(len(s_fl1)):\n",
        "    proper_s_fl1.append(s_fl1[i][0])\n",
        "\n",
        "proper_s_fl1[:100]\n",
        "type(proper_s_fl1[:100])\n",
        "\n",
        "import statistics\n",
        "from statistics import stdev\n",
        "from fractions import Fraction as fr\n",
        "\n",
        "print(np.mean(proper_s_fl1))\n",
        "print(statistics.median(proper_s_fl1))\n",
        "print(np.std(proper_s_fl1))\n",
        "print(statistics.variance(proper_s_fl1))\n",
        "\n",
        "ordered= sorted(proper_s_fl1)\n",
        "i= round(len(ordered)*0.05)\n",
        "lower = ordered[i]\n",
        "i= round(len(ordered)*0.95)\n",
        "upper= ordered[i]\n",
        "\n",
        "print(lower)\n",
        "print(upper)\n"
      ]
    },
    {
      "cell_type": "code",
      "execution_count": null,
      "id": "d20f6a76",
      "metadata": {
        "id": "d20f6a76",
        "outputId": "dbc63af0-acd7-4df0-83f9-f2c1a903d4dd",
        "colab": {
          "base_uri": "https://localhost:8080/"
        }
      },
      "outputs": [
        {
          "output_type": "stream",
          "name": "stdout",
          "text": [
            "71629.34180826422\n",
            "69213.1015625\n",
            "49061.901301434074\n",
            "2407080586.480244\n",
            "4342.60009765625\n",
            "134848.296875\n"
          ]
        }
      ],
      "source": [
        "s = FlowCal.io.FCSData('04-blank-C7-3.fcs')\n",
        "s\n",
        "\n",
        "s_fl1 = s[:, ['FL1-H']]\n",
        "s_fl1\n",
        "\n",
        "s_fl1 = s_fl1.tolist()\n",
        "s_fl1[0][0]\n",
        "\n",
        "proper_s_fl1 = []\n",
        "for i in range(len(s_fl1)):\n",
        "    proper_s_fl1.append(s_fl1[i][0])\n",
        "\n",
        "proper_s_fl1[:100]\n",
        "type(proper_s_fl1[:100])\n",
        "\n",
        "import statistics\n",
        "from statistics import stdev\n",
        "from fractions import Fraction as fr\n",
        "\n",
        "print(np.mean(proper_s_fl1))\n",
        "print(statistics.median(proper_s_fl1))\n",
        "print(np.std(proper_s_fl1))\n",
        "print(statistics.variance(proper_s_fl1))\n",
        "\n",
        "ordered= sorted(proper_s_fl1)\n",
        "i= round(len(ordered)*0.05)\n",
        "lower = ordered[i]\n",
        "i= round(len(ordered)*0.95)\n",
        "upper= ordered[i]\n",
        "\n",
        "print(lower)\n",
        "print(upper)\n"
      ]
    },
    {
      "cell_type": "code",
      "execution_count": null,
      "id": "17c917cb",
      "metadata": {
        "id": "17c917cb",
        "outputId": "2da41794-8d69-45b1-d474-7847e8909041",
        "colab": {
          "base_uri": "https://localhost:8080/"
        }
      },
      "outputs": [
        {
          "output_type": "stream",
          "name": "stdout",
          "text": [
            "305586.4250862033\n",
            "260384.953125\n",
            "227464.53093696435\n",
            "51740453084.350746\n",
            "13841.599609375\n",
            "737490.3125\n"
          ]
        }
      ],
      "source": [
        "s = FlowCal.io.FCSData('02-blank-C7-4.fcs')\n",
        "s\n",
        "\n",
        "s_fl1 = s[:, ['FL1-H']]\n",
        "s_fl1\n",
        "\n",
        "s_fl1 = s_fl1.tolist()\n",
        "s_fl1[0][0]\n",
        "\n",
        "proper_s_fl1 = []\n",
        "for i in range(len(s_fl1)):\n",
        "    proper_s_fl1.append(s_fl1[i][0])\n",
        "\n",
        "proper_s_fl1[:100]\n",
        "type(proper_s_fl1[:100])\n",
        "\n",
        "import statistics\n",
        "from statistics import stdev\n",
        "from fractions import Fraction as fr\n",
        "\n",
        "print(np.mean(proper_s_fl1))\n",
        "print(statistics.median(proper_s_fl1))\n",
        "print(np.std(proper_s_fl1))\n",
        "print(statistics.variance(proper_s_fl1))\n",
        "\n",
        "ordered= sorted(proper_s_fl1)\n",
        "i= round(len(ordered)*0.05)\n",
        "lower = ordered[i]\n",
        "i= round(len(ordered)*0.95)\n",
        "upper= ordered[i]\n",
        "\n",
        "print(lower)\n",
        "print(upper)\n"
      ]
    },
    {
      "cell_type": "code",
      "execution_count": null,
      "id": "cf6af2ce",
      "metadata": {
        "id": "cf6af2ce",
        "outputId": "abe3fd2d-c117-4094-d5df-cfc68725b2c9",
        "colab": {
          "base_uri": "https://localhost:8080/"
        }
      },
      "outputs": [
        {
          "output_type": "stream",
          "name": "stdout",
          "text": [
            "352281.1866236478\n",
            "302225.8125\n",
            "263062.2630671751\n",
            "69202015156.36461\n",
            "10694.099609375\n",
            "863334.125\n"
          ]
        }
      ],
      "source": [
        "s = FlowCal.io.FCSData('04-blank-C7-4.fcs')\n",
        "s\n",
        "\n",
        "s_fl1 = s[:, ['FL1-H']]\n",
        "s_fl1\n",
        "\n",
        "s_fl1 = s_fl1.tolist()\n",
        "s_fl1[0][0]\n",
        "\n",
        "proper_s_fl1 = []\n",
        "for i in range(len(s_fl1)):\n",
        "    proper_s_fl1.append(s_fl1[i][0])\n",
        "\n",
        "proper_s_fl1[:100]\n",
        "type(proper_s_fl1[:100])\n",
        "\n",
        "import statistics\n",
        "from statistics import stdev\n",
        "from fractions import Fraction as fr\n",
        "\n",
        "print(np.mean(proper_s_fl1))\n",
        "print(statistics.median(proper_s_fl1))\n",
        "print(np.std(proper_s_fl1))\n",
        "print(statistics.variance(proper_s_fl1))\n",
        "\n",
        "ordered= sorted(proper_s_fl1)\n",
        "i= round(len(ordered)*0.05)\n",
        "lower = ordered[i]\n",
        "i= round(len(ordered)*0.95)\n",
        "upper= ordered[i]\n",
        "\n",
        "print(lower)\n",
        "print(upper)\n"
      ]
    },
    {
      "cell_type": "code",
      "execution_count": null,
      "id": "c30b6447",
      "metadata": {
        "id": "c30b6447",
        "outputId": "c4f7f53d-c8e0-4ec6-a459-6dad8dac646d",
        "colab": {
          "base_uri": "https://localhost:8080/"
        }
      },
      "outputs": [
        {
          "output_type": "stream",
          "name": "stdout",
          "text": [
            "89487.07806271427\n",
            "77120.30078125\n",
            "76474.40493816927\n",
            "5848347394.646606\n",
            "580.4000244140625\n",
            "227584.5\n"
          ]
        }
      ],
      "source": [
        "s = FlowCal.io.FCSData('02-blank-C8-1.fcs')\n",
        "s\n",
        "\n",
        "s_fl1 = s[:, ['FL1-H']]\n",
        "s_fl1\n",
        "\n",
        "s_fl1 = s_fl1.tolist()\n",
        "s_fl1[0][0]\n",
        "\n",
        "proper_s_fl1 = []\n",
        "for i in range(len(s_fl1)):\n",
        "    proper_s_fl1.append(s_fl1[i][0])\n",
        "\n",
        "proper_s_fl1[:100]\n",
        "type(proper_s_fl1[:100])\n",
        "\n",
        "import statistics\n",
        "from statistics import stdev\n",
        "from fractions import Fraction as fr\n",
        "\n",
        "print(np.mean(proper_s_fl1))\n",
        "print(statistics.median(proper_s_fl1))\n",
        "print(np.std(proper_s_fl1))\n",
        "print(statistics.variance(proper_s_fl1))\n",
        "\n",
        "ordered= sorted(proper_s_fl1)\n",
        "i= round(len(ordered)*0.05)\n",
        "lower = ordered[i]\n",
        "i= round(len(ordered)*0.95)\n",
        "upper= ordered[i]\n",
        "\n",
        "print(lower)\n",
        "print(upper)\n"
      ]
    },
    {
      "cell_type": "code",
      "execution_count": null,
      "id": "7d2c1646",
      "metadata": {
        "id": "7d2c1646",
        "outputId": "cb07d4e2-a3c8-41f6-b065-ead9b670f3ec",
        "colab": {
          "base_uri": "https://localhost:8080/"
        }
      },
      "outputs": [
        {
          "output_type": "stream",
          "name": "stdout",
          "text": [
            "2946.2168972703657\n",
            "483.20001220703125\n",
            "32028.405349417553\n",
            "1028965432.5064354\n",
            "289.70001220703125\n",
            "1967.199951171875\n"
          ]
        }
      ],
      "source": [
        "s = FlowCal.io.FCSData('04-blank-C8-1.fcs')\n",
        "s\n",
        "\n",
        "s_fl1 = s[:, ['FL1-H']]\n",
        "s_fl1\n",
        "\n",
        "s_fl1 = s_fl1.tolist()\n",
        "s_fl1[0][0]\n",
        "\n",
        "proper_s_fl1 = []\n",
        "for i in range(len(s_fl1)):\n",
        "    proper_s_fl1.append(s_fl1[i][0])\n",
        "\n",
        "proper_s_fl1[:100]\n",
        "type(proper_s_fl1[:100])\n",
        "\n",
        "import statistics\n",
        "from statistics import stdev\n",
        "from fractions import Fraction as fr\n",
        "\n",
        "print(np.mean(proper_s_fl1))\n",
        "print(statistics.median(proper_s_fl1))\n",
        "print(np.std(proper_s_fl1))\n",
        "print(statistics.variance(proper_s_fl1))\n",
        "\n",
        "ordered= sorted(proper_s_fl1)\n",
        "i= round(len(ordered)*0.05)\n",
        "lower = ordered[i]\n",
        "i= round(len(ordered)*0.95)\n",
        "upper= ordered[i]\n",
        "\n",
        "print(lower)\n",
        "print(upper)\n"
      ]
    },
    {
      "cell_type": "code",
      "execution_count": null,
      "id": "9a72620f",
      "metadata": {
        "id": "9a72620f",
        "outputId": "40ad035a-6361-4b7b-a9ba-b2c74ba474be",
        "colab": {
          "base_uri": "https://localhost:8080/"
        }
      },
      "outputs": [
        {
          "output_type": "stream",
          "name": "stdout",
          "text": [
            "205779.097936935\n",
            "192293.703125\n",
            "139637.2801229831\n",
            "19498644767.180126\n",
            "939.2000122070312\n",
            "451191.8125\n"
          ]
        }
      ],
      "source": [
        "s = FlowCal.io.FCSData('02-blank-C8-2.fcs')\n",
        "s\n",
        "\n",
        "s_fl1 = s[:, ['FL1-H']]\n",
        "s_fl1\n",
        "\n",
        "s_fl1 = s_fl1.tolist()\n",
        "s_fl1[0][0]\n",
        "\n",
        "proper_s_fl1 = []\n",
        "for i in range(len(s_fl1)):\n",
        "    proper_s_fl1.append(s_fl1[i][0])\n",
        "\n",
        "proper_s_fl1[:100]\n",
        "type(proper_s_fl1[:100])\n",
        "\n",
        "import statistics\n",
        "from statistics import stdev\n",
        "from fractions import Fraction as fr\n",
        "\n",
        "print(np.mean(proper_s_fl1))\n",
        "print(statistics.median(proper_s_fl1))\n",
        "print(np.std(proper_s_fl1))\n",
        "print(statistics.variance(proper_s_fl1))\n",
        "\n",
        "ordered= sorted(proper_s_fl1)\n",
        "i= round(len(ordered)*0.05)\n",
        "lower = ordered[i]\n",
        "i= round(len(ordered)*0.95)\n",
        "upper= ordered[i]\n",
        "\n",
        "print(lower)\n",
        "print(upper)\n"
      ]
    },
    {
      "cell_type": "code",
      "execution_count": null,
      "id": "ade895a6",
      "metadata": {
        "id": "ade895a6",
        "outputId": "0ee4829e-88ab-4b8e-cc4d-409686c617dc",
        "colab": {
          "base_uri": "https://localhost:8080/"
        }
      },
      "outputs": [
        {
          "output_type": "stream",
          "name": "stdout",
          "text": [
            "189176.84551216871\n",
            "182173.59375\n",
            "138956.99793016506\n",
            "19309113063.577976\n",
            "590.2000122070312\n",
            "431693.0\n"
          ]
        }
      ],
      "source": [
        "s = FlowCal.io.FCSData('04-blank-C8-2.fcs')\n",
        "s\n",
        "\n",
        "s_fl1 = s[:, ['FL1-H']]\n",
        "s_fl1\n",
        "\n",
        "s_fl1 = s_fl1.tolist()\n",
        "s_fl1[0][0]\n",
        "\n",
        "proper_s_fl1 = []\n",
        "for i in range(len(s_fl1)):\n",
        "    proper_s_fl1.append(s_fl1[i][0])\n",
        "\n",
        "proper_s_fl1[:100]\n",
        "type(proper_s_fl1[:100])\n",
        "\n",
        "import statistics\n",
        "from statistics import stdev\n",
        "from fractions import Fraction as fr\n",
        "\n",
        "print(np.mean(proper_s_fl1))\n",
        "print(statistics.median(proper_s_fl1))\n",
        "print(np.std(proper_s_fl1))\n",
        "print(statistics.variance(proper_s_fl1))\n",
        "\n",
        "ordered= sorted(proper_s_fl1)\n",
        "i= round(len(ordered)*0.05)\n",
        "lower = ordered[i]\n",
        "i= round(len(ordered)*0.95)\n",
        "upper= ordered[i]\n",
        "\n",
        "print(lower)\n",
        "print(upper)\n"
      ]
    },
    {
      "cell_type": "code",
      "execution_count": null,
      "id": "7040cdbf",
      "metadata": {
        "id": "7040cdbf",
        "outputId": "632aefde-336e-467b-ef93-26576d648c9f",
        "colab": {
          "base_uri": "https://localhost:8080/"
        }
      },
      "outputs": [
        {
          "output_type": "stream",
          "name": "stdout",
          "text": [
            "86938.33488058615\n",
            "80838.3984375\n",
            "57560.13972105904\n",
            "3313193919.9058485\n",
            "5110.2998046875\n",
            "188347.09375\n"
          ]
        }
      ],
      "source": [
        "s = FlowCal.io.FCSData('02-blank-C8-3.fcs')\n",
        "s\n",
        "\n",
        "s_fl1 = s[:, ['FL1-H']]\n",
        "s_fl1\n",
        "\n",
        "s_fl1 = s_fl1.tolist()\n",
        "s_fl1[0][0]\n",
        "\n",
        "proper_s_fl1 = []\n",
        "for i in range(len(s_fl1)):\n",
        "    proper_s_fl1.append(s_fl1[i][0])\n",
        "\n",
        "proper_s_fl1[:100]\n",
        "type(proper_s_fl1[:100])\n",
        "\n",
        "import statistics\n",
        "from statistics import stdev\n",
        "from fractions import Fraction as fr\n",
        "\n",
        "print(np.mean(proper_s_fl1))\n",
        "print(statistics.median(proper_s_fl1))\n",
        "print(np.std(proper_s_fl1))\n",
        "print(statistics.variance(proper_s_fl1))\n",
        "\n",
        "ordered= sorted(proper_s_fl1)\n",
        "i= round(len(ordered)*0.05)\n",
        "lower = ordered[i]\n",
        "i= round(len(ordered)*0.95)\n",
        "upper= ordered[i]\n",
        "\n",
        "print(lower)\n",
        "print(upper)\n"
      ]
    },
    {
      "cell_type": "code",
      "execution_count": null,
      "id": "1cd9d9fd",
      "metadata": {
        "id": "1cd9d9fd",
        "outputId": "a10cab45-389b-41c7-a422-c335f1c026da",
        "colab": {
          "base_uri": "https://localhost:8080/"
        }
      },
      "outputs": [
        {
          "output_type": "stream",
          "name": "stdout",
          "text": [
            "101467.93872879239\n",
            "100732.30078125\n",
            "56745.00098542414\n",
            "3220009062.1627812\n",
            "3325.60009765625\n",
            "194745.5\n"
          ]
        }
      ],
      "source": [
        "s = FlowCal.io.FCSData('04-blank-C8-3.fcs')\n",
        "s\n",
        "\n",
        "s_fl1 = s[:, ['FL1-H']]\n",
        "s_fl1\n",
        "\n",
        "s_fl1 = s_fl1.tolist()\n",
        "s_fl1[0][0]\n",
        "\n",
        "proper_s_fl1 = []\n",
        "for i in range(len(s_fl1)):\n",
        "    proper_s_fl1.append(s_fl1[i][0])\n",
        "\n",
        "proper_s_fl1[:100]\n",
        "type(proper_s_fl1[:100])\n",
        "\n",
        "import statistics\n",
        "from statistics import stdev\n",
        "from fractions import Fraction as fr\n",
        "\n",
        "print(np.mean(proper_s_fl1))\n",
        "print(statistics.median(proper_s_fl1))\n",
        "print(np.std(proper_s_fl1))\n",
        "print(statistics.variance(proper_s_fl1))\n",
        "\n",
        "ordered= sorted(proper_s_fl1)\n",
        "i= round(len(ordered)*0.05)\n",
        "lower = ordered[i]\n",
        "i= round(len(ordered)*0.95)\n",
        "upper= ordered[i]\n",
        "\n",
        "print(lower)\n",
        "print(upper)\n"
      ]
    },
    {
      "cell_type": "code",
      "execution_count": null,
      "id": "ada32d03",
      "metadata": {
        "id": "ada32d03",
        "outputId": "d518f0b5-06ee-47a0-e965-1f1dfe5b7015",
        "colab": {
          "base_uri": "https://localhost:8080/"
        }
      },
      "outputs": [
        {
          "output_type": "stream",
          "name": "stdout",
          "text": [
            "140341.3748615066\n",
            "132480.6015625\n",
            "89146.57592811322\n",
            "7947159792.397627\n",
            "8686.7998046875\n",
            "294488.90625\n"
          ]
        }
      ],
      "source": [
        "s = FlowCal.io.FCSData('02-blank-C8-4.fcs')\n",
        "s\n",
        "\n",
        "s_fl1 = s[:, ['FL1-H']]\n",
        "s_fl1\n",
        "\n",
        "s_fl1 = s_fl1.tolist()\n",
        "s_fl1[0][0]\n",
        "\n",
        "proper_s_fl1 = []\n",
        "for i in range(len(s_fl1)):\n",
        "    proper_s_fl1.append(s_fl1[i][0])\n",
        "\n",
        "proper_s_fl1[:100]\n",
        "type(proper_s_fl1[:100])\n",
        "\n",
        "import statistics\n",
        "from statistics import stdev\n",
        "from fractions import Fraction as fr\n",
        "\n",
        "print(np.mean(proper_s_fl1))\n",
        "print(statistics.median(proper_s_fl1))\n",
        "print(np.std(proper_s_fl1))\n",
        "print(statistics.variance(proper_s_fl1))\n",
        "\n",
        "ordered= sorted(proper_s_fl1)\n",
        "i= round(len(ordered)*0.05)\n",
        "lower = ordered[i]\n",
        "i= round(len(ordered)*0.95)\n",
        "upper= ordered[i]\n",
        "\n",
        "print(lower)\n",
        "print(upper)\n"
      ]
    },
    {
      "cell_type": "code",
      "execution_count": null,
      "id": "07c7dfa0",
      "metadata": {
        "id": "07c7dfa0",
        "outputId": "bd0ee897-a2e0-43d6-c704-a914557a40d2",
        "colab": {
          "base_uri": "https://localhost:8080/"
        }
      },
      "outputs": [
        {
          "output_type": "stream",
          "name": "stdout",
          "text": [
            "180610.58232571444\n",
            "175992.09375\n",
            "114094.12014426613\n",
            "13017518563.27246\n",
            "5389.2001953125\n",
            "376470.6875\n"
          ]
        }
      ],
      "source": [
        "s = FlowCal.io.FCSData('04-blank-C8-4.fcs')\n",
        "s\n",
        "\n",
        "s_fl1 = s[:, ['FL1-H']]\n",
        "s_fl1\n",
        "\n",
        "s_fl1 = s_fl1.tolist()\n",
        "s_fl1[0][0]\n",
        "\n",
        "proper_s_fl1 = []\n",
        "for i in range(len(s_fl1)):\n",
        "    proper_s_fl1.append(s_fl1[i][0])\n",
        "\n",
        "proper_s_fl1[:100]\n",
        "type(proper_s_fl1[:100])\n",
        "\n",
        "import statistics\n",
        "from statistics import stdev\n",
        "from fractions import Fraction as fr\n",
        "\n",
        "print(np.mean(proper_s_fl1))\n",
        "print(statistics.median(proper_s_fl1))\n",
        "print(np.std(proper_s_fl1))\n",
        "print(statistics.variance(proper_s_fl1))\n",
        "\n",
        "ordered= sorted(proper_s_fl1)\n",
        "i= round(len(ordered)*0.05)\n",
        "lower = ordered[i]\n",
        "i= round(len(ordered)*0.95)\n",
        "upper= ordered[i]\n",
        "\n",
        "print(lower)\n",
        "print(upper)\n"
      ]
    },
    {
      "cell_type": "code",
      "execution_count": null,
      "id": "e09244f4",
      "metadata": {
        "id": "e09244f4",
        "outputId": "e5851b0d-b07b-403a-a2f8-3818cd68d7bb",
        "colab": {
          "base_uri": "https://localhost:8080/"
        }
      },
      "outputs": [
        {
          "output_type": "stream",
          "name": "stdout",
          "text": [
            "94847.00178233614\n",
            "83123.8984375\n",
            "70512.02371439873\n",
            "4971987403.907074\n",
            "6267.2001953125\n",
            "230870.203125\n"
          ]
        }
      ],
      "source": [
        "s = FlowCal.io.FCSData('02-blank-C9-1.fcs')\n",
        "s\n",
        "\n",
        "s_fl1 = s[:, ['FL1-H']]\n",
        "s_fl1\n",
        "\n",
        "s_fl1 = s_fl1.tolist()\n",
        "s_fl1[0][0]\n",
        "\n",
        "proper_s_fl1 = []\n",
        "for i in range(len(s_fl1)):\n",
        "    proper_s_fl1.append(s_fl1[i][0])\n",
        "\n",
        "proper_s_fl1[:100]\n",
        "type(proper_s_fl1[:100])\n",
        "\n",
        "import statistics\n",
        "from statistics import stdev\n",
        "from fractions import Fraction as fr\n",
        "\n",
        "print(np.mean(proper_s_fl1))\n",
        "print(statistics.median(proper_s_fl1))\n",
        "print(np.std(proper_s_fl1))\n",
        "print(statistics.variance(proper_s_fl1))\n",
        "\n",
        "ordered= sorted(proper_s_fl1)\n",
        "i= round(len(ordered)*0.05)\n",
        "lower = ordered[i]\n",
        "i= round(len(ordered)*0.95)\n",
        "upper= ordered[i]\n",
        "\n",
        "print(lower)\n",
        "print(upper)\n"
      ]
    },
    {
      "cell_type": "code",
      "execution_count": null,
      "id": "cd2219b4",
      "metadata": {
        "id": "cd2219b4",
        "outputId": "62bdc6b3-1532-4344-9198-1b4cc08fbab4",
        "colab": {
          "base_uri": "https://localhost:8080/"
        }
      },
      "outputs": [
        {
          "output_type": "stream",
          "name": "stdout",
          "text": [
            "5466.428993554209\n",
            "457.79998779296875\n",
            "47671.045039085744\n",
            "2281475497.8552284\n",
            "262.20001220703125\n",
            "1706.5\n"
          ]
        }
      ],
      "source": [
        "s = FlowCal.io.FCSData('04-blank-C9-1.fcs')\n",
        "s\n",
        "\n",
        "s_fl1 = s[:, ['FL1-H']]\n",
        "s_fl1\n",
        "\n",
        "s_fl1 = s_fl1.tolist()\n",
        "s_fl1[0][0]\n",
        "\n",
        "proper_s_fl1 = []\n",
        "for i in range(len(s_fl1)):\n",
        "    proper_s_fl1.append(s_fl1[i][0])\n",
        "\n",
        "proper_s_fl1[:100]\n",
        "type(proper_s_fl1[:100])\n",
        "\n",
        "import statistics\n",
        "from statistics import stdev\n",
        "from fractions import Fraction as fr\n",
        "\n",
        "print(np.mean(proper_s_fl1))\n",
        "print(statistics.median(proper_s_fl1))\n",
        "print(np.std(proper_s_fl1))\n",
        "print(statistics.variance(proper_s_fl1))\n",
        "\n",
        "ordered= sorted(proper_s_fl1)\n",
        "i= round(len(ordered)*0.05)\n",
        "lower = ordered[i]\n",
        "i= round(len(ordered)*0.95)\n",
        "upper= ordered[i]\n",
        "\n",
        "print(lower)\n",
        "print(upper)\n"
      ]
    },
    {
      "cell_type": "code",
      "execution_count": null,
      "id": "3399c1ce",
      "metadata": {
        "id": "3399c1ce",
        "outputId": "47d94fd2-e7ce-44ec-9840-d0acd030aa3d",
        "colab": {
          "base_uri": "https://localhost:8080/"
        }
      },
      "outputs": [
        {
          "output_type": "stream",
          "name": "stdout",
          "text": [
            "413339.76912916073\n",
            "337416.40625\n",
            "315269.0770857791\n",
            "99394986538.54152\n",
            "2374.60009765625\n",
            "1020660.5\n"
          ]
        }
      ],
      "source": [
        "s = FlowCal.io.FCSData('02-blank-C9-2.fcs')\n",
        "s\n",
        "\n",
        "s_fl1 = s[:, ['FL1-H']]\n",
        "s_fl1\n",
        "\n",
        "s_fl1 = s_fl1.tolist()\n",
        "s_fl1[0][0]\n",
        "\n",
        "proper_s_fl1 = []\n",
        "for i in range(len(s_fl1)):\n",
        "    proper_s_fl1.append(s_fl1[i][0])\n",
        "\n",
        "proper_s_fl1[:100]\n",
        "type(proper_s_fl1[:100])\n",
        "\n",
        "import statistics\n",
        "from statistics import stdev\n",
        "from fractions import Fraction as fr\n",
        "\n",
        "print(np.mean(proper_s_fl1))\n",
        "print(statistics.median(proper_s_fl1))\n",
        "print(np.std(proper_s_fl1))\n",
        "print(statistics.variance(proper_s_fl1))\n",
        "\n",
        "ordered= sorted(proper_s_fl1)\n",
        "i= round(len(ordered)*0.05)\n",
        "lower = ordered[i]\n",
        "i= round(len(ordered)*0.95)\n",
        "upper= ordered[i]\n",
        "\n",
        "print(lower)\n",
        "print(upper)\n"
      ]
    },
    {
      "cell_type": "code",
      "execution_count": null,
      "id": "7a1bffe0",
      "metadata": {
        "id": "7a1bffe0",
        "outputId": "472484df-3c92-42bc-8975-a39b9795d2a8",
        "colab": {
          "base_uri": "https://localhost:8080/"
        }
      },
      "outputs": [
        {
          "output_type": "stream",
          "name": "stdout",
          "text": [
            "272782.3972291118\n",
            "276171.09375\n",
            "156306.5345780513\n",
            "24431862983.528164\n",
            "6253.39990234375\n",
            "517524.8125\n"
          ]
        }
      ],
      "source": [
        "s = FlowCal.io.FCSData('04-blank-C9-2.fcs')\n",
        "s\n",
        "\n",
        "s_fl1 = s[:, ['FL1-H']]\n",
        "s_fl1\n",
        "\n",
        "s_fl1 = s_fl1.tolist()\n",
        "s_fl1[0][0]\n",
        "\n",
        "proper_s_fl1 = []\n",
        "for i in range(len(s_fl1)):\n",
        "    proper_s_fl1.append(s_fl1[i][0])\n",
        "\n",
        "proper_s_fl1[:100]\n",
        "type(proper_s_fl1[:100])\n",
        "\n",
        "import statistics\n",
        "from statistics import stdev\n",
        "from fractions import Fraction as fr\n",
        "\n",
        "print(np.mean(proper_s_fl1))\n",
        "print(statistics.median(proper_s_fl1))\n",
        "print(np.std(proper_s_fl1))\n",
        "print(statistics.variance(proper_s_fl1))\n",
        "\n",
        "ordered= sorted(proper_s_fl1)\n",
        "i= round(len(ordered)*0.05)\n",
        "lower = ordered[i]\n",
        "i= round(len(ordered)*0.95)\n",
        "upper= ordered[i]\n",
        "\n",
        "print(lower)\n",
        "print(upper)\n"
      ]
    },
    {
      "cell_type": "code",
      "execution_count": null,
      "id": "9fa7b0d3",
      "metadata": {
        "id": "9fa7b0d3",
        "outputId": "394d9378-f9c6-4dca-8923-a5c42747d7f5",
        "colab": {
          "base_uri": "https://localhost:8080/"
        }
      },
      "outputs": [
        {
          "output_type": "stream",
          "name": "stdout",
          "text": [
            "143053.21911942537\n",
            "123114.25\n",
            "95455.99506601725\n",
            "9111909534.604229\n",
            "11366.2998046875\n",
            "323298.5\n"
          ]
        }
      ],
      "source": [
        "s = FlowCal.io.FCSData('02-blank-C9-3.fcs')\n",
        "s\n",
        "\n",
        "s_fl1 = s[:, ['FL1-H']]\n",
        "s_fl1\n",
        "\n",
        "s_fl1 = s_fl1.tolist()\n",
        "s_fl1[0][0]\n",
        "\n",
        "proper_s_fl1 = []\n",
        "for i in range(len(s_fl1)):\n",
        "    proper_s_fl1.append(s_fl1[i][0])\n",
        "\n",
        "proper_s_fl1[:100]\n",
        "type(proper_s_fl1[:100])\n",
        "\n",
        "import statistics\n",
        "from statistics import stdev\n",
        "from fractions import Fraction as fr\n",
        "\n",
        "print(np.mean(proper_s_fl1))\n",
        "print(statistics.median(proper_s_fl1))\n",
        "print(np.std(proper_s_fl1))\n",
        "print(statistics.variance(proper_s_fl1))\n",
        "\n",
        "ordered= sorted(proper_s_fl1)\n",
        "i= round(len(ordered)*0.05)\n",
        "lower = ordered[i]\n",
        "i= round(len(ordered)*0.95)\n",
        "upper= ordered[i]\n",
        "\n",
        "print(lower)\n",
        "print(upper)\n"
      ]
    },
    {
      "cell_type": "code",
      "execution_count": null,
      "id": "335d73da",
      "metadata": {
        "id": "335d73da",
        "outputId": "24095022-99c0-4a72-c553-779c9fa639f7",
        "colab": {
          "base_uri": "https://localhost:8080/"
        }
      },
      "outputs": [
        {
          "output_type": "stream",
          "name": "stdout",
          "text": [
            "107030.92061328026\n",
            "106746.90234375\n",
            "52672.39982940395\n",
            "2774392316.5661783\n",
            "9450.2001953125\n",
            "191536.796875\n"
          ]
        }
      ],
      "source": [
        "s = FlowCal.io.FCSData('04-blank-C9-3.fcs')\n",
        "s\n",
        "\n",
        "s_fl1 = s[:, ['FL1-H']]\n",
        "s_fl1\n",
        "\n",
        "s_fl1 = s_fl1.tolist()\n",
        "s_fl1[0][0]\n",
        "\n",
        "proper_s_fl1 = []\n",
        "for i in range(len(s_fl1)):\n",
        "    proper_s_fl1.append(s_fl1[i][0])\n",
        "\n",
        "proper_s_fl1[:100]\n",
        "type(proper_s_fl1[:100])\n",
        "\n",
        "import statistics\n",
        "from statistics import stdev\n",
        "from fractions import Fraction as fr\n",
        "\n",
        "print(np.mean(proper_s_fl1))\n",
        "print(statistics.median(proper_s_fl1))\n",
        "print(np.std(proper_s_fl1))\n",
        "print(statistics.variance(proper_s_fl1))\n",
        "\n",
        "ordered= sorted(proper_s_fl1)\n",
        "i= round(len(ordered)*0.05)\n",
        "lower = ordered[i]\n",
        "i= round(len(ordered)*0.95)\n",
        "upper= ordered[i]\n",
        "\n",
        "print(lower)\n",
        "print(upper)\n"
      ]
    },
    {
      "cell_type": "code",
      "execution_count": null,
      "id": "8bc73b04",
      "metadata": {
        "id": "8bc73b04",
        "outputId": "1d107620-5f4f-4d1c-edf9-3092351c3702",
        "colab": {
          "base_uri": "https://localhost:8080/"
        }
      },
      "outputs": [
        {
          "output_type": "stream",
          "name": "stdout",
          "text": [
            "348271.8696711399\n",
            "294612.703125\n",
            "260881.05071685812\n",
            "68059387021.14915\n",
            "14595.7001953125\n",
            "832759.375\n"
          ]
        }
      ],
      "source": [
        "s = FlowCal.io.FCSData('02-blank-C9-4.fcs')\n",
        "s\n",
        "\n",
        "s_fl1 = s[:, ['FL1-H']]\n",
        "s_fl1\n",
        "\n",
        "s_fl1 = s_fl1.tolist()\n",
        "s_fl1[0][0]\n",
        "\n",
        "proper_s_fl1 = []\n",
        "for i in range(len(s_fl1)):\n",
        "    proper_s_fl1.append(s_fl1[i][0])\n",
        "\n",
        "proper_s_fl1[:100]\n",
        "type(proper_s_fl1[:100])\n",
        "\n",
        "import statistics\n",
        "from statistics import stdev\n",
        "from fractions import Fraction as fr\n",
        "\n",
        "print(np.mean(proper_s_fl1))\n",
        "print(statistics.median(proper_s_fl1))\n",
        "print(np.std(proper_s_fl1))\n",
        "print(statistics.variance(proper_s_fl1))\n",
        "\n",
        "ordered= sorted(proper_s_fl1)\n",
        "i= round(len(ordered)*0.05)\n",
        "lower = ordered[i]\n",
        "i= round(len(ordered)*0.95)\n",
        "upper= ordered[i]\n",
        "\n",
        "print(lower)\n",
        "print(upper)\n"
      ]
    },
    {
      "cell_type": "code",
      "execution_count": null,
      "id": "62d6fcc7",
      "metadata": {
        "id": "62d6fcc7",
        "outputId": "a7b53a35-de80-40f5-ebc1-87e283a50660",
        "colab": {
          "base_uri": "https://localhost:8080/"
        }
      },
      "outputs": [
        {
          "output_type": "stream",
          "name": "stdout",
          "text": [
            "322527.15795747336\n",
            "298281.609375\n",
            "223580.47936635232\n",
            "49988487758.62228\n",
            "13069.0\n",
            "746412.0\n"
          ]
        }
      ],
      "source": [
        "s = FlowCal.io.FCSData('04-blank-C9-4.fcs')\n",
        "s\n",
        "\n",
        "s_fl1 = s[:, ['FL1-H']]\n",
        "s_fl1\n",
        "\n",
        "s_fl1 = s_fl1.tolist()\n",
        "s_fl1[0][0]\n",
        "\n",
        "proper_s_fl1 = []\n",
        "for i in range(len(s_fl1)):\n",
        "    proper_s_fl1.append(s_fl1[i][0])\n",
        "\n",
        "proper_s_fl1[:100]\n",
        "type(proper_s_fl1[:100])\n",
        "\n",
        "import statistics\n",
        "from statistics import stdev\n",
        "from fractions import Fraction as fr\n",
        "\n",
        "print(np.mean(proper_s_fl1))\n",
        "print(statistics.median(proper_s_fl1))\n",
        "print(np.std(proper_s_fl1))\n",
        "print(statistics.variance(proper_s_fl1))\n",
        "\n",
        "ordered= sorted(proper_s_fl1)\n",
        "i= round(len(ordered)*0.05)\n",
        "lower = ordered[i]\n",
        "i= round(len(ordered)*0.95)\n",
        "upper= ordered[i]\n",
        "\n",
        "print(lower)\n",
        "print(upper)\n"
      ]
    },
    {
      "cell_type": "code",
      "execution_count": null,
      "id": "ca97ed23",
      "metadata": {
        "id": "ca97ed23",
        "outputId": "7f4881b3-48ac-43f8-97f4-33977b2c6498",
        "colab": {
          "base_uri": "https://localhost:8080/"
        }
      },
      "outputs": [
        {
          "output_type": "stream",
          "name": "stdout",
          "text": [
            "335955.7421021413\n",
            "293904.59375\n",
            "248388.3964104113\n",
            "61697044760.38238\n",
            "1922.800048828125\n",
            "787821.0\n"
          ]
        }
      ],
      "source": [
        "s = FlowCal.io.FCSData('02-blank-C10-1.fcs')\n",
        "s\n",
        "\n",
        "s_fl1 = s[:, ['FL1-H']]\n",
        "s_fl1\n",
        "\n",
        "s_fl1 = s_fl1.tolist()\n",
        "s_fl1[0][0]\n",
        "\n",
        "proper_s_fl1 = []\n",
        "for i in range(len(s_fl1)):\n",
        "    proper_s_fl1.append(s_fl1[i][0])\n",
        "\n",
        "proper_s_fl1[:100]\n",
        "type(proper_s_fl1[:100])\n",
        "\n",
        "import statistics\n",
        "from statistics import stdev\n",
        "from fractions import Fraction as fr\n",
        "\n",
        "print(np.mean(proper_s_fl1))\n",
        "print(statistics.median(proper_s_fl1))\n",
        "print(np.std(proper_s_fl1))\n",
        "print(statistics.variance(proper_s_fl1))\n",
        "\n",
        "ordered= sorted(proper_s_fl1)\n",
        "i= round(len(ordered)*0.05)\n",
        "lower = ordered[i]\n",
        "i= round(len(ordered)*0.95)\n",
        "upper= ordered[i]\n",
        "\n",
        "print(lower)\n",
        "print(upper)\n"
      ]
    },
    {
      "cell_type": "code",
      "execution_count": null,
      "id": "1391d8ac",
      "metadata": {
        "id": "1391d8ac",
        "outputId": "3f2c7e14-94db-49fe-ebcc-9311ca7a8715",
        "colab": {
          "base_uri": "https://localhost:8080/"
        }
      },
      "outputs": [
        {
          "output_type": "stream",
          "name": "stdout",
          "text": [
            "6751.193351318188\n",
            "461.0\n",
            "52414.328471916764\n",
            "2754978856.77199\n",
            "272.29998779296875\n",
            "1049.0999755859375\n"
          ]
        }
      ],
      "source": [
        "s = FlowCal.io.FCSData('04-blank-C10-1.fcs')\n",
        "s\n",
        "\n",
        "s_fl1 = s[:, ['FL1-H']]\n",
        "s_fl1\n",
        "\n",
        "s_fl1 = s_fl1.tolist()\n",
        "s_fl1[0][0]\n",
        "\n",
        "proper_s_fl1 = []\n",
        "for i in range(len(s_fl1)):\n",
        "    proper_s_fl1.append(s_fl1[i][0])\n",
        "\n",
        "proper_s_fl1[:100]\n",
        "type(proper_s_fl1[:100])\n",
        "\n",
        "import statistics\n",
        "from statistics import stdev\n",
        "from fractions import Fraction as fr\n",
        "\n",
        "print(np.mean(proper_s_fl1))\n",
        "print(statistics.median(proper_s_fl1))\n",
        "print(np.std(proper_s_fl1))\n",
        "print(statistics.variance(proper_s_fl1))\n",
        "\n",
        "ordered= sorted(proper_s_fl1)\n",
        "i= round(len(ordered)*0.05)\n",
        "lower = ordered[i]\n",
        "i= round(len(ordered)*0.95)\n",
        "upper= ordered[i]\n",
        "\n",
        "print(lower)\n",
        "print(upper)\n"
      ]
    },
    {
      "cell_type": "code",
      "execution_count": null,
      "id": "1cde9a3d",
      "metadata": {
        "id": "1cde9a3d",
        "outputId": "7ad82c46-6b61-4793-bf75-0588a793a3d6",
        "colab": {
          "base_uri": "https://localhost:8080/"
        }
      },
      "outputs": [
        {
          "output_type": "stream",
          "name": "stdout",
          "text": [
            "279828.6686722589\n",
            "254554.40625\n",
            "191668.5398574822\n",
            "36737075116.26339\n",
            "3295.39990234375\n",
            "646142.875\n"
          ]
        }
      ],
      "source": [
        "s = FlowCal.io.FCSData('02-blank-C10-2.fcs')\n",
        "s\n",
        "\n",
        "s_fl1 = s[:, ['FL1-H']]\n",
        "s_fl1\n",
        "\n",
        "s_fl1 = s_fl1.tolist()\n",
        "s_fl1[0][0]\n",
        "\n",
        "proper_s_fl1 = []\n",
        "for i in range(len(s_fl1)):\n",
        "    proper_s_fl1.append(s_fl1[i][0])\n",
        "\n",
        "proper_s_fl1[:100]\n",
        "type(proper_s_fl1[:100])\n",
        "\n",
        "import statistics\n",
        "from statistics import stdev\n",
        "from fractions import Fraction as fr\n",
        "\n",
        "print(np.mean(proper_s_fl1))\n",
        "print(statistics.median(proper_s_fl1))\n",
        "print(np.std(proper_s_fl1))\n",
        "print(statistics.variance(proper_s_fl1))\n",
        "\n",
        "ordered= sorted(proper_s_fl1)\n",
        "i= round(len(ordered)*0.05)\n",
        "lower = ordered[i]\n",
        "i= round(len(ordered)*0.95)\n",
        "upper= ordered[i]\n",
        "\n",
        "print(lower)\n",
        "print(upper)\n"
      ]
    },
    {
      "cell_type": "code",
      "execution_count": null,
      "id": "ed260ccc",
      "metadata": {
        "id": "ed260ccc",
        "outputId": "73b268d3-a54d-45b3-cbd0-f2bb4d895410",
        "colab": {
          "base_uri": "https://localhost:8080/"
        }
      },
      "outputs": [
        {
          "output_type": "stream",
          "name": "stdout",
          "text": [
            "284417.2447596539\n",
            "257424.1015625\n",
            "202467.09542046455\n",
            "40993061041.657265\n",
            "2138.39990234375\n",
            "669345.8125\n"
          ]
        }
      ],
      "source": [
        "s = FlowCal.io.FCSData('04-blank-C10-2.fcs')\n",
        "s\n",
        "\n",
        "s_fl1 = s[:, ['FL1-H']]\n",
        "s_fl1\n",
        "\n",
        "s_fl1 = s_fl1.tolist()\n",
        "s_fl1[0][0]\n",
        "\n",
        "proper_s_fl1 = []\n",
        "for i in range(len(s_fl1)):\n",
        "    proper_s_fl1.append(s_fl1[i][0])\n",
        "\n",
        "proper_s_fl1[:100]\n",
        "type(proper_s_fl1[:100])\n",
        "\n",
        "import statistics\n",
        "from statistics import stdev\n",
        "from fractions import Fraction as fr\n",
        "\n",
        "print(np.mean(proper_s_fl1))\n",
        "print(statistics.median(proper_s_fl1))\n",
        "print(np.std(proper_s_fl1))\n",
        "print(statistics.variance(proper_s_fl1))\n",
        "\n",
        "ordered= sorted(proper_s_fl1)\n",
        "i= round(len(ordered)*0.05)\n",
        "lower = ordered[i]\n",
        "i= round(len(ordered)*0.95)\n",
        "upper= ordered[i]\n",
        "\n",
        "print(lower)\n",
        "print(upper)\n"
      ]
    },
    {
      "cell_type": "code",
      "execution_count": null,
      "id": "e83693f3",
      "metadata": {
        "id": "e83693f3",
        "outputId": "f8b711df-341f-4cea-b3c3-609685bbf30d",
        "colab": {
          "base_uri": "https://localhost:8080/"
        }
      },
      "outputs": [
        {
          "output_type": "stream",
          "name": "stdout",
          "text": [
            "259288.4513874061\n",
            "237818.6015625\n",
            "162978.79901088454\n",
            "26562272314.94482\n",
            "11159.400390625\n",
            "563853.625\n"
          ]
        }
      ],
      "source": [
        "s = FlowCal.io.FCSData('02-blank-C10-3.fcs')\n",
        "s\n",
        "\n",
        "s_fl1 = s[:, ['FL1-H']]\n",
        "s_fl1\n",
        "\n",
        "s_fl1 = s_fl1.tolist()\n",
        "s_fl1[0][0]\n",
        "\n",
        "proper_s_fl1 = []\n",
        "for i in range(len(s_fl1)):\n",
        "    proper_s_fl1.append(s_fl1[i][0])\n",
        "\n",
        "proper_s_fl1[:100]\n",
        "type(proper_s_fl1[:100])\n",
        "\n",
        "import statistics\n",
        "from statistics import stdev\n",
        "from fractions import Fraction as fr\n",
        "\n",
        "print(np.mean(proper_s_fl1))\n",
        "print(statistics.median(proper_s_fl1))\n",
        "print(np.std(proper_s_fl1))\n",
        "print(statistics.variance(proper_s_fl1))\n",
        "\n",
        "ordered= sorted(proper_s_fl1)\n",
        "i= round(len(ordered)*0.05)\n",
        "lower = ordered[i]\n",
        "i= round(len(ordered)*0.95)\n",
        "upper= ordered[i]\n",
        "\n",
        "print(lower)\n",
        "print(upper)\n"
      ]
    },
    {
      "cell_type": "code",
      "execution_count": null,
      "id": "e2268b4a",
      "metadata": {
        "id": "e2268b4a",
        "outputId": "110d3b45-f7c9-4f9e-dac9-9b81198eac2e",
        "colab": {
          "base_uri": "https://localhost:8080/"
        }
      },
      "outputs": [
        {
          "output_type": "stream",
          "name": "stdout",
          "text": [
            "417276.75471663405\n",
            "356995.6875\n",
            "299298.85484009446\n",
            "89580013442.0552\n",
            "2681.300048828125\n",
            "974619.5\n"
          ]
        }
      ],
      "source": [
        "s = FlowCal.io.FCSData('04-blank-C10-3.fcs')\n",
        "s\n",
        "\n",
        "s_fl1 = s[:, ['FL1-H']]\n",
        "s_fl1\n",
        "\n",
        "s_fl1 = s_fl1.tolist()\n",
        "s_fl1[0][0]\n",
        "\n",
        "proper_s_fl1 = []\n",
        "for i in range(len(s_fl1)):\n",
        "    proper_s_fl1.append(s_fl1[i][0])\n",
        "\n",
        "proper_s_fl1[:100]\n",
        "type(proper_s_fl1[:100])\n",
        "\n",
        "import statistics\n",
        "from statistics import stdev\n",
        "from fractions import Fraction as fr\n",
        "\n",
        "print(np.mean(proper_s_fl1))\n",
        "print(statistics.median(proper_s_fl1))\n",
        "print(np.std(proper_s_fl1))\n",
        "print(statistics.variance(proper_s_fl1))\n",
        "\n",
        "ordered= sorted(proper_s_fl1)\n",
        "i= round(len(ordered)*0.05)\n",
        "lower = ordered[i]\n",
        "i= round(len(ordered)*0.95)\n",
        "upper= ordered[i]\n",
        "\n",
        "print(lower)\n",
        "print(upper)\n"
      ]
    },
    {
      "cell_type": "code",
      "execution_count": null,
      "id": "7d495413",
      "metadata": {
        "id": "7d495413",
        "outputId": "0190f9d8-5911-4faf-9343-832c5e2c4920",
        "colab": {
          "base_uri": "https://localhost:8080/"
        }
      },
      "outputs": [
        {
          "output_type": "stream",
          "name": "stdout",
          "text": [
            "291223.3920738721\n",
            "236769.296875\n",
            "231141.26231339807\n",
            "53426607135.84531\n",
            "2548.10009765625\n",
            "736766.5\n"
          ]
        }
      ],
      "source": [
        "s = FlowCal.io.FCSData('02-blank-C10-4.fcs')\n",
        "s\n",
        "\n",
        "s_fl1 = s[:, ['FL1-H']]\n",
        "s_fl1\n",
        "\n",
        "s_fl1 = s_fl1.tolist()\n",
        "s_fl1[0][0]\n",
        "\n",
        "proper_s_fl1 = []\n",
        "for i in range(len(s_fl1)):\n",
        "    proper_s_fl1.append(s_fl1[i][0])\n",
        "\n",
        "proper_s_fl1[:100]\n",
        "type(proper_s_fl1[:100])\n",
        "\n",
        "import statistics\n",
        "from statistics import stdev\n",
        "from fractions import Fraction as fr\n",
        "\n",
        "print(np.mean(proper_s_fl1))\n",
        "print(statistics.median(proper_s_fl1))\n",
        "print(np.std(proper_s_fl1))\n",
        "print(statistics.variance(proper_s_fl1))\n",
        "\n",
        "ordered= sorted(proper_s_fl1)\n",
        "i= round(len(ordered)*0.05)\n",
        "lower = ordered[i]\n",
        "i= round(len(ordered)*0.95)\n",
        "upper= ordered[i]\n",
        "\n",
        "print(lower)\n",
        "print(upper)\n"
      ]
    },
    {
      "cell_type": "code",
      "execution_count": null,
      "id": "57ccd36d",
      "metadata": {
        "id": "57ccd36d",
        "outputId": "ca4b5fb4-ff75-4072-810c-c07c8305e206",
        "colab": {
          "base_uri": "https://localhost:8080/"
        }
      },
      "outputs": [
        {
          "output_type": "stream",
          "name": "stdout",
          "text": [
            "212010.24909943464\n",
            "217848.90625\n",
            "121533.32396563029\n",
            "14770457583.57406\n",
            "10299.099609375\n",
            "404036.09375\n"
          ]
        }
      ],
      "source": [
        "s = FlowCal.io.FCSData('04-blank-C10-4.fcs')\n",
        "s\n",
        "\n",
        "s_fl1 = s[:, ['FL1-H']]\n",
        "s_fl1\n",
        "\n",
        "s_fl1 = s_fl1.tolist()\n",
        "s_fl1[0][0]\n",
        "\n",
        "proper_s_fl1 = []\n",
        "for i in range(len(s_fl1)):\n",
        "    proper_s_fl1.append(s_fl1[i][0])\n",
        "\n",
        "proper_s_fl1[:100]\n",
        "type(proper_s_fl1[:100])\n",
        "\n",
        "import statistics\n",
        "from statistics import stdev\n",
        "from fractions import Fraction as fr\n",
        "\n",
        "print(np.mean(proper_s_fl1))\n",
        "print(statistics.median(proper_s_fl1))\n",
        "print(np.std(proper_s_fl1))\n",
        "print(statistics.variance(proper_s_fl1))\n",
        "\n",
        "ordered= sorted(proper_s_fl1)\n",
        "i= round(len(ordered)*0.05)\n",
        "lower = ordered[i]\n",
        "i= round(len(ordered)*0.95)\n",
        "upper= ordered[i]\n",
        "\n",
        "print(lower)\n",
        "print(upper)\n"
      ]
    },
    {
      "cell_type": "code",
      "execution_count": null,
      "id": "c723d342",
      "metadata": {
        "id": "c723d342",
        "outputId": "724c43c4-588b-4152-a9a9-ee227bb9af96",
        "colab": {
          "base_uri": "https://localhost:8080/"
        }
      },
      "outputs": [
        {
          "output_type": "stream",
          "name": "stdout",
          "text": [
            "175455.09273907545\n",
            "153366.5\n",
            "126968.70451956424\n",
            "16121169516.032091\n",
            "4841.10009765625\n",
            "419676.8125\n"
          ]
        }
      ],
      "source": [
        "s = FlowCal.io.FCSData('02-blank-C11-1.fcs')\n",
        "s\n",
        "\n",
        "s_fl1 = s[:, ['FL1-H']]\n",
        "s_fl1\n",
        "\n",
        "s_fl1 = s_fl1.tolist()\n",
        "s_fl1[0][0]\n",
        "\n",
        "proper_s_fl1 = []\n",
        "for i in range(len(s_fl1)):\n",
        "    proper_s_fl1.append(s_fl1[i][0])\n",
        "\n",
        "proper_s_fl1[:100]\n",
        "type(proper_s_fl1[:100])\n",
        "\n",
        "import statistics\n",
        "from statistics import stdev\n",
        "from fractions import Fraction as fr\n",
        "\n",
        "print(np.mean(proper_s_fl1))\n",
        "print(statistics.median(proper_s_fl1))\n",
        "print(np.std(proper_s_fl1))\n",
        "print(statistics.variance(proper_s_fl1))\n",
        "\n",
        "ordered= sorted(proper_s_fl1)\n",
        "i= round(len(ordered)*0.05)\n",
        "lower = ordered[i]\n",
        "i= round(len(ordered)*0.95)\n",
        "upper= ordered[i]\n",
        "\n",
        "print(lower)\n",
        "print(upper)\n"
      ]
    },
    {
      "cell_type": "code",
      "execution_count": null,
      "id": "cab568c0",
      "metadata": {
        "id": "cab568c0",
        "outputId": "7937253c-d20f-45cc-b396-e38f2727a192",
        "colab": {
          "base_uri": "https://localhost:8080/"
        }
      },
      "outputs": [
        {
          "output_type": "stream",
          "name": "stdout",
          "text": [
            "4679.582214963609\n",
            "472.5\n",
            "36196.825129315126\n",
            "1314974549.985645\n",
            "265.3999938964844\n",
            "1719.4000244140625\n"
          ]
        }
      ],
      "source": [
        "s = FlowCal.io.FCSData('04-blank-C11-1.fcs')\n",
        "s\n",
        "\n",
        "s_fl1 = s[:, ['FL1-H']]\n",
        "s_fl1\n",
        "\n",
        "s_fl1 = s_fl1.tolist()\n",
        "s_fl1[0][0]\n",
        "\n",
        "proper_s_fl1 = []\n",
        "for i in range(len(s_fl1)):\n",
        "    proper_s_fl1.append(s_fl1[i][0])\n",
        "\n",
        "proper_s_fl1[:100]\n",
        "type(proper_s_fl1[:100])\n",
        "\n",
        "import statistics\n",
        "from statistics import stdev\n",
        "from fractions import Fraction as fr\n",
        "\n",
        "print(np.mean(proper_s_fl1))\n",
        "print(statistics.median(proper_s_fl1))\n",
        "print(np.std(proper_s_fl1))\n",
        "print(statistics.variance(proper_s_fl1))\n",
        "\n",
        "ordered= sorted(proper_s_fl1)\n",
        "i= round(len(ordered)*0.05)\n",
        "lower = ordered[i]\n",
        "i= round(len(ordered)*0.95)\n",
        "upper= ordered[i]\n",
        "\n",
        "print(lower)\n",
        "print(upper)\n"
      ]
    },
    {
      "cell_type": "code",
      "execution_count": null,
      "id": "e0bdc212",
      "metadata": {
        "id": "e0bdc212",
        "outputId": "68a54e1e-cb01-4c32-83ee-8334c2ca69ac",
        "colab": {
          "base_uri": "https://localhost:8080/"
        }
      },
      "outputs": [
        {
          "output_type": "stream",
          "name": "stdout",
          "text": [
            "320707.26878730365\n",
            "302045.6875\n",
            "217491.61517108386\n",
            "47303024803.32674\n",
            "3898.0\n",
            "717297.0\n"
          ]
        }
      ],
      "source": [
        "s = FlowCal.io.FCSData('02-blank-C11-2.fcs')\n",
        "s\n",
        "\n",
        "s_fl1 = s[:, ['FL1-H']]\n",
        "s_fl1\n",
        "\n",
        "s_fl1 = s_fl1.tolist()\n",
        "s_fl1[0][0]\n",
        "\n",
        "proper_s_fl1 = []\n",
        "for i in range(len(s_fl1)):\n",
        "    proper_s_fl1.append(s_fl1[i][0])\n",
        "\n",
        "proper_s_fl1[:100]\n",
        "type(proper_s_fl1[:100])\n",
        "\n",
        "import statistics\n",
        "from statistics import stdev\n",
        "from fractions import Fraction as fr\n",
        "\n",
        "print(np.mean(proper_s_fl1))\n",
        "print(statistics.median(proper_s_fl1))\n",
        "print(np.std(proper_s_fl1))\n",
        "print(statistics.variance(proper_s_fl1))\n",
        "\n",
        "ordered= sorted(proper_s_fl1)\n",
        "i= round(len(ordered)*0.05)\n",
        "lower = ordered[i]\n",
        "i= round(len(ordered)*0.95)\n",
        "upper= ordered[i]\n",
        "\n",
        "print(lower)\n",
        "print(upper)\n"
      ]
    },
    {
      "cell_type": "code",
      "execution_count": null,
      "id": "85134055",
      "metadata": {
        "id": "85134055",
        "outputId": "5ac95f23-ddb4-407d-d1c3-2408b8ec0aaa",
        "colab": {
          "base_uri": "https://localhost:8080/"
        }
      },
      "outputs": [
        {
          "output_type": "stream",
          "name": "stdout",
          "text": [
            "308556.64742674056\n",
            "306788.09375\n",
            "201094.9888317269\n",
            "40439507840.491356\n",
            "6772.7001953125\n",
            "649039.875\n"
          ]
        }
      ],
      "source": [
        "s = FlowCal.io.FCSData('04-blank-C11-2.fcs')\n",
        "s\n",
        "\n",
        "s_fl1 = s[:, ['FL1-H']]\n",
        "s_fl1\n",
        "\n",
        "s_fl1 = s_fl1.tolist()\n",
        "s_fl1[0][0]\n",
        "\n",
        "proper_s_fl1 = []\n",
        "for i in range(len(s_fl1)):\n",
        "    proper_s_fl1.append(s_fl1[i][0])\n",
        "\n",
        "proper_s_fl1[:100]\n",
        "type(proper_s_fl1[:100])\n",
        "\n",
        "import statistics\n",
        "from statistics import stdev\n",
        "from fractions import Fraction as fr\n",
        "\n",
        "print(np.mean(proper_s_fl1))\n",
        "print(statistics.median(proper_s_fl1))\n",
        "print(np.std(proper_s_fl1))\n",
        "print(statistics.variance(proper_s_fl1))\n",
        "\n",
        "ordered= sorted(proper_s_fl1)\n",
        "i= round(len(ordered)*0.05)\n",
        "lower = ordered[i]\n",
        "i= round(len(ordered)*0.95)\n",
        "upper= ordered[i]\n",
        "\n",
        "print(lower)\n",
        "print(upper)\n"
      ]
    },
    {
      "cell_type": "code",
      "execution_count": null,
      "id": "a97622ec",
      "metadata": {
        "id": "a97622ec",
        "outputId": "d4f0a9ef-42c7-4ca6-ff92-ccd277960b4e",
        "colab": {
          "base_uri": "https://localhost:8080/"
        }
      },
      "outputs": [
        {
          "output_type": "stream",
          "name": "stdout",
          "text": [
            "114384.00807934004\n",
            "111360.80078125\n",
            "61052.93772020284\n",
            "3727492659.9012275\n",
            "13060.5\n",
            "210956.203125\n"
          ]
        }
      ],
      "source": [
        "s = FlowCal.io.FCSData('02-blank-C11-3.fcs')\n",
        "s\n",
        "\n",
        "s_fl1 = s[:, ['FL1-H']]\n",
        "s_fl1\n",
        "\n",
        "s_fl1 = s_fl1.tolist()\n",
        "s_fl1[0][0]\n",
        "\n",
        "proper_s_fl1 = []\n",
        "for i in range(len(s_fl1)):\n",
        "    proper_s_fl1.append(s_fl1[i][0])\n",
        "\n",
        "proper_s_fl1[:100]\n",
        "type(proper_s_fl1[:100])\n",
        "\n",
        "import statistics\n",
        "from statistics import stdev\n",
        "from fractions import Fraction as fr\n",
        "\n",
        "print(np.mean(proper_s_fl1))\n",
        "print(statistics.median(proper_s_fl1))\n",
        "print(np.std(proper_s_fl1))\n",
        "print(statistics.variance(proper_s_fl1))\n",
        "\n",
        "ordered= sorted(proper_s_fl1)\n",
        "i= round(len(ordered)*0.05)\n",
        "lower = ordered[i]\n",
        "i= round(len(ordered)*0.95)\n",
        "upper= ordered[i]\n",
        "\n",
        "print(lower)\n",
        "print(upper)\n"
      ]
    },
    {
      "cell_type": "code",
      "execution_count": null,
      "id": "33c30beb",
      "metadata": {
        "id": "33c30beb",
        "outputId": "528a0af7-9fc5-4d5c-d115-cfdd6d7ddace",
        "colab": {
          "base_uri": "https://localhost:8080/"
        }
      },
      "outputs": [
        {
          "output_type": "stream",
          "name": "stdout",
          "text": [
            "145275.52755906258\n",
            "121455.203125\n",
            "101897.77318554102\n",
            "10383188910.653694\n",
            "11830.0\n",
            "344944.90625\n"
          ]
        }
      ],
      "source": [
        "s = FlowCal.io.FCSData('04-blank-C11-3.fcs')\n",
        "s\n",
        "\n",
        "s_fl1 = s[:, ['FL1-H']]\n",
        "s_fl1\n",
        "\n",
        "s_fl1 = s_fl1.tolist()\n",
        "s_fl1[0][0]\n",
        "\n",
        "proper_s_fl1 = []\n",
        "for i in range(len(s_fl1)):\n",
        "    proper_s_fl1.append(s_fl1[i][0])\n",
        "\n",
        "proper_s_fl1[:100]\n",
        "type(proper_s_fl1[:100])\n",
        "\n",
        "import statistics\n",
        "from statistics import stdev\n",
        "from fractions import Fraction as fr\n",
        "\n",
        "print(np.mean(proper_s_fl1))\n",
        "print(statistics.median(proper_s_fl1))\n",
        "print(np.std(proper_s_fl1))\n",
        "print(statistics.variance(proper_s_fl1))\n",
        "\n",
        "ordered= sorted(proper_s_fl1)\n",
        "i= round(len(ordered)*0.05)\n",
        "lower = ordered[i]\n",
        "i= round(len(ordered)*0.95)\n",
        "upper= ordered[i]\n",
        "\n",
        "print(lower)\n",
        "print(upper)\n"
      ]
    },
    {
      "cell_type": "code",
      "execution_count": null,
      "id": "1d60fc24",
      "metadata": {
        "id": "1d60fc24",
        "outputId": "516f28e3-955b-45f2-e7b5-d4211533b2ac",
        "colab": {
          "base_uri": "https://localhost:8080/"
        }
      },
      "outputs": [
        {
          "output_type": "stream",
          "name": "stdout",
          "text": [
            "339304.7488563406\n",
            "297954.1875\n",
            "265123.7010825982\n",
            "70291030638.51279\n",
            "2729.300048828125\n",
            "842042.6875\n"
          ]
        }
      ],
      "source": [
        "s = FlowCal.io.FCSData('02-blank-C11-4.fcs')\n",
        "s\n",
        "\n",
        "s_fl1 = s[:, ['FL1-H']]\n",
        "s_fl1\n",
        "\n",
        "s_fl1 = s_fl1.tolist()\n",
        "s_fl1[0][0]\n",
        "\n",
        "proper_s_fl1 = []\n",
        "for i in range(len(s_fl1)):\n",
        "    proper_s_fl1.append(s_fl1[i][0])\n",
        "\n",
        "proper_s_fl1[:100]\n",
        "type(proper_s_fl1[:100])\n",
        "\n",
        "import statistics\n",
        "from statistics import stdev\n",
        "from fractions import Fraction as fr\n",
        "\n",
        "print(np.mean(proper_s_fl1))\n",
        "print(statistics.median(proper_s_fl1))\n",
        "print(np.std(proper_s_fl1))\n",
        "print(statistics.variance(proper_s_fl1))\n",
        "\n",
        "ordered= sorted(proper_s_fl1)\n",
        "i= round(len(ordered)*0.05)\n",
        "lower = ordered[i]\n",
        "i= round(len(ordered)*0.95)\n",
        "upper= ordered[i]\n",
        "\n",
        "print(lower)\n",
        "print(upper)\n"
      ]
    },
    {
      "cell_type": "code",
      "execution_count": null,
      "id": "3642a3ad",
      "metadata": {
        "id": "3642a3ad",
        "outputId": "840949b4-b4f2-4096-9733-256783271bbe",
        "colab": {
          "base_uri": "https://localhost:8080/"
        }
      },
      "outputs": [
        {
          "output_type": "stream",
          "name": "stdout",
          "text": [
            "339683.849072083\n",
            "313981.40625\n",
            "234612.83025907975\n",
            "55043384827.37166\n",
            "12201.599609375\n",
            "778869.875\n"
          ]
        }
      ],
      "source": [
        "s = FlowCal.io.FCSData('04-blank-C11-4.fcs')\n",
        "s\n",
        "\n",
        "s_fl1 = s[:, ['FL1-H']]\n",
        "s_fl1\n",
        "\n",
        "s_fl1 = s_fl1.tolist()\n",
        "s_fl1[0][0]\n",
        "\n",
        "proper_s_fl1 = []\n",
        "for i in range(len(s_fl1)):\n",
        "    proper_s_fl1.append(s_fl1[i][0])\n",
        "\n",
        "proper_s_fl1[:100]\n",
        "type(proper_s_fl1[:100])\n",
        "\n",
        "import statistics\n",
        "from statistics import stdev\n",
        "from fractions import Fraction as fr\n",
        "\n",
        "print(np.mean(proper_s_fl1))\n",
        "print(statistics.median(proper_s_fl1))\n",
        "print(np.std(proper_s_fl1))\n",
        "print(statistics.variance(proper_s_fl1))\n",
        "\n",
        "ordered= sorted(proper_s_fl1)\n",
        "i= round(len(ordered)*0.05)\n",
        "lower = ordered[i]\n",
        "i= round(len(ordered)*0.95)\n",
        "upper= ordered[i]\n",
        "\n",
        "print(lower)\n",
        "print(upper)\n"
      ]
    },
    {
      "cell_type": "code",
      "execution_count": null,
      "id": "ebbf72e8",
      "metadata": {
        "id": "ebbf72e8",
        "outputId": "bb8f18cb-565d-49ca-ee9f-b52aff24e82d",
        "colab": {
          "base_uri": "https://localhost:8080/"
        }
      },
      "outputs": [
        {
          "output_type": "stream",
          "name": "stdout",
          "text": [
            "11009.825626954405\n",
            "442.0\n",
            "75390.17153722567\n",
            "5683698893.219275\n",
            "265.0\n",
            "29534.30078125\n"
          ]
        }
      ],
      "source": [
        "s = FlowCal.io.FCSData('02-blank-E2-1.fcs')\n",
        "s\n",
        "\n",
        "s_fl1 = s[:, ['FL1-H']]\n",
        "s_fl1\n",
        "\n",
        "s_fl1 = s_fl1.tolist()\n",
        "s_fl1[0][0]\n",
        "\n",
        "proper_s_fl1 = []\n",
        "for i in range(len(s_fl1)):\n",
        "    proper_s_fl1.append(s_fl1[i][0])\n",
        "\n",
        "proper_s_fl1[:100]\n",
        "type(proper_s_fl1[:100])\n",
        "\n",
        "import statistics\n",
        "from statistics import stdev\n",
        "from fractions import Fraction as fr\n",
        "\n",
        "print(np.mean(proper_s_fl1))\n",
        "print(statistics.median(proper_s_fl1))\n",
        "print(np.std(proper_s_fl1))\n",
        "print(statistics.variance(proper_s_fl1))\n",
        "\n",
        "ordered= sorted(proper_s_fl1)\n",
        "i= round(len(ordered)*0.05)\n",
        "lower = ordered[i]\n",
        "i= round(len(ordered)*0.95)\n",
        "upper= ordered[i]\n",
        "\n",
        "print(lower)\n",
        "print(upper)\n"
      ]
    },
    {
      "cell_type": "code",
      "execution_count": null,
      "id": "dfac52c4",
      "metadata": {
        "id": "dfac52c4",
        "outputId": "19af7629-a083-4851-ec20-e7044fb5eca6",
        "colab": {
          "base_uri": "https://localhost:8080/"
        }
      },
      "outputs": [
        {
          "output_type": "stream",
          "name": "stdout",
          "text": [
            "3951.818904782751\n",
            "473.25\n",
            "28889.96366616327\n",
            "836690815.4486096\n",
            "275.70001220703125\n",
            "2306.300048828125\n"
          ]
        }
      ],
      "source": [
        "s = FlowCal.io.FCSData('04-blank-E2-1.fcs')\n",
        "s\n",
        "\n",
        "s_fl1 = s[:, ['FL1-H']]\n",
        "s_fl1\n",
        "\n",
        "s_fl1 = s_fl1.tolist()\n",
        "s_fl1[0][0]\n",
        "\n",
        "proper_s_fl1 = []\n",
        "for i in range(len(s_fl1)):\n",
        "    proper_s_fl1.append(s_fl1[i][0])\n",
        "\n",
        "proper_s_fl1[:100]\n",
        "type(proper_s_fl1[:100])\n",
        "\n",
        "import statistics\n",
        "from statistics import stdev\n",
        "from fractions import Fraction as fr\n",
        "\n",
        "print(np.mean(proper_s_fl1))\n",
        "print(statistics.median(proper_s_fl1))\n",
        "print(np.std(proper_s_fl1))\n",
        "print(statistics.variance(proper_s_fl1))\n",
        "\n",
        "ordered= sorted(proper_s_fl1)\n",
        "i= round(len(ordered)*0.05)\n",
        "lower = ordered[i]\n",
        "i= round(len(ordered)*0.95)\n",
        "upper= ordered[i]\n",
        "\n",
        "print(lower)\n",
        "print(upper)\n"
      ]
    },
    {
      "cell_type": "code",
      "execution_count": null,
      "id": "6b570e1a",
      "metadata": {
        "id": "6b570e1a",
        "outputId": "b50e13e9-2ff5-485f-98b6-cee96b598371",
        "colab": {
          "base_uri": "https://localhost:8080/"
        }
      },
      "outputs": [
        {
          "output_type": "stream",
          "name": "stdout",
          "text": [
            "11124.91672101813\n",
            "455.3999938964844\n",
            "78105.84063760383\n",
            "6100552999.600708\n",
            "281.6000061035156\n",
            "26604.400390625\n"
          ]
        }
      ],
      "source": [
        "s = FlowCal.io.FCSData('02-blank-E2-2.fcs')\n",
        "s\n",
        "\n",
        "s_fl1 = s[:, ['FL1-H']]\n",
        "s_fl1\n",
        "\n",
        "s_fl1 = s_fl1.tolist()\n",
        "s_fl1[0][0]\n",
        "\n",
        "proper_s_fl1 = []\n",
        "for i in range(len(s_fl1)):\n",
        "    proper_s_fl1.append(s_fl1[i][0])\n",
        "\n",
        "proper_s_fl1[:100]\n",
        "type(proper_s_fl1[:100])\n",
        "\n",
        "import statistics\n",
        "from statistics import stdev\n",
        "from fractions import Fraction as fr\n",
        "\n",
        "print(np.mean(proper_s_fl1))\n",
        "print(statistics.median(proper_s_fl1))\n",
        "print(np.std(proper_s_fl1))\n",
        "print(statistics.variance(proper_s_fl1))\n",
        "\n",
        "ordered= sorted(proper_s_fl1)\n",
        "i= round(len(ordered)*0.05)\n",
        "lower = ordered[i]\n",
        "i= round(len(ordered)*0.95)\n",
        "upper= ordered[i]\n",
        "\n",
        "print(lower)\n",
        "print(upper)\n"
      ]
    },
    {
      "cell_type": "code",
      "execution_count": null,
      "id": "005265ba",
      "metadata": {
        "id": "005265ba",
        "outputId": "379c368e-8100-4d27-e6e3-da7f42503752",
        "colab": {
          "base_uri": "https://localhost:8080/"
        }
      },
      "outputs": [
        {
          "output_type": "stream",
          "name": "stdout",
          "text": [
            "8639.338491319622\n",
            "459.6000061035156\n",
            "70507.85604353649\n",
            "4971377578.50918\n",
            "286.6000061035156\n",
            "6535.89990234375\n"
          ]
        }
      ],
      "source": [
        "s = FlowCal.io.FCSData('04-blank-E2-2.fcs')\n",
        "s\n",
        "\n",
        "s_fl1 = s[:, ['FL1-H']]\n",
        "s_fl1\n",
        "\n",
        "s_fl1 = s_fl1.tolist()\n",
        "s_fl1[0][0]\n",
        "\n",
        "proper_s_fl1 = []\n",
        "for i in range(len(s_fl1)):\n",
        "    proper_s_fl1.append(s_fl1[i][0])\n",
        "\n",
        "proper_s_fl1[:100]\n",
        "type(proper_s_fl1[:100])\n",
        "\n",
        "import statistics\n",
        "from statistics import stdev\n",
        "from fractions import Fraction as fr\n",
        "\n",
        "print(np.mean(proper_s_fl1))\n",
        "print(statistics.median(proper_s_fl1))\n",
        "print(np.std(proper_s_fl1))\n",
        "print(statistics.variance(proper_s_fl1))\n",
        "\n",
        "ordered= sorted(proper_s_fl1)\n",
        "i= round(len(ordered)*0.05)\n",
        "lower = ordered[i]\n",
        "i= round(len(ordered)*0.95)\n",
        "upper= ordered[i]\n",
        "\n",
        "print(lower)\n",
        "print(upper)\n"
      ]
    },
    {
      "cell_type": "code",
      "execution_count": null,
      "id": "17e194e0",
      "metadata": {
        "id": "17e194e0",
        "outputId": "a52e2c07-5552-4c25-8f6a-6ffabfa46faf",
        "colab": {
          "base_uri": "https://localhost:8080/"
        }
      },
      "outputs": [
        {
          "output_type": "stream",
          "name": "stdout",
          "text": [
            "274543.01293851866\n",
            "289634.953125\n",
            "185895.4090558857\n",
            "34557442179.09434\n",
            "509.1000061035156\n",
            "568554.3125\n"
          ]
        }
      ],
      "source": [
        "s = FlowCal.io.FCSData('02-blank-E2-3.fcs')\n",
        "s\n",
        "\n",
        "s_fl1 = s[:, ['FL1-H']]\n",
        "s_fl1\n",
        "\n",
        "s_fl1 = s_fl1.tolist()\n",
        "s_fl1[0][0]\n",
        "\n",
        "proper_s_fl1 = []\n",
        "for i in range(len(s_fl1)):\n",
        "    proper_s_fl1.append(s_fl1[i][0])\n",
        "\n",
        "proper_s_fl1[:100]\n",
        "type(proper_s_fl1[:100])\n",
        "\n",
        "import statistics\n",
        "from statistics import stdev\n",
        "from fractions import Fraction as fr\n",
        "\n",
        "print(np.mean(proper_s_fl1))\n",
        "print(statistics.median(proper_s_fl1))\n",
        "print(np.std(proper_s_fl1))\n",
        "print(statistics.variance(proper_s_fl1))\n",
        "\n",
        "ordered= sorted(proper_s_fl1)\n",
        "i= round(len(ordered)*0.05)\n",
        "lower = ordered[i]\n",
        "i= round(len(ordered)*0.95)\n",
        "upper= ordered[i]\n",
        "\n",
        "print(lower)\n",
        "print(upper)\n"
      ]
    },
    {
      "cell_type": "code",
      "execution_count": null,
      "id": "bb4b0197",
      "metadata": {
        "id": "bb4b0197",
        "outputId": "323d2b23-3478-4b1d-b246-391a034282ce",
        "colab": {
          "base_uri": "https://localhost:8080/"
        }
      },
      "outputs": [
        {
          "output_type": "stream",
          "name": "stdout",
          "text": [
            "381979.7803298418\n",
            "392130.09375\n",
            "250515.70362965402\n",
            "62758268822.00416\n",
            "484.0\n",
            "785778.8125\n"
          ]
        }
      ],
      "source": [
        "s = FlowCal.io.FCSData('04-blank-E2-3.fcs')\n",
        "s\n",
        "\n",
        "s_fl1 = s[:, ['FL1-H']]\n",
        "s_fl1\n",
        "\n",
        "s_fl1 = s_fl1.tolist()\n",
        "s_fl1[0][0]\n",
        "\n",
        "proper_s_fl1 = []\n",
        "for i in range(len(s_fl1)):\n",
        "    proper_s_fl1.append(s_fl1[i][0])\n",
        "\n",
        "proper_s_fl1[:100]\n",
        "type(proper_s_fl1[:100])\n",
        "\n",
        "import statistics\n",
        "from statistics import stdev\n",
        "from fractions import Fraction as fr\n",
        "\n",
        "print(np.mean(proper_s_fl1))\n",
        "print(statistics.median(proper_s_fl1))\n",
        "print(np.std(proper_s_fl1))\n",
        "print(statistics.variance(proper_s_fl1))\n",
        "\n",
        "ordered= sorted(proper_s_fl1)\n",
        "i= round(len(ordered)*0.05)\n",
        "lower = ordered[i]\n",
        "i= round(len(ordered)*0.95)\n",
        "upper= ordered[i]\n",
        "\n",
        "print(lower)\n",
        "print(upper)\n"
      ]
    },
    {
      "cell_type": "code",
      "execution_count": null,
      "id": "c083a517",
      "metadata": {
        "id": "c083a517",
        "outputId": "6da7de90-0eb7-42dc-80fd-6992e2ff7f19",
        "colab": {
          "base_uri": "https://localhost:8080/"
        }
      },
      "outputs": [
        {
          "output_type": "stream",
          "name": "stdout",
          "text": [
            "283220.7666511985\n",
            "277883.0\n",
            "185360.73919475096\n",
            "34358777133.332993\n",
            "515.0999755859375\n",
            "591650.6875\n"
          ]
        }
      ],
      "source": [
        "s = FlowCal.io.FCSData('02-blank-E2-4.fcs')\n",
        "s\n",
        "\n",
        "s_fl1 = s[:, ['FL1-H']]\n",
        "s_fl1\n",
        "\n",
        "s_fl1 = s_fl1.tolist()\n",
        "s_fl1[0][0]\n",
        "\n",
        "proper_s_fl1 = []\n",
        "for i in range(len(s_fl1)):\n",
        "    proper_s_fl1.append(s_fl1[i][0])\n",
        "\n",
        "proper_s_fl1[:100]\n",
        "type(proper_s_fl1[:100])\n",
        "\n",
        "import statistics\n",
        "from statistics import stdev\n",
        "from fractions import Fraction as fr\n",
        "\n",
        "print(np.mean(proper_s_fl1))\n",
        "print(statistics.median(proper_s_fl1))\n",
        "print(np.std(proper_s_fl1))\n",
        "print(statistics.variance(proper_s_fl1))\n",
        "\n",
        "ordered= sorted(proper_s_fl1)\n",
        "i= round(len(ordered)*0.05)\n",
        "lower = ordered[i]\n",
        "i= round(len(ordered)*0.95)\n",
        "upper= ordered[i]\n",
        "\n",
        "print(lower)\n",
        "print(upper)\n"
      ]
    },
    {
      "cell_type": "code",
      "execution_count": null,
      "id": "2ba09657",
      "metadata": {
        "id": "2ba09657",
        "outputId": "f2ed490c-31a4-43fd-f76c-e76367d5c0c0",
        "colab": {
          "base_uri": "https://localhost:8080/"
        }
      },
      "outputs": [
        {
          "output_type": "stream",
          "name": "stdout",
          "text": [
            "340694.5074452683\n",
            "355059.3125\n",
            "226365.1270580399\n",
            "51241426853.97495\n",
            "470.5\n",
            "696563.6875\n"
          ]
        }
      ],
      "source": [
        "s = FlowCal.io.FCSData('04-blank-E2-4.fcs')\n",
        "s\n",
        "\n",
        "s_fl1 = s[:, ['FL1-H']]\n",
        "s_fl1\n",
        "\n",
        "s_fl1 = s_fl1.tolist()\n",
        "s_fl1[0][0]\n",
        "\n",
        "proper_s_fl1 = []\n",
        "for i in range(len(s_fl1)):\n",
        "    proper_s_fl1.append(s_fl1[i][0])\n",
        "\n",
        "proper_s_fl1[:100]\n",
        "type(proper_s_fl1[:100])\n",
        "\n",
        "import statistics\n",
        "from statistics import stdev\n",
        "from fractions import Fraction as fr\n",
        "\n",
        "print(np.mean(proper_s_fl1))\n",
        "print(statistics.median(proper_s_fl1))\n",
        "print(np.std(proper_s_fl1))\n",
        "print(statistics.variance(proper_s_fl1))\n",
        "\n",
        "ordered= sorted(proper_s_fl1)\n",
        "i= round(len(ordered)*0.05)\n",
        "lower = ordered[i]\n",
        "i= round(len(ordered)*0.95)\n",
        "upper= ordered[i]\n",
        "\n",
        "print(lower)\n",
        "print(upper)\n"
      ]
    },
    {
      "cell_type": "code",
      "execution_count": null,
      "id": "a587c9c7",
      "metadata": {
        "id": "a587c9c7",
        "outputId": "f1586311-0f0e-438b-8b25-7b13c567723b",
        "colab": {
          "base_uri": "https://localhost:8080/"
        }
      },
      "outputs": [
        {
          "output_type": "stream",
          "name": "stdout",
          "text": [
            "23764.006990362202\n",
            "4671.75\n",
            "60377.52771070552\n",
            "3645456061.7023287\n",
            "338.6000061035156\n",
            "80493.296875\n"
          ]
        }
      ],
      "source": [
        "s = FlowCal.io.FCSData('02-blank-E3-1.fcs')\n",
        "s\n",
        "\n",
        "s_fl1 = s[:, ['FL1-H']]\n",
        "s_fl1\n",
        "\n",
        "s_fl1 = s_fl1.tolist()\n",
        "s_fl1[0][0]\n",
        "\n",
        "proper_s_fl1 = []\n",
        "for i in range(len(s_fl1)):\n",
        "    proper_s_fl1.append(s_fl1[i][0])\n",
        "\n",
        "proper_s_fl1[:100]\n",
        "type(proper_s_fl1[:100])\n",
        "\n",
        "import statistics\n",
        "from statistics import stdev\n",
        "from fractions import Fraction as fr\n",
        "\n",
        "print(np.mean(proper_s_fl1))\n",
        "print(statistics.median(proper_s_fl1))\n",
        "print(np.std(proper_s_fl1))\n",
        "print(statistics.variance(proper_s_fl1))\n",
        "\n",
        "ordered= sorted(proper_s_fl1)\n",
        "i= round(len(ordered)*0.05)\n",
        "lower = ordered[i]\n",
        "i= round(len(ordered)*0.95)\n",
        "upper= ordered[i]\n",
        "\n",
        "print(lower)\n",
        "print(upper)\n"
      ]
    },
    {
      "cell_type": "code",
      "execution_count": null,
      "id": "fbf8b645",
      "metadata": {
        "id": "fbf8b645",
        "outputId": "73afb8fb-22e2-4983-90b3-55bbd36a0a76",
        "colab": {
          "base_uri": "https://localhost:8080/"
        }
      },
      "outputs": [
        {
          "output_type": "stream",
          "name": "stdout",
          "text": [
            "2090.0342677124363\n",
            "500.0\n",
            "14141.449438417452\n",
            "200539197.22551653\n",
            "263.79998779296875\n",
            "1692.300048828125\n"
          ]
        }
      ],
      "source": [
        "s = FlowCal.io.FCSData('04-blank-E3-1.fcs')\n",
        "s\n",
        "\n",
        "s_fl1 = s[:, ['FL1-H']]\n",
        "s_fl1\n",
        "\n",
        "s_fl1 = s_fl1.tolist()\n",
        "s_fl1[0][0]\n",
        "\n",
        "proper_s_fl1 = []\n",
        "for i in range(len(s_fl1)):\n",
        "    proper_s_fl1.append(s_fl1[i][0])\n",
        "\n",
        "proper_s_fl1[:100]\n",
        "type(proper_s_fl1[:100])\n",
        "\n",
        "import statistics\n",
        "from statistics import stdev\n",
        "from fractions import Fraction as fr\n",
        "\n",
        "print(np.mean(proper_s_fl1))\n",
        "print(statistics.median(proper_s_fl1))\n",
        "print(np.std(proper_s_fl1))\n",
        "print(statistics.variance(proper_s_fl1))\n",
        "\n",
        "ordered= sorted(proper_s_fl1)\n",
        "i= round(len(ordered)*0.05)\n",
        "lower = ordered[i]\n",
        "i= round(len(ordered)*0.95)\n",
        "upper= ordered[i]\n",
        "\n",
        "print(lower)\n",
        "print(upper)\n"
      ]
    },
    {
      "cell_type": "code",
      "execution_count": null,
      "id": "65be4820",
      "metadata": {
        "id": "65be4820",
        "outputId": "d7195296-9ba0-45cd-ba18-fc6075b76095",
        "colab": {
          "base_uri": "https://localhost:8080/"
        }
      },
      "outputs": [
        {
          "output_type": "stream",
          "name": "stdout",
          "text": [
            "25486.82480361719\n",
            "5539.64990234375\n",
            "64808.396027288385\n",
            "4200147511.626204\n",
            "373.29998779296875\n",
            "75346.0\n"
          ]
        }
      ],
      "source": [
        "s = FlowCal.io.FCSData('02-blank-E3-2.fcs')\n",
        "s\n",
        "\n",
        "s_fl1 = s[:, ['FL1-H']]\n",
        "s_fl1\n",
        "\n",
        "s_fl1 = s_fl1.tolist()\n",
        "s_fl1[0][0]\n",
        "\n",
        "proper_s_fl1 = []\n",
        "for i in range(len(s_fl1)):\n",
        "    proper_s_fl1.append(s_fl1[i][0])\n",
        "\n",
        "proper_s_fl1[:100]\n",
        "type(proper_s_fl1[:100])\n",
        "\n",
        "import statistics\n",
        "from statistics import stdev\n",
        "from fractions import Fraction as fr\n",
        "\n",
        "print(np.mean(proper_s_fl1))\n",
        "print(statistics.median(proper_s_fl1))\n",
        "print(np.std(proper_s_fl1))\n",
        "print(statistics.variance(proper_s_fl1))\n",
        "\n",
        "ordered= sorted(proper_s_fl1)\n",
        "i= round(len(ordered)*0.05)\n",
        "lower = ordered[i]\n",
        "i= round(len(ordered)*0.95)\n",
        "upper= ordered[i]\n",
        "\n",
        "print(lower)\n",
        "print(upper)\n"
      ]
    },
    {
      "cell_type": "code",
      "execution_count": null,
      "id": "f1442a74",
      "metadata": {
        "id": "f1442a74",
        "outputId": "1021751c-42a2-4116-c490-82b06b027396",
        "colab": {
          "base_uri": "https://localhost:8080/"
        }
      },
      "outputs": [
        {
          "output_type": "stream",
          "name": "stdout",
          "text": [
            "25945.400487896226\n",
            "5951.349853515625\n",
            "68608.63957809476\n",
            "4707160891.642058\n",
            "384.29998779296875\n",
            "75280.796875\n"
          ]
        }
      ],
      "source": [
        "s = FlowCal.io.FCSData('04-blank-E3-2.fcs')\n",
        "s\n",
        "\n",
        "s_fl1 = s[:, ['FL1-H']]\n",
        "s_fl1\n",
        "\n",
        "s_fl1 = s_fl1.tolist()\n",
        "s_fl1[0][0]\n",
        "\n",
        "proper_s_fl1 = []\n",
        "for i in range(len(s_fl1)):\n",
        "    proper_s_fl1.append(s_fl1[i][0])\n",
        "\n",
        "proper_s_fl1[:100]\n",
        "type(proper_s_fl1[:100])\n",
        "\n",
        "import statistics\n",
        "from statistics import stdev\n",
        "from fractions import Fraction as fr\n",
        "\n",
        "print(np.mean(proper_s_fl1))\n",
        "print(statistics.median(proper_s_fl1))\n",
        "print(np.std(proper_s_fl1))\n",
        "print(statistics.variance(proper_s_fl1))\n",
        "\n",
        "ordered= sorted(proper_s_fl1)\n",
        "i= round(len(ordered)*0.05)\n",
        "lower = ordered[i]\n",
        "i= round(len(ordered)*0.95)\n",
        "upper= ordered[i]\n",
        "\n",
        "print(lower)\n",
        "print(upper)\n"
      ]
    },
    {
      "cell_type": "code",
      "execution_count": null,
      "id": "350a2f79",
      "metadata": {
        "id": "350a2f79",
        "outputId": "00fa2e16-7a8d-441c-f663-5f0baeedd390",
        "colab": {
          "base_uri": "https://localhost:8080/"
        }
      },
      "outputs": [
        {
          "output_type": "stream",
          "name": "stdout",
          "text": [
            "31569.94781435171\n",
            "7270.0\n",
            "69252.97122499891\n",
            "4796022075.490602\n",
            "420.3999938964844\n",
            "93008.703125\n"
          ]
        }
      ],
      "source": [
        "s = FlowCal.io.FCSData('02-blank-E3-3.fcs')\n",
        "s\n",
        "\n",
        "s_fl1 = s[:, ['FL1-H']]\n",
        "s_fl1\n",
        "\n",
        "s_fl1 = s_fl1.tolist()\n",
        "s_fl1[0][0]\n",
        "\n",
        "proper_s_fl1 = []\n",
        "for i in range(len(s_fl1)):\n",
        "    proper_s_fl1.append(s_fl1[i][0])\n",
        "\n",
        "proper_s_fl1[:100]\n",
        "type(proper_s_fl1[:100])\n",
        "\n",
        "import statistics\n",
        "from statistics import stdev\n",
        "from fractions import Fraction as fr\n",
        "\n",
        "print(np.mean(proper_s_fl1))\n",
        "print(statistics.median(proper_s_fl1))\n",
        "print(np.std(proper_s_fl1))\n",
        "print(statistics.variance(proper_s_fl1))\n",
        "\n",
        "ordered= sorted(proper_s_fl1)\n",
        "i= round(len(ordered)*0.05)\n",
        "lower = ordered[i]\n",
        "i= round(len(ordered)*0.95)\n",
        "upper= ordered[i]\n",
        "\n",
        "print(lower)\n",
        "print(upper)\n"
      ]
    },
    {
      "cell_type": "code",
      "execution_count": null,
      "id": "d22c3155",
      "metadata": {
        "id": "d22c3155",
        "outputId": "26cf77f8-0b0c-47cb-d0f2-fdcbb8104fd0",
        "colab": {
          "base_uri": "https://localhost:8080/"
        }
      },
      "outputs": [
        {
          "output_type": "stream",
          "name": "stdout",
          "text": [
            "30581.11459860968\n",
            "4895.89990234375\n",
            "87940.78490024606\n",
            "7733596841.444084\n",
            "387.29998779296875\n",
            "95998.5\n"
          ]
        }
      ],
      "source": [
        "s = FlowCal.io.FCSData('04-blank-E3-3.fcs')\n",
        "s\n",
        "\n",
        "s_fl1 = s[:, ['FL1-H']]\n",
        "s_fl1\n",
        "\n",
        "s_fl1 = s_fl1.tolist()\n",
        "s_fl1[0][0]\n",
        "\n",
        "proper_s_fl1 = []\n",
        "for i in range(len(s_fl1)):\n",
        "    proper_s_fl1.append(s_fl1[i][0])\n",
        "\n",
        "proper_s_fl1[:100]\n",
        "type(proper_s_fl1[:100])\n",
        "\n",
        "import statistics\n",
        "from statistics import stdev\n",
        "from fractions import Fraction as fr\n",
        "\n",
        "print(np.mean(proper_s_fl1))\n",
        "print(statistics.median(proper_s_fl1))\n",
        "print(np.std(proper_s_fl1))\n",
        "print(statistics.variance(proper_s_fl1))\n",
        "\n",
        "ordered= sorted(proper_s_fl1)\n",
        "i= round(len(ordered)*0.05)\n",
        "lower = ordered[i]\n",
        "i= round(len(ordered)*0.95)\n",
        "upper= ordered[i]\n",
        "\n",
        "print(lower)\n",
        "print(upper)\n"
      ]
    },
    {
      "cell_type": "code",
      "execution_count": null,
      "id": "454a2a7b",
      "metadata": {
        "id": "454a2a7b",
        "outputId": "c0b2f861-dd22-4d98-9a7d-0417dd989a93",
        "colab": {
          "base_uri": "https://localhost:8080/"
        }
      },
      "outputs": [
        {
          "output_type": "stream",
          "name": "stdout",
          "text": [
            "36857.24575829756\n",
            "7833.60009765625\n",
            "76452.9590946536\n",
            "5845085316.35792\n",
            "395.3999938964844\n",
            "144382.703125\n"
          ]
        }
      ],
      "source": [
        "s = FlowCal.io.FCSData('02-blank-E3-4.fcs')\n",
        "s\n",
        "\n",
        "s_fl1 = s[:, ['FL1-H']]\n",
        "s_fl1\n",
        "\n",
        "s_fl1 = s_fl1.tolist()\n",
        "s_fl1[0][0]\n",
        "\n",
        "proper_s_fl1 = []\n",
        "for i in range(len(s_fl1)):\n",
        "    proper_s_fl1.append(s_fl1[i][0])\n",
        "\n",
        "proper_s_fl1[:100]\n",
        "type(proper_s_fl1[:100])\n",
        "\n",
        "import statistics\n",
        "from statistics import stdev\n",
        "from fractions import Fraction as fr\n",
        "\n",
        "print(np.mean(proper_s_fl1))\n",
        "print(statistics.median(proper_s_fl1))\n",
        "print(np.std(proper_s_fl1))\n",
        "print(statistics.variance(proper_s_fl1))\n",
        "\n",
        "ordered= sorted(proper_s_fl1)\n",
        "i= round(len(ordered)*0.05)\n",
        "lower = ordered[i]\n",
        "i= round(len(ordered)*0.95)\n",
        "upper= ordered[i]\n",
        "\n",
        "print(lower)\n",
        "print(upper)\n"
      ]
    },
    {
      "cell_type": "code",
      "execution_count": null,
      "id": "34592520",
      "metadata": {
        "id": "34592520",
        "outputId": "ca9b12de-6b08-43e2-974b-0b12434f6319",
        "colab": {
          "base_uri": "https://localhost:8080/"
        }
      },
      "outputs": [
        {
          "output_type": "stream",
          "name": "stdout",
          "text": [
            "39357.24574712638\n",
            "7007.050048828125\n",
            "96190.6429297267\n",
            "9252672567.674225\n",
            "412.0\n",
            "140412.59375\n"
          ]
        }
      ],
      "source": [
        "s = FlowCal.io.FCSData('04-blank-E3-4.fcs')\n",
        "s\n",
        "\n",
        "s_fl1 = s[:, ['FL1-H']]\n",
        "s_fl1\n",
        "\n",
        "s_fl1 = s_fl1.tolist()\n",
        "s_fl1[0][0]\n",
        "\n",
        "proper_s_fl1 = []\n",
        "for i in range(len(s_fl1)):\n",
        "    proper_s_fl1.append(s_fl1[i][0])\n",
        "\n",
        "proper_s_fl1[:100]\n",
        "type(proper_s_fl1[:100])\n",
        "\n",
        "import statistics\n",
        "from statistics import stdev\n",
        "from fractions import Fraction as fr\n",
        "\n",
        "print(np.mean(proper_s_fl1))\n",
        "print(statistics.median(proper_s_fl1))\n",
        "print(np.std(proper_s_fl1))\n",
        "print(statistics.variance(proper_s_fl1))\n",
        "\n",
        "ordered= sorted(proper_s_fl1)\n",
        "i= round(len(ordered)*0.05)\n",
        "lower = ordered[i]\n",
        "i= round(len(ordered)*0.95)\n",
        "upper= ordered[i]\n",
        "\n",
        "print(lower)\n",
        "print(upper)\n"
      ]
    },
    {
      "cell_type": "code",
      "execution_count": null,
      "id": "b4bb7aec",
      "metadata": {
        "id": "b4bb7aec",
        "outputId": "33901cef-2cd4-48a4-ceba-a25609168afc",
        "colab": {
          "base_uri": "https://localhost:8080/"
        }
      },
      "outputs": [
        {
          "output_type": "stream",
          "name": "stdout",
          "text": [
            "1841.619665914042\n",
            "437.0\n",
            "16972.83081831879\n",
            "288078121.7583886\n",
            "265.3999938964844\n",
            "756.9000244140625\n"
          ]
        }
      ],
      "source": [
        "s = FlowCal.io.FCSData('02-blank-E4-1.fcs')\n",
        "s\n",
        "\n",
        "s_fl1 = s[:, ['FL1-H']]\n",
        "s_fl1\n",
        "\n",
        "s_fl1 = s_fl1.tolist()\n",
        "s_fl1[0][0]\n",
        "\n",
        "proper_s_fl1 = []\n",
        "for i in range(len(s_fl1)):\n",
        "    proper_s_fl1.append(s_fl1[i][0])\n",
        "\n",
        "proper_s_fl1[:100]\n",
        "type(proper_s_fl1[:100])\n",
        "\n",
        "import statistics\n",
        "from statistics import stdev\n",
        "from fractions import Fraction as fr\n",
        "\n",
        "print(np.mean(proper_s_fl1))\n",
        "print(statistics.median(proper_s_fl1))\n",
        "print(np.std(proper_s_fl1))\n",
        "print(statistics.variance(proper_s_fl1))\n",
        "\n",
        "ordered= sorted(proper_s_fl1)\n",
        "i= round(len(ordered)*0.05)\n",
        "lower = ordered[i]\n",
        "i= round(len(ordered)*0.95)\n",
        "upper= ordered[i]\n",
        "\n",
        "print(lower)\n",
        "print(upper)\n"
      ]
    },
    {
      "cell_type": "code",
      "execution_count": null,
      "id": "cce49311",
      "metadata": {
        "id": "cce49311",
        "outputId": "808b1e6b-6471-412c-88b4-a707194618b0",
        "colab": {
          "base_uri": "https://localhost:8080/"
        }
      },
      "outputs": [
        {
          "output_type": "stream",
          "name": "stdout",
          "text": [
            "1393.1992078322974\n",
            "496.3500061035156\n",
            "17395.976752048973\n",
            "302877995.22872156\n",
            "278.29998779296875\n",
            "1636.699951171875\n"
          ]
        }
      ],
      "source": [
        "s = FlowCal.io.FCSData('04-blank-E4-1.fcs')\n",
        "s\n",
        "\n",
        "s_fl1 = s[:, ['FL1-H']]\n",
        "s_fl1\n",
        "\n",
        "s_fl1 = s_fl1.tolist()\n",
        "s_fl1[0][0]\n",
        "\n",
        "proper_s_fl1 = []\n",
        "for i in range(len(s_fl1)):\n",
        "    proper_s_fl1.append(s_fl1[i][0])\n",
        "\n",
        "proper_s_fl1[:100]\n",
        "type(proper_s_fl1[:100])\n",
        "\n",
        "import statistics\n",
        "from statistics import stdev\n",
        "from fractions import Fraction as fr\n",
        "\n",
        "print(np.mean(proper_s_fl1))\n",
        "print(statistics.median(proper_s_fl1))\n",
        "print(np.std(proper_s_fl1))\n",
        "print(statistics.variance(proper_s_fl1))\n",
        "\n",
        "ordered= sorted(proper_s_fl1)\n",
        "i= round(len(ordered)*0.05)\n",
        "lower = ordered[i]\n",
        "i= round(len(ordered)*0.95)\n",
        "upper= ordered[i]\n",
        "\n",
        "print(lower)\n",
        "print(upper)\n"
      ]
    },
    {
      "cell_type": "code",
      "execution_count": null,
      "id": "a1988571",
      "metadata": {
        "id": "a1988571",
        "outputId": "23cb8fcd-6798-4020-f5df-d73228331321",
        "colab": {
          "base_uri": "https://localhost:8080/"
        }
      },
      "outputs": [
        {
          "output_type": "stream",
          "name": "stdout",
          "text": [
            "924.1341814936018\n",
            "449.20001220703125\n",
            "11645.837339491827\n",
            "135626145.89254144\n",
            "281.20001220703125\n",
            "685.9000244140625\n"
          ]
        }
      ],
      "source": [
        "s = FlowCal.io.FCSData('02-blank-E4-2.fcs')\n",
        "s\n",
        "\n",
        "s_fl1 = s[:, ['FL1-H']]\n",
        "s_fl1\n",
        "\n",
        "s_fl1 = s_fl1.tolist()\n",
        "s_fl1[0][0]\n",
        "\n",
        "proper_s_fl1 = []\n",
        "for i in range(len(s_fl1)):\n",
        "    proper_s_fl1.append(s_fl1[i][0])\n",
        "\n",
        "proper_s_fl1[:100]\n",
        "type(proper_s_fl1[:100])\n",
        "\n",
        "import statistics\n",
        "from statistics import stdev\n",
        "from fractions import Fraction as fr\n",
        "\n",
        "print(np.mean(proper_s_fl1))\n",
        "print(statistics.median(proper_s_fl1))\n",
        "print(np.std(proper_s_fl1))\n",
        "print(statistics.variance(proper_s_fl1))\n",
        "\n",
        "ordered= sorted(proper_s_fl1)\n",
        "i= round(len(ordered)*0.05)\n",
        "lower = ordered[i]\n",
        "i= round(len(ordered)*0.95)\n",
        "upper= ordered[i]\n",
        "\n",
        "print(lower)\n",
        "print(upper)\n"
      ]
    },
    {
      "cell_type": "code",
      "execution_count": null,
      "id": "5ecce7a9",
      "metadata": {
        "id": "5ecce7a9",
        "outputId": "96cbf7bb-479b-4bd2-e4de-ced539985223",
        "colab": {
          "base_uri": "https://localhost:8080/"
        }
      },
      "outputs": [
        {
          "output_type": "stream",
          "name": "stdout",
          "text": [
            "1185.5249770887303\n",
            "461.79998779296875\n",
            "11929.215822569313\n",
            "142306630.08316338\n",
            "290.5\n",
            "739.9000244140625\n"
          ]
        }
      ],
      "source": [
        "s = FlowCal.io.FCSData('04-blank-E4-2.fcs')\n",
        "s\n",
        "\n",
        "s_fl1 = s[:, ['FL1-H']]\n",
        "s_fl1\n",
        "\n",
        "s_fl1 = s_fl1.tolist()\n",
        "s_fl1[0][0]\n",
        "\n",
        "proper_s_fl1 = []\n",
        "for i in range(len(s_fl1)):\n",
        "    proper_s_fl1.append(s_fl1[i][0])\n",
        "\n",
        "proper_s_fl1[:100]\n",
        "type(proper_s_fl1[:100])\n",
        "\n",
        "import statistics\n",
        "from statistics import stdev\n",
        "from fractions import Fraction as fr\n",
        "\n",
        "print(np.mean(proper_s_fl1))\n",
        "print(statistics.median(proper_s_fl1))\n",
        "print(np.std(proper_s_fl1))\n",
        "print(statistics.variance(proper_s_fl1))\n",
        "\n",
        "ordered= sorted(proper_s_fl1)\n",
        "i= round(len(ordered)*0.05)\n",
        "lower = ordered[i]\n",
        "i= round(len(ordered)*0.95)\n",
        "upper= ordered[i]\n",
        "\n",
        "print(lower)\n",
        "print(upper)\n"
      ]
    },
    {
      "cell_type": "code",
      "execution_count": null,
      "id": "88016cc4",
      "metadata": {
        "id": "88016cc4",
        "outputId": "55035c8e-34a0-4881-f8bb-9f16131c681e",
        "colab": {
          "base_uri": "https://localhost:8080/"
        }
      },
      "outputs": [
        {
          "output_type": "stream",
          "name": "stdout",
          "text": [
            "338380.4737265078\n",
            "321614.046875\n",
            "139947.19643215853\n",
            "19585471047.439377\n",
            "154944.09375\n",
            "584320.125\n"
          ]
        }
      ],
      "source": [
        "s = FlowCal.io.FCSData('02-blank-E4-3.fcs')\n",
        "s\n",
        "\n",
        "s_fl1 = s[:, ['FL1-H']]\n",
        "s_fl1\n",
        "\n",
        "s_fl1 = s_fl1.tolist()\n",
        "s_fl1[0][0]\n",
        "\n",
        "proper_s_fl1 = []\n",
        "for i in range(len(s_fl1)):\n",
        "    proper_s_fl1.append(s_fl1[i][0])\n",
        "\n",
        "proper_s_fl1[:100]\n",
        "type(proper_s_fl1[:100])\n",
        "\n",
        "import statistics\n",
        "from statistics import stdev\n",
        "from fractions import Fraction as fr\n",
        "\n",
        "print(np.mean(proper_s_fl1))\n",
        "print(statistics.median(proper_s_fl1))\n",
        "print(np.std(proper_s_fl1))\n",
        "print(statistics.variance(proper_s_fl1))\n",
        "\n",
        "ordered= sorted(proper_s_fl1)\n",
        "i= round(len(ordered)*0.05)\n",
        "lower = ordered[i]\n",
        "i= round(len(ordered)*0.95)\n",
        "upper= ordered[i]\n",
        "\n",
        "print(lower)\n",
        "print(upper)\n"
      ]
    },
    {
      "cell_type": "code",
      "execution_count": null,
      "id": "e790132e",
      "metadata": {
        "id": "e790132e",
        "outputId": "57e7a29c-4174-411b-9501-720e2272a529",
        "colab": {
          "base_uri": "https://localhost:8080/"
        }
      },
      "outputs": [
        {
          "output_type": "stream",
          "name": "stdout",
          "text": [
            "383699.03058915824\n",
            "358875.09375\n",
            "194415.22327997434\n",
            "37797348755.498764\n",
            "128990.296875\n",
            "734641.1875\n"
          ]
        }
      ],
      "source": [
        "s = FlowCal.io.FCSData('04-blank-E4-3.fcs')\n",
        "s\n",
        "\n",
        "s_fl1 = s[:, ['FL1-H']]\n",
        "s_fl1\n",
        "\n",
        "s_fl1 = s_fl1.tolist()\n",
        "s_fl1[0][0]\n",
        "\n",
        "proper_s_fl1 = []\n",
        "for i in range(len(s_fl1)):\n",
        "    proper_s_fl1.append(s_fl1[i][0])\n",
        "\n",
        "proper_s_fl1[:100]\n",
        "type(proper_s_fl1[:100])\n",
        "\n",
        "import statistics\n",
        "from statistics import stdev\n",
        "from fractions import Fraction as fr\n",
        "\n",
        "print(np.mean(proper_s_fl1))\n",
        "print(statistics.median(proper_s_fl1))\n",
        "print(np.std(proper_s_fl1))\n",
        "print(statistics.variance(proper_s_fl1))\n",
        "\n",
        "ordered= sorted(proper_s_fl1)\n",
        "i= round(len(ordered)*0.05)\n",
        "lower = ordered[i]\n",
        "i= round(len(ordered)*0.95)\n",
        "upper= ordered[i]\n",
        "\n",
        "print(lower)\n",
        "print(upper)\n"
      ]
    },
    {
      "cell_type": "code",
      "execution_count": null,
      "id": "42742eb7",
      "metadata": {
        "id": "42742eb7",
        "outputId": "66aa9b1a-3c37-4502-c0ec-d7a52d361681",
        "colab": {
          "base_uri": "https://localhost:8080/"
        }
      },
      "outputs": [
        {
          "output_type": "stream",
          "name": "stdout",
          "text": [
            "311728.28392121487\n",
            "291438.0\n",
            "153540.97353212305\n",
            "23574986426.02378\n",
            "77594.1015625\n",
            "585614.6875\n"
          ]
        }
      ],
      "source": [
        "s = FlowCal.io.FCSData('02-blank-E4-4.fcs')\n",
        "s\n",
        "\n",
        "s_fl1 = s[:, ['FL1-H']]\n",
        "s_fl1\n",
        "\n",
        "s_fl1 = s_fl1.tolist()\n",
        "s_fl1[0][0]\n",
        "\n",
        "proper_s_fl1 = []\n",
        "for i in range(len(s_fl1)):\n",
        "    proper_s_fl1.append(s_fl1[i][0])\n",
        "\n",
        "proper_s_fl1[:100]\n",
        "type(proper_s_fl1[:100])\n",
        "\n",
        "import statistics\n",
        "from statistics import stdev\n",
        "from fractions import Fraction as fr\n",
        "\n",
        "print(np.mean(proper_s_fl1))\n",
        "print(statistics.median(proper_s_fl1))\n",
        "print(np.std(proper_s_fl1))\n",
        "print(statistics.variance(proper_s_fl1))\n",
        "\n",
        "ordered= sorted(proper_s_fl1)\n",
        "i= round(len(ordered)*0.05)\n",
        "lower = ordered[i]\n",
        "i= round(len(ordered)*0.95)\n",
        "upper= ordered[i]\n",
        "\n",
        "print(lower)\n",
        "print(upper)\n"
      ]
    },
    {
      "cell_type": "code",
      "execution_count": null,
      "id": "9f359452",
      "metadata": {
        "id": "9f359452",
        "outputId": "3cec87b7-3832-40c8-8c3a-75fca0c34139",
        "colab": {
          "base_uri": "https://localhost:8080/"
        }
      },
      "outputs": [
        {
          "output_type": "stream",
          "name": "stdout",
          "text": [
            "408157.77204730257\n",
            "388682.0\n",
            "171968.97796798853\n",
            "29573514581.27157\n",
            "174681.703125\n",
            "708884.3125\n"
          ]
        }
      ],
      "source": [
        "s = FlowCal.io.FCSData('04-blank-E4-4.fcs')\n",
        "s\n",
        "\n",
        "s_fl1 = s[:, ['FL1-H']]\n",
        "s_fl1\n",
        "\n",
        "s_fl1 = s_fl1.tolist()\n",
        "s_fl1[0][0]\n",
        "\n",
        "proper_s_fl1 = []\n",
        "for i in range(len(s_fl1)):\n",
        "    proper_s_fl1.append(s_fl1[i][0])\n",
        "\n",
        "proper_s_fl1[:100]\n",
        "type(proper_s_fl1[:100])\n",
        "\n",
        "import statistics\n",
        "from statistics import stdev\n",
        "from fractions import Fraction as fr\n",
        "\n",
        "print(np.mean(proper_s_fl1))\n",
        "print(statistics.median(proper_s_fl1))\n",
        "print(np.std(proper_s_fl1))\n",
        "print(statistics.variance(proper_s_fl1))\n",
        "\n",
        "ordered= sorted(proper_s_fl1)\n",
        "i= round(len(ordered)*0.05)\n",
        "lower = ordered[i]\n",
        "i= round(len(ordered)*0.95)\n",
        "upper= ordered[i]\n",
        "\n",
        "print(lower)\n",
        "print(upper)\n"
      ]
    },
    {
      "cell_type": "code",
      "execution_count": null,
      "id": "d0c8723c",
      "metadata": {
        "id": "d0c8723c",
        "outputId": "3fd93cc7-385f-4c09-bac1-be94b9e845fd",
        "colab": {
          "base_uri": "https://localhost:8080/"
        }
      },
      "outputs": [
        {
          "output_type": "stream",
          "name": "stdout",
          "text": [
            "24065.094787516737\n",
            "461.79998779296875\n",
            "138086.854610576\n",
            "19068053762.879517\n",
            "275.29998779296875\n",
            "17266.80078125\n"
          ]
        }
      ],
      "source": [
        "s = FlowCal.io.FCSData('02-blank-E5-1.fcs')\n",
        "s\n",
        "\n",
        "s_fl1 = s[:, ['FL1-H']]\n",
        "s_fl1\n",
        "\n",
        "s_fl1 = s_fl1.tolist()\n",
        "s_fl1[0][0]\n",
        "\n",
        "proper_s_fl1 = []\n",
        "for i in range(len(s_fl1)):\n",
        "    proper_s_fl1.append(s_fl1[i][0])\n",
        "\n",
        "proper_s_fl1[:100]\n",
        "type(proper_s_fl1[:100])\n",
        "\n",
        "import statistics\n",
        "from statistics import stdev\n",
        "from fractions import Fraction as fr\n",
        "\n",
        "print(np.mean(proper_s_fl1))\n",
        "print(statistics.median(proper_s_fl1))\n",
        "print(np.std(proper_s_fl1))\n",
        "print(statistics.variance(proper_s_fl1))\n",
        "\n",
        "ordered= sorted(proper_s_fl1)\n",
        "i= round(len(ordered)*0.05)\n",
        "lower = ordered[i]\n",
        "i= round(len(ordered)*0.95)\n",
        "upper= ordered[i]\n",
        "\n",
        "print(lower)\n",
        "print(upper)\n"
      ]
    },
    {
      "cell_type": "code",
      "execution_count": null,
      "id": "c1c44c0f",
      "metadata": {
        "id": "c1c44c0f",
        "outputId": "7cc1ad83-cb03-4297-ab06-17506f1d6c19",
        "colab": {
          "base_uri": "https://localhost:8080/"
        }
      },
      "outputs": [
        {
          "output_type": "stream",
          "name": "stdout",
          "text": [
            "848.6318519496272\n",
            "488.29998779296875\n",
            "3448.381080314765\n",
            "11902854.683672702\n",
            "282.6000061035156\n",
            "1689.5\n"
          ]
        }
      ],
      "source": [
        "s = FlowCal.io.FCSData('04-blank-E5-1.fcs')\n",
        "s\n",
        "\n",
        "s_fl1 = s[:, ['FL1-H']]\n",
        "s_fl1\n",
        "\n",
        "s_fl1 = s_fl1.tolist()\n",
        "s_fl1[0][0]\n",
        "\n",
        "proper_s_fl1 = []\n",
        "for i in range(len(s_fl1)):\n",
        "    proper_s_fl1.append(s_fl1[i][0])\n",
        "\n",
        "proper_s_fl1[:100]\n",
        "type(proper_s_fl1[:100])\n",
        "\n",
        "import statistics\n",
        "from statistics import stdev\n",
        "from fractions import Fraction as fr\n",
        "\n",
        "print(np.mean(proper_s_fl1))\n",
        "print(statistics.median(proper_s_fl1))\n",
        "print(np.std(proper_s_fl1))\n",
        "print(statistics.variance(proper_s_fl1))\n",
        "\n",
        "ordered= sorted(proper_s_fl1)\n",
        "i= round(len(ordered)*0.05)\n",
        "lower = ordered[i]\n",
        "i= round(len(ordered)*0.95)\n",
        "upper= ordered[i]\n",
        "\n",
        "print(lower)\n",
        "print(upper)\n"
      ]
    },
    {
      "cell_type": "code",
      "execution_count": null,
      "id": "15e2f66d",
      "metadata": {
        "id": "15e2f66d",
        "outputId": "08354c0f-7f7d-4796-b1db-9e8b858fa7b2",
        "colab": {
          "base_uri": "https://localhost:8080/"
        }
      },
      "outputs": [
        {
          "output_type": "stream",
          "name": "stdout",
          "text": [
            "34280.47316671404\n",
            "469.0\n",
            "168839.23659503975\n",
            "28506828600.277134\n",
            "288.20001220703125\n",
            "103988.796875\n"
          ]
        }
      ],
      "source": [
        "s = FlowCal.io.FCSData('02-blank-E5-2.fcs')\n",
        "s\n",
        "\n",
        "s_fl1 = s[:, ['FL1-H']]\n",
        "s_fl1\n",
        "\n",
        "s_fl1 = s_fl1.tolist()\n",
        "s_fl1[0][0]\n",
        "\n",
        "proper_s_fl1 = []\n",
        "for i in range(len(s_fl1)):\n",
        "    proper_s_fl1.append(s_fl1[i][0])\n",
        "\n",
        "proper_s_fl1[:100]\n",
        "type(proper_s_fl1[:100])\n",
        "\n",
        "import statistics\n",
        "from statistics import stdev\n",
        "from fractions import Fraction as fr\n",
        "\n",
        "print(np.mean(proper_s_fl1))\n",
        "print(statistics.median(proper_s_fl1))\n",
        "print(np.std(proper_s_fl1))\n",
        "print(statistics.variance(proper_s_fl1))\n",
        "\n",
        "ordered= sorted(proper_s_fl1)\n",
        "i= round(len(ordered)*0.05)\n",
        "lower = ordered[i]\n",
        "i= round(len(ordered)*0.95)\n",
        "upper= ordered[i]\n",
        "\n",
        "print(lower)\n",
        "print(upper)\n"
      ]
    },
    {
      "cell_type": "code",
      "execution_count": null,
      "id": "9b808fba",
      "metadata": {
        "id": "9b808fba",
        "outputId": "3aab27b6-de66-4799-9f97-c90308dfa7b8",
        "colab": {
          "base_uri": "https://localhost:8080/"
        }
      },
      "outputs": [
        {
          "output_type": "stream",
          "name": "stdout",
          "text": [
            "17475.897247878478\n",
            "475.79998779296875\n",
            "123659.04463494783\n",
            "15291614786.52778\n",
            "296.5\n",
            "16923.69921875\n"
          ]
        }
      ],
      "source": [
        "s = FlowCal.io.FCSData('04-blank-E5-2.fcs')\n",
        "s\n",
        "\n",
        "s_fl1 = s[:, ['FL1-H']]\n",
        "s_fl1\n",
        "\n",
        "s_fl1 = s_fl1.tolist()\n",
        "s_fl1[0][0]\n",
        "\n",
        "proper_s_fl1 = []\n",
        "for i in range(len(s_fl1)):\n",
        "    proper_s_fl1.append(s_fl1[i][0])\n",
        "\n",
        "proper_s_fl1[:100]\n",
        "type(proper_s_fl1[:100])\n",
        "\n",
        "import statistics\n",
        "from statistics import stdev\n",
        "from fractions import Fraction as fr\n",
        "\n",
        "print(np.mean(proper_s_fl1))\n",
        "print(statistics.median(proper_s_fl1))\n",
        "print(np.std(proper_s_fl1))\n",
        "print(statistics.variance(proper_s_fl1))\n",
        "\n",
        "ordered= sorted(proper_s_fl1)\n",
        "i= round(len(ordered)*0.05)\n",
        "lower = ordered[i]\n",
        "i= round(len(ordered)*0.95)\n",
        "upper= ordered[i]\n",
        "\n",
        "print(lower)\n",
        "print(upper)\n"
      ]
    },
    {
      "cell_type": "code",
      "execution_count": null,
      "id": "710c263c",
      "metadata": {
        "id": "710c263c",
        "outputId": "393ff419-9135-467c-8bf7-72217ae63082",
        "colab": {
          "base_uri": "https://localhost:8080/"
        }
      },
      "outputs": [
        {
          "output_type": "stream",
          "name": "stdout",
          "text": [
            "305461.77883185464\n",
            "313093.046875\n",
            "198108.38648065232\n",
            "39247352893.22351\n",
            "8778.099609375\n",
            "619887.0\n"
          ]
        }
      ],
      "source": [
        "s = FlowCal.io.FCSData('02-blank-E5-3.fcs')\n",
        "s\n",
        "\n",
        "s_fl1 = s[:, ['FL1-H']]\n",
        "s_fl1\n",
        "\n",
        "s_fl1 = s_fl1.tolist()\n",
        "s_fl1[0][0]\n",
        "\n",
        "proper_s_fl1 = []\n",
        "for i in range(len(s_fl1)):\n",
        "    proper_s_fl1.append(s_fl1[i][0])\n",
        "\n",
        "proper_s_fl1[:100]\n",
        "type(proper_s_fl1[:100])\n",
        "\n",
        "import statistics\n",
        "from statistics import stdev\n",
        "from fractions import Fraction as fr\n",
        "\n",
        "print(np.mean(proper_s_fl1))\n",
        "print(statistics.median(proper_s_fl1))\n",
        "print(np.std(proper_s_fl1))\n",
        "print(statistics.variance(proper_s_fl1))\n",
        "\n",
        "ordered= sorted(proper_s_fl1)\n",
        "i= round(len(ordered)*0.05)\n",
        "lower = ordered[i]\n",
        "i= round(len(ordered)*0.95)\n",
        "upper= ordered[i]\n",
        "\n",
        "print(lower)\n",
        "print(upper)\n"
      ]
    },
    {
      "cell_type": "code",
      "execution_count": null,
      "id": "4200d510",
      "metadata": {
        "id": "4200d510",
        "outputId": "2ec68349-306b-4f1a-e688-cafd2ac682ea",
        "colab": {
          "base_uri": "https://localhost:8080/"
        }
      },
      "outputs": [
        {
          "output_type": "stream",
          "name": "stdout",
          "text": [
            "425024.23357252846\n",
            "416437.15625\n",
            "285146.0655605599\n",
            "81308473612.36195\n",
            "7962.7998046875\n",
            "909471.5\n"
          ]
        }
      ],
      "source": [
        "s = FlowCal.io.FCSData('04-blank-E5-3.fcs')\n",
        "s\n",
        "\n",
        "s_fl1 = s[:, ['FL1-H']]\n",
        "s_fl1\n",
        "\n",
        "s_fl1 = s_fl1.tolist()\n",
        "s_fl1[0][0]\n",
        "\n",
        "proper_s_fl1 = []\n",
        "for i in range(len(s_fl1)):\n",
        "    proper_s_fl1.append(s_fl1[i][0])\n",
        "\n",
        "proper_s_fl1[:100]\n",
        "type(proper_s_fl1[:100])\n",
        "\n",
        "import statistics\n",
        "from statistics import stdev\n",
        "from fractions import Fraction as fr\n",
        "\n",
        "print(np.mean(proper_s_fl1))\n",
        "print(statistics.median(proper_s_fl1))\n",
        "print(np.std(proper_s_fl1))\n",
        "print(statistics.variance(proper_s_fl1))\n",
        "\n",
        "ordered= sorted(proper_s_fl1)\n",
        "i= round(len(ordered)*0.05)\n",
        "lower = ordered[i]\n",
        "i= round(len(ordered)*0.95)\n",
        "upper= ordered[i]\n",
        "\n",
        "print(lower)\n",
        "print(upper)\n"
      ]
    },
    {
      "cell_type": "code",
      "execution_count": null,
      "id": "9cfc8310",
      "metadata": {
        "id": "9cfc8310",
        "outputId": "5c3e836e-f0fc-4cb3-d0f9-46d639c92eca",
        "colab": {
          "base_uri": "https://localhost:8080/"
        }
      },
      "outputs": [
        {
          "output_type": "stream",
          "name": "stdout",
          "text": [
            "318345.0124558214\n",
            "301850.40625\n",
            "210531.17583979058\n",
            "44323578430.07602\n",
            "13638.7001953125\n",
            "659374.125\n"
          ]
        }
      ],
      "source": [
        "s = FlowCal.io.FCSData('02-blank-E5-4.fcs')\n",
        "s\n",
        "\n",
        "s_fl1 = s[:, ['FL1-H']]\n",
        "s_fl1\n",
        "\n",
        "s_fl1 = s_fl1.tolist()\n",
        "s_fl1[0][0]\n",
        "\n",
        "proper_s_fl1 = []\n",
        "for i in range(len(s_fl1)):\n",
        "    proper_s_fl1.append(s_fl1[i][0])\n",
        "\n",
        "proper_s_fl1[:100]\n",
        "type(proper_s_fl1[:100])\n",
        "\n",
        "import statistics\n",
        "from statistics import stdev\n",
        "from fractions import Fraction as fr\n",
        "\n",
        "print(np.mean(proper_s_fl1))\n",
        "print(statistics.median(proper_s_fl1))\n",
        "print(np.std(proper_s_fl1))\n",
        "print(statistics.variance(proper_s_fl1))\n",
        "\n",
        "ordered= sorted(proper_s_fl1)\n",
        "i= round(len(ordered)*0.05)\n",
        "lower = ordered[i]\n",
        "i= round(len(ordered)*0.95)\n",
        "upper= ordered[i]\n",
        "\n",
        "print(lower)\n",
        "print(upper)\n"
      ]
    },
    {
      "cell_type": "code",
      "execution_count": null,
      "id": "69f6439f",
      "metadata": {
        "id": "69f6439f",
        "outputId": "43296734-a78c-4040-fc66-43da9ccbe9d1",
        "colab": {
          "base_uri": "https://localhost:8080/"
        }
      },
      "outputs": [
        {
          "output_type": "stream",
          "name": "stdout",
          "text": [
            "364310.89391400473\n",
            "368204.6875\n",
            "230451.91936273582\n",
            "53108385424.27529\n",
            "9274.7001953125\n",
            "723085.875\n"
          ]
        }
      ],
      "source": [
        "s = FlowCal.io.FCSData('04-blank-E5-4.fcs')\n",
        "s\n",
        "\n",
        "s_fl1 = s[:, ['FL1-H']]\n",
        "s_fl1\n",
        "\n",
        "s_fl1 = s_fl1.tolist()\n",
        "s_fl1[0][0]\n",
        "\n",
        "proper_s_fl1 = []\n",
        "for i in range(len(s_fl1)):\n",
        "    proper_s_fl1.append(s_fl1[i][0])\n",
        "\n",
        "proper_s_fl1[:100]\n",
        "type(proper_s_fl1[:100])\n",
        "\n",
        "import statistics\n",
        "from statistics import stdev\n",
        "from fractions import Fraction as fr\n",
        "\n",
        "print(np.mean(proper_s_fl1))\n",
        "print(statistics.median(proper_s_fl1))\n",
        "print(np.std(proper_s_fl1))\n",
        "print(statistics.variance(proper_s_fl1))\n",
        "\n",
        "ordered= sorted(proper_s_fl1)\n",
        "i= round(len(ordered)*0.05)\n",
        "lower = ordered[i]\n",
        "i= round(len(ordered)*0.95)\n",
        "upper= ordered[i]\n",
        "\n",
        "print(lower)\n",
        "print(upper)\n"
      ]
    },
    {
      "cell_type": "code",
      "execution_count": null,
      "id": "ee2d9262",
      "metadata": {
        "id": "ee2d9262",
        "outputId": "a9f044ac-b1b8-4b61-e574-e25d7311fb4d",
        "colab": {
          "base_uri": "https://localhost:8080/"
        }
      },
      "outputs": [
        {
          "output_type": "stream",
          "name": "stdout",
          "text": [
            "3158.742021903268\n",
            "441.8999938964844\n",
            "36497.800316506284\n",
            "1332095669.8695679\n",
            "270.5\n",
            "696.0\n"
          ]
        }
      ],
      "source": [
        "s = FlowCal.io.FCSData('02-blank-E6-1.fcs')\n",
        "s\n",
        "\n",
        "s_fl1 = s[:, ['FL1-H']]\n",
        "s_fl1\n",
        "\n",
        "s_fl1 = s_fl1.tolist()\n",
        "s_fl1[0][0]\n",
        "\n",
        "proper_s_fl1 = []\n",
        "for i in range(len(s_fl1)):\n",
        "    proper_s_fl1.append(s_fl1[i][0])\n",
        "\n",
        "proper_s_fl1[:100]\n",
        "type(proper_s_fl1[:100])\n",
        "\n",
        "import statistics\n",
        "from statistics import stdev\n",
        "from fractions import Fraction as fr\n",
        "\n",
        "print(np.mean(proper_s_fl1))\n",
        "print(statistics.median(proper_s_fl1))\n",
        "print(np.std(proper_s_fl1))\n",
        "print(statistics.variance(proper_s_fl1))\n",
        "\n",
        "ordered= sorted(proper_s_fl1)\n",
        "i= round(len(ordered)*0.05)\n",
        "lower = ordered[i]\n",
        "i= round(len(ordered)*0.95)\n",
        "upper= ordered[i]\n",
        "\n",
        "print(lower)\n",
        "print(upper)\n"
      ]
    },
    {
      "cell_type": "code",
      "execution_count": null,
      "id": "c2d859f6",
      "metadata": {
        "id": "c2d859f6",
        "outputId": "1edaf853-9b83-463a-f037-880174266a98",
        "colab": {
          "base_uri": "https://localhost:8080/"
        }
      },
      "outputs": [
        {
          "output_type": "stream",
          "name": "stdout",
          "text": [
            "2099.320216803181\n",
            "508.0\n",
            "30325.714866514074\n",
            "920328191.1622807\n",
            "288.3999938964844\n",
            "1982.4000244140625\n"
          ]
        }
      ],
      "source": [
        "s = FlowCal.io.FCSData('04-blank-E6-1.fcs')\n",
        "s\n",
        "\n",
        "s_fl1 = s[:, ['FL1-H']]\n",
        "s_fl1\n",
        "\n",
        "s_fl1 = s_fl1.tolist()\n",
        "s_fl1[0][0]\n",
        "\n",
        "proper_s_fl1 = []\n",
        "for i in range(len(s_fl1)):\n",
        "    proper_s_fl1.append(s_fl1[i][0])\n",
        "\n",
        "proper_s_fl1[:100]\n",
        "type(proper_s_fl1[:100])\n",
        "\n",
        "import statistics\n",
        "from statistics import stdev\n",
        "from fractions import Fraction as fr\n",
        "\n",
        "print(np.mean(proper_s_fl1))\n",
        "print(statistics.median(proper_s_fl1))\n",
        "print(np.std(proper_s_fl1))\n",
        "print(statistics.variance(proper_s_fl1))\n",
        "\n",
        "ordered= sorted(proper_s_fl1)\n",
        "i= round(len(ordered)*0.05)\n",
        "lower = ordered[i]\n",
        "i= round(len(ordered)*0.95)\n",
        "upper= ordered[i]\n",
        "\n",
        "print(lower)\n",
        "print(upper)\n"
      ]
    },
    {
      "cell_type": "code",
      "execution_count": null,
      "id": "1a4de4a1",
      "metadata": {
        "id": "1a4de4a1",
        "outputId": "3ed0cd46-7183-43b5-c2e0-20d0f8dc2f87",
        "colab": {
          "base_uri": "https://localhost:8080/"
        }
      },
      "outputs": [
        {
          "output_type": "stream",
          "name": "stdout",
          "text": [
            "2331.0869451413714\n",
            "458.79998779296875\n",
            "43727.404660156346\n",
            "1912092932.928334\n",
            "289.29998779296875\n",
            "692.9000244140625\n"
          ]
        }
      ],
      "source": [
        "s = FlowCal.io.FCSData('02-blank-E6-2.fcs')\n",
        "s\n",
        "\n",
        "s_fl1 = s[:, ['FL1-H']]\n",
        "s_fl1\n",
        "\n",
        "s_fl1 = s_fl1.tolist()\n",
        "s_fl1[0][0]\n",
        "\n",
        "proper_s_fl1 = []\n",
        "for i in range(len(s_fl1)):\n",
        "    proper_s_fl1.append(s_fl1[i][0])\n",
        "\n",
        "proper_s_fl1[:100]\n",
        "type(proper_s_fl1[:100])\n",
        "\n",
        "import statistics\n",
        "from statistics import stdev\n",
        "from fractions import Fraction as fr\n",
        "\n",
        "print(np.mean(proper_s_fl1))\n",
        "print(statistics.median(proper_s_fl1))\n",
        "print(np.std(proper_s_fl1))\n",
        "print(statistics.variance(proper_s_fl1))\n",
        "\n",
        "ordered= sorted(proper_s_fl1)\n",
        "i= round(len(ordered)*0.05)\n",
        "lower = ordered[i]\n",
        "i= round(len(ordered)*0.95)\n",
        "upper= ordered[i]\n",
        "\n",
        "print(lower)\n",
        "print(upper)\n"
      ]
    },
    {
      "cell_type": "code",
      "execution_count": null,
      "id": "cd7771f3",
      "metadata": {
        "id": "cd7771f3",
        "outputId": "4bc3bad8-940a-428c-8322-aae018c22de9",
        "colab": {
          "base_uri": "https://localhost:8080/"
        }
      },
      "outputs": [
        {
          "output_type": "stream",
          "name": "stdout",
          "text": [
            "1785.6898730804419\n",
            "457.29998779296875\n",
            "36027.176554440935\n",
            "1297962034.1373177\n",
            "289.6000061035156\n",
            "684.5999755859375\n"
          ]
        }
      ],
      "source": [
        "s = FlowCal.io.FCSData('04-blank-E6-2.fcs')\n",
        "s\n",
        "\n",
        "s_fl1 = s[:, ['FL1-H']]\n",
        "s_fl1\n",
        "\n",
        "s_fl1 = s_fl1.tolist()\n",
        "s_fl1[0][0]\n",
        "\n",
        "proper_s_fl1 = []\n",
        "for i in range(len(s_fl1)):\n",
        "    proper_s_fl1.append(s_fl1[i][0])\n",
        "\n",
        "proper_s_fl1[:100]\n",
        "type(proper_s_fl1[:100])\n",
        "\n",
        "import statistics\n",
        "from statistics import stdev\n",
        "from fractions import Fraction as fr\n",
        "\n",
        "print(np.mean(proper_s_fl1))\n",
        "print(statistics.median(proper_s_fl1))\n",
        "print(np.std(proper_s_fl1))\n",
        "print(statistics.variance(proper_s_fl1))\n",
        "\n",
        "ordered= sorted(proper_s_fl1)\n",
        "i= round(len(ordered)*0.05)\n",
        "lower = ordered[i]\n",
        "i= round(len(ordered)*0.95)\n",
        "upper= ordered[i]\n",
        "\n",
        "print(lower)\n",
        "print(upper)\n"
      ]
    },
    {
      "cell_type": "code",
      "execution_count": null,
      "id": "241d92a1",
      "metadata": {
        "id": "241d92a1",
        "outputId": "e468979c-e70f-4e10-d9c1-126fd64fc856",
        "colab": {
          "base_uri": "https://localhost:8080/"
        }
      },
      "outputs": [
        {
          "output_type": "stream",
          "name": "stdout",
          "text": [
            "260661.32395064374\n",
            "282726.953125\n",
            "182182.70579165698\n",
            "33190993996.986267\n",
            "480.20001220703125\n",
            "539683.0\n"
          ]
        }
      ],
      "source": [
        "s = FlowCal.io.FCSData('02-blank-E6-3.fcs')\n",
        "s\n",
        "\n",
        "s_fl1 = s[:, ['FL1-H']]\n",
        "s_fl1\n",
        "\n",
        "s_fl1 = s_fl1.tolist()\n",
        "s_fl1[0][0]\n",
        "\n",
        "proper_s_fl1 = []\n",
        "for i in range(len(s_fl1)):\n",
        "    proper_s_fl1.append(s_fl1[i][0])\n",
        "\n",
        "proper_s_fl1[:100]\n",
        "type(proper_s_fl1[:100])\n",
        "\n",
        "import statistics\n",
        "from statistics import stdev\n",
        "from fractions import Fraction as fr\n",
        "\n",
        "print(np.mean(proper_s_fl1))\n",
        "print(statistics.median(proper_s_fl1))\n",
        "print(np.std(proper_s_fl1))\n",
        "print(statistics.variance(proper_s_fl1))\n",
        "\n",
        "ordered= sorted(proper_s_fl1)\n",
        "i= round(len(ordered)*0.05)\n",
        "lower = ordered[i]\n",
        "i= round(len(ordered)*0.95)\n",
        "upper= ordered[i]\n",
        "\n",
        "print(lower)\n",
        "print(upper)\n"
      ]
    },
    {
      "cell_type": "code",
      "execution_count": null,
      "id": "4b58425f",
      "metadata": {
        "id": "4b58425f",
        "outputId": "06f19eaa-7362-442f-bac2-2360c09f7c20",
        "colab": {
          "base_uri": "https://localhost:8080/"
        }
      },
      "outputs": [
        {
          "output_type": "stream",
          "name": "stdout",
          "text": [
            "384277.37721825764\n",
            "389981.6875\n",
            "236390.309533683\n",
            "55880483454.07481\n",
            "499.3999938964844\n",
            "767405.5\n"
          ]
        }
      ],
      "source": [
        "s = FlowCal.io.FCSData('04-blank-E6-3.fcs')\n",
        "s\n",
        "\n",
        "s_fl1 = s[:, ['FL1-H']]\n",
        "s_fl1\n",
        "\n",
        "s_fl1 = s_fl1.tolist()\n",
        "s_fl1[0][0]\n",
        "\n",
        "proper_s_fl1 = []\n",
        "for i in range(len(s_fl1)):\n",
        "    proper_s_fl1.append(s_fl1[i][0])\n",
        "\n",
        "proper_s_fl1[:100]\n",
        "type(proper_s_fl1[:100])\n",
        "\n",
        "import statistics\n",
        "from statistics import stdev\n",
        "from fractions import Fraction as fr\n",
        "\n",
        "print(np.mean(proper_s_fl1))\n",
        "print(statistics.median(proper_s_fl1))\n",
        "print(np.std(proper_s_fl1))\n",
        "print(statistics.variance(proper_s_fl1))\n",
        "\n",
        "ordered= sorted(proper_s_fl1)\n",
        "i= round(len(ordered)*0.05)\n",
        "lower = ordered[i]\n",
        "i= round(len(ordered)*0.95)\n",
        "upper= ordered[i]\n",
        "\n",
        "print(lower)\n",
        "print(upper)\n"
      ]
    },
    {
      "cell_type": "code",
      "execution_count": null,
      "id": "73d90c27",
      "metadata": {
        "id": "73d90c27",
        "outputId": "a38b8c75-a840-4320-ab54-376c2c2f912d",
        "colab": {
          "base_uri": "https://localhost:8080/"
        }
      },
      "outputs": [
        {
          "output_type": "stream",
          "name": "stdout",
          "text": [
            "280964.36700980435\n",
            "282315.90625\n",
            "182208.67732288598\n",
            "33200219073.88784\n",
            "525.7999877929688\n",
            "575682.375\n"
          ]
        }
      ],
      "source": [
        "s = FlowCal.io.FCSData('02-blank-E6-4.fcs')\n",
        "s\n",
        "\n",
        "s_fl1 = s[:, ['FL1-H']]\n",
        "s_fl1\n",
        "\n",
        "s_fl1 = s_fl1.tolist()\n",
        "s_fl1[0][0]\n",
        "\n",
        "proper_s_fl1 = []\n",
        "for i in range(len(s_fl1)):\n",
        "    proper_s_fl1.append(s_fl1[i][0])\n",
        "\n",
        "proper_s_fl1[:100]\n",
        "type(proper_s_fl1[:100])\n",
        "\n",
        "import statistics\n",
        "from statistics import stdev\n",
        "from fractions import Fraction as fr\n",
        "\n",
        "print(np.mean(proper_s_fl1))\n",
        "print(statistics.median(proper_s_fl1))\n",
        "print(np.std(proper_s_fl1))\n",
        "print(statistics.variance(proper_s_fl1))\n",
        "\n",
        "ordered= sorted(proper_s_fl1)\n",
        "i= round(len(ordered)*0.05)\n",
        "lower = ordered[i]\n",
        "i= round(len(ordered)*0.95)\n",
        "upper= ordered[i]\n",
        "\n",
        "print(lower)\n",
        "print(upper)\n"
      ]
    },
    {
      "cell_type": "code",
      "execution_count": null,
      "id": "7a525cfa",
      "metadata": {
        "id": "7a525cfa",
        "outputId": "62954922-7c82-4065-d80e-0f1d3eb8b9ee",
        "colab": {
          "base_uri": "https://localhost:8080/"
        }
      },
      "outputs": [
        {
          "output_type": "stream",
          "name": "stdout",
          "text": [
            "334152.6108958063\n",
            "352253.40625\n",
            "217818.59239809544\n",
            "47445156801.67743\n",
            "474.20001220703125\n",
            "667438.6875\n"
          ]
        }
      ],
      "source": [
        "s = FlowCal.io.FCSData('04-blank-E6-4.fcs')\n",
        "s\n",
        "\n",
        "s_fl1 = s[:, ['FL1-H']]\n",
        "s_fl1\n",
        "\n",
        "s_fl1 = s_fl1.tolist()\n",
        "s_fl1[0][0]\n",
        "\n",
        "proper_s_fl1 = []\n",
        "for i in range(len(s_fl1)):\n",
        "    proper_s_fl1.append(s_fl1[i][0])\n",
        "\n",
        "proper_s_fl1[:100]\n",
        "type(proper_s_fl1[:100])\n",
        "\n",
        "import statistics\n",
        "from statistics import stdev\n",
        "from fractions import Fraction as fr\n",
        "\n",
        "print(np.mean(proper_s_fl1))\n",
        "print(statistics.median(proper_s_fl1))\n",
        "print(np.std(proper_s_fl1))\n",
        "print(statistics.variance(proper_s_fl1))\n",
        "\n",
        "ordered= sorted(proper_s_fl1)\n",
        "i= round(len(ordered)*0.05)\n",
        "lower = ordered[i]\n",
        "i= round(len(ordered)*0.95)\n",
        "upper= ordered[i]\n",
        "\n",
        "print(lower)\n",
        "print(upper)\n"
      ]
    },
    {
      "cell_type": "code",
      "execution_count": null,
      "id": "8727ae5f",
      "metadata": {
        "id": "8727ae5f",
        "outputId": "365a60f8-9d26-44f2-e700-c5649ec781c9",
        "colab": {
          "base_uri": "https://localhost:8080/"
        }
      },
      "outputs": [
        {
          "output_type": "stream",
          "name": "stdout",
          "text": [
            "30895.729052696457\n",
            "484.5\n",
            "126018.76700800056\n",
            "15880806901.667343\n",
            "278.20001220703125\n",
            "179289.296875\n"
          ]
        }
      ],
      "source": [
        "s = FlowCal.io.FCSData('02-blank-E7-1.fcs')\n",
        "s\n",
        "\n",
        "s_fl1 = s[:, ['FL1-H']]\n",
        "s_fl1\n",
        "\n",
        "s_fl1 = s_fl1.tolist()\n",
        "s_fl1[0][0]\n",
        "\n",
        "proper_s_fl1 = []\n",
        "for i in range(len(s_fl1)):\n",
        "    proper_s_fl1.append(s_fl1[i][0])\n",
        "\n",
        "proper_s_fl1[:100]\n",
        "type(proper_s_fl1[:100])\n",
        "\n",
        "import statistics\n",
        "from statistics import stdev\n",
        "from fractions import Fraction as fr\n",
        "\n",
        "print(np.mean(proper_s_fl1))\n",
        "print(statistics.median(proper_s_fl1))\n",
        "print(np.std(proper_s_fl1))\n",
        "print(statistics.variance(proper_s_fl1))\n",
        "\n",
        "ordered= sorted(proper_s_fl1)\n",
        "i= round(len(ordered)*0.05)\n",
        "lower = ordered[i]\n",
        "i= round(len(ordered)*0.95)\n",
        "upper= ordered[i]\n",
        "\n",
        "print(lower)\n",
        "print(upper)\n"
      ]
    },
    {
      "cell_type": "code",
      "execution_count": null,
      "id": "d79150b5",
      "metadata": {
        "id": "d79150b5",
        "outputId": "44cead47-a5b0-4d6d-fc13-6752aea3458c",
        "colab": {
          "base_uri": "https://localhost:8080/"
        }
      },
      "outputs": [
        {
          "output_type": "stream",
          "name": "stdout",
          "text": [
            "1510.1303191484205\n",
            "519.4000244140625\n",
            "20886.69848858314\n",
            "436600957.6748835\n",
            "294.3999938964844\n",
            "2069.39990234375\n"
          ]
        }
      ],
      "source": [
        "s = FlowCal.io.FCSData('04-blank-E7-1.fcs')\n",
        "s\n",
        "\n",
        "s_fl1 = s[:, ['FL1-H']]\n",
        "s_fl1\n",
        "\n",
        "s_fl1 = s_fl1.tolist()\n",
        "s_fl1[0][0]\n",
        "\n",
        "proper_s_fl1 = []\n",
        "for i in range(len(s_fl1)):\n",
        "    proper_s_fl1.append(s_fl1[i][0])\n",
        "\n",
        "proper_s_fl1[:100]\n",
        "type(proper_s_fl1[:100])\n",
        "\n",
        "import statistics\n",
        "from statistics import stdev\n",
        "from fractions import Fraction as fr\n",
        "\n",
        "print(np.mean(proper_s_fl1))\n",
        "print(statistics.median(proper_s_fl1))\n",
        "print(np.std(proper_s_fl1))\n",
        "print(statistics.variance(proper_s_fl1))\n",
        "\n",
        "ordered= sorted(proper_s_fl1)\n",
        "i= round(len(ordered)*0.05)\n",
        "lower = ordered[i]\n",
        "i= round(len(ordered)*0.95)\n",
        "upper= ordered[i]\n",
        "\n",
        "print(lower)\n",
        "print(upper)\n"
      ]
    },
    {
      "cell_type": "code",
      "execution_count": null,
      "id": "f99bdb8d",
      "metadata": {
        "id": "f99bdb8d",
        "outputId": "f4b0a4ff-3536-4ffa-e678-e5128eee7b8d",
        "colab": {
          "base_uri": "https://localhost:8080/"
        }
      },
      "outputs": [
        {
          "output_type": "stream",
          "name": "stdout",
          "text": [
            "50314.53411498788\n",
            "521.0\n",
            "178170.11770444922\n",
            "31744701589.291443\n",
            "302.3999938964844\n",
            "368400.59375\n"
          ]
        }
      ],
      "source": [
        "s = FlowCal.io.FCSData('02-blank-E7-2.fcs')\n",
        "s\n",
        "\n",
        "s_fl1 = s[:, ['FL1-H']]\n",
        "s_fl1\n",
        "\n",
        "s_fl1 = s_fl1.tolist()\n",
        "s_fl1[0][0]\n",
        "\n",
        "proper_s_fl1 = []\n",
        "for i in range(len(s_fl1)):\n",
        "    proper_s_fl1.append(s_fl1[i][0])\n",
        "\n",
        "proper_s_fl1[:100]\n",
        "type(proper_s_fl1[:100])\n",
        "\n",
        "import statistics\n",
        "from statistics import stdev\n",
        "from fractions import Fraction as fr\n",
        "\n",
        "print(np.mean(proper_s_fl1))\n",
        "print(statistics.median(proper_s_fl1))\n",
        "print(np.std(proper_s_fl1))\n",
        "print(statistics.variance(proper_s_fl1))\n",
        "\n",
        "ordered= sorted(proper_s_fl1)\n",
        "i= round(len(ordered)*0.05)\n",
        "lower = ordered[i]\n",
        "i= round(len(ordered)*0.95)\n",
        "upper= ordered[i]\n",
        "\n",
        "print(lower)\n",
        "print(upper)\n"
      ]
    },
    {
      "cell_type": "code",
      "execution_count": null,
      "id": "cad7fdcb",
      "metadata": {
        "id": "cad7fdcb",
        "outputId": "b9a4a13e-5ecb-4324-c16f-897f0bedef28",
        "colab": {
          "base_uri": "https://localhost:8080/"
        }
      },
      "outputs": [
        {
          "output_type": "stream",
          "name": "stdout",
          "text": [
            "32914.72469952494\n",
            "499.29998779296875\n",
            "141884.98230139396\n",
            "20131416729.084038\n",
            "297.29998779296875\n",
            "135088.203125\n"
          ]
        }
      ],
      "source": [
        "s = FlowCal.io.FCSData('04-blank-E7-2.fcs')\n",
        "s\n",
        "\n",
        "s_fl1 = s[:, ['FL1-H']]\n",
        "s_fl1\n",
        "\n",
        "s_fl1 = s_fl1.tolist()\n",
        "s_fl1[0][0]\n",
        "\n",
        "proper_s_fl1 = []\n",
        "for i in range(len(s_fl1)):\n",
        "    proper_s_fl1.append(s_fl1[i][0])\n",
        "\n",
        "proper_s_fl1[:100]\n",
        "type(proper_s_fl1[:100])\n",
        "\n",
        "import statistics\n",
        "from statistics import stdev\n",
        "from fractions import Fraction as fr\n",
        "\n",
        "print(np.mean(proper_s_fl1))\n",
        "print(statistics.median(proper_s_fl1))\n",
        "print(np.std(proper_s_fl1))\n",
        "print(statistics.variance(proper_s_fl1))\n",
        "\n",
        "ordered= sorted(proper_s_fl1)\n",
        "i= round(len(ordered)*0.05)\n",
        "lower = ordered[i]\n",
        "i= round(len(ordered)*0.95)\n",
        "upper= ordered[i]\n",
        "\n",
        "print(lower)\n",
        "print(upper)\n"
      ]
    },
    {
      "cell_type": "code",
      "execution_count": null,
      "id": "74dee28a",
      "metadata": {
        "id": "74dee28a",
        "outputId": "39f3fc10-ee9c-47ad-ef24-d3e7eb14136e",
        "colab": {
          "base_uri": "https://localhost:8080/"
        }
      },
      "outputs": [
        {
          "output_type": "stream",
          "name": "stdout",
          "text": [
            "154486.50417030326\n",
            "24433.1005859375\n",
            "206398.99333661085\n",
            "42600955600.94059\n",
            "358.29998779296875\n",
            "533492.5\n"
          ]
        }
      ],
      "source": [
        "s = FlowCal.io.FCSData('02-blank-E7-3.fcs')\n",
        "s\n",
        "\n",
        "s_fl1 = s[:, ['FL1-H']]\n",
        "s_fl1\n",
        "\n",
        "s_fl1 = s_fl1.tolist()\n",
        "s_fl1[0][0]\n",
        "\n",
        "proper_s_fl1 = []\n",
        "for i in range(len(s_fl1)):\n",
        "    proper_s_fl1.append(s_fl1[i][0])\n",
        "\n",
        "proper_s_fl1[:100]\n",
        "type(proper_s_fl1[:100])\n",
        "\n",
        "import statistics\n",
        "from statistics import stdev\n",
        "from fractions import Fraction as fr\n",
        "\n",
        "print(np.mean(proper_s_fl1))\n",
        "print(statistics.median(proper_s_fl1))\n",
        "print(np.std(proper_s_fl1))\n",
        "print(statistics.variance(proper_s_fl1))\n",
        "\n",
        "ordered= sorted(proper_s_fl1)\n",
        "i= round(len(ordered)*0.05)\n",
        "lower = ordered[i]\n",
        "i= round(len(ordered)*0.95)\n",
        "upper= ordered[i]\n",
        "\n",
        "print(lower)\n",
        "print(upper)\n"
      ]
    },
    {
      "cell_type": "code",
      "execution_count": null,
      "id": "07dc3d31",
      "metadata": {
        "id": "07dc3d31",
        "outputId": "40deb941-c3af-4647-d1fb-96ab6c9aa7a2",
        "colab": {
          "base_uri": "https://localhost:8080/"
        }
      },
      "outputs": [
        {
          "output_type": "stream",
          "name": "stdout",
          "text": [
            "196351.46948580755\n",
            "46481.94921875\n",
            "259078.03320647386\n",
            "67121543418.57802\n",
            "345.79998779296875\n",
            "674672.3125\n"
          ]
        }
      ],
      "source": [
        "s = FlowCal.io.FCSData('04-blank-E7-3.fcs')\n",
        "s\n",
        "\n",
        "s_fl1 = s[:, ['FL1-H']]\n",
        "s_fl1\n",
        "\n",
        "s_fl1 = s_fl1.tolist()\n",
        "s_fl1[0][0]\n",
        "\n",
        "proper_s_fl1 = []\n",
        "for i in range(len(s_fl1)):\n",
        "    proper_s_fl1.append(s_fl1[i][0])\n",
        "\n",
        "proper_s_fl1[:100]\n",
        "type(proper_s_fl1[:100])\n",
        "\n",
        "import statistics\n",
        "from statistics import stdev\n",
        "from fractions import Fraction as fr\n",
        "\n",
        "print(np.mean(proper_s_fl1))\n",
        "print(statistics.median(proper_s_fl1))\n",
        "print(np.std(proper_s_fl1))\n",
        "print(statistics.variance(proper_s_fl1))\n",
        "\n",
        "ordered= sorted(proper_s_fl1)\n",
        "i= round(len(ordered)*0.05)\n",
        "lower = ordered[i]\n",
        "i= round(len(ordered)*0.95)\n",
        "upper= ordered[i]\n",
        "\n",
        "print(lower)\n",
        "print(upper)\n"
      ]
    },
    {
      "cell_type": "code",
      "execution_count": null,
      "id": "0a37684f",
      "metadata": {
        "id": "0a37684f",
        "outputId": "04a0fb19-065a-4552-f22b-2b5ffa5e04e4",
        "colab": {
          "base_uri": "https://localhost:8080/"
        }
      },
      "outputs": [
        {
          "output_type": "stream",
          "name": "stdout",
          "text": [
            "156141.40550471004\n",
            "38798.1015625\n",
            "202663.97373711114\n",
            "41072876988.58342\n",
            "331.5\n",
            "527062.625\n"
          ]
        }
      ],
      "source": [
        "s = FlowCal.io.FCSData('02-blank-E7-4.fcs')\n",
        "s\n",
        "\n",
        "s_fl1 = s[:, ['FL1-H']]\n",
        "s_fl1\n",
        "\n",
        "s_fl1 = s_fl1.tolist()\n",
        "s_fl1[0][0]\n",
        "\n",
        "proper_s_fl1 = []\n",
        "for i in range(len(s_fl1)):\n",
        "    proper_s_fl1.append(s_fl1[i][0])\n",
        "\n",
        "proper_s_fl1[:100]\n",
        "type(proper_s_fl1[:100])\n",
        "\n",
        "import statistics\n",
        "from statistics import stdev\n",
        "from fractions import Fraction as fr\n",
        "\n",
        "print(np.mean(proper_s_fl1))\n",
        "print(statistics.median(proper_s_fl1))\n",
        "print(np.std(proper_s_fl1))\n",
        "print(statistics.variance(proper_s_fl1))\n",
        "\n",
        "ordered= sorted(proper_s_fl1)\n",
        "i= round(len(ordered)*0.05)\n",
        "lower = ordered[i]\n",
        "i= round(len(ordered)*0.95)\n",
        "upper= ordered[i]\n",
        "\n",
        "print(lower)\n",
        "print(upper)\n"
      ]
    },
    {
      "cell_type": "code",
      "execution_count": null,
      "id": "f432ee28",
      "metadata": {
        "id": "f432ee28",
        "outputId": "1d60a698-48a0-4e57-fc56-c73786a9ae4a",
        "colab": {
          "base_uri": "https://localhost:8080/"
        }
      },
      "outputs": [
        {
          "output_type": "stream",
          "name": "stdout",
          "text": [
            "173457.25146372267\n",
            "27386.349609375\n",
            "238843.56241092418\n",
            "57046457740.34195\n",
            "337.20001220703125\n",
            "608940.625\n"
          ]
        }
      ],
      "source": [
        "s = FlowCal.io.FCSData('04-blank-E7-4.fcs')\n",
        "s\n",
        "\n",
        "s_fl1 = s[:, ['FL1-H']]\n",
        "s_fl1\n",
        "\n",
        "s_fl1 = s_fl1.tolist()\n",
        "s_fl1[0][0]\n",
        "\n",
        "proper_s_fl1 = []\n",
        "for i in range(len(s_fl1)):\n",
        "    proper_s_fl1.append(s_fl1[i][0])\n",
        "\n",
        "proper_s_fl1[:100]\n",
        "type(proper_s_fl1[:100])\n",
        "\n",
        "import statistics\n",
        "from statistics import stdev\n",
        "from fractions import Fraction as fr\n",
        "\n",
        "print(np.mean(proper_s_fl1))\n",
        "print(statistics.median(proper_s_fl1))\n",
        "print(np.std(proper_s_fl1))\n",
        "print(statistics.variance(proper_s_fl1))\n",
        "\n",
        "ordered= sorted(proper_s_fl1)\n",
        "i= round(len(ordered)*0.05)\n",
        "lower = ordered[i]\n",
        "i= round(len(ordered)*0.95)\n",
        "upper= ordered[i]\n",
        "\n",
        "print(lower)\n",
        "print(upper)\n"
      ]
    },
    {
      "cell_type": "code",
      "execution_count": null,
      "id": "db51f14d",
      "metadata": {
        "id": "db51f14d",
        "outputId": "bfbedaa5-d189-4310-d8db-510dc64199a9",
        "colab": {
          "base_uri": "https://localhost:8080/"
        }
      },
      "outputs": [
        {
          "output_type": "stream",
          "name": "stdout",
          "text": [
            "1323.8471958590153\n",
            "450.3999938964844\n",
            "20680.10902597707\n",
            "427668963.8170765\n",
            "276.8999938964844\n",
            "684.7999877929688\n"
          ]
        }
      ],
      "source": [
        "s = FlowCal.io.FCSData('02-blank-E8-1.fcs')\n",
        "s\n",
        "\n",
        "s_fl1 = s[:, ['FL1-H']]\n",
        "s_fl1\n",
        "\n",
        "s_fl1 = s_fl1.tolist()\n",
        "s_fl1[0][0]\n",
        "\n",
        "proper_s_fl1 = []\n",
        "for i in range(len(s_fl1)):\n",
        "    proper_s_fl1.append(s_fl1[i][0])\n",
        "\n",
        "proper_s_fl1[:100]\n",
        "type(proper_s_fl1[:100])\n",
        "\n",
        "import statistics\n",
        "from statistics import stdev\n",
        "from fractions import Fraction as fr\n",
        "\n",
        "print(np.mean(proper_s_fl1))\n",
        "print(statistics.median(proper_s_fl1))\n",
        "print(np.std(proper_s_fl1))\n",
        "print(statistics.variance(proper_s_fl1))\n",
        "\n",
        "ordered= sorted(proper_s_fl1)\n",
        "i= round(len(ordered)*0.05)\n",
        "lower = ordered[i]\n",
        "i= round(len(ordered)*0.95)\n",
        "upper= ordered[i]\n",
        "\n",
        "print(lower)\n",
        "print(upper)\n"
      ]
    },
    {
      "cell_type": "code",
      "execution_count": null,
      "id": "31abb410",
      "metadata": {
        "id": "31abb410",
        "outputId": "3e9b1532-223c-40be-fbf7-ee15cd926035",
        "colab": {
          "base_uri": "https://localhost:8080/"
        }
      },
      "outputs": [
        {
          "output_type": "stream",
          "name": "stdout",
          "text": [
            "1546.3705498528016\n",
            "553.6999816894531\n",
            "14452.485169946229\n",
            "209019884.61022472\n",
            "315.20001220703125\n",
            "2432.5\n"
          ]
        }
      ],
      "source": [
        "s = FlowCal.io.FCSData('04-blank-E8-1.fcs')\n",
        "s\n",
        "\n",
        "s_fl1 = s[:, ['FL1-H']]\n",
        "s_fl1\n",
        "\n",
        "s_fl1 = s_fl1.tolist()\n",
        "s_fl1[0][0]\n",
        "\n",
        "proper_s_fl1 = []\n",
        "for i in range(len(s_fl1)):\n",
        "    proper_s_fl1.append(s_fl1[i][0])\n",
        "\n",
        "proper_s_fl1[:100]\n",
        "type(proper_s_fl1[:100])\n",
        "\n",
        "import statistics\n",
        "from statistics import stdev\n",
        "from fractions import Fraction as fr\n",
        "\n",
        "print(np.mean(proper_s_fl1))\n",
        "print(statistics.median(proper_s_fl1))\n",
        "print(np.std(proper_s_fl1))\n",
        "print(statistics.variance(proper_s_fl1))\n",
        "\n",
        "ordered= sorted(proper_s_fl1)\n",
        "i= round(len(ordered)*0.05)\n",
        "lower = ordered[i]\n",
        "i= round(len(ordered)*0.95)\n",
        "upper= ordered[i]\n",
        "\n",
        "print(lower)\n",
        "print(upper)\n"
      ]
    },
    {
      "cell_type": "code",
      "execution_count": null,
      "id": "3e2f0556",
      "metadata": {
        "id": "3e2f0556",
        "outputId": "03eb3017-2b72-441c-d036-c22b7d5225e9",
        "colab": {
          "base_uri": "https://localhost:8080/"
        }
      },
      "outputs": [
        {
          "output_type": "stream",
          "name": "stdout",
          "text": [
            "882.5602978178887\n",
            "455.79998779296875\n",
            "16394.954765076513\n",
            "268795586.2845737\n",
            "286.70001220703125\n",
            "673.7999877929688\n"
          ]
        }
      ],
      "source": [
        "s = FlowCal.io.FCSData('02-blank-E8-2.fcs')\n",
        "s\n",
        "\n",
        "s_fl1 = s[:, ['FL1-H']]\n",
        "s_fl1\n",
        "\n",
        "s_fl1 = s_fl1.tolist()\n",
        "s_fl1[0][0]\n",
        "\n",
        "proper_s_fl1 = []\n",
        "for i in range(len(s_fl1)):\n",
        "    proper_s_fl1.append(s_fl1[i][0])\n",
        "\n",
        "proper_s_fl1[:100]\n",
        "type(proper_s_fl1[:100])\n",
        "\n",
        "import statistics\n",
        "from statistics import stdev\n",
        "from fractions import Fraction as fr\n",
        "\n",
        "print(np.mean(proper_s_fl1))\n",
        "print(statistics.median(proper_s_fl1))\n",
        "print(np.std(proper_s_fl1))\n",
        "print(statistics.variance(proper_s_fl1))\n",
        "\n",
        "ordered= sorted(proper_s_fl1)\n",
        "i= round(len(ordered)*0.05)\n",
        "lower = ordered[i]\n",
        "i= round(len(ordered)*0.95)\n",
        "upper= ordered[i]\n",
        "\n",
        "print(lower)\n",
        "print(upper)\n"
      ]
    },
    {
      "cell_type": "code",
      "execution_count": null,
      "id": "a2eb81f2",
      "metadata": {
        "id": "a2eb81f2",
        "outputId": "199a61dd-ecdd-421e-d09b-37aef6793c33",
        "colab": {
          "base_uri": "https://localhost:8080/"
        }
      },
      "outputs": [
        {
          "output_type": "stream",
          "name": "stdout",
          "text": [
            "612.7140496828958\n",
            "454.5\n",
            "8800.327194519745\n",
            "77446016.93305202\n",
            "288.8999938964844\n",
            "667.0\n"
          ]
        }
      ],
      "source": [
        "s = FlowCal.io.FCSData('04-blank-E8-2.fcs')\n",
        "s\n",
        "\n",
        "s_fl1 = s[:, ['FL1-H']]\n",
        "s_fl1\n",
        "\n",
        "s_fl1 = s_fl1.tolist()\n",
        "s_fl1[0][0]\n",
        "\n",
        "proper_s_fl1 = []\n",
        "for i in range(len(s_fl1)):\n",
        "    proper_s_fl1.append(s_fl1[i][0])\n",
        "\n",
        "proper_s_fl1[:100]\n",
        "type(proper_s_fl1[:100])\n",
        "\n",
        "import statistics\n",
        "from statistics import stdev\n",
        "from fractions import Fraction as fr\n",
        "\n",
        "print(np.mean(proper_s_fl1))\n",
        "print(statistics.median(proper_s_fl1))\n",
        "print(np.std(proper_s_fl1))\n",
        "print(statistics.variance(proper_s_fl1))\n",
        "\n",
        "ordered= sorted(proper_s_fl1)\n",
        "i= round(len(ordered)*0.05)\n",
        "lower = ordered[i]\n",
        "i= round(len(ordered)*0.95)\n",
        "upper= ordered[i]\n",
        "\n",
        "print(lower)\n",
        "print(upper)\n"
      ]
    },
    {
      "cell_type": "code",
      "execution_count": null,
      "id": "0a3939f1",
      "metadata": {
        "id": "0a3939f1",
        "outputId": "ff34ef59-d282-49ef-9f7b-298d17e218e9",
        "colab": {
          "base_uri": "https://localhost:8080/"
        }
      },
      "outputs": [
        {
          "output_type": "stream",
          "name": "stdout",
          "text": [
            "350592.2400154494\n",
            "334874.90625\n",
            "144512.98896156208\n",
            "20884288606.519173\n",
            "168957.5\n",
            "597680.3125\n"
          ]
        }
      ],
      "source": [
        "s = FlowCal.io.FCSData('02-blank-E8-3.fcs')\n",
        "s\n",
        "\n",
        "s_fl1 = s[:, ['FL1-H']]\n",
        "s_fl1\n",
        "\n",
        "s_fl1 = s_fl1.tolist()\n",
        "s_fl1[0][0]\n",
        "\n",
        "proper_s_fl1 = []\n",
        "for i in range(len(s_fl1)):\n",
        "    proper_s_fl1.append(s_fl1[i][0])\n",
        "\n",
        "proper_s_fl1[:100]\n",
        "type(proper_s_fl1[:100])\n",
        "\n",
        "import statistics\n",
        "from statistics import stdev\n",
        "from fractions import Fraction as fr\n",
        "\n",
        "print(np.mean(proper_s_fl1))\n",
        "print(statistics.median(proper_s_fl1))\n",
        "print(np.std(proper_s_fl1))\n",
        "print(statistics.variance(proper_s_fl1))\n",
        "\n",
        "ordered= sorted(proper_s_fl1)\n",
        "i= round(len(ordered)*0.05)\n",
        "lower = ordered[i]\n",
        "i= round(len(ordered)*0.95)\n",
        "upper= ordered[i]\n",
        "\n",
        "print(lower)\n",
        "print(upper)\n"
      ]
    },
    {
      "cell_type": "code",
      "execution_count": null,
      "id": "ea803846",
      "metadata": {
        "id": "ea803846",
        "outputId": "083895a2-c333-4497-bc24-9b15f92953b5",
        "colab": {
          "base_uri": "https://localhost:8080/"
        }
      },
      "outputs": [
        {
          "output_type": "stream",
          "name": "stdout",
          "text": [
            "449572.78124728537\n",
            "421436.34375\n",
            "192058.63637988665\n",
            "36886591020.761185\n",
            "199603.59375\n",
            "798417.5\n"
          ]
        }
      ],
      "source": [
        "s = FlowCal.io.FCSData('04-blank-E8-3.fcs')\n",
        "s\n",
        "\n",
        "s_fl1 = s[:, ['FL1-H']]\n",
        "s_fl1\n",
        "\n",
        "s_fl1 = s_fl1.tolist()\n",
        "s_fl1[0][0]\n",
        "\n",
        "proper_s_fl1 = []\n",
        "for i in range(len(s_fl1)):\n",
        "    proper_s_fl1.append(s_fl1[i][0])\n",
        "\n",
        "proper_s_fl1[:100]\n",
        "type(proper_s_fl1[:100])\n",
        "\n",
        "import statistics\n",
        "from statistics import stdev\n",
        "from fractions import Fraction as fr\n",
        "\n",
        "print(np.mean(proper_s_fl1))\n",
        "print(statistics.median(proper_s_fl1))\n",
        "print(np.std(proper_s_fl1))\n",
        "print(statistics.variance(proper_s_fl1))\n",
        "\n",
        "ordered= sorted(proper_s_fl1)\n",
        "i= round(len(ordered)*0.05)\n",
        "lower = ordered[i]\n",
        "i= round(len(ordered)*0.95)\n",
        "upper= ordered[i]\n",
        "\n",
        "print(lower)\n",
        "print(upper)\n"
      ]
    },
    {
      "cell_type": "code",
      "execution_count": null,
      "id": "8b47bace",
      "metadata": {
        "id": "8b47bace",
        "outputId": "4ab1aef3-2188-45aa-b55f-3abdd64a12e5",
        "colab": {
          "base_uri": "https://localhost:8080/"
        }
      },
      "outputs": [
        {
          "output_type": "stream",
          "name": "stdout",
          "text": [
            "316124.56376183825\n",
            "292657.40625\n",
            "137022.00951203352\n",
            "18775131876.230034\n",
            "151900.296875\n",
            "566166.125\n"
          ]
        }
      ],
      "source": [
        "s = FlowCal.io.FCSData('02-blank-E8-4.fcs')\n",
        "s\n",
        "\n",
        "s_fl1 = s[:, ['FL1-H']]\n",
        "s_fl1\n",
        "\n",
        "s_fl1 = s_fl1.tolist()\n",
        "s_fl1[0][0]\n",
        "\n",
        "proper_s_fl1 = []\n",
        "for i in range(len(s_fl1)):\n",
        "    proper_s_fl1.append(s_fl1[i][0])\n",
        "\n",
        "proper_s_fl1[:100]\n",
        "type(proper_s_fl1[:100])\n",
        "\n",
        "import statistics\n",
        "from statistics import stdev\n",
        "from fractions import Fraction as fr\n",
        "\n",
        "print(np.mean(proper_s_fl1))\n",
        "print(statistics.median(proper_s_fl1))\n",
        "print(np.std(proper_s_fl1))\n",
        "print(statistics.variance(proper_s_fl1))\n",
        "\n",
        "ordered= sorted(proper_s_fl1)\n",
        "i= round(len(ordered)*0.05)\n",
        "lower = ordered[i]\n",
        "i= round(len(ordered)*0.95)\n",
        "upper= ordered[i]\n",
        "\n",
        "print(lower)\n",
        "print(upper)\n"
      ]
    },
    {
      "cell_type": "code",
      "execution_count": null,
      "id": "a5b0d1ba",
      "metadata": {
        "id": "a5b0d1ba",
        "outputId": "deb86c1f-4ce0-4e66-c21c-b5e48f951b70",
        "colab": {
          "base_uri": "https://localhost:8080/"
        }
      },
      "outputs": [
        {
          "output_type": "stream",
          "name": "stdout",
          "text": [
            "404630.8071581428\n",
            "377912.203125\n",
            "158544.61523261142\n",
            "25136484571.73311\n",
            "212245.703125\n",
            "693039.1875\n"
          ]
        }
      ],
      "source": [
        "s = FlowCal.io.FCSData('04-blank-E8-4.fcs')\n",
        "s\n",
        "\n",
        "s_fl1 = s[:, ['FL1-H']]\n",
        "s_fl1\n",
        "\n",
        "s_fl1 = s_fl1.tolist()\n",
        "s_fl1[0][0]\n",
        "\n",
        "proper_s_fl1 = []\n",
        "for i in range(len(s_fl1)):\n",
        "    proper_s_fl1.append(s_fl1[i][0])\n",
        "\n",
        "proper_s_fl1[:100]\n",
        "type(proper_s_fl1[:100])\n",
        "\n",
        "import statistics\n",
        "from statistics import stdev\n",
        "from fractions import Fraction as fr\n",
        "\n",
        "print(np.mean(proper_s_fl1))\n",
        "print(statistics.median(proper_s_fl1))\n",
        "print(np.std(proper_s_fl1))\n",
        "print(statistics.variance(proper_s_fl1))\n",
        "\n",
        "ordered= sorted(proper_s_fl1)\n",
        "i= round(len(ordered)*0.05)\n",
        "lower = ordered[i]\n",
        "i= round(len(ordered)*0.95)\n",
        "upper= ordered[i]\n",
        "\n",
        "print(lower)\n",
        "print(upper)\n"
      ]
    },
    {
      "cell_type": "code",
      "execution_count": null,
      "id": "4045c74c",
      "metadata": {
        "id": "4045c74c",
        "outputId": "13a68001-28f3-4fe7-b020-00cb935adff6",
        "colab": {
          "base_uri": "https://localhost:8080/"
        }
      },
      "outputs": [
        {
          "output_type": "stream",
          "name": "stdout",
          "text": [
            "5555.229244455523\n",
            "451.79998779296875\n",
            "61000.51926759988\n",
            "3721079001.9454203\n",
            "272.1000061035156\n",
            "9509.7998046875\n"
          ]
        }
      ],
      "source": [
        "s = FlowCal.io.FCSData('02-blank-E9-1.fcs')\n",
        "s\n",
        "\n",
        "s_fl1 = s[:, ['FL1-H']]\n",
        "s_fl1\n",
        "\n",
        "s_fl1 = s_fl1.tolist()\n",
        "s_fl1[0][0]\n",
        "\n",
        "proper_s_fl1 = []\n",
        "for i in range(len(s_fl1)):\n",
        "    proper_s_fl1.append(s_fl1[i][0])\n",
        "\n",
        "proper_s_fl1[:100]\n",
        "type(proper_s_fl1[:100])\n",
        "\n",
        "import statistics\n",
        "from statistics import stdev\n",
        "from fractions import Fraction as fr\n",
        "\n",
        "print(np.mean(proper_s_fl1))\n",
        "print(statistics.median(proper_s_fl1))\n",
        "print(np.std(proper_s_fl1))\n",
        "print(statistics.variance(proper_s_fl1))\n",
        "\n",
        "ordered= sorted(proper_s_fl1)\n",
        "i= round(len(ordered)*0.05)\n",
        "lower = ordered[i]\n",
        "i= round(len(ordered)*0.95)\n",
        "upper= ordered[i]\n",
        "\n",
        "print(lower)\n",
        "print(upper)\n"
      ]
    },
    {
      "cell_type": "code",
      "execution_count": null,
      "id": "d4a1298e",
      "metadata": {
        "id": "d4a1298e",
        "outputId": "96062563-8ad1-4753-da10-3286a3a1a579",
        "colab": {
          "base_uri": "https://localhost:8080/"
        }
      },
      "outputs": [
        {
          "output_type": "stream",
          "name": "stdout",
          "text": [
            "1482.869082471863\n",
            "518.2999877929688\n",
            "17433.135440921258\n",
            "304266779.9921098\n",
            "286.6000061035156\n",
            "2035.0\n"
          ]
        }
      ],
      "source": [
        "s = FlowCal.io.FCSData('04-blank-E9-1.fcs')\n",
        "s\n",
        "\n",
        "s_fl1 = s[:, ['FL1-H']]\n",
        "s_fl1\n",
        "\n",
        "s_fl1 = s_fl1.tolist()\n",
        "s_fl1[0][0]\n",
        "\n",
        "proper_s_fl1 = []\n",
        "for i in range(len(s_fl1)):\n",
        "    proper_s_fl1.append(s_fl1[i][0])\n",
        "\n",
        "proper_s_fl1[:100]\n",
        "type(proper_s_fl1[:100])\n",
        "\n",
        "import statistics\n",
        "from statistics import stdev\n",
        "from fractions import Fraction as fr\n",
        "\n",
        "print(np.mean(proper_s_fl1))\n",
        "print(statistics.median(proper_s_fl1))\n",
        "print(np.std(proper_s_fl1))\n",
        "print(statistics.variance(proper_s_fl1))\n",
        "\n",
        "ordered= sorted(proper_s_fl1)\n",
        "i= round(len(ordered)*0.05)\n",
        "lower = ordered[i]\n",
        "i= round(len(ordered)*0.95)\n",
        "upper= ordered[i]\n",
        "\n",
        "print(lower)\n",
        "print(upper)\n"
      ]
    },
    {
      "cell_type": "code",
      "execution_count": null,
      "id": "d1c69006",
      "metadata": {
        "id": "d1c69006",
        "outputId": "c97b8394-9d03-47ae-e821-c9ca5df33d7e",
        "colab": {
          "base_uri": "https://localhost:8080/"
        }
      },
      "outputs": [
        {
          "output_type": "stream",
          "name": "stdout",
          "text": [
            "6769.903327082325\n",
            "466.79998779296875\n",
            "68718.11037913692\n",
            "4722197238.607576\n",
            "290.29998779296875\n",
            "8944.2998046875\n"
          ]
        }
      ],
      "source": [
        "s = FlowCal.io.FCSData('02-blank-E9-2.fcs')\n",
        "s\n",
        "\n",
        "s_fl1 = s[:, ['FL1-H']]\n",
        "s_fl1\n",
        "\n",
        "s_fl1 = s_fl1.tolist()\n",
        "s_fl1[0][0]\n",
        "\n",
        "proper_s_fl1 = []\n",
        "for i in range(len(s_fl1)):\n",
        "    proper_s_fl1.append(s_fl1[i][0])\n",
        "\n",
        "proper_s_fl1[:100]\n",
        "type(proper_s_fl1[:100])\n",
        "\n",
        "import statistics\n",
        "from statistics import stdev\n",
        "from fractions import Fraction as fr\n",
        "\n",
        "print(np.mean(proper_s_fl1))\n",
        "print(statistics.median(proper_s_fl1))\n",
        "print(np.std(proper_s_fl1))\n",
        "print(statistics.variance(proper_s_fl1))\n",
        "\n",
        "ordered= sorted(proper_s_fl1)\n",
        "i= round(len(ordered)*0.05)\n",
        "lower = ordered[i]\n",
        "i= round(len(ordered)*0.95)\n",
        "upper= ordered[i]\n",
        "\n",
        "print(lower)\n",
        "print(upper)\n"
      ]
    },
    {
      "cell_type": "code",
      "execution_count": null,
      "id": "599e6687",
      "metadata": {
        "id": "599e6687",
        "outputId": "1746e0e2-7a97-4d34-880e-e7f24c8075b4",
        "colab": {
          "base_uri": "https://localhost:8080/"
        }
      },
      "outputs": [
        {
          "output_type": "stream",
          "name": "stdout",
          "text": [
            "5261.978354503747\n",
            "463.79998779296875\n",
            "58420.01409653575\n",
            "3412910221.2215757\n",
            "289.3999938964844\n",
            "6808.39990234375\n"
          ]
        }
      ],
      "source": [
        "s = FlowCal.io.FCSData('04-blank-E9-2.fcs')\n",
        "s\n",
        "\n",
        "s_fl1 = s[:, ['FL1-H']]\n",
        "s_fl1\n",
        "\n",
        "s_fl1 = s_fl1.tolist()\n",
        "s_fl1[0][0]\n",
        "\n",
        "proper_s_fl1 = []\n",
        "for i in range(len(s_fl1)):\n",
        "    proper_s_fl1.append(s_fl1[i][0])\n",
        "\n",
        "proper_s_fl1[:100]\n",
        "type(proper_s_fl1[:100])\n",
        "\n",
        "import statistics\n",
        "from statistics import stdev\n",
        "from fractions import Fraction as fr\n",
        "\n",
        "print(np.mean(proper_s_fl1))\n",
        "print(statistics.median(proper_s_fl1))\n",
        "print(np.std(proper_s_fl1))\n",
        "print(statistics.variance(proper_s_fl1))\n",
        "\n",
        "ordered= sorted(proper_s_fl1)\n",
        "i= round(len(ordered)*0.05)\n",
        "lower = ordered[i]\n",
        "i= round(len(ordered)*0.95)\n",
        "upper= ordered[i]\n",
        "\n",
        "print(lower)\n",
        "print(upper)\n"
      ]
    },
    {
      "cell_type": "code",
      "execution_count": null,
      "id": "a1d4c2d7",
      "metadata": {
        "id": "a1d4c2d7",
        "outputId": "709e2267-95dc-4efa-cefb-62d88b2f85a4",
        "colab": {
          "base_uri": "https://localhost:8080/"
        }
      },
      "outputs": [
        {
          "output_type": "stream",
          "name": "stdout",
          "text": [
            "274215.7969700796\n",
            "295958.34375\n",
            "200863.53941739653\n",
            "40346507842.75698\n",
            "555.5999755859375\n",
            "580410.1875\n"
          ]
        }
      ],
      "source": [
        "s = FlowCal.io.FCSData('02-blank-E9-3.fcs')\n",
        "s\n",
        "\n",
        "s_fl1 = s[:, ['FL1-H']]\n",
        "s_fl1\n",
        "\n",
        "s_fl1 = s_fl1.tolist()\n",
        "s_fl1[0][0]\n",
        "\n",
        "proper_s_fl1 = []\n",
        "for i in range(len(s_fl1)):\n",
        "    proper_s_fl1.append(s_fl1[i][0])\n",
        "\n",
        "proper_s_fl1[:100]\n",
        "type(proper_s_fl1[:100])\n",
        "\n",
        "import statistics\n",
        "from statistics import stdev\n",
        "from fractions import Fraction as fr\n",
        "\n",
        "print(np.mean(proper_s_fl1))\n",
        "print(statistics.median(proper_s_fl1))\n",
        "print(np.std(proper_s_fl1))\n",
        "print(statistics.variance(proper_s_fl1))\n",
        "\n",
        "ordered= sorted(proper_s_fl1)\n",
        "i= round(len(ordered)*0.05)\n",
        "lower = ordered[i]\n",
        "i= round(len(ordered)*0.95)\n",
        "upper= ordered[i]\n",
        "\n",
        "print(lower)\n",
        "print(upper)\n"
      ]
    },
    {
      "cell_type": "code",
      "execution_count": null,
      "id": "838bd25f",
      "metadata": {
        "id": "838bd25f",
        "outputId": "f5a3da55-41c0-4423-fe82-e0fb49a2bdfb",
        "colab": {
          "base_uri": "https://localhost:8080/"
        }
      },
      "outputs": [
        {
          "output_type": "stream",
          "name": "stdout",
          "text": [
            "361576.98902320396\n",
            "383016.59375\n",
            "268940.39542837115\n",
            "72329135039.44202\n",
            "515.2000122070312\n",
            "790616.625\n"
          ]
        }
      ],
      "source": [
        "s = FlowCal.io.FCSData('04-blank-E9-3.fcs')\n",
        "s\n",
        "\n",
        "s_fl1 = s[:, ['FL1-H']]\n",
        "s_fl1\n",
        "\n",
        "s_fl1 = s_fl1.tolist()\n",
        "s_fl1[0][0]\n",
        "\n",
        "proper_s_fl1 = []\n",
        "for i in range(len(s_fl1)):\n",
        "    proper_s_fl1.append(s_fl1[i][0])\n",
        "\n",
        "proper_s_fl1[:100]\n",
        "type(proper_s_fl1[:100])\n",
        "\n",
        "import statistics\n",
        "from statistics import stdev\n",
        "from fractions import Fraction as fr\n",
        "\n",
        "print(np.mean(proper_s_fl1))\n",
        "print(statistics.median(proper_s_fl1))\n",
        "print(np.std(proper_s_fl1))\n",
        "print(statistics.variance(proper_s_fl1))\n",
        "\n",
        "ordered= sorted(proper_s_fl1)\n",
        "i= round(len(ordered)*0.05)\n",
        "lower = ordered[i]\n",
        "i= round(len(ordered)*0.95)\n",
        "upper= ordered[i]\n",
        "\n",
        "print(lower)\n",
        "print(upper)\n"
      ]
    },
    {
      "cell_type": "code",
      "execution_count": null,
      "id": "df7eca71",
      "metadata": {
        "id": "df7eca71",
        "outputId": "67171d58-2b6d-455f-c490-f9e28227d2ca",
        "colab": {
          "base_uri": "https://localhost:8080/"
        }
      },
      "outputs": [
        {
          "output_type": "stream",
          "name": "stdout",
          "text": [
            "279713.5148458843\n",
            "279330.59375\n",
            "199883.07867135253\n",
            "39953437417.09861\n",
            "554.0999755859375\n",
            "613401.125\n"
          ]
        }
      ],
      "source": [
        "s = FlowCal.io.FCSData('02-blank-E9-4.fcs')\n",
        "s\n",
        "\n",
        "s_fl1 = s[:, ['FL1-H']]\n",
        "s_fl1\n",
        "\n",
        "s_fl1 = s_fl1.tolist()\n",
        "s_fl1[0][0]\n",
        "\n",
        "proper_s_fl1 = []\n",
        "for i in range(len(s_fl1)):\n",
        "    proper_s_fl1.append(s_fl1[i][0])\n",
        "\n",
        "proper_s_fl1[:100]\n",
        "type(proper_s_fl1[:100])\n",
        "\n",
        "import statistics\n",
        "from statistics import stdev\n",
        "from fractions import Fraction as fr\n",
        "\n",
        "print(np.mean(proper_s_fl1))\n",
        "print(statistics.median(proper_s_fl1))\n",
        "print(np.std(proper_s_fl1))\n",
        "print(statistics.variance(proper_s_fl1))\n",
        "\n",
        "ordered= sorted(proper_s_fl1)\n",
        "i= round(len(ordered)*0.05)\n",
        "lower = ordered[i]\n",
        "i= round(len(ordered)*0.95)\n",
        "upper= ordered[i]\n",
        "\n",
        "print(lower)\n",
        "print(upper)\n"
      ]
    },
    {
      "cell_type": "code",
      "execution_count": null,
      "id": "0e2acd85",
      "metadata": {
        "id": "0e2acd85",
        "outputId": "de32affc-57ce-4099-ffd6-22b1c3138f56",
        "colab": {
          "base_uri": "https://localhost:8080/"
        }
      },
      "outputs": [
        {
          "output_type": "stream",
          "name": "stdout",
          "text": [
            "324058.34416772047\n",
            "347594.09375\n",
            "229531.3217150428\n",
            "52684791876.119804\n",
            "514.7999877929688\n",
            "678848.6875\n"
          ]
        }
      ],
      "source": [
        "s = FlowCal.io.FCSData('04-blank-E9-4.fcs')\n",
        "s\n",
        "\n",
        "s_fl1 = s[:, ['FL1-H']]\n",
        "s_fl1\n",
        "\n",
        "s_fl1 = s_fl1.tolist()\n",
        "s_fl1[0][0]\n",
        "\n",
        "proper_s_fl1 = []\n",
        "for i in range(len(s_fl1)):\n",
        "    proper_s_fl1.append(s_fl1[i][0])\n",
        "\n",
        "proper_s_fl1[:100]\n",
        "type(proper_s_fl1[:100])\n",
        "\n",
        "import statistics\n",
        "from statistics import stdev\n",
        "from fractions import Fraction as fr\n",
        "\n",
        "print(np.mean(proper_s_fl1))\n",
        "print(statistics.median(proper_s_fl1))\n",
        "print(np.std(proper_s_fl1))\n",
        "print(statistics.variance(proper_s_fl1))\n",
        "\n",
        "ordered= sorted(proper_s_fl1)\n",
        "i= round(len(ordered)*0.05)\n",
        "lower = ordered[i]\n",
        "i= round(len(ordered)*0.95)\n",
        "upper= ordered[i]\n",
        "\n",
        "print(lower)\n",
        "print(upper)\n"
      ]
    },
    {
      "cell_type": "code",
      "execution_count": null,
      "id": "5d19a06c",
      "metadata": {
        "id": "5d19a06c",
        "outputId": "235451d7-e5ac-474b-859a-3fd60e68ae95",
        "colab": {
          "base_uri": "https://localhost:8080/"
        }
      },
      "outputs": [
        {
          "output_type": "stream",
          "name": "stdout",
          "text": [
            "3987.498577445001\n",
            "440.8999938964844\n",
            "47029.6687352781\n",
            "2211795939.5479226\n",
            "268.0\n",
            "694.5999755859375\n"
          ]
        }
      ],
      "source": [
        "s = FlowCal.io.FCSData('02-blank-E10-1.fcs')\n",
        "s\n",
        "\n",
        "s_fl1 = s[:, ['FL1-H']]\n",
        "s_fl1\n",
        "\n",
        "s_fl1 = s_fl1.tolist()\n",
        "s_fl1[0][0]\n",
        "\n",
        "proper_s_fl1 = []\n",
        "for i in range(len(s_fl1)):\n",
        "    proper_s_fl1.append(s_fl1[i][0])\n",
        "\n",
        "proper_s_fl1[:100]\n",
        "type(proper_s_fl1[:100])\n",
        "\n",
        "import statistics\n",
        "from statistics import stdev\n",
        "from fractions import Fraction as fr\n",
        "\n",
        "print(np.mean(proper_s_fl1))\n",
        "print(statistics.median(proper_s_fl1))\n",
        "print(np.std(proper_s_fl1))\n",
        "print(statistics.variance(proper_s_fl1))\n",
        "\n",
        "ordered= sorted(proper_s_fl1)\n",
        "i= round(len(ordered)*0.05)\n",
        "lower = ordered[i]\n",
        "i= round(len(ordered)*0.95)\n",
        "upper= ordered[i]\n",
        "\n",
        "print(lower)\n",
        "print(upper)\n"
      ]
    },
    {
      "cell_type": "code",
      "execution_count": null,
      "id": "6cb7c556",
      "metadata": {
        "id": "6cb7c556",
        "outputId": "352597be-7f09-48a8-e8a1-029d97092f77",
        "colab": {
          "base_uri": "https://localhost:8080/"
        }
      },
      "outputs": [
        {
          "output_type": "stream",
          "name": "stdout",
          "text": [
            "2014.4129035813469\n",
            "491.3000030517578\n",
            "28441.05793169745\n",
            "809926846.231098\n",
            "283.5\n",
            "1766.199951171875\n"
          ]
        }
      ],
      "source": [
        "s = FlowCal.io.FCSData('04-blank-E10-1.fcs')\n",
        "s\n",
        "\n",
        "s_fl1 = s[:, ['FL1-H']]\n",
        "s_fl1\n",
        "\n",
        "s_fl1 = s_fl1.tolist()\n",
        "s_fl1[0][0]\n",
        "\n",
        "proper_s_fl1 = []\n",
        "for i in range(len(s_fl1)):\n",
        "    proper_s_fl1.append(s_fl1[i][0])\n",
        "\n",
        "proper_s_fl1[:100]\n",
        "type(proper_s_fl1[:100])\n",
        "\n",
        "import statistics\n",
        "from statistics import stdev\n",
        "from fractions import Fraction as fr\n",
        "\n",
        "print(np.mean(proper_s_fl1))\n",
        "print(statistics.median(proper_s_fl1))\n",
        "print(np.std(proper_s_fl1))\n",
        "print(statistics.variance(proper_s_fl1))\n",
        "\n",
        "ordered= sorted(proper_s_fl1)\n",
        "i= round(len(ordered)*0.05)\n",
        "lower = ordered[i]\n",
        "i= round(len(ordered)*0.95)\n",
        "upper= ordered[i]\n",
        "\n",
        "print(lower)\n",
        "print(upper)\n"
      ]
    },
    {
      "cell_type": "code",
      "execution_count": null,
      "id": "001b02ee",
      "metadata": {
        "id": "001b02ee",
        "outputId": "b885e87a-3b0a-41f7-90d4-8ae3ef9d2f2c",
        "colab": {
          "base_uri": "https://localhost:8080/"
        }
      },
      "outputs": [
        {
          "output_type": "stream",
          "name": "stdout",
          "text": [
            "4627.982637568852\n",
            "449.8999938964844\n",
            "55281.412801253275\n",
            "3056043509.3882585\n",
            "281.8999938964844\n",
            "690.7000122070312\n"
          ]
        }
      ],
      "source": [
        "s = FlowCal.io.FCSData('02-blank-E10-2.fcs')\n",
        "s\n",
        "\n",
        "s_fl1 = s[:, ['FL1-H']]\n",
        "s_fl1\n",
        "\n",
        "s_fl1 = s_fl1.tolist()\n",
        "s_fl1[0][0]\n",
        "\n",
        "proper_s_fl1 = []\n",
        "for i in range(len(s_fl1)):\n",
        "    proper_s_fl1.append(s_fl1[i][0])\n",
        "\n",
        "proper_s_fl1[:100]\n",
        "type(proper_s_fl1[:100])\n",
        "\n",
        "import statistics\n",
        "from statistics import stdev\n",
        "from fractions import Fraction as fr\n",
        "\n",
        "print(np.mean(proper_s_fl1))\n",
        "print(statistics.median(proper_s_fl1))\n",
        "print(np.std(proper_s_fl1))\n",
        "print(statistics.variance(proper_s_fl1))\n",
        "\n",
        "ordered= sorted(proper_s_fl1)\n",
        "i= round(len(ordered)*0.05)\n",
        "lower = ordered[i]\n",
        "i= round(len(ordered)*0.95)\n",
        "upper= ordered[i]\n",
        "\n",
        "print(lower)\n",
        "print(upper)\n"
      ]
    },
    {
      "cell_type": "code",
      "execution_count": null,
      "id": "37556e0d",
      "metadata": {
        "id": "37556e0d",
        "outputId": "535d11ff-16d9-42d2-d1aa-fcd41da55163",
        "colab": {
          "base_uri": "https://localhost:8080/"
        }
      },
      "outputs": [
        {
          "output_type": "stream",
          "name": "stdout",
          "text": [
            "3740.5327277599163\n",
            "455.6000061035156\n",
            "50527.72341215304\n",
            "2553057643.584395\n",
            "288.1000061035156\n",
            "691.9000244140625\n"
          ]
        }
      ],
      "source": [
        "s = FlowCal.io.FCSData('04-blank-E10-2.fcs')\n",
        "s\n",
        "\n",
        "s_fl1 = s[:, ['FL1-H']]\n",
        "s_fl1\n",
        "\n",
        "s_fl1 = s_fl1.tolist()\n",
        "s_fl1[0][0]\n",
        "\n",
        "proper_s_fl1 = []\n",
        "for i in range(len(s_fl1)):\n",
        "    proper_s_fl1.append(s_fl1[i][0])\n",
        "\n",
        "proper_s_fl1[:100]\n",
        "type(proper_s_fl1[:100])\n",
        "\n",
        "import statistics\n",
        "from statistics import stdev\n",
        "from fractions import Fraction as fr\n",
        "\n",
        "print(np.mean(proper_s_fl1))\n",
        "print(statistics.median(proper_s_fl1))\n",
        "print(np.std(proper_s_fl1))\n",
        "print(statistics.variance(proper_s_fl1))\n",
        "\n",
        "ordered= sorted(proper_s_fl1)\n",
        "i= round(len(ordered)*0.05)\n",
        "lower = ordered[i]\n",
        "i= round(len(ordered)*0.95)\n",
        "upper= ordered[i]\n",
        "\n",
        "print(lower)\n",
        "print(upper)\n"
      ]
    },
    {
      "cell_type": "code",
      "execution_count": null,
      "id": "ed034b93",
      "metadata": {
        "id": "ed034b93",
        "outputId": "59289fc6-fc8d-44de-9d24-79f05059945e",
        "colab": {
          "base_uri": "https://localhost:8080/"
        }
      },
      "outputs": [
        {
          "output_type": "stream",
          "name": "stdout",
          "text": [
            "416060.24036535795\n",
            "384174.8125\n",
            "204872.4849051009\n",
            "41972873903.89149\n",
            "149852.296875\n",
            "788173.6875\n"
          ]
        }
      ],
      "source": [
        "s = FlowCal.io.FCSData('02-blank-E10-3.fcs')\n",
        "s\n",
        "\n",
        "s_fl1 = s[:, ['FL1-H']]\n",
        "s_fl1\n",
        "\n",
        "s_fl1 = s_fl1.tolist()\n",
        "s_fl1[0][0]\n",
        "\n",
        "proper_s_fl1 = []\n",
        "for i in range(len(s_fl1)):\n",
        "    proper_s_fl1.append(s_fl1[i][0])\n",
        "\n",
        "proper_s_fl1[:100]\n",
        "type(proper_s_fl1[:100])\n",
        "\n",
        "import statistics\n",
        "from statistics import stdev\n",
        "from fractions import Fraction as fr\n",
        "\n",
        "print(np.mean(proper_s_fl1))\n",
        "print(statistics.median(proper_s_fl1))\n",
        "print(np.std(proper_s_fl1))\n",
        "print(statistics.variance(proper_s_fl1))\n",
        "\n",
        "ordered= sorted(proper_s_fl1)\n",
        "i= round(len(ordered)*0.05)\n",
        "lower = ordered[i]\n",
        "i= round(len(ordered)*0.95)\n",
        "upper= ordered[i]\n",
        "\n",
        "print(lower)\n",
        "print(upper)\n"
      ]
    },
    {
      "cell_type": "code",
      "execution_count": null,
      "id": "7e714dc2",
      "metadata": {
        "id": "7e714dc2",
        "outputId": "6846b329-fbcb-4df4-d06f-9b628caaf0d7",
        "colab": {
          "base_uri": "https://localhost:8080/"
        }
      },
      "outputs": [
        {
          "output_type": "stream",
          "name": "stdout",
          "text": [
            "425203.98500705825\n",
            "400804.15625\n",
            "212517.65335615398\n",
            "45163816383.64883\n",
            "137219.296875\n",
            "803226.6875\n"
          ]
        }
      ],
      "source": [
        "s = FlowCal.io.FCSData('04-blank-E10-3.fcs')\n",
        "s\n",
        "\n",
        "s_fl1 = s[:, ['FL1-H']]\n",
        "s_fl1\n",
        "\n",
        "s_fl1 = s_fl1.tolist()\n",
        "s_fl1[0][0]\n",
        "\n",
        "proper_s_fl1 = []\n",
        "for i in range(len(s_fl1)):\n",
        "    proper_s_fl1.append(s_fl1[i][0])\n",
        "\n",
        "proper_s_fl1[:100]\n",
        "type(proper_s_fl1[:100])\n",
        "\n",
        "import statistics\n",
        "from statistics import stdev\n",
        "from fractions import Fraction as fr\n",
        "\n",
        "print(np.mean(proper_s_fl1))\n",
        "print(statistics.median(proper_s_fl1))\n",
        "print(np.std(proper_s_fl1))\n",
        "print(statistics.variance(proper_s_fl1))\n",
        "\n",
        "ordered= sorted(proper_s_fl1)\n",
        "i= round(len(ordered)*0.05)\n",
        "lower = ordered[i]\n",
        "i= round(len(ordered)*0.95)\n",
        "upper= ordered[i]\n",
        "\n",
        "print(lower)\n",
        "print(upper)\n"
      ]
    },
    {
      "cell_type": "code",
      "execution_count": null,
      "id": "20edb0f9",
      "metadata": {
        "id": "20edb0f9",
        "outputId": "c52f53da-3bf8-4910-b057-24fca1f81f3c",
        "colab": {
          "base_uri": "https://localhost:8080/"
        }
      },
      "outputs": [
        {
          "output_type": "stream",
          "name": "stdout",
          "text": [
            "288988.5962903855\n",
            "266580.0\n",
            "138631.39587748187\n",
            "19218811549.866543\n",
            "123709.6015625\n",
            "536628.1875\n"
          ]
        }
      ],
      "source": [
        "s = FlowCal.io.FCSData('02-blank-E10-4.fcs')\n",
        "s\n",
        "\n",
        "s_fl1 = s[:, ['FL1-H']]\n",
        "s_fl1\n",
        "\n",
        "s_fl1 = s_fl1.tolist()\n",
        "s_fl1[0][0]\n",
        "\n",
        "proper_s_fl1 = []\n",
        "for i in range(len(s_fl1)):\n",
        "    proper_s_fl1.append(s_fl1[i][0])\n",
        "\n",
        "proper_s_fl1[:100]\n",
        "type(proper_s_fl1[:100])\n",
        "\n",
        "import statistics\n",
        "from statistics import stdev\n",
        "from fractions import Fraction as fr\n",
        "\n",
        "print(np.mean(proper_s_fl1))\n",
        "print(statistics.median(proper_s_fl1))\n",
        "print(np.std(proper_s_fl1))\n",
        "print(statistics.variance(proper_s_fl1))\n",
        "\n",
        "ordered= sorted(proper_s_fl1)\n",
        "i= round(len(ordered)*0.05)\n",
        "lower = ordered[i]\n",
        "i= round(len(ordered)*0.95)\n",
        "upper= ordered[i]\n",
        "\n",
        "print(lower)\n",
        "print(upper)\n"
      ]
    },
    {
      "cell_type": "code",
      "execution_count": null,
      "id": "b624d19f",
      "metadata": {
        "id": "b624d19f",
        "outputId": "c262e3c4-7991-4a75-a064-b7855c368665",
        "colab": {
          "base_uri": "https://localhost:8080/"
        }
      },
      "outputs": [
        {
          "output_type": "stream",
          "name": "stdout",
          "text": [
            "427459.50703110965\n",
            "405870.90625\n",
            "174773.33271735784\n",
            "30545867307.318253\n",
            "211845.0\n",
            "729471.625\n"
          ]
        }
      ],
      "source": [
        "s = FlowCal.io.FCSData('04-blank-E10-4.fcs')\n",
        "s\n",
        "\n",
        "s_fl1 = s[:, ['FL1-H']]\n",
        "s_fl1\n",
        "\n",
        "s_fl1 = s_fl1.tolist()\n",
        "s_fl1[0][0]\n",
        "\n",
        "proper_s_fl1 = []\n",
        "for i in range(len(s_fl1)):\n",
        "    proper_s_fl1.append(s_fl1[i][0])\n",
        "\n",
        "proper_s_fl1[:100]\n",
        "type(proper_s_fl1[:100])\n",
        "\n",
        "import statistics\n",
        "from statistics import stdev\n",
        "from fractions import Fraction as fr\n",
        "\n",
        "print(np.mean(proper_s_fl1))\n",
        "print(statistics.median(proper_s_fl1))\n",
        "print(np.std(proper_s_fl1))\n",
        "print(statistics.variance(proper_s_fl1))\n",
        "\n",
        "ordered= sorted(proper_s_fl1)\n",
        "i= round(len(ordered)*0.05)\n",
        "lower = ordered[i]\n",
        "i= round(len(ordered)*0.95)\n",
        "upper= ordered[i]\n",
        "\n",
        "print(lower)\n",
        "print(upper)\n"
      ]
    },
    {
      "cell_type": "code",
      "execution_count": null,
      "id": "2eda0e62",
      "metadata": {
        "id": "2eda0e62",
        "outputId": "a77b1602-4456-429f-c4ce-a0e16e03b23b",
        "colab": {
          "base_uri": "https://localhost:8080/"
        }
      },
      "outputs": [
        {
          "output_type": "stream",
          "name": "stdout",
          "text": [
            "16498.742429656788\n",
            "448.20001220703125\n",
            "87631.76614979189\n",
            "7679357798.33726\n",
            "269.79998779296875\n",
            "46854.6015625\n"
          ]
        }
      ],
      "source": [
        "s = FlowCal.io.FCSData('02-blank-E11-1.fcs')\n",
        "s\n",
        "\n",
        "s_fl1 = s[:, ['FL1-H']]\n",
        "s_fl1\n",
        "\n",
        "s_fl1 = s_fl1.tolist()\n",
        "s_fl1[0][0]\n",
        "\n",
        "proper_s_fl1 = []\n",
        "for i in range(len(s_fl1)):\n",
        "    proper_s_fl1.append(s_fl1[i][0])\n",
        "\n",
        "proper_s_fl1[:100]\n",
        "type(proper_s_fl1[:100])\n",
        "\n",
        "import statistics\n",
        "from statistics import stdev\n",
        "from fractions import Fraction as fr\n",
        "\n",
        "print(np.mean(proper_s_fl1))\n",
        "print(statistics.median(proper_s_fl1))\n",
        "print(np.std(proper_s_fl1))\n",
        "print(statistics.variance(proper_s_fl1))\n",
        "\n",
        "ordered= sorted(proper_s_fl1)\n",
        "i= round(len(ordered)*0.05)\n",
        "lower = ordered[i]\n",
        "i= round(len(ordered)*0.95)\n",
        "upper= ordered[i]\n",
        "\n",
        "print(lower)\n",
        "print(upper)\n"
      ]
    },
    {
      "cell_type": "code",
      "execution_count": null,
      "id": "84f1c774",
      "metadata": {
        "id": "84f1c774",
        "outputId": "d06655a9-54e8-4f43-f6b6-67e02eec9278",
        "colab": {
          "base_uri": "https://localhost:8080/"
        }
      },
      "outputs": [
        {
          "output_type": "stream",
          "name": "stdout",
          "text": [
            "9224.889618350613\n",
            "450.70001220703125\n",
            "67551.60124357614\n",
            "4581693400.7353735\n",
            "286.5\n",
            "3353.60009765625\n"
          ]
        }
      ],
      "source": [
        "s = FlowCal.io.FCSData('04-blank-E11-1.fcs')\n",
        "s\n",
        "\n",
        "s_fl1 = s[:, ['FL1-H']]\n",
        "s_fl1\n",
        "\n",
        "s_fl1 = s_fl1.tolist()\n",
        "s_fl1[0][0]\n",
        "\n",
        "proper_s_fl1 = []\n",
        "for i in range(len(s_fl1)):\n",
        "    proper_s_fl1.append(s_fl1[i][0])\n",
        "\n",
        "proper_s_fl1[:100]\n",
        "type(proper_s_fl1[:100])\n",
        "\n",
        "import statistics\n",
        "from statistics import stdev\n",
        "from fractions import Fraction as fr\n",
        "\n",
        "print(np.mean(proper_s_fl1))\n",
        "print(statistics.median(proper_s_fl1))\n",
        "print(np.std(proper_s_fl1))\n",
        "print(statistics.variance(proper_s_fl1))\n",
        "\n",
        "ordered= sorted(proper_s_fl1)\n",
        "i= round(len(ordered)*0.05)\n",
        "lower = ordered[i]\n",
        "i= round(len(ordered)*0.95)\n",
        "upper= ordered[i]\n",
        "\n",
        "print(lower)\n",
        "print(upper)\n"
      ]
    },
    {
      "cell_type": "code",
      "execution_count": null,
      "id": "954b4ad8",
      "metadata": {
        "id": "954b4ad8",
        "outputId": "73cb0583-a391-47fc-ebec-44c1083fbf82",
        "colab": {
          "base_uri": "https://localhost:8080/"
        }
      },
      "outputs": [
        {
          "output_type": "stream",
          "name": "stdout",
          "text": [
            "17346.299951626268\n",
            "462.79998779296875\n",
            "115093.82831004432\n",
            "13246641844.41386\n",
            "290.1000061035156\n",
            "23537.80078125\n"
          ]
        }
      ],
      "source": [
        "s = FlowCal.io.FCSData('02-blank-E11-2.fcs')\n",
        "s\n",
        "\n",
        "s_fl1 = s[:, ['FL1-H']]\n",
        "s_fl1\n",
        "\n",
        "s_fl1 = s_fl1.tolist()\n",
        "s_fl1[0][0]\n",
        "\n",
        "proper_s_fl1 = []\n",
        "for i in range(len(s_fl1)):\n",
        "    proper_s_fl1.append(s_fl1[i][0])\n",
        "\n",
        "proper_s_fl1[:100]\n",
        "type(proper_s_fl1[:100])\n",
        "\n",
        "import statistics\n",
        "from statistics import stdev\n",
        "from fractions import Fraction as fr\n",
        "\n",
        "print(np.mean(proper_s_fl1))\n",
        "print(statistics.median(proper_s_fl1))\n",
        "print(np.std(proper_s_fl1))\n",
        "print(statistics.variance(proper_s_fl1))\n",
        "\n",
        "ordered= sorted(proper_s_fl1)\n",
        "i= round(len(ordered)*0.05)\n",
        "lower = ordered[i]\n",
        "i= round(len(ordered)*0.95)\n",
        "upper= ordered[i]\n",
        "\n",
        "print(lower)\n",
        "print(upper)\n"
      ]
    },
    {
      "cell_type": "code",
      "execution_count": null,
      "id": "31651d64",
      "metadata": {
        "id": "31651d64",
        "outputId": "f500ac1c-dedf-41f9-8258-dc0fe2b51ecf",
        "colab": {
          "base_uri": "https://localhost:8080/"
        }
      },
      "outputs": [
        {
          "output_type": "stream",
          "name": "stdout",
          "text": [
            "13064.603093327158\n",
            "460.5\n",
            "93741.4077830303\n",
            "8787488208.651608\n",
            "290.8999938964844\n",
            "3738.89990234375\n"
          ]
        }
      ],
      "source": [
        "s = FlowCal.io.FCSData('04-blank-E11-2.fcs')\n",
        "s\n",
        "\n",
        "s_fl1 = s[:, ['FL1-H']]\n",
        "s_fl1\n",
        "\n",
        "s_fl1 = s_fl1.tolist()\n",
        "s_fl1[0][0]\n",
        "\n",
        "proper_s_fl1 = []\n",
        "for i in range(len(s_fl1)):\n",
        "    proper_s_fl1.append(s_fl1[i][0])\n",
        "\n",
        "proper_s_fl1[:100]\n",
        "type(proper_s_fl1[:100])\n",
        "\n",
        "import statistics\n",
        "from statistics import stdev\n",
        "from fractions import Fraction as fr\n",
        "\n",
        "print(np.mean(proper_s_fl1))\n",
        "print(statistics.median(proper_s_fl1))\n",
        "print(np.std(proper_s_fl1))\n",
        "print(statistics.variance(proper_s_fl1))\n",
        "\n",
        "ordered= sorted(proper_s_fl1)\n",
        "i= round(len(ordered)*0.05)\n",
        "lower = ordered[i]\n",
        "i= round(len(ordered)*0.95)\n",
        "upper= ordered[i]\n",
        "\n",
        "print(lower)\n",
        "print(upper)\n"
      ]
    },
    {
      "cell_type": "code",
      "execution_count": null,
      "id": "7bc5a940",
      "metadata": {
        "id": "7bc5a940",
        "outputId": "9e539d3e-3016-4529-9b92-d3a566c478c3",
        "colab": {
          "base_uri": "https://localhost:8080/"
        }
      },
      "outputs": [
        {
          "output_type": "stream",
          "name": "stdout",
          "text": [
            "341814.69973981805\n",
            "336215.046875\n",
            "183903.6471755379\n",
            "33820718860.505344\n",
            "3013.800048828125\n",
            "649925.5\n"
          ]
        }
      ],
      "source": [
        "s = FlowCal.io.FCSData('02-blank-E11-3.fcs')\n",
        "s\n",
        "\n",
        "s_fl1 = s[:, ['FL1-H']]\n",
        "s_fl1\n",
        "\n",
        "s_fl1 = s_fl1.tolist()\n",
        "s_fl1[0][0]\n",
        "\n",
        "proper_s_fl1 = []\n",
        "for i in range(len(s_fl1)):\n",
        "    proper_s_fl1.append(s_fl1[i][0])\n",
        "\n",
        "proper_s_fl1[:100]\n",
        "type(proper_s_fl1[:100])\n",
        "\n",
        "import statistics\n",
        "from statistics import stdev\n",
        "from fractions import Fraction as fr\n",
        "\n",
        "print(np.mean(proper_s_fl1))\n",
        "print(statistics.median(proper_s_fl1))\n",
        "print(np.std(proper_s_fl1))\n",
        "print(statistics.variance(proper_s_fl1))\n",
        "\n",
        "ordered= sorted(proper_s_fl1)\n",
        "i= round(len(ordered)*0.05)\n",
        "lower = ordered[i]\n",
        "i= round(len(ordered)*0.95)\n",
        "upper= ordered[i]\n",
        "\n",
        "print(lower)\n",
        "print(upper)\n"
      ]
    },
    {
      "cell_type": "code",
      "execution_count": null,
      "id": "3569834d",
      "metadata": {
        "id": "3569834d",
        "outputId": "b36aa684-ba61-4bb8-ca76-9237c0c44597",
        "colab": {
          "base_uri": "https://localhost:8080/"
        }
      },
      "outputs": [
        {
          "output_type": "stream",
          "name": "stdout",
          "text": [
            "450310.2878057853\n",
            "450256.796875\n",
            "240116.31615650025\n",
            "57656049965.101326\n",
            "2023.800048828125\n",
            "836366.375\n"
          ]
        }
      ],
      "source": [
        "s = FlowCal.io.FCSData('04-blank-E11-3.fcs')\n",
        "s\n",
        "\n",
        "s_fl1 = s[:, ['FL1-H']]\n",
        "s_fl1\n",
        "\n",
        "s_fl1 = s_fl1.tolist()\n",
        "s_fl1[0][0]\n",
        "\n",
        "proper_s_fl1 = []\n",
        "for i in range(len(s_fl1)):\n",
        "    proper_s_fl1.append(s_fl1[i][0])\n",
        "\n",
        "proper_s_fl1[:100]\n",
        "type(proper_s_fl1[:100])\n",
        "\n",
        "import statistics\n",
        "from statistics import stdev\n",
        "from fractions import Fraction as fr\n",
        "\n",
        "print(np.mean(proper_s_fl1))\n",
        "print(statistics.median(proper_s_fl1))\n",
        "print(np.std(proper_s_fl1))\n",
        "print(statistics.variance(proper_s_fl1))\n",
        "\n",
        "ordered= sorted(proper_s_fl1)\n",
        "i= round(len(ordered)*0.05)\n",
        "lower = ordered[i]\n",
        "i= round(len(ordered)*0.95)\n",
        "upper= ordered[i]\n",
        "\n",
        "print(lower)\n",
        "print(upper)\n"
      ]
    },
    {
      "cell_type": "code",
      "execution_count": null,
      "id": "85519162",
      "metadata": {
        "id": "85519162",
        "outputId": "773bf2d7-9d6a-4ea6-9cf0-2672b18d467c",
        "colab": {
          "base_uri": "https://localhost:8080/"
        }
      },
      "outputs": [
        {
          "output_type": "stream",
          "name": "stdout",
          "text": [
            "248817.10807891545\n",
            "223435.703125\n",
            "154464.18415508355\n",
            "23859301898.800133\n",
            "68611.703125\n",
            "494929.40625\n"
          ]
        }
      ],
      "source": [
        "s = FlowCal.io.FCSData('02-blank-E11-4.fcs')\n",
        "s\n",
        "\n",
        "s_fl1 = s[:, ['FL1-H']]\n",
        "s_fl1\n",
        "\n",
        "s_fl1 = s_fl1.tolist()\n",
        "s_fl1[0][0]\n",
        "\n",
        "proper_s_fl1 = []\n",
        "for i in range(len(s_fl1)):\n",
        "    proper_s_fl1.append(s_fl1[i][0])\n",
        "\n",
        "proper_s_fl1[:100]\n",
        "type(proper_s_fl1[:100])\n",
        "\n",
        "import statistics\n",
        "from statistics import stdev\n",
        "from fractions import Fraction as fr\n",
        "\n",
        "print(np.mean(proper_s_fl1))\n",
        "print(statistics.median(proper_s_fl1))\n",
        "print(np.std(proper_s_fl1))\n",
        "print(statistics.variance(proper_s_fl1))\n",
        "\n",
        "ordered= sorted(proper_s_fl1)\n",
        "i= round(len(ordered)*0.05)\n",
        "lower = ordered[i]\n",
        "i= round(len(ordered)*0.95)\n",
        "upper= ordered[i]\n",
        "\n",
        "print(lower)\n",
        "print(upper)\n"
      ]
    },
    {
      "cell_type": "code",
      "execution_count": null,
      "id": "0e7418ed",
      "metadata": {
        "scrolled": true,
        "id": "0e7418ed",
        "outputId": "61e2fe7c-5384-4114-f982-e617ddfe5cc4",
        "colab": {
          "base_uri": "https://localhost:8080/"
        }
      },
      "outputs": [
        {
          "output_type": "stream",
          "name": "stdout",
          "text": [
            "355072.37163461983\n",
            "337633.0\n",
            "203360.21354134887\n",
            "41355537401.889305\n",
            "37343.30078125\n",
            "685774.375\n"
          ]
        }
      ],
      "source": [
        "s = FlowCal.io.FCSData('04-blank-E11-4.fcs')\n",
        "s\n",
        "\n",
        "s_fl1 = s[:, ['FL1-H']]\n",
        "s_fl1\n",
        "\n",
        "s_fl1 = s_fl1.tolist()\n",
        "s_fl1[0][0]\n",
        "\n",
        "proper_s_fl1 = []\n",
        "for i in range(len(s_fl1)):\n",
        "    proper_s_fl1.append(s_fl1[i][0])\n",
        "\n",
        "proper_s_fl1[:100]\n",
        "type(proper_s_fl1[:100])\n",
        "\n",
        "import statistics\n",
        "from statistics import stdev\n",
        "from fractions import Fraction as fr\n",
        "\n",
        "print(np.mean(proper_s_fl1))\n",
        "print(statistics.median(proper_s_fl1))\n",
        "print(np.std(proper_s_fl1))\n",
        "print(statistics.variance(proper_s_fl1))\n",
        "\n",
        "ordered= sorted(proper_s_fl1)\n",
        "i= round(len(ordered)*0.05)\n",
        "lower = ordered[i]\n",
        "i= round(len(ordered)*0.95)\n",
        "upper= ordered[i]\n",
        "\n",
        "print(lower)\n",
        "print(upper)\n"
      ]
    },
    {
      "cell_type": "code",
      "execution_count": null,
      "id": "40911f6b",
      "metadata": {
        "id": "40911f6b",
        "outputId": "813e4819-285f-46c6-e607-624afe332918",
        "colab": {
          "base_uri": "https://localhost:8080/"
        }
      },
      "outputs": [
        {
          "output_type": "stream",
          "name": "stdout",
          "text": [
            "49366.784948791865\n",
            "468.6000061035156\n",
            "139330.23774836562\n",
            "19413004157.398968\n",
            "275.3999938964844\n",
            "355890.5\n"
          ]
        }
      ],
      "source": [
        "s = FlowCal.io.FCSData('02-blank-G2-1.fcs')\n",
        "s\n",
        "\n",
        "s_fl1 = s[:, ['FL1-H']]\n",
        "s_fl1\n",
        "\n",
        "s_fl1 = s_fl1.tolist()\n",
        "s_fl1[0][0]\n",
        "\n",
        "proper_s_fl1 = []\n",
        "for i in range(len(s_fl1)):\n",
        "    proper_s_fl1.append(s_fl1[i][0])\n",
        "\n",
        "proper_s_fl1[:100]\n",
        "type(proper_s_fl1[:100])\n",
        "\n",
        "import statistics\n",
        "from statistics import stdev\n",
        "from fractions import Fraction as fr\n",
        "\n",
        "print(np.mean(proper_s_fl1))\n",
        "print(statistics.median(proper_s_fl1))\n",
        "print(np.std(proper_s_fl1))\n",
        "print(statistics.variance(proper_s_fl1))\n",
        "\n",
        "ordered= sorted(proper_s_fl1)\n",
        "i= round(len(ordered)*0.05)\n",
        "lower = ordered[i]\n",
        "i= round(len(ordered)*0.95)\n",
        "upper= ordered[i]\n",
        "\n",
        "print(lower)\n",
        "print(upper)\n"
      ]
    },
    {
      "cell_type": "code",
      "execution_count": null,
      "id": "6119c009",
      "metadata": {
        "id": "6119c009",
        "outputId": "0eed8b33-cb39-4016-fef9-3998105f047e",
        "colab": {
          "base_uri": "https://localhost:8080/"
        }
      },
      "outputs": [
        {
          "output_type": "stream",
          "name": "stdout",
          "text": [
            "674.0714262861261\n",
            "458.6000061035156\n",
            "795.6600243095422\n",
            "636005.7764800217\n",
            "248.10000610351562\n",
            "1817.9000244140625\n"
          ]
        }
      ],
      "source": [
        "s = FlowCal.io.FCSData('04-blank-G2-1.fcs')\n",
        "s\n",
        "\n",
        "s_fl1 = s[:, ['FL1-H']]\n",
        "s_fl1\n",
        "\n",
        "s_fl1 = s_fl1.tolist()\n",
        "s_fl1[0][0]\n",
        "\n",
        "proper_s_fl1 = []\n",
        "for i in range(len(s_fl1)):\n",
        "    proper_s_fl1.append(s_fl1[i][0])\n",
        "\n",
        "proper_s_fl1[:100]\n",
        "type(proper_s_fl1[:100])\n",
        "\n",
        "import statistics\n",
        "from statistics import stdev\n",
        "from fractions import Fraction as fr\n",
        "\n",
        "print(np.mean(proper_s_fl1))\n",
        "print(statistics.median(proper_s_fl1))\n",
        "print(np.std(proper_s_fl1))\n",
        "print(statistics.variance(proper_s_fl1))\n",
        "\n",
        "ordered= sorted(proper_s_fl1)\n",
        "i= round(len(ordered)*0.05)\n",
        "lower = ordered[i]\n",
        "i= round(len(ordered)*0.95)\n",
        "upper= ordered[i]\n",
        "\n",
        "print(lower)\n",
        "print(upper)\n"
      ]
    },
    {
      "cell_type": "code",
      "execution_count": null,
      "id": "7198aba9",
      "metadata": {
        "id": "7198aba9",
        "outputId": "92b3e8da-1e7c-490f-9987-2e73d643c0a0",
        "colab": {
          "base_uri": "https://localhost:8080/"
        }
      },
      "outputs": [
        {
          "output_type": "stream",
          "name": "stdout",
          "text": [
            "49952.25127690282\n",
            "461.3999938964844\n",
            "232188.17401440407\n",
            "53911524415.39091\n",
            "284.5\n",
            "243064.0\n"
          ]
        }
      ],
      "source": [
        "s = FlowCal.io.FCSData('02-blank-G2-2.fcs')\n",
        "s\n",
        "\n",
        "s_fl1 = s[:, ['FL1-H']]\n",
        "s_fl1\n",
        "\n",
        "s_fl1 = s_fl1.tolist()\n",
        "s_fl1[0][0]\n",
        "\n",
        "proper_s_fl1 = []\n",
        "for i in range(len(s_fl1)):\n",
        "    proper_s_fl1.append(s_fl1[i][0])\n",
        "\n",
        "proper_s_fl1[:100]\n",
        "type(proper_s_fl1[:100])\n",
        "\n",
        "import statistics\n",
        "from statistics import stdev\n",
        "from fractions import Fraction as fr\n",
        "\n",
        "print(np.mean(proper_s_fl1))\n",
        "print(statistics.median(proper_s_fl1))\n",
        "print(np.std(proper_s_fl1))\n",
        "print(statistics.variance(proper_s_fl1))\n",
        "\n",
        "ordered= sorted(proper_s_fl1)\n",
        "i= round(len(ordered)*0.05)\n",
        "lower = ordered[i]\n",
        "i= round(len(ordered)*0.95)\n",
        "upper= ordered[i]\n",
        "\n",
        "print(lower)\n",
        "print(upper)\n"
      ]
    },
    {
      "cell_type": "code",
      "execution_count": null,
      "id": "2e8893e8",
      "metadata": {
        "id": "2e8893e8",
        "outputId": "922357bf-0fdd-42c3-c5f1-cb66f56e1015",
        "colab": {
          "base_uri": "https://localhost:8080/"
        }
      },
      "outputs": [
        {
          "output_type": "stream",
          "name": "stdout",
          "text": [
            "44938.68249472333\n",
            "464.70001220703125\n",
            "224459.50695036128\n",
            "50382215404.746155\n",
            "287.8999938964844\n",
            "75871.796875\n"
          ]
        }
      ],
      "source": [
        "s = FlowCal.io.FCSData('04-blank-G2-2.fcs')\n",
        "s\n",
        "\n",
        "s_fl1 = s[:, ['FL1-H']]\n",
        "s_fl1\n",
        "\n",
        "s_fl1 = s_fl1.tolist()\n",
        "s_fl1[0][0]\n",
        "\n",
        "proper_s_fl1 = []\n",
        "for i in range(len(s_fl1)):\n",
        "    proper_s_fl1.append(s_fl1[i][0])\n",
        "\n",
        "proper_s_fl1[:100]\n",
        "type(proper_s_fl1[:100])\n",
        "\n",
        "import statistics\n",
        "from statistics import stdev\n",
        "from fractions import Fraction as fr\n",
        "\n",
        "print(np.mean(proper_s_fl1))\n",
        "print(statistics.median(proper_s_fl1))\n",
        "print(np.std(proper_s_fl1))\n",
        "print(statistics.variance(proper_s_fl1))\n",
        "\n",
        "ordered= sorted(proper_s_fl1)\n",
        "i= round(len(ordered)*0.05)\n",
        "lower = ordered[i]\n",
        "i= round(len(ordered)*0.95)\n",
        "upper= ordered[i]\n",
        "\n",
        "print(lower)\n",
        "print(upper)\n"
      ]
    },
    {
      "cell_type": "code",
      "execution_count": null,
      "id": "9a5f6d3e",
      "metadata": {
        "id": "9a5f6d3e",
        "outputId": "ff394a89-3939-4fc3-8767-e558f8eb2b58",
        "colab": {
          "base_uri": "https://localhost:8080/"
        }
      },
      "outputs": [
        {
          "output_type": "stream",
          "name": "stdout",
          "text": [
            "324404.1361298028\n",
            "315003.890625\n",
            "176989.20490798607\n",
            "31325371060.790363\n",
            "2256.89990234375\n",
            "623719.3125\n"
          ]
        }
      ],
      "source": [
        "s = FlowCal.io.FCSData('02-blank-G2-3.fcs')\n",
        "s\n",
        "\n",
        "s_fl1 = s[:, ['FL1-H']]\n",
        "s_fl1\n",
        "\n",
        "s_fl1 = s_fl1.tolist()\n",
        "s_fl1[0][0]\n",
        "\n",
        "proper_s_fl1 = []\n",
        "for i in range(len(s_fl1)):\n",
        "    proper_s_fl1.append(s_fl1[i][0])\n",
        "\n",
        "proper_s_fl1[:100]\n",
        "type(proper_s_fl1[:100])\n",
        "\n",
        "import statistics\n",
        "from statistics import stdev\n",
        "from fractions import Fraction as fr\n",
        "\n",
        "print(np.mean(proper_s_fl1))\n",
        "print(statistics.median(proper_s_fl1))\n",
        "print(np.std(proper_s_fl1))\n",
        "print(statistics.variance(proper_s_fl1))\n",
        "\n",
        "ordered= sorted(proper_s_fl1)\n",
        "i= round(len(ordered)*0.05)\n",
        "lower = ordered[i]\n",
        "i= round(len(ordered)*0.95)\n",
        "upper= ordered[i]\n",
        "\n",
        "print(lower)\n",
        "print(upper)\n"
      ]
    },
    {
      "cell_type": "code",
      "execution_count": null,
      "id": "ee61a6c1",
      "metadata": {
        "id": "ee61a6c1",
        "outputId": "489e1c71-b60f-4ad7-aca3-e251ebf0ec8d",
        "colab": {
          "base_uri": "https://localhost:8080/"
        }
      },
      "outputs": [
        {
          "output_type": "stream",
          "name": "stdout",
          "text": [
            "458568.01664582896\n",
            "451840.1875\n",
            "238424.72252292288\n",
            "56846501974.661156\n",
            "3052.39990234375\n",
            "848303.1875\n"
          ]
        }
      ],
      "source": [
        "s = FlowCal.io.FCSData('04-blank-G2-3.fcs')\n",
        "s\n",
        "\n",
        "s_fl1 = s[:, ['FL1-H']]\n",
        "s_fl1\n",
        "\n",
        "s_fl1 = s_fl1.tolist()\n",
        "s_fl1[0][0]\n",
        "\n",
        "proper_s_fl1 = []\n",
        "for i in range(len(s_fl1)):\n",
        "    proper_s_fl1.append(s_fl1[i][0])\n",
        "\n",
        "proper_s_fl1[:100]\n",
        "type(proper_s_fl1[:100])\n",
        "\n",
        "import statistics\n",
        "from statistics import stdev\n",
        "from fractions import Fraction as fr\n",
        "\n",
        "print(np.mean(proper_s_fl1))\n",
        "print(statistics.median(proper_s_fl1))\n",
        "print(np.std(proper_s_fl1))\n",
        "print(statistics.variance(proper_s_fl1))\n",
        "\n",
        "ordered= sorted(proper_s_fl1)\n",
        "i= round(len(ordered)*0.05)\n",
        "lower = ordered[i]\n",
        "i= round(len(ordered)*0.95)\n",
        "upper= ordered[i]\n",
        "\n",
        "print(lower)\n",
        "print(upper)\n"
      ]
    },
    {
      "cell_type": "code",
      "execution_count": null,
      "id": "df224f92",
      "metadata": {
        "id": "df224f92",
        "outputId": "896ba599-d967-4fd7-a001-4bbfd1a82f10",
        "colab": {
          "base_uri": "https://localhost:8080/"
        }
      },
      "outputs": [
        {
          "output_type": "stream",
          "name": "stdout",
          "text": [
            "290440.3674748681\n",
            "244355.0546875\n",
            "240705.65958235858\n",
            "57939413180.332855\n",
            "23833.099609375\n",
            "665033.5\n"
          ]
        }
      ],
      "source": [
        "s = FlowCal.io.FCSData('02-blank-G2-4.fcs')\n",
        "s\n",
        "\n",
        "s_fl1 = s[:, ['FL1-H']]\n",
        "s_fl1\n",
        "\n",
        "s_fl1 = s_fl1.tolist()\n",
        "s_fl1[0][0]\n",
        "\n",
        "proper_s_fl1 = []\n",
        "for i in range(len(s_fl1)):\n",
        "    proper_s_fl1.append(s_fl1[i][0])\n",
        "\n",
        "proper_s_fl1[:100]\n",
        "type(proper_s_fl1[:100])\n",
        "\n",
        "import statistics\n",
        "from statistics import stdev\n",
        "from fractions import Fraction as fr\n",
        "\n",
        "print(np.mean(proper_s_fl1))\n",
        "print(statistics.median(proper_s_fl1))\n",
        "print(np.std(proper_s_fl1))\n",
        "print(statistics.variance(proper_s_fl1))\n",
        "\n",
        "ordered= sorted(proper_s_fl1)\n",
        "i= round(len(ordered)*0.05)\n",
        "lower = ordered[i]\n",
        "i= round(len(ordered)*0.95)\n",
        "upper= ordered[i]\n",
        "\n",
        "print(lower)\n",
        "print(upper)\n"
      ]
    },
    {
      "cell_type": "code",
      "execution_count": null,
      "id": "83d980fd",
      "metadata": {
        "id": "83d980fd",
        "outputId": "f366b57e-8869-4c12-dddf-6c053a242b34",
        "colab": {
          "base_uri": "https://localhost:8080/"
        }
      },
      "outputs": [
        {
          "output_type": "stream",
          "name": "stdout",
          "text": [
            "391438.6207919533\n",
            "372620.140625\n",
            "233801.8405420559\n",
            "54663508245.34447\n",
            "7579.39990234375\n",
            "751884.6875\n"
          ]
        }
      ],
      "source": [
        "s = FlowCal.io.FCSData('04-blank-G2-4.fcs')\n",
        "s\n",
        "\n",
        "s_fl1 = s[:, ['FL1-H']]\n",
        "s_fl1\n",
        "\n",
        "s_fl1 = s_fl1.tolist()\n",
        "s_fl1[0][0]\n",
        "\n",
        "proper_s_fl1 = []\n",
        "for i in range(len(s_fl1)):\n",
        "    proper_s_fl1.append(s_fl1[i][0])\n",
        "\n",
        "proper_s_fl1[:100]\n",
        "type(proper_s_fl1[:100])\n",
        "\n",
        "import statistics\n",
        "from statistics import stdev\n",
        "from fractions import Fraction as fr\n",
        "\n",
        "print(np.mean(proper_s_fl1))\n",
        "print(statistics.median(proper_s_fl1))\n",
        "print(np.std(proper_s_fl1))\n",
        "print(statistics.variance(proper_s_fl1))\n",
        "\n",
        "ordered= sorted(proper_s_fl1)\n",
        "i= round(len(ordered)*0.05)\n",
        "lower = ordered[i]\n",
        "i= round(len(ordered)*0.95)\n",
        "upper= ordered[i]\n",
        "\n",
        "print(lower)\n",
        "print(upper)\n"
      ]
    },
    {
      "cell_type": "code",
      "execution_count": null,
      "id": "36e8e04a",
      "metadata": {
        "id": "36e8e04a",
        "outputId": "4ae14cd6-4248-4de0-f439-2e12b824ca92",
        "colab": {
          "base_uri": "https://localhost:8080/"
        }
      },
      "outputs": [
        {
          "output_type": "stream",
          "name": "stdout",
          "text": [
            "20809.84203998543\n",
            "459.84999084472656\n",
            "115394.24346913511\n",
            "13315881546.568434\n",
            "274.8999938964844\n",
            "49250.8984375\n"
          ]
        }
      ],
      "source": [
        "s = FlowCal.io.FCSData('02-blank-G3-1.fcs')\n",
        "s\n",
        "\n",
        "s_fl1 = s[:, ['FL1-H']]\n",
        "s_fl1\n",
        "\n",
        "s_fl1 = s_fl1.tolist()\n",
        "s_fl1[0][0]\n",
        "\n",
        "proper_s_fl1 = []\n",
        "for i in range(len(s_fl1)):\n",
        "    proper_s_fl1.append(s_fl1[i][0])\n",
        "\n",
        "proper_s_fl1[:100]\n",
        "type(proper_s_fl1[:100])\n",
        "\n",
        "import statistics\n",
        "from statistics import stdev\n",
        "from fractions import Fraction as fr\n",
        "\n",
        "print(np.mean(proper_s_fl1))\n",
        "print(statistics.median(proper_s_fl1))\n",
        "print(np.std(proper_s_fl1))\n",
        "print(statistics.variance(proper_s_fl1))\n",
        "\n",
        "ordered= sorted(proper_s_fl1)\n",
        "i= round(len(ordered)*0.05)\n",
        "lower = ordered[i]\n",
        "i= round(len(ordered)*0.95)\n",
        "upper= ordered[i]\n",
        "\n",
        "print(lower)\n",
        "print(upper)\n"
      ]
    },
    {
      "cell_type": "code",
      "execution_count": null,
      "id": "139b3089",
      "metadata": {
        "id": "139b3089",
        "outputId": "cb1091b9-f456-443f-b566-335c1cdaaac0",
        "colab": {
          "base_uri": "https://localhost:8080/"
        }
      },
      "outputs": [
        {
          "output_type": "stream",
          "name": "stdout",
          "text": [
            "4656.194903338397\n",
            "440.20001220703125\n",
            "44992.296484929575\n",
            "2039413509.726521\n",
            "267.1000061035156\n",
            "2792.89990234375\n"
          ]
        }
      ],
      "source": [
        "s = FlowCal.io.FCSData('04-blank-G3-1.fcs')\n",
        "s\n",
        "\n",
        "s_fl1 = s[:, ['FL1-H']]\n",
        "s_fl1\n",
        "\n",
        "s_fl1 = s_fl1.tolist()\n",
        "s_fl1[0][0]\n",
        "\n",
        "proper_s_fl1 = []\n",
        "for i in range(len(s_fl1)):\n",
        "    proper_s_fl1.append(s_fl1[i][0])\n",
        "\n",
        "proper_s_fl1[:100]\n",
        "type(proper_s_fl1[:100])\n",
        "\n",
        "import statistics\n",
        "from statistics import stdev\n",
        "from fractions import Fraction as fr\n",
        "\n",
        "print(np.mean(proper_s_fl1))\n",
        "print(statistics.median(proper_s_fl1))\n",
        "print(np.std(proper_s_fl1))\n",
        "print(statistics.variance(proper_s_fl1))\n",
        "\n",
        "ordered= sorted(proper_s_fl1)\n",
        "i= round(len(ordered)*0.05)\n",
        "lower = ordered[i]\n",
        "i= round(len(ordered)*0.95)\n",
        "upper= ordered[i]\n",
        "\n",
        "print(lower)\n",
        "print(upper)\n"
      ]
    },
    {
      "cell_type": "code",
      "execution_count": null,
      "id": "cb73cfc0",
      "metadata": {
        "id": "cb73cfc0",
        "outputId": "6b83f90a-0c9a-485f-9c66-fa79c2b320ea",
        "colab": {
          "base_uri": "https://localhost:8080/"
        }
      },
      "outputs": [
        {
          "output_type": "stream",
          "name": "stdout",
          "text": [
            "21751.868250727723\n",
            "461.5\n",
            "123570.7513537091\n",
            "15269787842.521097\n",
            "284.29998779296875\n",
            "48589.3984375\n"
          ]
        }
      ],
      "source": [
        "s = FlowCal.io.FCSData('02-blank-G3-2.fcs')\n",
        "s\n",
        "\n",
        "s_fl1 = s[:, ['FL1-H']]\n",
        "s_fl1\n",
        "\n",
        "s_fl1 = s_fl1.tolist()\n",
        "s_fl1[0][0]\n",
        "\n",
        "proper_s_fl1 = []\n",
        "for i in range(len(s_fl1)):\n",
        "    proper_s_fl1.append(s_fl1[i][0])\n",
        "\n",
        "proper_s_fl1[:100]\n",
        "type(proper_s_fl1[:100])\n",
        "\n",
        "import statistics\n",
        "from statistics import stdev\n",
        "from fractions import Fraction as fr\n",
        "\n",
        "print(np.mean(proper_s_fl1))\n",
        "print(statistics.median(proper_s_fl1))\n",
        "print(np.std(proper_s_fl1))\n",
        "print(statistics.variance(proper_s_fl1))\n",
        "\n",
        "ordered= sorted(proper_s_fl1)\n",
        "i= round(len(ordered)*0.05)\n",
        "lower = ordered[i]\n",
        "i= round(len(ordered)*0.95)\n",
        "upper= ordered[i]\n",
        "\n",
        "print(lower)\n",
        "print(upper)\n"
      ]
    },
    {
      "cell_type": "code",
      "execution_count": null,
      "id": "0762d106",
      "metadata": {
        "id": "0762d106",
        "outputId": "aeebc21a-1c95-4e7f-c233-3ce9786a0be6",
        "colab": {
          "base_uri": "https://localhost:8080/"
        }
      },
      "outputs": [
        {
          "output_type": "stream",
          "name": "stdout",
          "text": [
            "21378.87343676293\n",
            "487.8999938964844\n",
            "122424.06135640542\n",
            "14987677584.853062\n",
            "298.20001220703125\n",
            "50909.3984375\n"
          ]
        }
      ],
      "source": [
        "s = FlowCal.io.FCSData('04-blank-G3-2.fcs')\n",
        "s\n",
        "\n",
        "s_fl1 = s[:, ['FL1-H']]\n",
        "s_fl1\n",
        "\n",
        "s_fl1 = s_fl1.tolist()\n",
        "s_fl1[0][0]\n",
        "\n",
        "proper_s_fl1 = []\n",
        "for i in range(len(s_fl1)):\n",
        "    proper_s_fl1.append(s_fl1[i][0])\n",
        "\n",
        "proper_s_fl1[:100]\n",
        "type(proper_s_fl1[:100])\n",
        "\n",
        "import statistics\n",
        "from statistics import stdev\n",
        "from fractions import Fraction as fr\n",
        "\n",
        "print(np.mean(proper_s_fl1))\n",
        "print(statistics.median(proper_s_fl1))\n",
        "print(np.std(proper_s_fl1))\n",
        "print(statistics.variance(proper_s_fl1))\n",
        "\n",
        "ordered= sorted(proper_s_fl1)\n",
        "i= round(len(ordered)*0.05)\n",
        "lower = ordered[i]\n",
        "i= round(len(ordered)*0.95)\n",
        "upper= ordered[i]\n",
        "\n",
        "print(lower)\n",
        "print(upper)\n"
      ]
    },
    {
      "cell_type": "code",
      "execution_count": null,
      "id": "c93ba2f8",
      "metadata": {
        "id": "c93ba2f8",
        "outputId": "eb26327a-d90e-48f3-81ca-2b1f06493d18",
        "colab": {
          "base_uri": "https://localhost:8080/"
        }
      },
      "outputs": [
        {
          "output_type": "stream",
          "name": "stdout",
          "text": [
            "332459.71819603984\n",
            "325162.0\n",
            "196995.6990267485\n",
            "38807507084.853264\n",
            "2766.60009765625\n",
            "660835.625\n"
          ]
        }
      ],
      "source": [
        "s = FlowCal.io.FCSData('02-blank-G3-3.fcs')\n",
        "s\n",
        "\n",
        "s_fl1 = s[:, ['FL1-H']]\n",
        "s_fl1\n",
        "\n",
        "s_fl1 = s_fl1.tolist()\n",
        "s_fl1[0][0]\n",
        "\n",
        "proper_s_fl1 = []\n",
        "for i in range(len(s_fl1)):\n",
        "    proper_s_fl1.append(s_fl1[i][0])\n",
        "\n",
        "proper_s_fl1[:100]\n",
        "type(proper_s_fl1[:100])\n",
        "\n",
        "import statistics\n",
        "from statistics import stdev\n",
        "from fractions import Fraction as fr\n",
        "\n",
        "print(np.mean(proper_s_fl1))\n",
        "print(statistics.median(proper_s_fl1))\n",
        "print(np.std(proper_s_fl1))\n",
        "print(statistics.variance(proper_s_fl1))\n",
        "\n",
        "ordered= sorted(proper_s_fl1)\n",
        "i= round(len(ordered)*0.05)\n",
        "lower = ordered[i]\n",
        "i= round(len(ordered)*0.95)\n",
        "upper= ordered[i]\n",
        "\n",
        "print(lower)\n",
        "print(upper)\n"
      ]
    },
    {
      "cell_type": "code",
      "execution_count": null,
      "id": "28e12383",
      "metadata": {
        "id": "28e12383",
        "outputId": "8933388d-a05d-48c0-f2fc-110ff72c8ec0",
        "colab": {
          "base_uri": "https://localhost:8080/"
        }
      },
      "outputs": [
        {
          "output_type": "stream",
          "name": "stdout",
          "text": [
            "410966.5269964725\n",
            "405433.59375\n",
            "264221.488145332\n",
            "69813127251.35959\n",
            "3184.699951171875\n",
            "841480.3125\n"
          ]
        }
      ],
      "source": [
        "s = FlowCal.io.FCSData('04-blank-G3-3.fcs')\n",
        "s\n",
        "\n",
        "s_fl1 = s[:, ['FL1-H']]\n",
        "s_fl1\n",
        "\n",
        "s_fl1 = s_fl1.tolist()\n",
        "s_fl1[0][0]\n",
        "\n",
        "proper_s_fl1 = []\n",
        "for i in range(len(s_fl1)):\n",
        "    proper_s_fl1.append(s_fl1[i][0])\n",
        "\n",
        "proper_s_fl1[:100]\n",
        "type(proper_s_fl1[:100])\n",
        "\n",
        "import statistics\n",
        "from statistics import stdev\n",
        "from fractions import Fraction as fr\n",
        "\n",
        "print(np.mean(proper_s_fl1))\n",
        "print(statistics.median(proper_s_fl1))\n",
        "print(np.std(proper_s_fl1))\n",
        "print(statistics.variance(proper_s_fl1))\n",
        "\n",
        "ordered= sorted(proper_s_fl1)\n",
        "i= round(len(ordered)*0.05)\n",
        "lower = ordered[i]\n",
        "i= round(len(ordered)*0.95)\n",
        "upper= ordered[i]\n",
        "\n",
        "print(lower)\n",
        "print(upper)\n"
      ]
    },
    {
      "cell_type": "code",
      "execution_count": null,
      "id": "497203a5",
      "metadata": {
        "id": "497203a5",
        "outputId": "1d1df36c-3a6d-4ab5-ead7-9b960bdc8c37",
        "colab": {
          "base_uri": "https://localhost:8080/"
        }
      },
      "outputs": [
        {
          "output_type": "stream",
          "name": "stdout",
          "text": [
            "297316.3887533158\n",
            "280029.40625\n",
            "191103.4575095772\n",
            "36520665904.83854\n",
            "6717.60009765625\n",
            "622862.875\n"
          ]
        }
      ],
      "source": [
        "s = FlowCal.io.FCSData('02-blank-G3-4.fcs')\n",
        "s\n",
        "\n",
        "s_fl1 = s[:, ['FL1-H']]\n",
        "s_fl1\n",
        "\n",
        "s_fl1 = s_fl1.tolist()\n",
        "s_fl1[0][0]\n",
        "\n",
        "proper_s_fl1 = []\n",
        "for i in range(len(s_fl1)):\n",
        "    proper_s_fl1.append(s_fl1[i][0])\n",
        "\n",
        "proper_s_fl1[:100]\n",
        "type(proper_s_fl1[:100])\n",
        "\n",
        "import statistics\n",
        "from statistics import stdev\n",
        "from fractions import Fraction as fr\n",
        "\n",
        "print(np.mean(proper_s_fl1))\n",
        "print(statistics.median(proper_s_fl1))\n",
        "print(np.std(proper_s_fl1))\n",
        "print(statistics.variance(proper_s_fl1))\n",
        "\n",
        "ordered= sorted(proper_s_fl1)\n",
        "i= round(len(ordered)*0.05)\n",
        "lower = ordered[i]\n",
        "i= round(len(ordered)*0.95)\n",
        "upper= ordered[i]\n",
        "\n",
        "print(lower)\n",
        "print(upper)\n"
      ]
    },
    {
      "cell_type": "code",
      "execution_count": null,
      "id": "da897a49",
      "metadata": {
        "id": "da897a49",
        "outputId": "2754fe0f-60e7-404a-e584-56f327964b13",
        "colab": {
          "base_uri": "https://localhost:8080/"
        }
      },
      "outputs": [
        {
          "output_type": "stream",
          "name": "stdout",
          "text": [
            "343667.20350905723\n",
            "346042.59375\n",
            "205356.15474882815\n",
            "42171333839.17428\n",
            "2351.699951171875\n",
            "667612.8125\n"
          ]
        }
      ],
      "source": [
        "s = FlowCal.io.FCSData('04-blank-G3-4.fcs')\n",
        "s\n",
        "\n",
        "s_fl1 = s[:, ['FL1-H']]\n",
        "s_fl1\n",
        "\n",
        "s_fl1 = s_fl1.tolist()\n",
        "s_fl1[0][0]\n",
        "\n",
        "proper_s_fl1 = []\n",
        "for i in range(len(s_fl1)):\n",
        "    proper_s_fl1.append(s_fl1[i][0])\n",
        "\n",
        "proper_s_fl1[:100]\n",
        "type(proper_s_fl1[:100])\n",
        "\n",
        "import statistics\n",
        "from statistics import stdev\n",
        "from fractions import Fraction as fr\n",
        "\n",
        "print(np.mean(proper_s_fl1))\n",
        "print(statistics.median(proper_s_fl1))\n",
        "print(np.std(proper_s_fl1))\n",
        "print(statistics.variance(proper_s_fl1))\n",
        "\n",
        "ordered= sorted(proper_s_fl1)\n",
        "i= round(len(ordered)*0.05)\n",
        "lower = ordered[i]\n",
        "i= round(len(ordered)*0.95)\n",
        "upper= ordered[i]\n",
        "\n",
        "print(lower)\n",
        "print(upper)\n"
      ]
    },
    {
      "cell_type": "code",
      "execution_count": null,
      "id": "f80b937b",
      "metadata": {
        "id": "f80b937b",
        "outputId": "3641878f-8222-4f85-9113-c7f555bdd585",
        "colab": {
          "base_uri": "https://localhost:8080/"
        }
      },
      "outputs": [
        {
          "output_type": "stream",
          "name": "stdout",
          "text": [
            "36734.88943318896\n",
            "456.8999938964844\n",
            "162248.6538596442\n",
            "26324717329.572422\n",
            "273.8999938964844\n",
            "282379.6875\n"
          ]
        }
      ],
      "source": [
        "s = FlowCal.io.FCSData('02-blank-G4-1.fcs')\n",
        "s\n",
        "\n",
        "s_fl1 = s[:, ['FL1-H']]\n",
        "s_fl1\n",
        "\n",
        "s_fl1 = s_fl1.tolist()\n",
        "s_fl1[0][0]\n",
        "\n",
        "proper_s_fl1 = []\n",
        "for i in range(len(s_fl1)):\n",
        "    proper_s_fl1.append(s_fl1[i][0])\n",
        "\n",
        "proper_s_fl1[:100]\n",
        "type(proper_s_fl1[:100])\n",
        "\n",
        "import statistics\n",
        "from statistics import stdev\n",
        "from fractions import Fraction as fr\n",
        "\n",
        "print(np.mean(proper_s_fl1))\n",
        "print(statistics.median(proper_s_fl1))\n",
        "print(np.std(proper_s_fl1))\n",
        "print(statistics.variance(proper_s_fl1))\n",
        "\n",
        "ordered= sorted(proper_s_fl1)\n",
        "i= round(len(ordered)*0.05)\n",
        "lower = ordered[i]\n",
        "i= round(len(ordered)*0.95)\n",
        "upper= ordered[i]\n",
        "\n",
        "print(lower)\n",
        "print(upper)\n"
      ]
    },
    {
      "cell_type": "code",
      "execution_count": null,
      "id": "1147037a",
      "metadata": {
        "id": "1147037a",
        "outputId": "9b8d3161-051c-468a-fd22-95af87c23a48",
        "colab": {
          "base_uri": "https://localhost:8080/"
        }
      },
      "outputs": [
        {
          "output_type": "stream",
          "name": "stdout",
          "text": [
            "9611.202601474999\n",
            "446.8000030517578\n",
            "61962.52581455029\n",
            "3856418403.5646715\n",
            "265.0\n",
            "4924.89990234375\n"
          ]
        }
      ],
      "source": [
        "s = FlowCal.io.FCSData('04-blank-G4-1.fcs')\n",
        "s\n",
        "\n",
        "s_fl1 = s[:, ['FL1-H']]\n",
        "s_fl1\n",
        "\n",
        "s_fl1 = s_fl1.tolist()\n",
        "s_fl1[0][0]\n",
        "\n",
        "proper_s_fl1 = []\n",
        "for i in range(len(s_fl1)):\n",
        "    proper_s_fl1.append(s_fl1[i][0])\n",
        "\n",
        "proper_s_fl1[:100]\n",
        "type(proper_s_fl1[:100])\n",
        "\n",
        "import statistics\n",
        "from statistics import stdev\n",
        "from fractions import Fraction as fr\n",
        "\n",
        "print(np.mean(proper_s_fl1))\n",
        "print(statistics.median(proper_s_fl1))\n",
        "print(np.std(proper_s_fl1))\n",
        "print(statistics.variance(proper_s_fl1))\n",
        "\n",
        "ordered= sorted(proper_s_fl1)\n",
        "i= round(len(ordered)*0.05)\n",
        "lower = ordered[i]\n",
        "i= round(len(ordered)*0.95)\n",
        "upper= ordered[i]\n",
        "\n",
        "print(lower)\n",
        "print(upper)\n"
      ]
    },
    {
      "cell_type": "code",
      "execution_count": null,
      "id": "3579bbd4",
      "metadata": {
        "id": "3579bbd4",
        "outputId": "eb511d56-adde-474a-d34a-5b448b8cab86",
        "colab": {
          "base_uri": "https://localhost:8080/"
        }
      },
      "outputs": [
        {
          "output_type": "stream",
          "name": "stdout",
          "text": [
            "32370.815098053285\n",
            "463.70001220703125\n",
            "162258.19537577452\n",
            "26327814056.994316\n",
            "286.5\n",
            "84495.5\n"
          ]
        }
      ],
      "source": [
        "s = FlowCal.io.FCSData('02-blank-G4-2.fcs')\n",
        "s\n",
        "\n",
        "s_fl1 = s[:, ['FL1-H']]\n",
        "s_fl1\n",
        "\n",
        "s_fl1 = s_fl1.tolist()\n",
        "s_fl1[0][0]\n",
        "\n",
        "proper_s_fl1 = []\n",
        "for i in range(len(s_fl1)):\n",
        "    proper_s_fl1.append(s_fl1[i][0])\n",
        "\n",
        "proper_s_fl1[:100]\n",
        "type(proper_s_fl1[:100])\n",
        "\n",
        "import statistics\n",
        "from statistics import stdev\n",
        "from fractions import Fraction as fr\n",
        "\n",
        "print(np.mean(proper_s_fl1))\n",
        "print(statistics.median(proper_s_fl1))\n",
        "print(np.std(proper_s_fl1))\n",
        "print(statistics.variance(proper_s_fl1))\n",
        "\n",
        "ordered= sorted(proper_s_fl1)\n",
        "i= round(len(ordered)*0.05)\n",
        "lower = ordered[i]\n",
        "i= round(len(ordered)*0.95)\n",
        "upper= ordered[i]\n",
        "\n",
        "print(lower)\n",
        "print(upper)\n"
      ]
    },
    {
      "cell_type": "code",
      "execution_count": null,
      "id": "46c4fff8",
      "metadata": {
        "id": "46c4fff8",
        "outputId": "7736b7f8-e34e-4652-83c4-6dd07c56414d",
        "colab": {
          "base_uri": "https://localhost:8080/"
        }
      },
      "outputs": [
        {
          "output_type": "stream",
          "name": "stdout",
          "text": [
            "30931.2883234071\n",
            "465.5\n",
            "165607.79140055642\n",
            "27425998000.074944\n",
            "288.29998779296875\n",
            "45339.8984375\n"
          ]
        }
      ],
      "source": [
        "s = FlowCal.io.FCSData('04-blank-G4-2.fcs')\n",
        "s\n",
        "\n",
        "s_fl1 = s[:, ['FL1-H']]\n",
        "s_fl1\n",
        "\n",
        "s_fl1 = s_fl1.tolist()\n",
        "s_fl1[0][0]\n",
        "\n",
        "proper_s_fl1 = []\n",
        "for i in range(len(s_fl1)):\n",
        "    proper_s_fl1.append(s_fl1[i][0])\n",
        "\n",
        "proper_s_fl1[:100]\n",
        "type(proper_s_fl1[:100])\n",
        "\n",
        "import statistics\n",
        "from statistics import stdev\n",
        "from fractions import Fraction as fr\n",
        "\n",
        "print(np.mean(proper_s_fl1))\n",
        "print(statistics.median(proper_s_fl1))\n",
        "print(np.std(proper_s_fl1))\n",
        "print(statistics.variance(proper_s_fl1))\n",
        "\n",
        "ordered= sorted(proper_s_fl1)\n",
        "i= round(len(ordered)*0.05)\n",
        "lower = ordered[i]\n",
        "i= round(len(ordered)*0.95)\n",
        "upper= ordered[i]\n",
        "\n",
        "print(lower)\n",
        "print(upper)\n"
      ]
    },
    {
      "cell_type": "code",
      "execution_count": null,
      "id": "88865cb4",
      "metadata": {
        "id": "88865cb4",
        "outputId": "bbf59337-895b-4727-bc17-3a2f0160cd6a",
        "colab": {
          "base_uri": "https://localhost:8080/"
        }
      },
      "outputs": [
        {
          "output_type": "stream",
          "name": "stdout",
          "text": [
            "340236.6046496732\n",
            "327599.15625\n",
            "206404.8299329897\n",
            "42603210027.17902\n",
            "778.5999755859375\n",
            "680477.6875\n"
          ]
        }
      ],
      "source": [
        "s = FlowCal.io.FCSData('02-blank-G4-3.fcs')\n",
        "s\n",
        "\n",
        "s_fl1 = s[:, ['FL1-H']]\n",
        "s_fl1\n",
        "\n",
        "s_fl1 = s_fl1.tolist()\n",
        "s_fl1[0][0]\n",
        "\n",
        "proper_s_fl1 = []\n",
        "for i in range(len(s_fl1)):\n",
        "    proper_s_fl1.append(s_fl1[i][0])\n",
        "\n",
        "proper_s_fl1[:100]\n",
        "type(proper_s_fl1[:100])\n",
        "\n",
        "import statistics\n",
        "from statistics import stdev\n",
        "from fractions import Fraction as fr\n",
        "\n",
        "print(np.mean(proper_s_fl1))\n",
        "print(statistics.median(proper_s_fl1))\n",
        "print(np.std(proper_s_fl1))\n",
        "print(statistics.variance(proper_s_fl1))\n",
        "\n",
        "ordered= sorted(proper_s_fl1)\n",
        "i= round(len(ordered)*0.05)\n",
        "lower = ordered[i]\n",
        "i= round(len(ordered)*0.95)\n",
        "upper= ordered[i]\n",
        "\n",
        "print(lower)\n",
        "print(upper)\n"
      ]
    },
    {
      "cell_type": "code",
      "execution_count": null,
      "id": "5f0a51e2",
      "metadata": {
        "id": "5f0a51e2",
        "outputId": "9c006fa0-dee9-4ec1-f51a-56ae0b2d35fb",
        "colab": {
          "base_uri": "https://localhost:8080/"
        }
      },
      "outputs": [
        {
          "output_type": "stream",
          "name": "stdout",
          "text": [
            "442289.3664213899\n",
            "425223.703125\n",
            "273468.92046340357\n",
            "74785387938.6242\n",
            "797.7999877929688\n",
            "892845.875\n"
          ]
        }
      ],
      "source": [
        "s = FlowCal.io.FCSData('04-blank-G4-3.fcs')\n",
        "s\n",
        "\n",
        "s_fl1 = s[:, ['FL1-H']]\n",
        "s_fl1\n",
        "\n",
        "s_fl1 = s_fl1.tolist()\n",
        "s_fl1[0][0]\n",
        "\n",
        "proper_s_fl1 = []\n",
        "for i in range(len(s_fl1)):\n",
        "    proper_s_fl1.append(s_fl1[i][0])\n",
        "\n",
        "proper_s_fl1[:100]\n",
        "type(proper_s_fl1[:100])\n",
        "\n",
        "import statistics\n",
        "from statistics import stdev\n",
        "from fractions import Fraction as fr\n",
        "\n",
        "print(np.mean(proper_s_fl1))\n",
        "print(statistics.median(proper_s_fl1))\n",
        "print(np.std(proper_s_fl1))\n",
        "print(statistics.variance(proper_s_fl1))\n",
        "\n",
        "ordered= sorted(proper_s_fl1)\n",
        "i= round(len(ordered)*0.05)\n",
        "lower = ordered[i]\n",
        "i= round(len(ordered)*0.95)\n",
        "upper= ordered[i]\n",
        "\n",
        "print(lower)\n",
        "print(upper)\n"
      ]
    },
    {
      "cell_type": "code",
      "execution_count": null,
      "id": "7e039c07",
      "metadata": {
        "id": "7e039c07",
        "outputId": "05fa2e79-988c-405e-96a6-f54bc598a3b0",
        "colab": {
          "base_uri": "https://localhost:8080/"
        }
      },
      "outputs": [
        {
          "output_type": "stream",
          "name": "stdout",
          "text": [
            "350025.2755436097\n",
            "328736.3125\n",
            "209095.73415822827\n",
            "43721314813.78248\n",
            "1991.9000244140625\n",
            "697086.5\n"
          ]
        }
      ],
      "source": [
        "s = FlowCal.io.FCSData('02-blank-G4-4.fcs')\n",
        "s\n",
        "\n",
        "s_fl1 = s[:, ['FL1-H']]\n",
        "s_fl1\n",
        "\n",
        "s_fl1 = s_fl1.tolist()\n",
        "s_fl1[0][0]\n",
        "\n",
        "proper_s_fl1 = []\n",
        "for i in range(len(s_fl1)):\n",
        "    proper_s_fl1.append(s_fl1[i][0])\n",
        "\n",
        "proper_s_fl1[:100]\n",
        "type(proper_s_fl1[:100])\n",
        "\n",
        "import statistics\n",
        "from statistics import stdev\n",
        "from fractions import Fraction as fr\n",
        "\n",
        "print(np.mean(proper_s_fl1))\n",
        "print(statistics.median(proper_s_fl1))\n",
        "print(np.std(proper_s_fl1))\n",
        "print(statistics.variance(proper_s_fl1))\n",
        "\n",
        "ordered= sorted(proper_s_fl1)\n",
        "i= round(len(ordered)*0.05)\n",
        "lower = ordered[i]\n",
        "i= round(len(ordered)*0.95)\n",
        "upper= ordered[i]\n",
        "\n",
        "print(lower)\n",
        "print(upper)\n"
      ]
    },
    {
      "cell_type": "code",
      "execution_count": null,
      "id": "0967c5a4",
      "metadata": {
        "id": "0967c5a4",
        "outputId": "791b34e3-778f-4ea2-8efe-a7df309931ee",
        "colab": {
          "base_uri": "https://localhost:8080/"
        }
      },
      "outputs": [
        {
          "output_type": "stream",
          "name": "stdout",
          "text": [
            "382735.8089594385\n",
            "375278.6875\n",
            "223726.1151304036\n",
            "50053566705.31586\n",
            "861.4000244140625\n",
            "734307.0\n"
          ]
        }
      ],
      "source": [
        "s = FlowCal.io.FCSData('04-blank-G4-4.fcs')\n",
        "s\n",
        "\n",
        "s_fl1 = s[:, ['FL1-H']]\n",
        "s_fl1\n",
        "\n",
        "s_fl1 = s_fl1.tolist()\n",
        "s_fl1[0][0]\n",
        "\n",
        "proper_s_fl1 = []\n",
        "for i in range(len(s_fl1)):\n",
        "    proper_s_fl1.append(s_fl1[i][0])\n",
        "\n",
        "proper_s_fl1[:100]\n",
        "type(proper_s_fl1[:100])\n",
        "\n",
        "import statistics\n",
        "from statistics import stdev\n",
        "from fractions import Fraction as fr\n",
        "\n",
        "print(np.mean(proper_s_fl1))\n",
        "print(statistics.median(proper_s_fl1))\n",
        "print(np.std(proper_s_fl1))\n",
        "print(statistics.variance(proper_s_fl1))\n",
        "\n",
        "ordered= sorted(proper_s_fl1)\n",
        "i= round(len(ordered)*0.05)\n",
        "lower = ordered[i]\n",
        "i= round(len(ordered)*0.95)\n",
        "upper= ordered[i]\n",
        "\n",
        "print(lower)\n",
        "print(upper)\n"
      ]
    },
    {
      "cell_type": "code",
      "execution_count": null,
      "id": "a7e4db9b",
      "metadata": {
        "id": "a7e4db9b",
        "outputId": "d0945f6c-02e8-4556-e32a-39efa84a8ebf",
        "colab": {
          "base_uri": "https://localhost:8080/"
        }
      },
      "outputs": [
        {
          "output_type": "stream",
          "name": "stdout",
          "text": [
            "17614.579946825208\n",
            "472.70001220703125\n",
            "95840.75963128857\n",
            "9185491145.877892\n",
            "276.8999938964844\n",
            "39654.19921875\n"
          ]
        }
      ],
      "source": [
        "s = FlowCal.io.FCSData('02-blank-G5-1.fcs')\n",
        "s\n",
        "\n",
        "s_fl1 = s[:, ['FL1-H']]\n",
        "s_fl1\n",
        "\n",
        "s_fl1 = s_fl1.tolist()\n",
        "s_fl1[0][0]\n",
        "\n",
        "proper_s_fl1 = []\n",
        "for i in range(len(s_fl1)):\n",
        "    proper_s_fl1.append(s_fl1[i][0])\n",
        "\n",
        "proper_s_fl1[:100]\n",
        "type(proper_s_fl1[:100])\n",
        "\n",
        "import statistics\n",
        "from statistics import stdev\n",
        "from fractions import Fraction as fr\n",
        "\n",
        "print(np.mean(proper_s_fl1))\n",
        "print(statistics.median(proper_s_fl1))\n",
        "print(np.std(proper_s_fl1))\n",
        "print(statistics.variance(proper_s_fl1))\n",
        "\n",
        "ordered= sorted(proper_s_fl1)\n",
        "i= round(len(ordered)*0.05)\n",
        "lower = ordered[i]\n",
        "i= round(len(ordered)*0.95)\n",
        "upper= ordered[i]\n",
        "\n",
        "print(lower)\n",
        "print(upper)\n"
      ]
    },
    {
      "cell_type": "code",
      "execution_count": null,
      "id": "d5f6ac01",
      "metadata": {
        "id": "d5f6ac01",
        "outputId": "33c5b128-3c55-4a77-f4f5-d9184148c493",
        "colab": {
          "base_uri": "https://localhost:8080/"
        }
      },
      "outputs": [
        {
          "output_type": "stream",
          "name": "stdout",
          "text": [
            "5110.976621389389\n",
            "440.5500030517578\n",
            "44317.888742871204\n",
            "1970232238.370418\n",
            "252.5\n",
            "1715.0\n"
          ]
        }
      ],
      "source": [
        "s = FlowCal.io.FCSData('04-blank-G5-1.fcs')\n",
        "s\n",
        "\n",
        "s_fl1 = s[:, ['FL1-H']]\n",
        "s_fl1\n",
        "\n",
        "s_fl1 = s_fl1.tolist()\n",
        "s_fl1[0][0]\n",
        "\n",
        "proper_s_fl1 = []\n",
        "for i in range(len(s_fl1)):\n",
        "    proper_s_fl1.append(s_fl1[i][0])\n",
        "\n",
        "proper_s_fl1[:100]\n",
        "type(proper_s_fl1[:100])\n",
        "\n",
        "import statistics\n",
        "from statistics import stdev\n",
        "from fractions import Fraction as fr\n",
        "\n",
        "print(np.mean(proper_s_fl1))\n",
        "print(statistics.median(proper_s_fl1))\n",
        "print(np.std(proper_s_fl1))\n",
        "print(statistics.variance(proper_s_fl1))\n",
        "\n",
        "ordered= sorted(proper_s_fl1)\n",
        "i= round(len(ordered)*0.05)\n",
        "lower = ordered[i]\n",
        "i= round(len(ordered)*0.95)\n",
        "upper= ordered[i]\n",
        "\n",
        "print(lower)\n",
        "print(upper)\n"
      ]
    },
    {
      "cell_type": "code",
      "execution_count": null,
      "id": "d976bc9b",
      "metadata": {
        "id": "d976bc9b",
        "outputId": "9868fa15-54fc-43bc-d565-7ab262556f64",
        "colab": {
          "base_uri": "https://localhost:8080/"
        }
      },
      "outputs": [
        {
          "output_type": "stream",
          "name": "stdout",
          "text": [
            "24693.293510864103\n",
            "493.3999938964844\n",
            "121494.76165358379\n",
            "14761032243.90293\n",
            "299.8999938964844\n",
            "64513.5\n"
          ]
        }
      ],
      "source": [
        "s = FlowCal.io.FCSData('02-blank-G5-2.fcs')\n",
        "s\n",
        "\n",
        "s_fl1 = s[:, ['FL1-H']]\n",
        "s_fl1\n",
        "\n",
        "s_fl1 = s_fl1.tolist()\n",
        "s_fl1[0][0]\n",
        "\n",
        "proper_s_fl1 = []\n",
        "for i in range(len(s_fl1)):\n",
        "    proper_s_fl1.append(s_fl1[i][0])\n",
        "\n",
        "proper_s_fl1[:100]\n",
        "type(proper_s_fl1[:100])\n",
        "\n",
        "import statistics\n",
        "from statistics import stdev\n",
        "from fractions import Fraction as fr\n",
        "\n",
        "print(np.mean(proper_s_fl1))\n",
        "print(statistics.median(proper_s_fl1))\n",
        "print(np.std(proper_s_fl1))\n",
        "print(statistics.variance(proper_s_fl1))\n",
        "\n",
        "ordered= sorted(proper_s_fl1)\n",
        "i= round(len(ordered)*0.05)\n",
        "lower = ordered[i]\n",
        "i= round(len(ordered)*0.95)\n",
        "upper= ordered[i]\n",
        "\n",
        "print(lower)\n",
        "print(upper)\n"
      ]
    },
    {
      "cell_type": "code",
      "execution_count": null,
      "id": "adaed664",
      "metadata": {
        "id": "adaed664",
        "outputId": "5204c654-7b9b-4444-eb1f-02892194e14c",
        "colab": {
          "base_uri": "https://localhost:8080/"
        }
      },
      "outputs": [
        {
          "output_type": "stream",
          "name": "stdout",
          "text": [
            "21468.673718850096\n",
            "485.29998779296875\n",
            "121247.44832011792\n",
            "14700977435.56028\n",
            "292.29998779296875\n",
            "48550.30078125\n"
          ]
        }
      ],
      "source": [
        "s = FlowCal.io.FCSData('04-blank-G5-2.fcs')\n",
        "s\n",
        "\n",
        "s_fl1 = s[:, ['FL1-H']]\n",
        "s_fl1\n",
        "\n",
        "s_fl1 = s_fl1.tolist()\n",
        "s_fl1[0][0]\n",
        "\n",
        "proper_s_fl1 = []\n",
        "for i in range(len(s_fl1)):\n",
        "    proper_s_fl1.append(s_fl1[i][0])\n",
        "\n",
        "proper_s_fl1[:100]\n",
        "type(proper_s_fl1[:100])\n",
        "\n",
        "import statistics\n",
        "from statistics import stdev\n",
        "from fractions import Fraction as fr\n",
        "\n",
        "print(np.mean(proper_s_fl1))\n",
        "print(statistics.median(proper_s_fl1))\n",
        "print(np.std(proper_s_fl1))\n",
        "print(statistics.variance(proper_s_fl1))\n",
        "\n",
        "ordered= sorted(proper_s_fl1)\n",
        "i= round(len(ordered)*0.05)\n",
        "lower = ordered[i]\n",
        "i= round(len(ordered)*0.95)\n",
        "upper= ordered[i]\n",
        "\n",
        "print(lower)\n",
        "print(upper)\n"
      ]
    },
    {
      "cell_type": "code",
      "execution_count": null,
      "id": "fa1b39d2",
      "metadata": {
        "id": "fa1b39d2",
        "outputId": "7b739de4-be7c-4187-9303-d8a7034d9c30",
        "colab": {
          "base_uri": "https://localhost:8080/"
        }
      },
      "outputs": [
        {
          "output_type": "stream",
          "name": "stdout",
          "text": [
            "278012.36308647296\n",
            "288939.34375\n",
            "234702.2838310981\n",
            "55085477000.46637\n",
            "530.5999755859375\n",
            "673570.6875\n"
          ]
        }
      ],
      "source": [
        "s = FlowCal.io.FCSData('02-blank-G5-3.fcs')\n",
        "s\n",
        "\n",
        "s_fl1 = s[:, ['FL1-H']]\n",
        "s_fl1\n",
        "\n",
        "s_fl1 = s_fl1.tolist()\n",
        "s_fl1[0][0]\n",
        "\n",
        "proper_s_fl1 = []\n",
        "for i in range(len(s_fl1)):\n",
        "    proper_s_fl1.append(s_fl1[i][0])\n",
        "\n",
        "proper_s_fl1[:100]\n",
        "type(proper_s_fl1[:100])\n",
        "\n",
        "import statistics\n",
        "from statistics import stdev\n",
        "from fractions import Fraction as fr\n",
        "\n",
        "print(np.mean(proper_s_fl1))\n",
        "print(statistics.median(proper_s_fl1))\n",
        "print(np.std(proper_s_fl1))\n",
        "print(statistics.variance(proper_s_fl1))\n",
        "\n",
        "ordered= sorted(proper_s_fl1)\n",
        "i= round(len(ordered)*0.05)\n",
        "lower = ordered[i]\n",
        "i= round(len(ordered)*0.95)\n",
        "upper= ordered[i]\n",
        "\n",
        "print(lower)\n",
        "print(upper)\n"
      ]
    },
    {
      "cell_type": "code",
      "execution_count": null,
      "id": "5f93faba",
      "metadata": {
        "id": "5f93faba",
        "outputId": "142070d0-79fa-4e6c-8cc5-b5a75facda53",
        "colab": {
          "base_uri": "https://localhost:8080/"
        }
      },
      "outputs": [
        {
          "output_type": "stream",
          "name": "stdout",
          "text": [
            "321859.00763414043\n",
            "351419.8125\n",
            "273424.4278879628\n",
            "74761111871.4112\n",
            "509.20001220703125\n",
            "762786.8125\n"
          ]
        }
      ],
      "source": [
        "s = FlowCal.io.FCSData('04-blank-G5-3.fcs')\n",
        "s\n",
        "\n",
        "s_fl1 = s[:, ['FL1-H']]\n",
        "s_fl1\n",
        "\n",
        "s_fl1 = s_fl1.tolist()\n",
        "s_fl1[0][0]\n",
        "\n",
        "proper_s_fl1 = []\n",
        "for i in range(len(s_fl1)):\n",
        "    proper_s_fl1.append(s_fl1[i][0])\n",
        "\n",
        "proper_s_fl1[:100]\n",
        "type(proper_s_fl1[:100])\n",
        "\n",
        "import statistics\n",
        "from statistics import stdev\n",
        "from fractions import Fraction as fr\n",
        "\n",
        "print(np.mean(proper_s_fl1))\n",
        "print(statistics.median(proper_s_fl1))\n",
        "print(np.std(proper_s_fl1))\n",
        "print(statistics.variance(proper_s_fl1))\n",
        "\n",
        "ordered= sorted(proper_s_fl1)\n",
        "i= round(len(ordered)*0.05)\n",
        "lower = ordered[i]\n",
        "i= round(len(ordered)*0.95)\n",
        "upper= ordered[i]\n",
        "\n",
        "print(lower)\n",
        "print(upper)\n"
      ]
    },
    {
      "cell_type": "code",
      "execution_count": null,
      "id": "0e0a797e",
      "metadata": {
        "id": "0e0a797e",
        "outputId": "2d145aa9-158c-4510-dca1-23d624bf6a6c",
        "colab": {
          "base_uri": "https://localhost:8080/"
        }
      },
      "outputs": [
        {
          "output_type": "stream",
          "name": "stdout",
          "text": [
            "254029.26241674114\n",
            "263915.046875\n",
            "204027.56105615592\n",
            "41627528285.75749\n",
            "615.2000122070312\n",
            "594913.3125\n"
          ]
        }
      ],
      "source": [
        "s = FlowCal.io.FCSData('02-blank-G5-4.fcs')\n",
        "s\n",
        "\n",
        "s_fl1 = s[:, ['FL1-H']]\n",
        "s_fl1\n",
        "\n",
        "s_fl1 = s_fl1.tolist()\n",
        "s_fl1[0][0]\n",
        "\n",
        "proper_s_fl1 = []\n",
        "for i in range(len(s_fl1)):\n",
        "    proper_s_fl1.append(s_fl1[i][0])\n",
        "\n",
        "proper_s_fl1[:100]\n",
        "type(proper_s_fl1[:100])\n",
        "\n",
        "import statistics\n",
        "from statistics import stdev\n",
        "from fractions import Fraction as fr\n",
        "\n",
        "print(np.mean(proper_s_fl1))\n",
        "print(statistics.median(proper_s_fl1))\n",
        "print(np.std(proper_s_fl1))\n",
        "print(statistics.variance(proper_s_fl1))\n",
        "\n",
        "ordered= sorted(proper_s_fl1)\n",
        "i= round(len(ordered)*0.05)\n",
        "lower = ordered[i]\n",
        "i= round(len(ordered)*0.95)\n",
        "upper= ordered[i]\n",
        "\n",
        "print(lower)\n",
        "print(upper)\n"
      ]
    },
    {
      "cell_type": "code",
      "execution_count": null,
      "id": "8c10e884",
      "metadata": {
        "id": "8c10e884",
        "outputId": "2430effe-c101-4424-df65-a58d84a6c997",
        "colab": {
          "base_uri": "https://localhost:8080/"
        }
      },
      "outputs": [
        {
          "output_type": "stream",
          "name": "stdout",
          "text": [
            "280007.55479134386\n",
            "306351.34375\n",
            "231966.74067593724\n",
            "53808772129.522484\n",
            "556.7999877929688\n",
            "649058.0\n"
          ]
        }
      ],
      "source": [
        "s = FlowCal.io.FCSData('04-blank-G5-4.fcs')\n",
        "s\n",
        "\n",
        "s_fl1 = s[:, ['FL1-H']]\n",
        "s_fl1\n",
        "\n",
        "s_fl1 = s_fl1.tolist()\n",
        "s_fl1[0][0]\n",
        "\n",
        "proper_s_fl1 = []\n",
        "for i in range(len(s_fl1)):\n",
        "    proper_s_fl1.append(s_fl1[i][0])\n",
        "\n",
        "proper_s_fl1[:100]\n",
        "type(proper_s_fl1[:100])\n",
        "\n",
        "import statistics\n",
        "from statistics import stdev\n",
        "from fractions import Fraction as fr\n",
        "\n",
        "print(np.mean(proper_s_fl1))\n",
        "print(statistics.median(proper_s_fl1))\n",
        "print(np.std(proper_s_fl1))\n",
        "print(statistics.variance(proper_s_fl1))\n",
        "\n",
        "ordered= sorted(proper_s_fl1)\n",
        "i= round(len(ordered)*0.05)\n",
        "lower = ordered[i]\n",
        "i= round(len(ordered)*0.95)\n",
        "upper= ordered[i]\n",
        "\n",
        "print(lower)\n",
        "print(upper)\n"
      ]
    },
    {
      "cell_type": "code",
      "execution_count": 3,
      "id": "274dd9a1",
      "metadata": {
        "id": "274dd9a1",
        "outputId": "e6d14ec7-0b55-4597-eca7-80ead92b247f",
        "colab": {
          "base_uri": "https://localhost:8080/"
        }
      },
      "outputs": [
        {
          "output_type": "stream",
          "name": "stdout",
          "text": [
            "18942.940630573445\n",
            "452.8999938964844\n",
            "99873.4406359442\n",
            "9974740638.66117\n",
            "274.3999938964844\n",
            "18647.69921875\n"
          ]
        }
      ],
      "source": [
        "s = FlowCal.io.FCSData('02-blank-G6-1.fcs')\n",
        "s\n",
        "\n",
        "s_fl1 = s[:, ['FL1-H']]\n",
        "s_fl1\n",
        "\n",
        "s_fl1 = s_fl1.tolist()\n",
        "s_fl1[0][0]\n",
        "\n",
        "proper_s_fl1 = []\n",
        "for i in range(len(s_fl1)):\n",
        "    proper_s_fl1.append(s_fl1[i][0])\n",
        "\n",
        "proper_s_fl1[:100]\n",
        "type(proper_s_fl1[:100])\n",
        "\n",
        "import statistics\n",
        "from statistics import stdev\n",
        "from fractions import Fraction as fr\n",
        "\n",
        "print(np.mean(proper_s_fl1))\n",
        "print(statistics.median(proper_s_fl1))\n",
        "print(np.std(proper_s_fl1))\n",
        "print(statistics.variance(proper_s_fl1))\n",
        "\n",
        "ordered= sorted(proper_s_fl1)\n",
        "i= round(len(ordered)*0.05)\n",
        "lower = ordered[i]\n",
        "i= round(len(ordered)*0.95)\n",
        "upper= ordered[i]\n",
        "\n",
        "print(lower)\n",
        "print(upper)\n"
      ]
    },
    {
      "cell_type": "code",
      "execution_count": 4,
      "id": "ffc8d852",
      "metadata": {
        "id": "ffc8d852",
        "outputId": "9c1adba8-460b-4290-cfc6-43297126b15e",
        "colab": {
          "base_uri": "https://localhost:8080/"
        }
      },
      "outputs": [
        {
          "output_type": "stream",
          "name": "stdout",
          "text": [
            "6954.007465445839\n",
            "470.8999938964844\n",
            "47814.289074063796\n",
            "2296233460.007515\n",
            "259.20001220703125\n",
            "2228.10009765625\n"
          ]
        }
      ],
      "source": [
        "s = FlowCal.io.FCSData('04-blank-G6-1.fcs')\n",
        "s\n",
        "\n",
        "s_fl1 = s[:, ['FL1-H']]\n",
        "s_fl1\n",
        "\n",
        "s_fl1 = s_fl1.tolist()\n",
        "s_fl1[0][0]\n",
        "\n",
        "proper_s_fl1 = []\n",
        "for i in range(len(s_fl1)):\n",
        "    proper_s_fl1.append(s_fl1[i][0])\n",
        "\n",
        "proper_s_fl1[:100]\n",
        "type(proper_s_fl1[:100])\n",
        "\n",
        "import statistics\n",
        "from statistics import stdev\n",
        "from fractions import Fraction as fr\n",
        "\n",
        "print(np.mean(proper_s_fl1))\n",
        "print(statistics.median(proper_s_fl1))\n",
        "print(np.std(proper_s_fl1))\n",
        "print(statistics.variance(proper_s_fl1))\n",
        "\n",
        "ordered= sorted(proper_s_fl1)\n",
        "i= round(len(ordered)*0.05)\n",
        "lower = ordered[i]\n",
        "i= round(len(ordered)*0.95)\n",
        "upper= ordered[i]\n",
        "\n",
        "print(lower)\n",
        "print(upper)\n"
      ]
    },
    {
      "cell_type": "code",
      "execution_count": 5,
      "id": "f1e0e003",
      "metadata": {
        "id": "f1e0e003",
        "outputId": "24bc9391-ebe1-4b35-d8f1-2790e02b2025",
        "colab": {
          "base_uri": "https://localhost:8080/"
        }
      },
      "outputs": [
        {
          "output_type": "stream",
          "name": "stdout",
          "text": [
            "20370.717314833437\n",
            "465.1000061035156\n",
            "138606.4284814187\n",
            "19211810077.471794\n",
            "292.6000061035156\n",
            "928.9000244140625\n"
          ]
        }
      ],
      "source": [
        "s = FlowCal.io.FCSData('02-blank-G6-2.fcs')\n",
        "s\n",
        "\n",
        "s_fl1 = s[:, ['FL1-H']]\n",
        "s_fl1\n",
        "\n",
        "s_fl1 = s_fl1.tolist()\n",
        "s_fl1[0][0]\n",
        "\n",
        "proper_s_fl1 = []\n",
        "for i in range(len(s_fl1)):\n",
        "    proper_s_fl1.append(s_fl1[i][0])\n",
        "\n",
        "proper_s_fl1[:100]\n",
        "type(proper_s_fl1[:100])\n",
        "\n",
        "import statistics\n",
        "from statistics import stdev\n",
        "from fractions import Fraction as fr\n",
        "\n",
        "print(np.mean(proper_s_fl1))\n",
        "print(statistics.median(proper_s_fl1))\n",
        "print(np.std(proper_s_fl1))\n",
        "print(statistics.variance(proper_s_fl1))\n",
        "\n",
        "ordered= sorted(proper_s_fl1)\n",
        "i= round(len(ordered)*0.05)\n",
        "lower = ordered[i]\n",
        "i= round(len(ordered)*0.95)\n",
        "upper= ordered[i]\n",
        "\n",
        "print(lower)\n",
        "print(upper)\n"
      ]
    },
    {
      "cell_type": "code",
      "execution_count": 6,
      "id": "39d8f40c",
      "metadata": {
        "id": "39d8f40c",
        "outputId": "fdcda09c-3c04-4475-ab34-83371c344966",
        "colab": {
          "base_uri": "https://localhost:8080/"
        }
      },
      "outputs": [
        {
          "output_type": "stream",
          "name": "stdout",
          "text": [
            "15053.416325734182\n",
            "461.6000061035156\n",
            "115089.40859785907\n",
            "13245609133.702696\n",
            "290.1000061035156\n",
            "785.4000244140625\n"
          ]
        }
      ],
      "source": [
        "s = FlowCal.io.FCSData('04-blank-G6-2.fcs')\n",
        "s\n",
        "\n",
        "s_fl1 = s[:, ['FL1-H']]\n",
        "s_fl1\n",
        "\n",
        "s_fl1 = s_fl1.tolist()\n",
        "s_fl1[0][0]\n",
        "\n",
        "proper_s_fl1 = []\n",
        "for i in range(len(s_fl1)):\n",
        "    proper_s_fl1.append(s_fl1[i][0])\n",
        "\n",
        "proper_s_fl1[:100]\n",
        "type(proper_s_fl1[:100])\n",
        "\n",
        "import statistics\n",
        "from statistics import stdev\n",
        "from fractions import Fraction as fr\n",
        "\n",
        "print(np.mean(proper_s_fl1))\n",
        "print(statistics.median(proper_s_fl1))\n",
        "print(np.std(proper_s_fl1))\n",
        "print(statistics.variance(proper_s_fl1))\n",
        "\n",
        "ordered= sorted(proper_s_fl1)\n",
        "i= round(len(ordered)*0.05)\n",
        "lower = ordered[i]\n",
        "i= round(len(ordered)*0.95)\n",
        "upper= ordered[i]\n",
        "\n",
        "print(lower)\n",
        "print(upper)\n"
      ]
    },
    {
      "cell_type": "code",
      "execution_count": 7,
      "id": "ddf9a598",
      "metadata": {
        "id": "ddf9a598",
        "outputId": "d7046fb4-e0d7-43c4-8a4d-d1ff6e479f94",
        "colab": {
          "base_uri": "https://localhost:8080/"
        }
      },
      "outputs": [
        {
          "output_type": "stream",
          "name": "stdout",
          "text": [
            "380792.5095821334\n",
            "357951.6875\n",
            "205376.39920793788\n",
            "42179659533.74736\n",
            "6523.2001953125\n",
            "741293.5\n"
          ]
        }
      ],
      "source": [
        "s = FlowCal.io.FCSData('02-blank-G6-3.fcs')\n",
        "s\n",
        "\n",
        "s_fl1 = s[:, ['FL1-H']]\n",
        "s_fl1\n",
        "\n",
        "s_fl1 = s_fl1.tolist()\n",
        "s_fl1[0][0]\n",
        "\n",
        "proper_s_fl1 = []\n",
        "for i in range(len(s_fl1)):\n",
        "    proper_s_fl1.append(s_fl1[i][0])\n",
        "\n",
        "proper_s_fl1[:100]\n",
        "type(proper_s_fl1[:100])\n",
        "\n",
        "import statistics\n",
        "from statistics import stdev\n",
        "from fractions import Fraction as fr\n",
        "\n",
        "print(np.mean(proper_s_fl1))\n",
        "print(statistics.median(proper_s_fl1))\n",
        "print(np.std(proper_s_fl1))\n",
        "print(statistics.variance(proper_s_fl1))\n",
        "\n",
        "ordered= sorted(proper_s_fl1)\n",
        "i= round(len(ordered)*0.05)\n",
        "lower = ordered[i]\n",
        "i= round(len(ordered)*0.95)\n",
        "upper= ordered[i]\n",
        "\n",
        "print(lower)\n",
        "print(upper)\n"
      ]
    },
    {
      "cell_type": "code",
      "execution_count": 8,
      "id": "d8aff2d1",
      "metadata": {
        "id": "d8aff2d1",
        "outputId": "7b1b6628-4a60-429c-ac7e-51eac6aee60c",
        "colab": {
          "base_uri": "https://localhost:8080/"
        }
      },
      "outputs": [
        {
          "output_type": "stream",
          "name": "stdout",
          "text": [
            "446061.1584684393\n",
            "438431.9375\n",
            "217183.84146064165\n",
            "47168951772.3431\n",
            "2597.699951171875\n",
            "803333.1875\n"
          ]
        }
      ],
      "source": [
        "s = FlowCal.io.FCSData('04-blank-G6-3.fcs')\n",
        "s\n",
        "\n",
        "s_fl1 = s[:, ['FL1-H']]\n",
        "s_fl1\n",
        "\n",
        "s_fl1 = s_fl1.tolist()\n",
        "s_fl1[0][0]\n",
        "\n",
        "proper_s_fl1 = []\n",
        "for i in range(len(s_fl1)):\n",
        "    proper_s_fl1.append(s_fl1[i][0])\n",
        "\n",
        "proper_s_fl1[:100]\n",
        "type(proper_s_fl1[:100])\n",
        "\n",
        "import statistics\n",
        "from statistics import stdev\n",
        "from fractions import Fraction as fr\n",
        "\n",
        "print(np.mean(proper_s_fl1))\n",
        "print(statistics.median(proper_s_fl1))\n",
        "print(np.std(proper_s_fl1))\n",
        "print(statistics.variance(proper_s_fl1))\n",
        "\n",
        "ordered= sorted(proper_s_fl1)\n",
        "i= round(len(ordered)*0.05)\n",
        "lower = ordered[i]\n",
        "i= round(len(ordered)*0.95)\n",
        "upper= ordered[i]\n",
        "\n",
        "print(lower)\n",
        "print(upper)\n"
      ]
    },
    {
      "cell_type": "code",
      "execution_count": 9,
      "id": "2dd0996d",
      "metadata": {
        "id": "2dd0996d",
        "outputId": "fedc8315-6038-4cbb-b252-d7d22ff52c2b",
        "colab": {
          "base_uri": "https://localhost:8080/"
        }
      },
      "outputs": [
        {
          "output_type": "stream",
          "name": "stdout",
          "text": [
            "349214.205160761\n",
            "324169.90625\n",
            "181178.68576120897\n",
            "32825923337.899406\n",
            "40507.3984375\n",
            "661030.0\n"
          ]
        }
      ],
      "source": [
        "s = FlowCal.io.FCSData('02-blank-G6-4.fcs')\n",
        "s\n",
        "\n",
        "s_fl1 = s[:, ['FL1-H']]\n",
        "s_fl1\n",
        "\n",
        "s_fl1 = s_fl1.tolist()\n",
        "s_fl1[0][0]\n",
        "\n",
        "proper_s_fl1 = []\n",
        "for i in range(len(s_fl1)):\n",
        "    proper_s_fl1.append(s_fl1[i][0])\n",
        "\n",
        "proper_s_fl1[:100]\n",
        "type(proper_s_fl1[:100])\n",
        "\n",
        "import statistics\n",
        "from statistics import stdev\n",
        "from fractions import Fraction as fr\n",
        "\n",
        "print(np.mean(proper_s_fl1))\n",
        "print(statistics.median(proper_s_fl1))\n",
        "print(np.std(proper_s_fl1))\n",
        "print(statistics.variance(proper_s_fl1))\n",
        "\n",
        "ordered= sorted(proper_s_fl1)\n",
        "i= round(len(ordered)*0.05)\n",
        "lower = ordered[i]\n",
        "i= round(len(ordered)*0.95)\n",
        "upper= ordered[i]\n",
        "\n",
        "print(lower)\n",
        "print(upper)\n"
      ]
    },
    {
      "cell_type": "code",
      "execution_count": 10,
      "id": "85aabd1f",
      "metadata": {
        "id": "85aabd1f",
        "outputId": "acf9f7c9-d805-4adf-fad7-4f8b128fce58",
        "colab": {
          "base_uri": "https://localhost:8080/"
        }
      },
      "outputs": [
        {
          "output_type": "stream",
          "name": "stdout",
          "text": [
            "357807.116734492\n",
            "343345.34375\n",
            "186967.94679558533\n",
            "34957147042.83675\n",
            "13102.7001953125\n",
            "667686.875\n"
          ]
        }
      ],
      "source": [
        "s = FlowCal.io.FCSData('04-blank-G6-4.fcs')\n",
        "s\n",
        "\n",
        "s_fl1 = s[:, ['FL1-H']]\n",
        "s_fl1\n",
        "\n",
        "s_fl1 = s_fl1.tolist()\n",
        "s_fl1[0][0]\n",
        "\n",
        "proper_s_fl1 = []\n",
        "for i in range(len(s_fl1)):\n",
        "    proper_s_fl1.append(s_fl1[i][0])\n",
        "\n",
        "proper_s_fl1[:100]\n",
        "type(proper_s_fl1[:100])\n",
        "\n",
        "import statistics\n",
        "from statistics import stdev\n",
        "from fractions import Fraction as fr\n",
        "\n",
        "print(np.mean(proper_s_fl1))\n",
        "print(statistics.median(proper_s_fl1))\n",
        "print(np.std(proper_s_fl1))\n",
        "print(statistics.variance(proper_s_fl1))\n",
        "\n",
        "ordered= sorted(proper_s_fl1)\n",
        "i= round(len(ordered)*0.05)\n",
        "lower = ordered[i]\n",
        "i= round(len(ordered)*0.95)\n",
        "upper= ordered[i]\n",
        "\n",
        "print(lower)\n",
        "print(upper)\n"
      ]
    },
    {
      "cell_type": "code",
      "execution_count": 11,
      "id": "ab9ba1dd",
      "metadata": {
        "id": "ab9ba1dd",
        "outputId": "fe382de4-1bb6-4431-d034-7c7bf808c95e",
        "colab": {
          "base_uri": "https://localhost:8080/"
        }
      },
      "outputs": [
        {
          "output_type": "stream",
          "name": "stdout",
          "text": [
            "18427.093711238045\n",
            "464.8999938964844\n",
            "94162.69588481348\n",
            "8866646579.12894\n",
            "281.3999938964844\n",
            "30825.69921875\n"
          ]
        }
      ],
      "source": [
        "s = FlowCal.io.FCSData('02-blank-G7-1.fcs')\n",
        "s\n",
        "\n",
        "s_fl1 = s[:, ['FL1-H']]\n",
        "s_fl1\n",
        "\n",
        "s_fl1 = s_fl1.tolist()\n",
        "s_fl1[0][0]\n",
        "\n",
        "proper_s_fl1 = []\n",
        "for i in range(len(s_fl1)):\n",
        "    proper_s_fl1.append(s_fl1[i][0])\n",
        "\n",
        "proper_s_fl1[:100]\n",
        "type(proper_s_fl1[:100])\n",
        "\n",
        "import statistics\n",
        "from statistics import stdev\n",
        "from fractions import Fraction as fr\n",
        "\n",
        "print(np.mean(proper_s_fl1))\n",
        "print(statistics.median(proper_s_fl1))\n",
        "print(np.std(proper_s_fl1))\n",
        "print(statistics.variance(proper_s_fl1))\n",
        "\n",
        "ordered= sorted(proper_s_fl1)\n",
        "i= round(len(ordered)*0.05)\n",
        "lower = ordered[i]\n",
        "i= round(len(ordered)*0.95)\n",
        "upper= ordered[i]\n",
        "\n",
        "print(lower)\n",
        "print(upper)\n"
      ]
    },
    {
      "cell_type": "code",
      "execution_count": 12,
      "id": "ec318a2f",
      "metadata": {
        "id": "ec318a2f",
        "outputId": "3fb957fc-60cf-453f-87e4-3787f68599cc",
        "colab": {
          "base_uri": "https://localhost:8080/"
        }
      },
      "outputs": [
        {
          "output_type": "stream",
          "name": "stdout",
          "text": [
            "1039.3535988719193\n",
            "445.1000061035156\n",
            "6325.910816328907\n",
            "40099827.71328787\n",
            "256.6000061035156\n",
            "1455.300048828125\n"
          ]
        }
      ],
      "source": [
        "s = FlowCal.io.FCSData('04-blank-G7-1.fcs')\n",
        "s\n",
        "\n",
        "s_fl1 = s[:, ['FL1-H']]\n",
        "s_fl1\n",
        "\n",
        "s_fl1 = s_fl1.tolist()\n",
        "s_fl1[0][0]\n",
        "\n",
        "proper_s_fl1 = []\n",
        "for i in range(len(s_fl1)):\n",
        "    proper_s_fl1.append(s_fl1[i][0])\n",
        "\n",
        "proper_s_fl1[:100]\n",
        "type(proper_s_fl1[:100])\n",
        "\n",
        "import statistics\n",
        "from statistics import stdev\n",
        "from fractions import Fraction as fr\n",
        "\n",
        "print(np.mean(proper_s_fl1))\n",
        "print(statistics.median(proper_s_fl1))\n",
        "print(np.std(proper_s_fl1))\n",
        "print(statistics.variance(proper_s_fl1))\n",
        "\n",
        "ordered= sorted(proper_s_fl1)\n",
        "i= round(len(ordered)*0.05)\n",
        "lower = ordered[i]\n",
        "i= round(len(ordered)*0.95)\n",
        "upper= ordered[i]\n",
        "\n",
        "print(lower)\n",
        "print(upper)\n"
      ]
    },
    {
      "cell_type": "code",
      "execution_count": 20,
      "id": "f98d14bd",
      "metadata": {
        "id": "f98d14bd",
        "outputId": "12c3aba7-6aa8-4e6b-a524-81a0c7989c61",
        "colab": {
          "base_uri": "https://localhost:8080/"
        }
      },
      "outputs": [
        {
          "output_type": "stream",
          "name": "stdout",
          "text": [
            "14480.420610495677\n",
            "466.8999938964844\n",
            "113026.57879599156\n",
            "12775052939.64416\n",
            "293.1000061035156\n",
            "3925.0\n"
          ]
        }
      ],
      "source": [
        "s = FlowCal.io.FCSData('02-blank-G7-2.fcs')\n",
        "s\n",
        "\n",
        "s_fl1 = s[:, ['FL1-H']]\n",
        "s_fl1\n",
        "\n",
        "s_fl1 = s_fl1.tolist()\n",
        "s_fl1[0][0]\n",
        "\n",
        "proper_s_fl1 = []\n",
        "for i in range(len(s_fl1)):\n",
        "    proper_s_fl1.append(s_fl1[i][0])\n",
        "\n",
        "proper_s_fl1[:100]\n",
        "type(proper_s_fl1[:100])\n",
        "\n",
        "import statistics\n",
        "from statistics import stdev\n",
        "from fractions import Fraction as fr\n",
        "\n",
        "print(np.mean(proper_s_fl1))\n",
        "print(statistics.median(proper_s_fl1))\n",
        "print(np.std(proper_s_fl1))\n",
        "print(statistics.variance(proper_s_fl1))\n",
        "\n",
        "ordered= sorted(proper_s_fl1)\n",
        "i= round(len(ordered)*0.05)\n",
        "lower = ordered[i]\n",
        "i= round(len(ordered)*0.95)\n",
        "upper= ordered[i]\n",
        "\n",
        "print(lower)\n",
        "print(upper)\n"
      ]
    },
    {
      "cell_type": "code",
      "execution_count": 14,
      "id": "f89f2680",
      "metadata": {
        "id": "f89f2680",
        "outputId": "1bf10bae-8841-4290-8111-33a5751e4edc",
        "colab": {
          "base_uri": "https://localhost:8080/"
        }
      },
      "outputs": [
        {
          "output_type": "stream",
          "name": "stdout",
          "text": [
            "13583.26549535553\n",
            "464.20001220703125\n",
            "114009.43829298664\n",
            "12998186008.91021\n",
            "290.20001220703125\n",
            "2446.10009765625\n"
          ]
        }
      ],
      "source": [
        "s = FlowCal.io.FCSData('04-blank-G7-2.fcs')\n",
        "s\n",
        "\n",
        "s_fl1 = s[:, ['FL1-H']]\n",
        "s_fl1\n",
        "\n",
        "s_fl1 = s_fl1.tolist()\n",
        "s_fl1[0][0]\n",
        "\n",
        "proper_s_fl1 = []\n",
        "for i in range(len(s_fl1)):\n",
        "    proper_s_fl1.append(s_fl1[i][0])\n",
        "\n",
        "proper_s_fl1[:100]\n",
        "type(proper_s_fl1[:100])\n",
        "\n",
        "import statistics\n",
        "from statistics import stdev\n",
        "from fractions import Fraction as fr\n",
        "\n",
        "print(np.mean(proper_s_fl1))\n",
        "print(statistics.median(proper_s_fl1))\n",
        "print(np.std(proper_s_fl1))\n",
        "print(statistics.variance(proper_s_fl1))\n",
        "\n",
        "ordered= sorted(proper_s_fl1)\n",
        "i= round(len(ordered)*0.05)\n",
        "lower = ordered[i]\n",
        "i= round(len(ordered)*0.95)\n",
        "upper= ordered[i]\n",
        "\n",
        "print(lower)\n",
        "print(upper)\n"
      ]
    },
    {
      "cell_type": "code",
      "execution_count": 23,
      "id": "f8a46b73",
      "metadata": {
        "id": "f8a46b73",
        "outputId": "e34c8f35-c3f7-49cd-f934-c5c64e4a2b9c",
        "colab": {
          "base_uri": "https://localhost:8080/"
        }
      },
      "outputs": [
        {
          "output_type": "stream",
          "name": "stdout",
          "text": [
            "408058.8636253994\n",
            "393283.09375\n",
            "239703.148184313\n",
            "57457875681.963\n",
            "1065.199951171875\n",
            "822290.5\n"
          ]
        }
      ],
      "source": [
        "s = FlowCal.io.FCSData('02-blank-G7-3.fcs')\n",
        "s\n",
        "\n",
        "s_fl1 = s[:, ['FL1-H']]\n",
        "s_fl1\n",
        "\n",
        "s_fl1 = s_fl1.tolist()\n",
        "s_fl1[0][0]\n",
        "\n",
        "proper_s_fl1 = []\n",
        "for i in range(len(s_fl1)):\n",
        "    proper_s_fl1.append(s_fl1[i][0])\n",
        "\n",
        "proper_s_fl1[:100]\n",
        "type(proper_s_fl1[:100])\n",
        "\n",
        "import statistics\n",
        "from statistics import stdev\n",
        "from fractions import Fraction as fr\n",
        "\n",
        "print(np.mean(proper_s_fl1))\n",
        "print(statistics.median(proper_s_fl1))\n",
        "print(np.std(proper_s_fl1))\n",
        "print(statistics.variance(proper_s_fl1))\n",
        "\n",
        "ordered= sorted(proper_s_fl1)\n",
        "i= round(len(ordered)*0.05)\n",
        "lower = ordered[i]\n",
        "i= round(len(ordered)*0.95)\n",
        "upper= ordered[i]\n",
        "\n",
        "print(lower)\n",
        "print(upper)\n"
      ]
    },
    {
      "cell_type": "code",
      "execution_count": 24,
      "id": "a2aecd79",
      "metadata": {
        "id": "a2aecd79",
        "outputId": "b33cb555-7a5e-46bd-8ee1-82bf08b1f68f",
        "colab": {
          "base_uri": "https://localhost:8080/"
        }
      },
      "outputs": [
        {
          "output_type": "stream",
          "name": "stdout",
          "text": [
            "433624.3333384363\n",
            "435366.953125\n",
            "234564.92462428292\n",
            "55020824481.37647\n",
            "1073.4000244140625\n",
            "811489.625\n"
          ]
        }
      ],
      "source": [
        "s = FlowCal.io.FCSData('04-blank-G7-3.fcs')\n",
        "s\n",
        "\n",
        "s_fl1 = s[:, ['FL1-H']]\n",
        "s_fl1\n",
        "\n",
        "s_fl1 = s_fl1.tolist()\n",
        "s_fl1[0][0]\n",
        "\n",
        "proper_s_fl1 = []\n",
        "for i in range(len(s_fl1)):\n",
        "    proper_s_fl1.append(s_fl1[i][0])\n",
        "\n",
        "proper_s_fl1[:100]\n",
        "type(proper_s_fl1[:100])\n",
        "\n",
        "import statistics\n",
        "from statistics import stdev\n",
        "from fractions import Fraction as fr\n",
        "\n",
        "print(np.mean(proper_s_fl1))\n",
        "print(statistics.median(proper_s_fl1))\n",
        "print(np.std(proper_s_fl1))\n",
        "print(statistics.variance(proper_s_fl1))\n",
        "\n",
        "ordered= sorted(proper_s_fl1)\n",
        "i= round(len(ordered)*0.05)\n",
        "lower = ordered[i]\n",
        "i= round(len(ordered)*0.95)\n",
        "upper= ordered[i]\n",
        "\n",
        "print(lower)\n",
        "print(upper)\n"
      ]
    },
    {
      "cell_type": "code",
      "execution_count": 25,
      "id": "3a66f2c0",
      "metadata": {
        "id": "3a66f2c0",
        "outputId": "b10146f5-423c-4324-f879-9d0d57739c43",
        "colab": {
          "base_uri": "https://localhost:8080/"
        }
      },
      "outputs": [
        {
          "output_type": "stream",
          "name": "stdout",
          "text": [
            "336571.1259184153\n",
            "321112.3125\n",
            "190174.58794567935\n",
            "36166632143.01072\n",
            "2623.89990234375\n",
            "652124.0\n"
          ]
        }
      ],
      "source": [
        "s = FlowCal.io.FCSData('02-blank-G7-4.fcs')\n",
        "s\n",
        "\n",
        "s_fl1 = s[:, ['FL1-H']]\n",
        "s_fl1\n",
        "\n",
        "s_fl1 = s_fl1.tolist()\n",
        "s_fl1[0][0]\n",
        "\n",
        "proper_s_fl1 = []\n",
        "for i in range(len(s_fl1)):\n",
        "    proper_s_fl1.append(s_fl1[i][0])\n",
        "\n",
        "proper_s_fl1[:100]\n",
        "type(proper_s_fl1[:100])\n",
        "\n",
        "import statistics\n",
        "from statistics import stdev\n",
        "from fractions import Fraction as fr\n",
        "\n",
        "print(np.mean(proper_s_fl1))\n",
        "print(statistics.median(proper_s_fl1))\n",
        "print(np.std(proper_s_fl1))\n",
        "print(statistics.variance(proper_s_fl1))\n",
        "\n",
        "ordered= sorted(proper_s_fl1)\n",
        "i= round(len(ordered)*0.05)\n",
        "lower = ordered[i]\n",
        "i= round(len(ordered)*0.95)\n",
        "upper= ordered[i]\n",
        "\n",
        "print(lower)\n",
        "print(upper)\n"
      ]
    },
    {
      "cell_type": "code",
      "execution_count": 26,
      "id": "eb8f8e1e",
      "metadata": {
        "id": "eb8f8e1e",
        "outputId": "9f2e8b0d-5e19-4c0c-f148-9b50e4de7ee3",
        "colab": {
          "base_uri": "https://localhost:8080/"
        }
      },
      "outputs": [
        {
          "output_type": "stream",
          "name": "stdout",
          "text": [
            "368503.6736480852\n",
            "365107.75\n",
            "209819.3123714669\n",
            "44024349751.9599\n",
            "1824.0999755859375\n",
            "703089.625\n"
          ]
        }
      ],
      "source": [
        "s = FlowCal.io.FCSData('04-blank-G7-4.fcs')\n",
        "s\n",
        "\n",
        "s_fl1 = s[:, ['FL1-H']]\n",
        "s_fl1\n",
        "\n",
        "s_fl1 = s_fl1.tolist()\n",
        "s_fl1[0][0]\n",
        "\n",
        "proper_s_fl1 = []\n",
        "for i in range(len(s_fl1)):\n",
        "    proper_s_fl1.append(s_fl1[i][0])\n",
        "\n",
        "proper_s_fl1[:100]\n",
        "type(proper_s_fl1[:100])\n",
        "\n",
        "import statistics\n",
        "from statistics import stdev\n",
        "from fractions import Fraction as fr\n",
        "\n",
        "print(np.mean(proper_s_fl1))\n",
        "print(statistics.median(proper_s_fl1))\n",
        "print(np.std(proper_s_fl1))\n",
        "print(statistics.variance(proper_s_fl1))\n",
        "\n",
        "ordered= sorted(proper_s_fl1)\n",
        "i= round(len(ordered)*0.05)\n",
        "lower = ordered[i]\n",
        "i= round(len(ordered)*0.95)\n",
        "upper= ordered[i]\n",
        "\n",
        "print(lower)\n",
        "print(upper)\n"
      ]
    },
    {
      "cell_type": "code",
      "execution_count": 27,
      "id": "5d4aff2d",
      "metadata": {
        "id": "5d4aff2d",
        "outputId": "09f2f84b-8283-4475-a75d-54da431ed611",
        "colab": {
          "base_uri": "https://localhost:8080/"
        }
      },
      "outputs": [
        {
          "output_type": "stream",
          "name": "stdout",
          "text": [
            "19063.063663763758\n",
            "456.0\n",
            "111663.39090837298\n",
            "12468754588.675869\n",
            "274.6000061035156\n",
            "30222.5\n"
          ]
        }
      ],
      "source": [
        "s = FlowCal.io.FCSData('02-blank-G8-1.fcs')\n",
        "s\n",
        "\n",
        "s_fl1 = s[:, ['FL1-H']]\n",
        "s_fl1\n",
        "\n",
        "s_fl1 = s_fl1.tolist()\n",
        "s_fl1[0][0]\n",
        "\n",
        "proper_s_fl1 = []\n",
        "for i in range(len(s_fl1)):\n",
        "    proper_s_fl1.append(s_fl1[i][0])\n",
        "\n",
        "proper_s_fl1[:100]\n",
        "type(proper_s_fl1[:100])\n",
        "\n",
        "import statistics\n",
        "from statistics import stdev\n",
        "from fractions import Fraction as fr\n",
        "\n",
        "print(np.mean(proper_s_fl1))\n",
        "print(statistics.median(proper_s_fl1))\n",
        "print(np.std(proper_s_fl1))\n",
        "print(statistics.variance(proper_s_fl1))\n",
        "\n",
        "ordered= sorted(proper_s_fl1)\n",
        "i= round(len(ordered)*0.05)\n",
        "lower = ordered[i]\n",
        "i= round(len(ordered)*0.95)\n",
        "upper= ordered[i]\n",
        "\n",
        "print(lower)\n",
        "print(upper)\n"
      ]
    },
    {
      "cell_type": "code",
      "execution_count": 28,
      "id": "c86ff4e9",
      "metadata": {
        "id": "c86ff4e9",
        "outputId": "65f5cd0b-4a0e-42a4-88b3-68dc0e620fb5",
        "colab": {
          "base_uri": "https://localhost:8080/"
        }
      },
      "outputs": [
        {
          "output_type": "stream",
          "name": "stdout",
          "text": [
            "6584.968016982079\n",
            "467.8500061035156\n",
            "53253.298161670624\n",
            "2847034995.5471478\n",
            "266.6000061035156\n",
            "3147.89990234375\n"
          ]
        }
      ],
      "source": [
        "s = FlowCal.io.FCSData('04-blank-G8-1.fcs')\n",
        "s\n",
        "\n",
        "s_fl1 = s[:, ['FL1-H']]\n",
        "s_fl1\n",
        "\n",
        "s_fl1 = s_fl1.tolist()\n",
        "s_fl1[0][0]\n",
        "\n",
        "proper_s_fl1 = []\n",
        "for i in range(len(s_fl1)):\n",
        "    proper_s_fl1.append(s_fl1[i][0])\n",
        "\n",
        "proper_s_fl1[:100]\n",
        "type(proper_s_fl1[:100])\n",
        "\n",
        "import statistics\n",
        "from statistics import stdev\n",
        "from fractions import Fraction as fr\n",
        "\n",
        "print(np.mean(proper_s_fl1))\n",
        "print(statistics.median(proper_s_fl1))\n",
        "print(np.std(proper_s_fl1))\n",
        "print(statistics.variance(proper_s_fl1))\n",
        "\n",
        "ordered= sorted(proper_s_fl1)\n",
        "i= round(len(ordered)*0.05)\n",
        "lower = ordered[i]\n",
        "i= round(len(ordered)*0.95)\n",
        "upper= ordered[i]\n",
        "\n",
        "print(lower)\n",
        "print(upper)\n"
      ]
    },
    {
      "cell_type": "code",
      "execution_count": 29,
      "id": "c8b6a5f2",
      "metadata": {
        "id": "c8b6a5f2",
        "outputId": "11fe657c-fa19-46c4-d189-4f3c37c1ac1a",
        "colab": {
          "base_uri": "https://localhost:8080/"
        }
      },
      "outputs": [
        {
          "output_type": "stream",
          "name": "stdout",
          "text": [
            "18502.916359543964\n",
            "469.8999938964844\n",
            "117367.39179515577\n",
            "13775152515.604443\n",
            "292.6000061035156\n",
            "35077.0\n"
          ]
        }
      ],
      "source": [
        "s = FlowCal.io.FCSData('02-blank-G8-2.fcs')\n",
        "s\n",
        "\n",
        "s_fl1 = s[:, ['FL1-H']]\n",
        "s_fl1\n",
        "\n",
        "s_fl1 = s_fl1.tolist()\n",
        "s_fl1[0][0]\n",
        "\n",
        "proper_s_fl1 = []\n",
        "for i in range(len(s_fl1)):\n",
        "    proper_s_fl1.append(s_fl1[i][0])\n",
        "\n",
        "proper_s_fl1[:100]\n",
        "type(proper_s_fl1[:100])\n",
        "\n",
        "import statistics\n",
        "from statistics import stdev\n",
        "from fractions import Fraction as fr\n",
        "\n",
        "print(np.mean(proper_s_fl1))\n",
        "print(statistics.median(proper_s_fl1))\n",
        "print(np.std(proper_s_fl1))\n",
        "print(statistics.variance(proper_s_fl1))\n",
        "\n",
        "ordered= sorted(proper_s_fl1)\n",
        "i= round(len(ordered)*0.05)\n",
        "lower = ordered[i]\n",
        "i= round(len(ordered)*0.95)\n",
        "upper= ordered[i]\n",
        "\n",
        "print(lower)\n",
        "print(upper)\n"
      ]
    },
    {
      "cell_type": "code",
      "execution_count": 30,
      "id": "91fa0e97",
      "metadata": {
        "id": "91fa0e97",
        "outputId": "f0150387-a8c0-4ba3-d852-da8f4fc87870",
        "colab": {
          "base_uri": "https://localhost:8080/"
        }
      },
      "outputs": [
        {
          "output_type": "stream",
          "name": "stdout",
          "text": [
            "16993.600101642984\n",
            "474.0\n",
            "116339.19826309575\n",
            "13534840502.469816\n",
            "294.79998779296875\n",
            "22881.30078125\n"
          ]
        }
      ],
      "source": [
        "s = FlowCal.io.FCSData('04-blank-G8-2.fcs')\n",
        "s\n",
        "\n",
        "s_fl1 = s[:, ['FL1-H']]\n",
        "s_fl1\n",
        "\n",
        "s_fl1 = s_fl1.tolist()\n",
        "s_fl1[0][0]\n",
        "\n",
        "proper_s_fl1 = []\n",
        "for i in range(len(s_fl1)):\n",
        "    proper_s_fl1.append(s_fl1[i][0])\n",
        "\n",
        "proper_s_fl1[:100]\n",
        "type(proper_s_fl1[:100])\n",
        "\n",
        "import statistics\n",
        "from statistics import stdev\n",
        "from fractions import Fraction as fr\n",
        "\n",
        "print(np.mean(proper_s_fl1))\n",
        "print(statistics.median(proper_s_fl1))\n",
        "print(np.std(proper_s_fl1))\n",
        "print(statistics.variance(proper_s_fl1))\n",
        "\n",
        "ordered= sorted(proper_s_fl1)\n",
        "i= round(len(ordered)*0.05)\n",
        "lower = ordered[i]\n",
        "i= round(len(ordered)*0.95)\n",
        "upper= ordered[i]\n",
        "\n",
        "print(lower)\n",
        "print(upper)\n"
      ]
    },
    {
      "cell_type": "code",
      "execution_count": 31,
      "id": "519f687b",
      "metadata": {
        "id": "519f687b",
        "outputId": "79dd561e-66ba-48e5-938e-e03348cd0f45",
        "colab": {
          "base_uri": "https://localhost:8080/"
        }
      },
      "outputs": [
        {
          "output_type": "stream",
          "name": "stdout",
          "text": [
            "373748.91621659807\n",
            "366914.0\n",
            "244369.61285863354\n",
            "59716841664.281395\n",
            "962.5999755859375\n",
            "785842.1875\n"
          ]
        }
      ],
      "source": [
        "s = FlowCal.io.FCSData('02-blank-G8-3.fcs')\n",
        "s\n",
        "\n",
        "s_fl1 = s[:, ['FL1-H']]\n",
        "s_fl1\n",
        "\n",
        "s_fl1 = s_fl1.tolist()\n",
        "s_fl1[0][0]\n",
        "\n",
        "proper_s_fl1 = []\n",
        "for i in range(len(s_fl1)):\n",
        "    proper_s_fl1.append(s_fl1[i][0])\n",
        "\n",
        "proper_s_fl1[:100]\n",
        "type(proper_s_fl1[:100])\n",
        "\n",
        "import statistics\n",
        "from statistics import stdev\n",
        "from fractions import Fraction as fr\n",
        "\n",
        "print(np.mean(proper_s_fl1))\n",
        "print(statistics.median(proper_s_fl1))\n",
        "print(np.std(proper_s_fl1))\n",
        "print(statistics.variance(proper_s_fl1))\n",
        "\n",
        "ordered= sorted(proper_s_fl1)\n",
        "i= round(len(ordered)*0.05)\n",
        "lower = ordered[i]\n",
        "i= round(len(ordered)*0.95)\n",
        "upper= ordered[i]\n",
        "\n",
        "print(lower)\n",
        "print(upper)\n"
      ]
    },
    {
      "cell_type": "code",
      "execution_count": 32,
      "id": "6f939b30",
      "metadata": {
        "id": "6f939b30",
        "outputId": "959c2199-6b74-4021-b17d-71ea773fc17c",
        "colab": {
          "base_uri": "https://localhost:8080/"
        }
      },
      "outputs": [
        {
          "output_type": "stream",
          "name": "stdout",
          "text": [
            "396964.1537819607\n",
            "397394.25\n",
            "255378.92801828243\n",
            "65218527784.092606\n",
            "965.9000244140625\n",
            "816145.875\n"
          ]
        }
      ],
      "source": [
        "s = FlowCal.io.FCSData('04-blank-G8-3.fcs')\n",
        "s\n",
        "\n",
        "s_fl1 = s[:, ['FL1-H']]\n",
        "s_fl1\n",
        "\n",
        "s_fl1 = s_fl1.tolist()\n",
        "s_fl1[0][0]\n",
        "\n",
        "proper_s_fl1 = []\n",
        "for i in range(len(s_fl1)):\n",
        "    proper_s_fl1.append(s_fl1[i][0])\n",
        "\n",
        "proper_s_fl1[:100]\n",
        "type(proper_s_fl1[:100])\n",
        "\n",
        "import statistics\n",
        "from statistics import stdev\n",
        "from fractions import Fraction as fr\n",
        "\n",
        "print(np.mean(proper_s_fl1))\n",
        "print(statistics.median(proper_s_fl1))\n",
        "print(np.std(proper_s_fl1))\n",
        "print(statistics.variance(proper_s_fl1))\n",
        "\n",
        "ordered= sorted(proper_s_fl1)\n",
        "i= round(len(ordered)*0.05)\n",
        "lower = ordered[i]\n",
        "i= round(len(ordered)*0.95)\n",
        "upper= ordered[i]\n",
        "\n",
        "print(lower)\n",
        "print(upper)\n"
      ]
    },
    {
      "cell_type": "code",
      "execution_count": 33,
      "id": "f78e1296",
      "metadata": {
        "id": "f78e1296",
        "outputId": "1a8893d4-9411-48ff-cc85-8d9aabc4925c",
        "colab": {
          "base_uri": "https://localhost:8080/"
        }
      },
      "outputs": [
        {
          "output_type": "stream",
          "name": "stdout",
          "text": [
            "308734.7509092988\n",
            "305501.09375\n",
            "188465.0540192006\n",
            "35519312183.47129\n",
            "1733.0\n",
            "619658.125\n"
          ]
        }
      ],
      "source": [
        "s = FlowCal.io.FCSData('02-blank-G8-4.fcs')\n",
        "s\n",
        "\n",
        "s_fl1 = s[:, ['FL1-H']]\n",
        "s_fl1\n",
        "\n",
        "s_fl1 = s_fl1.tolist()\n",
        "s_fl1[0][0]\n",
        "\n",
        "proper_s_fl1 = []\n",
        "for i in range(len(s_fl1)):\n",
        "    proper_s_fl1.append(s_fl1[i][0])\n",
        "\n",
        "proper_s_fl1[:100]\n",
        "type(proper_s_fl1[:100])\n",
        "\n",
        "import statistics\n",
        "from statistics import stdev\n",
        "from fractions import Fraction as fr\n",
        "\n",
        "print(np.mean(proper_s_fl1))\n",
        "print(statistics.median(proper_s_fl1))\n",
        "print(np.std(proper_s_fl1))\n",
        "print(statistics.variance(proper_s_fl1))\n",
        "\n",
        "ordered= sorted(proper_s_fl1)\n",
        "i= round(len(ordered)*0.05)\n",
        "lower = ordered[i]\n",
        "i= round(len(ordered)*0.95)\n",
        "upper= ordered[i]\n",
        "\n",
        "print(lower)\n",
        "print(upper)\n"
      ]
    },
    {
      "cell_type": "code",
      "execution_count": 34,
      "id": "630678db",
      "metadata": {
        "id": "630678db",
        "outputId": "d9427b9d-1cb8-49cb-f1c5-ce0d8cb2ffb1",
        "colab": {
          "base_uri": "https://localhost:8080/"
        }
      },
      "outputs": [
        {
          "output_type": "stream",
          "name": "stdout",
          "text": [
            "328299.7635889049\n",
            "330000.90625\n",
            "206458.1938502563\n",
            "42625143913.04321\n",
            "1491.0999755859375\n",
            "664706.125\n"
          ]
        }
      ],
      "source": [
        "s = FlowCal.io.FCSData('04-blank-G8-4.fcs')\n",
        "s\n",
        "\n",
        "s_fl1 = s[:, ['FL1-H']]\n",
        "s_fl1\n",
        "\n",
        "s_fl1 = s_fl1.tolist()\n",
        "s_fl1[0][0]\n",
        "\n",
        "proper_s_fl1 = []\n",
        "for i in range(len(s_fl1)):\n",
        "    proper_s_fl1.append(s_fl1[i][0])\n",
        "\n",
        "proper_s_fl1[:100]\n",
        "type(proper_s_fl1[:100])\n",
        "\n",
        "import statistics\n",
        "from statistics import stdev\n",
        "from fractions import Fraction as fr\n",
        "\n",
        "print(np.mean(proper_s_fl1))\n",
        "print(statistics.median(proper_s_fl1))\n",
        "print(np.std(proper_s_fl1))\n",
        "print(statistics.variance(proper_s_fl1))\n",
        "\n",
        "ordered= sorted(proper_s_fl1)\n",
        "i= round(len(ordered)*0.05)\n",
        "lower = ordered[i]\n",
        "i= round(len(ordered)*0.95)\n",
        "upper= ordered[i]\n",
        "\n",
        "print(lower)\n",
        "print(upper)\n"
      ]
    },
    {
      "cell_type": "code",
      "execution_count": 35,
      "id": "c93beb8e",
      "metadata": {
        "id": "c93beb8e",
        "outputId": "c9c470ae-8418-4e9c-fff3-35b9256879ec",
        "colab": {
          "base_uri": "https://localhost:8080/"
        }
      },
      "outputs": [
        {
          "output_type": "stream",
          "name": "stdout",
          "text": [
            "22748.38553851546\n",
            "479.20001220703125\n",
            "106053.94822396006\n",
            "11247481319.158804\n",
            "281.70001220703125\n",
            "95777.6015625\n"
          ]
        }
      ],
      "source": [
        "s = FlowCal.io.FCSData('02-blank-G9-1.fcs')\n",
        "s\n",
        "\n",
        "s_fl1 = s[:, ['FL1-H']]\n",
        "s_fl1\n",
        "\n",
        "s_fl1 = s_fl1.tolist()\n",
        "s_fl1[0][0]\n",
        "\n",
        "proper_s_fl1 = []\n",
        "for i in range(len(s_fl1)):\n",
        "    proper_s_fl1.append(s_fl1[i][0])\n",
        "\n",
        "proper_s_fl1[:100]\n",
        "type(proper_s_fl1[:100])\n",
        "\n",
        "import statistics\n",
        "from statistics import stdev\n",
        "from fractions import Fraction as fr\n",
        "\n",
        "print(np.mean(proper_s_fl1))\n",
        "print(statistics.median(proper_s_fl1))\n",
        "print(np.std(proper_s_fl1))\n",
        "print(statistics.variance(proper_s_fl1))\n",
        "\n",
        "ordered= sorted(proper_s_fl1)\n",
        "i= round(len(ordered)*0.05)\n",
        "lower = ordered[i]\n",
        "i= round(len(ordered)*0.95)\n",
        "upper= ordered[i]\n",
        "\n",
        "print(lower)\n",
        "print(upper)\n"
      ]
    },
    {
      "cell_type": "code",
      "execution_count": 36,
      "id": "bc660e7f",
      "metadata": {
        "id": "bc660e7f",
        "outputId": "5bb381e3-c5b9-4b8d-802d-695a5b736874",
        "colab": {
          "base_uri": "https://localhost:8080/"
        }
      },
      "outputs": [
        {
          "output_type": "stream",
          "name": "stdout",
          "text": [
            "612.2977287292481\n",
            "453.5500030517578\n",
            "727.3286704343018\n",
            "531422.5518897737\n",
            "273.70001220703125\n",
            "1391.0\n"
          ]
        }
      ],
      "source": [
        "s = FlowCal.io.FCSData('04-blank-G9-1.fcs')\n",
        "s\n",
        "\n",
        "s_fl1 = s[:, ['FL1-H']]\n",
        "s_fl1\n",
        "\n",
        "s_fl1 = s_fl1.tolist()\n",
        "s_fl1[0][0]\n",
        "\n",
        "proper_s_fl1 = []\n",
        "for i in range(len(s_fl1)):\n",
        "    proper_s_fl1.append(s_fl1[i][0])\n",
        "\n",
        "proper_s_fl1[:100]\n",
        "type(proper_s_fl1[:100])\n",
        "\n",
        "import statistics\n",
        "from statistics import stdev\n",
        "from fractions import Fraction as fr\n",
        "\n",
        "print(np.mean(proper_s_fl1))\n",
        "print(statistics.median(proper_s_fl1))\n",
        "print(np.std(proper_s_fl1))\n",
        "print(statistics.variance(proper_s_fl1))\n",
        "\n",
        "ordered= sorted(proper_s_fl1)\n",
        "i= round(len(ordered)*0.05)\n",
        "lower = ordered[i]\n",
        "i= round(len(ordered)*0.95)\n",
        "upper= ordered[i]\n",
        "\n",
        "print(lower)\n",
        "print(upper)\n"
      ]
    },
    {
      "cell_type": "code",
      "execution_count": 37,
      "id": "a22ad40a",
      "metadata": {
        "id": "a22ad40a",
        "outputId": "61a7fe1c-1bb4-4ff6-bc9d-232881dfd362",
        "colab": {
          "base_uri": "https://localhost:8080/"
        }
      },
      "outputs": [
        {
          "output_type": "stream",
          "name": "stdout",
          "text": [
            "27914.68145559158\n",
            "483.29998779296875\n",
            "131703.66247026747\n",
            "17345920647.86191\n",
            "292.6000061035156\n",
            "104777.1015625\n"
          ]
        }
      ],
      "source": [
        "s = FlowCal.io.FCSData('02-blank-G9-2.fcs')\n",
        "s\n",
        "\n",
        "s_fl1 = s[:, ['FL1-H']]\n",
        "s_fl1\n",
        "\n",
        "s_fl1 = s_fl1.tolist()\n",
        "s_fl1[0][0]\n",
        "\n",
        "proper_s_fl1 = []\n",
        "for i in range(len(s_fl1)):\n",
        "    proper_s_fl1.append(s_fl1[i][0])\n",
        "\n",
        "proper_s_fl1[:100]\n",
        "type(proper_s_fl1[:100])\n",
        "\n",
        "import statistics\n",
        "from statistics import stdev\n",
        "from fractions import Fraction as fr\n",
        "\n",
        "print(np.mean(proper_s_fl1))\n",
        "print(statistics.median(proper_s_fl1))\n",
        "print(np.std(proper_s_fl1))\n",
        "print(statistics.variance(proper_s_fl1))\n",
        "\n",
        "ordered= sorted(proper_s_fl1)\n",
        "i= round(len(ordered)*0.05)\n",
        "lower = ordered[i]\n",
        "i= round(len(ordered)*0.95)\n",
        "upper= ordered[i]\n",
        "\n",
        "print(lower)\n",
        "print(upper)\n"
      ]
    },
    {
      "cell_type": "code",
      "execution_count": 38,
      "id": "37c9871a",
      "metadata": {
        "id": "37c9871a",
        "outputId": "15bbd0b0-d6d0-4f0a-e372-26fee4e475f5",
        "colab": {
          "base_uri": "https://localhost:8080/"
        }
      },
      "outputs": [
        {
          "output_type": "stream",
          "name": "stdout",
          "text": [
            "25285.03393708217\n",
            "483.5\n",
            "129107.82295579255\n",
            "16668875598.526678\n",
            "291.20001220703125\n",
            "87187.3984375\n"
          ]
        }
      ],
      "source": [
        "s = FlowCal.io.FCSData('04-blank-G9-2.fcs')\n",
        "s\n",
        "\n",
        "s_fl1 = s[:, ['FL1-H']]\n",
        "s_fl1\n",
        "\n",
        "s_fl1 = s_fl1.tolist()\n",
        "s_fl1[0][0]\n",
        "\n",
        "proper_s_fl1 = []\n",
        "for i in range(len(s_fl1)):\n",
        "    proper_s_fl1.append(s_fl1[i][0])\n",
        "\n",
        "proper_s_fl1[:100]\n",
        "type(proper_s_fl1[:100])\n",
        "\n",
        "import statistics\n",
        "from statistics import stdev\n",
        "from fractions import Fraction as fr\n",
        "\n",
        "print(np.mean(proper_s_fl1))\n",
        "print(statistics.median(proper_s_fl1))\n",
        "print(np.std(proper_s_fl1))\n",
        "print(statistics.variance(proper_s_fl1))\n",
        "\n",
        "ordered= sorted(proper_s_fl1)\n",
        "i= round(len(ordered)*0.05)\n",
        "lower = ordered[i]\n",
        "i= round(len(ordered)*0.95)\n",
        "upper= ordered[i]\n",
        "\n",
        "print(lower)\n",
        "print(upper)\n"
      ]
    },
    {
      "cell_type": "code",
      "execution_count": 39,
      "id": "6c105a7b",
      "metadata": {
        "id": "6c105a7b",
        "outputId": "c0f39aeb-df32-428f-f751-d21d5ec23a41",
        "colab": {
          "base_uri": "https://localhost:8080/"
        }
      },
      "outputs": [
        {
          "output_type": "stream",
          "name": "stdout",
          "text": [
            "321843.5079847229\n",
            "321766.3125\n",
            "254868.5858417974\n",
            "64958313344.459114\n",
            "488.70001220703125\n",
            "757816.125\n"
          ]
        }
      ],
      "source": [
        "s = FlowCal.io.FCSData('02-blank-G9-3.fcs')\n",
        "s\n",
        "\n",
        "s_fl1 = s[:, ['FL1-H']]\n",
        "s_fl1\n",
        "\n",
        "s_fl1 = s_fl1.tolist()\n",
        "s_fl1[0][0]\n",
        "\n",
        "proper_s_fl1 = []\n",
        "for i in range(len(s_fl1)):\n",
        "    proper_s_fl1.append(s_fl1[i][0])\n",
        "\n",
        "proper_s_fl1[:100]\n",
        "type(proper_s_fl1[:100])\n",
        "\n",
        "import statistics\n",
        "from statistics import stdev\n",
        "from fractions import Fraction as fr\n",
        "\n",
        "print(np.mean(proper_s_fl1))\n",
        "print(statistics.median(proper_s_fl1))\n",
        "print(np.std(proper_s_fl1))\n",
        "print(statistics.variance(proper_s_fl1))\n",
        "\n",
        "ordered= sorted(proper_s_fl1)\n",
        "i= round(len(ordered)*0.05)\n",
        "lower = ordered[i]\n",
        "i= round(len(ordered)*0.95)\n",
        "upper= ordered[i]\n",
        "\n",
        "print(lower)\n",
        "print(upper)\n"
      ]
    },
    {
      "cell_type": "code",
      "execution_count": 40,
      "id": "7b7a9345",
      "metadata": {
        "id": "7b7a9345",
        "outputId": "d382020b-7e31-4bbc-e601-679aaa739004",
        "colab": {
          "base_uri": "https://localhost:8080/"
        }
      },
      "outputs": [
        {
          "output_type": "stream",
          "name": "stdout",
          "text": [
            "351845.1069113324\n",
            "356581.8125\n",
            "279457.4637581727\n",
            "78096628143.72762\n",
            "486.1000061035156\n",
            "812397.8125\n"
          ]
        }
      ],
      "source": [
        "s = FlowCal.io.FCSData('04-blank-G9-3.fcs')\n",
        "s\n",
        "\n",
        "s_fl1 = s[:, ['FL1-H']]\n",
        "s_fl1\n",
        "\n",
        "s_fl1 = s_fl1.tolist()\n",
        "s_fl1[0][0]\n",
        "\n",
        "proper_s_fl1 = []\n",
        "for i in range(len(s_fl1)):\n",
        "    proper_s_fl1.append(s_fl1[i][0])\n",
        "\n",
        "proper_s_fl1[:100]\n",
        "type(proper_s_fl1[:100])\n",
        "\n",
        "import statistics\n",
        "from statistics import stdev\n",
        "from fractions import Fraction as fr\n",
        "\n",
        "print(np.mean(proper_s_fl1))\n",
        "print(statistics.median(proper_s_fl1))\n",
        "print(np.std(proper_s_fl1))\n",
        "print(statistics.variance(proper_s_fl1))\n",
        "\n",
        "ordered= sorted(proper_s_fl1)\n",
        "i= round(len(ordered)*0.05)\n",
        "lower = ordered[i]\n",
        "i= round(len(ordered)*0.95)\n",
        "upper= ordered[i]\n",
        "\n",
        "print(lower)\n",
        "print(upper)\n"
      ]
    },
    {
      "cell_type": "code",
      "execution_count": 41,
      "id": "0aa68245",
      "metadata": {
        "id": "0aa68245",
        "outputId": "c10d042e-289c-4d80-e26c-b61cc6ac99be",
        "colab": {
          "base_uri": "https://localhost:8080/"
        }
      },
      "outputs": [
        {
          "output_type": "stream",
          "name": "stdout",
          "text": [
            "260918.1985129248\n",
            "267209.09375\n",
            "199683.9227409274\n",
            "39873986978.11819\n",
            "470.3999938964844\n",
            "593198.625\n"
          ]
        }
      ],
      "source": [
        "s = FlowCal.io.FCSData('02-blank-G9-4.fcs')\n",
        "s\n",
        "\n",
        "s_fl1 = s[:, ['FL1-H']]\n",
        "s_fl1\n",
        "\n",
        "s_fl1 = s_fl1.tolist()\n",
        "s_fl1[0][0]\n",
        "\n",
        "proper_s_fl1 = []\n",
        "for i in range(len(s_fl1)):\n",
        "    proper_s_fl1.append(s_fl1[i][0])\n",
        "\n",
        "proper_s_fl1[:100]\n",
        "type(proper_s_fl1[:100])\n",
        "\n",
        "import statistics\n",
        "from statistics import stdev\n",
        "from fractions import Fraction as fr\n",
        "\n",
        "print(np.mean(proper_s_fl1))\n",
        "print(statistics.median(proper_s_fl1))\n",
        "print(np.std(proper_s_fl1))\n",
        "print(statistics.variance(proper_s_fl1))\n",
        "\n",
        "ordered= sorted(proper_s_fl1)\n",
        "i= round(len(ordered)*0.05)\n",
        "lower = ordered[i]\n",
        "i= round(len(ordered)*0.95)\n",
        "upper= ordered[i]\n",
        "\n",
        "print(lower)\n",
        "print(upper)\n"
      ]
    },
    {
      "cell_type": "code",
      "execution_count": 42,
      "id": "8dbe00bc",
      "metadata": {
        "id": "8dbe00bc",
        "outputId": "5247ecc7-ca03-4899-8c3f-5aad4edfb7a0",
        "colab": {
          "base_uri": "https://localhost:8080/"
        }
      },
      "outputs": [
        {
          "output_type": "stream",
          "name": "stdout",
          "text": [
            "290068.456134461\n",
            "305929.953125\n",
            "226828.25207633938\n",
            "51451231836.84382\n",
            "471.0\n",
            "655012.5\n"
          ]
        }
      ],
      "source": [
        "s = FlowCal.io.FCSData('04-blank-G9-4.fcs')\n",
        "s\n",
        "\n",
        "s_fl1 = s[:, ['FL1-H']]\n",
        "s_fl1\n",
        "\n",
        "s_fl1 = s_fl1.tolist()\n",
        "s_fl1[0][0]\n",
        "\n",
        "proper_s_fl1 = []\n",
        "for i in range(len(s_fl1)):\n",
        "    proper_s_fl1.append(s_fl1[i][0])\n",
        "\n",
        "proper_s_fl1[:100]\n",
        "type(proper_s_fl1[:100])\n",
        "\n",
        "import statistics\n",
        "from statistics import stdev\n",
        "from fractions import Fraction as fr\n",
        "\n",
        "print(np.mean(proper_s_fl1))\n",
        "print(statistics.median(proper_s_fl1))\n",
        "print(np.std(proper_s_fl1))\n",
        "print(statistics.variance(proper_s_fl1))\n",
        "\n",
        "ordered= sorted(proper_s_fl1)\n",
        "i= round(len(ordered)*0.05)\n",
        "lower = ordered[i]\n",
        "i= round(len(ordered)*0.95)\n",
        "upper= ordered[i]\n",
        "\n",
        "print(lower)\n",
        "print(upper)\n"
      ]
    },
    {
      "cell_type": "code",
      "execution_count": 43,
      "id": "be428d8b",
      "metadata": {
        "id": "be428d8b",
        "outputId": "6f2ea9f3-cda3-4053-d6c4-5c783ac58601",
        "colab": {
          "base_uri": "https://localhost:8080/"
        }
      },
      "outputs": [
        {
          "output_type": "stream",
          "name": "stdout",
          "text": [
            "70329.02447250107\n",
            "551.2999877929688\n",
            "218930.40298049495\n",
            "47930846167.55739\n",
            "298.0\n",
            "581641.6875\n"
          ]
        }
      ],
      "source": [
        "s = FlowCal.io.FCSData('02-blank-G10-1.fcs')\n",
        "s\n",
        "\n",
        "s_fl1 = s[:, ['FL1-H']]\n",
        "s_fl1\n",
        "\n",
        "s_fl1 = s_fl1.tolist()\n",
        "s_fl1[0][0]\n",
        "\n",
        "proper_s_fl1 = []\n",
        "for i in range(len(s_fl1)):\n",
        "    proper_s_fl1.append(s_fl1[i][0])\n",
        "\n",
        "proper_s_fl1[:100]\n",
        "type(proper_s_fl1[:100])\n",
        "\n",
        "import statistics\n",
        "from statistics import stdev\n",
        "from fractions import Fraction as fr\n",
        "\n",
        "print(np.mean(proper_s_fl1))\n",
        "print(statistics.median(proper_s_fl1))\n",
        "print(np.std(proper_s_fl1))\n",
        "print(statistics.variance(proper_s_fl1))\n",
        "\n",
        "ordered= sorted(proper_s_fl1)\n",
        "i= round(len(ordered)*0.05)\n",
        "lower = ordered[i]\n",
        "i= round(len(ordered)*0.95)\n",
        "upper= ordered[i]\n",
        "\n",
        "print(lower)\n",
        "print(upper)\n"
      ]
    },
    {
      "cell_type": "code",
      "execution_count": 44,
      "id": "7d97ed18",
      "metadata": {
        "id": "7d97ed18",
        "outputId": "0ee4b966-bc5c-41a2-aff8-ba46c1d3712a",
        "colab": {
          "base_uri": "https://localhost:8080/"
        }
      },
      "outputs": [
        {
          "output_type": "stream",
          "name": "stdout",
          "text": [
            "2895.971946187539\n",
            "488.6000061035156\n",
            "35555.65422384467\n",
            "1268390655.0580723\n",
            "318.0\n",
            "1991.699951171875\n"
          ]
        }
      ],
      "source": [
        "s = FlowCal.io.FCSData('04-blank-G10-1.fcs')\n",
        "s\n",
        "\n",
        "s_fl1 = s[:, ['FL1-H']]\n",
        "s_fl1\n",
        "\n",
        "s_fl1 = s_fl1.tolist()\n",
        "s_fl1[0][0]\n",
        "\n",
        "proper_s_fl1 = []\n",
        "for i in range(len(s_fl1)):\n",
        "    proper_s_fl1.append(s_fl1[i][0])\n",
        "\n",
        "proper_s_fl1[:100]\n",
        "type(proper_s_fl1[:100])\n",
        "\n",
        "import statistics\n",
        "from statistics import stdev\n",
        "from fractions import Fraction as fr\n",
        "\n",
        "print(np.mean(proper_s_fl1))\n",
        "print(statistics.median(proper_s_fl1))\n",
        "print(np.std(proper_s_fl1))\n",
        "print(statistics.variance(proper_s_fl1))\n",
        "\n",
        "ordered= sorted(proper_s_fl1)\n",
        "i= round(len(ordered)*0.05)\n",
        "lower = ordered[i]\n",
        "i= round(len(ordered)*0.95)\n",
        "upper= ordered[i]\n",
        "\n",
        "print(lower)\n",
        "print(upper)\n"
      ]
    },
    {
      "cell_type": "code",
      "execution_count": 45,
      "id": "67d231c1",
      "metadata": {
        "id": "67d231c1",
        "outputId": "7a2063c6-abc5-4c36-c49b-6b6357c401fe",
        "colab": {
          "base_uri": "https://localhost:8080/"
        }
      },
      "outputs": [
        {
          "output_type": "stream",
          "name": "stdout",
          "text": [
            "80037.56939138629\n",
            "561.5999755859375\n",
            "231431.09812534822\n",
            "53560468853.617546\n",
            "290.70001220703125\n",
            "585988.0\n"
          ]
        }
      ],
      "source": [
        "s = FlowCal.io.FCSData('02-blank-G10-2.fcs')\n",
        "s\n",
        "\n",
        "s_fl1 = s[:, ['FL1-H']]\n",
        "s_fl1\n",
        "\n",
        "s_fl1 = s_fl1.tolist()\n",
        "s_fl1[0][0]\n",
        "\n",
        "proper_s_fl1 = []\n",
        "for i in range(len(s_fl1)):\n",
        "    proper_s_fl1.append(s_fl1[i][0])\n",
        "\n",
        "proper_s_fl1[:100]\n",
        "type(proper_s_fl1[:100])\n",
        "\n",
        "import statistics\n",
        "from statistics import stdev\n",
        "from fractions import Fraction as fr\n",
        "\n",
        "print(np.mean(proper_s_fl1))\n",
        "print(statistics.median(proper_s_fl1))\n",
        "print(np.std(proper_s_fl1))\n",
        "print(statistics.variance(proper_s_fl1))\n",
        "\n",
        "ordered= sorted(proper_s_fl1)\n",
        "i= round(len(ordered)*0.05)\n",
        "lower = ordered[i]\n",
        "i= round(len(ordered)*0.95)\n",
        "upper= ordered[i]\n",
        "\n",
        "print(lower)\n",
        "print(upper)\n"
      ]
    },
    {
      "cell_type": "code",
      "execution_count": 46,
      "id": "14d9404d",
      "metadata": {
        "id": "14d9404d",
        "outputId": "dd50c157-321b-440e-9c0b-9fd007d5fe46",
        "colab": {
          "base_uri": "https://localhost:8080/"
        }
      },
      "outputs": [
        {
          "output_type": "stream",
          "name": "stdout",
          "text": [
            "83306.0088550417\n",
            "576.2000122070312\n",
            "253031.8900950507\n",
            "64025234911.47001\n",
            "300.1000061035156\n",
            "659420.3125\n"
          ]
        }
      ],
      "source": [
        "s = FlowCal.io.FCSData('04-blank-G10-2.fcs')\n",
        "s\n",
        "\n",
        "s_fl1 = s[:, ['FL1-H']]\n",
        "s_fl1\n",
        "\n",
        "s_fl1 = s_fl1.tolist()\n",
        "s_fl1[0][0]\n",
        "\n",
        "proper_s_fl1 = []\n",
        "for i in range(len(s_fl1)):\n",
        "    proper_s_fl1.append(s_fl1[i][0])\n",
        "\n",
        "proper_s_fl1[:100]\n",
        "type(proper_s_fl1[:100])\n",
        "\n",
        "import statistics\n",
        "from statistics import stdev\n",
        "from fractions import Fraction as fr\n",
        "\n",
        "print(np.mean(proper_s_fl1))\n",
        "print(statistics.median(proper_s_fl1))\n",
        "print(np.std(proper_s_fl1))\n",
        "print(statistics.variance(proper_s_fl1))\n",
        "\n",
        "ordered= sorted(proper_s_fl1)\n",
        "i= round(len(ordered)*0.05)\n",
        "lower = ordered[i]\n",
        "i= round(len(ordered)*0.95)\n",
        "upper= ordered[i]\n",
        "\n",
        "print(lower)\n",
        "print(upper)\n"
      ]
    },
    {
      "cell_type": "code",
      "execution_count": 48,
      "id": "d9bf64fc",
      "metadata": {
        "id": "d9bf64fc",
        "outputId": "f85df91c-2470-4b53-bfd0-a38b99bfed70",
        "colab": {
          "base_uri": "https://localhost:8080/"
        }
      },
      "outputs": [
        {
          "output_type": "stream",
          "name": "stdout",
          "text": [
            "309798.7683483592\n",
            "250174.0\n",
            "334811.8217902712\n",
            "112099256891.5813\n",
            "2568.39990234375\n",
            "933357.625\n"
          ]
        }
      ],
      "source": [
        "s = FlowCal.io.FCSData('02-blank-G10-3.fcs')\n",
        "s\n",
        "\n",
        "s_fl1 = s[:, ['FL1-H']]\n",
        "s_fl1\n",
        "\n",
        "s_fl1 = s_fl1.tolist()\n",
        "s_fl1[0][0]\n",
        "\n",
        "proper_s_fl1 = []\n",
        "for i in range(len(s_fl1)):\n",
        "    proper_s_fl1.append(s_fl1[i][0])\n",
        "\n",
        "proper_s_fl1[:100]\n",
        "type(proper_s_fl1[:100])\n",
        "\n",
        "import statistics\n",
        "from statistics import stdev\n",
        "from fractions import Fraction as fr\n",
        "\n",
        "print(np.mean(proper_s_fl1))\n",
        "print(statistics.median(proper_s_fl1))\n",
        "print(np.std(proper_s_fl1))\n",
        "print(statistics.variance(proper_s_fl1))\n",
        "\n",
        "ordered= sorted(proper_s_fl1)\n",
        "i= round(len(ordered)*0.05)\n",
        "lower = ordered[i]\n",
        "i= round(len(ordered)*0.95)\n",
        "upper= ordered[i]\n",
        "\n",
        "print(lower)\n",
        "print(upper)\n"
      ]
    },
    {
      "cell_type": "code",
      "execution_count": 49,
      "id": "f2592085",
      "metadata": {
        "id": "f2592085",
        "outputId": "9bd41b12-5a50-49f0-de66-bbb1d413be0d",
        "colab": {
          "base_uri": "https://localhost:8080/"
        }
      },
      "outputs": [
        {
          "output_type": "stream",
          "name": "stdout",
          "text": [
            "321103.0691386899\n",
            "225665.8515625\n",
            "363499.6048678444\n",
            "132132188433.22849\n",
            "2450.60009765625\n",
            "949128.125\n"
          ]
        }
      ],
      "source": [
        "s = FlowCal.io.FCSData('04-blank-G10-3.fcs')\n",
        "s\n",
        "\n",
        "s_fl1 = s[:, ['FL1-H']]\n",
        "s_fl1\n",
        "\n",
        "s_fl1 = s_fl1.tolist()\n",
        "s_fl1[0][0]\n",
        "\n",
        "proper_s_fl1 = []\n",
        "for i in range(len(s_fl1)):\n",
        "    proper_s_fl1.append(s_fl1[i][0])\n",
        "\n",
        "proper_s_fl1[:100]\n",
        "type(proper_s_fl1[:100])\n",
        "\n",
        "import statistics\n",
        "from statistics import stdev\n",
        "from fractions import Fraction as fr\n",
        "\n",
        "print(np.mean(proper_s_fl1))\n",
        "print(statistics.median(proper_s_fl1))\n",
        "print(np.std(proper_s_fl1))\n",
        "print(statistics.variance(proper_s_fl1))\n",
        "\n",
        "ordered= sorted(proper_s_fl1)\n",
        "i= round(len(ordered)*0.05)\n",
        "lower = ordered[i]\n",
        "i= round(len(ordered)*0.95)\n",
        "upper= ordered[i]\n",
        "\n",
        "print(lower)\n",
        "print(upper)\n"
      ]
    },
    {
      "cell_type": "code",
      "execution_count": 51,
      "id": "0580ea41",
      "metadata": {
        "id": "0580ea41",
        "outputId": "8fdcaae5-5840-4f93-8023-caa27d015850",
        "colab": {
          "base_uri": "https://localhost:8080/"
        }
      },
      "outputs": [
        {
          "output_type": "stream",
          "name": "stdout",
          "text": [
            "216806.61419024164\n",
            "172155.6484375\n",
            "236422.79694154736\n",
            "55895947701.886375\n",
            "2215.300048828125\n",
            "632205.8125\n"
          ]
        }
      ],
      "source": [
        "s = FlowCal.io.FCSData('02-blank-G10-4.fcs')\n",
        "s\n",
        "\n",
        "s_fl1 = s[:, ['FL1-H']]\n",
        "s_fl1\n",
        "\n",
        "s_fl1 = s_fl1.tolist()\n",
        "s_fl1[0][0]\n",
        "\n",
        "proper_s_fl1 = []\n",
        "for i in range(len(s_fl1)):\n",
        "    proper_s_fl1.append(s_fl1[i][0])\n",
        "\n",
        "proper_s_fl1[:100]\n",
        "type(proper_s_fl1[:100])\n",
        "\n",
        "import statistics\n",
        "from statistics import stdev\n",
        "from fractions import Fraction as fr\n",
        "\n",
        "print(np.mean(proper_s_fl1))\n",
        "print(statistics.median(proper_s_fl1))\n",
        "print(np.std(proper_s_fl1))\n",
        "print(statistics.variance(proper_s_fl1))\n",
        "\n",
        "ordered= sorted(proper_s_fl1)\n",
        "i= round(len(ordered)*0.05)\n",
        "lower = ordered[i]\n",
        "i= round(len(ordered)*0.95)\n",
        "upper= ordered[i]\n",
        "\n",
        "print(lower)\n",
        "print(upper)\n"
      ]
    },
    {
      "cell_type": "code",
      "execution_count": 52,
      "id": "1aec7af0",
      "metadata": {
        "id": "1aec7af0",
        "outputId": "96cd60ac-b5f9-4259-cc78-8fc126f8a160",
        "colab": {
          "base_uri": "https://localhost:8080/"
        }
      },
      "outputs": [
        {
          "output_type": "stream",
          "name": "stdout",
          "text": [
            "208914.07980015644\n",
            "65654.6015625\n",
            "278689.1878352335\n",
            "77667935234.32858\n",
            "907.0999755859375\n",
            "696303.5\n"
          ]
        }
      ],
      "source": [
        "s = FlowCal.io.FCSData('04-blank-G10-4.fcs')\n",
        "s\n",
        "\n",
        "s_fl1 = s[:, ['FL1-H']]\n",
        "s_fl1\n",
        "\n",
        "s_fl1 = s_fl1.tolist()\n",
        "s_fl1[0][0]\n",
        "\n",
        "proper_s_fl1 = []\n",
        "for i in range(len(s_fl1)):\n",
        "    proper_s_fl1.append(s_fl1[i][0])\n",
        "\n",
        "proper_s_fl1[:100]\n",
        "type(proper_s_fl1[:100])\n",
        "\n",
        "import statistics\n",
        "from statistics import stdev\n",
        "from fractions import Fraction as fr\n",
        "\n",
        "print(np.mean(proper_s_fl1))\n",
        "print(statistics.median(proper_s_fl1))\n",
        "print(np.std(proper_s_fl1))\n",
        "print(statistics.variance(proper_s_fl1))\n",
        "\n",
        "ordered= sorted(proper_s_fl1)\n",
        "i= round(len(ordered)*0.05)\n",
        "lower = ordered[i]\n",
        "i= round(len(ordered)*0.95)\n",
        "upper= ordered[i]\n",
        "\n",
        "print(lower)\n",
        "print(upper)\n"
      ]
    },
    {
      "cell_type": "code",
      "execution_count": 53,
      "id": "c4503c4c",
      "metadata": {
        "id": "c4503c4c",
        "outputId": "ba6d1441-e85f-43d0-eb03-dc63a5d49b41",
        "colab": {
          "base_uri": "https://localhost:8080/"
        }
      },
      "outputs": [
        {
          "output_type": "stream",
          "name": "stdout",
          "text": [
            "34718.28789517475\n",
            "487.79998779296875\n",
            "144514.4237866144\n",
            "20884537935.36891\n",
            "283.1000061035156\n",
            "170420.0\n"
          ]
        }
      ],
      "source": [
        "s = FlowCal.io.FCSData('02-blank-G11-1.fcs')\n",
        "s\n",
        "\n",
        "s_fl1 = s[:, ['FL1-H']]\n",
        "s_fl1\n",
        "\n",
        "s_fl1 = s_fl1.tolist()\n",
        "s_fl1[0][0]\n",
        "\n",
        "proper_s_fl1 = []\n",
        "for i in range(len(s_fl1)):\n",
        "    proper_s_fl1.append(s_fl1[i][0])\n",
        "\n",
        "proper_s_fl1[:100]\n",
        "type(proper_s_fl1[:100])\n",
        "\n",
        "import statistics\n",
        "from statistics import stdev\n",
        "from fractions import Fraction as fr\n",
        "\n",
        "print(np.mean(proper_s_fl1))\n",
        "print(statistics.median(proper_s_fl1))\n",
        "print(np.std(proper_s_fl1))\n",
        "print(statistics.variance(proper_s_fl1))\n",
        "\n",
        "ordered= sorted(proper_s_fl1)\n",
        "i= round(len(ordered)*0.05)\n",
        "lower = ordered[i]\n",
        "i= round(len(ordered)*0.95)\n",
        "upper= ordered[i]\n",
        "\n",
        "print(lower)\n",
        "print(upper)\n"
      ]
    },
    {
      "cell_type": "code",
      "execution_count": 54,
      "id": "3ddf9835",
      "metadata": {
        "id": "3ddf9835",
        "outputId": "8252df3c-d546-4c67-b74c-902fee101595",
        "colab": {
          "base_uri": "https://localhost:8080/"
        }
      },
      "outputs": [
        {
          "output_type": "stream",
          "name": "stdout",
          "text": [
            "3024.2809001833893\n",
            "498.8999938964844\n",
            "31546.777220380296\n",
            "999849616.3240451\n",
            "286.8999938964844\n",
            "2276.800048828125\n"
          ]
        }
      ],
      "source": [
        "s = FlowCal.io.FCSData('04-blank-G11-1.fcs')\n",
        "s\n",
        "\n",
        "s_fl1 = s[:, ['FL1-H']]\n",
        "s_fl1\n",
        "\n",
        "s_fl1 = s_fl1.tolist()\n",
        "s_fl1[0][0]\n",
        "\n",
        "proper_s_fl1 = []\n",
        "for i in range(len(s_fl1)):\n",
        "    proper_s_fl1.append(s_fl1[i][0])\n",
        "\n",
        "proper_s_fl1[:100]\n",
        "type(proper_s_fl1[:100])\n",
        "\n",
        "import statistics\n",
        "from statistics import stdev\n",
        "from fractions import Fraction as fr\n",
        "\n",
        "print(np.mean(proper_s_fl1))\n",
        "print(statistics.median(proper_s_fl1))\n",
        "print(np.std(proper_s_fl1))\n",
        "print(statistics.variance(proper_s_fl1))\n",
        "\n",
        "ordered= sorted(proper_s_fl1)\n",
        "i= round(len(ordered)*0.05)\n",
        "lower = ordered[i]\n",
        "i= round(len(ordered)*0.95)\n",
        "upper= ordered[i]\n",
        "\n",
        "print(lower)\n",
        "print(upper)\n"
      ]
    },
    {
      "cell_type": "code",
      "execution_count": 55,
      "id": "c88eab0f",
      "metadata": {
        "id": "c88eab0f",
        "outputId": "96674645-a5ef-49b0-9de1-d10cd11c8590",
        "colab": {
          "base_uri": "https://localhost:8080/"
        }
      },
      "outputs": [
        {
          "output_type": "stream",
          "name": "stdout",
          "text": [
            "46452.822384185856\n",
            "493.1000061035156\n",
            "183114.65454509133\n",
            "33531097009.593678\n",
            "290.3999938964844\n",
            "372994.5\n"
          ]
        }
      ],
      "source": [
        "s = FlowCal.io.FCSData('02-blank-G11-2.fcs')\n",
        "s\n",
        "\n",
        "s_fl1 = s[:, ['FL1-H']]\n",
        "s_fl1\n",
        "\n",
        "s_fl1 = s_fl1.tolist()\n",
        "s_fl1[0][0]\n",
        "\n",
        "proper_s_fl1 = []\n",
        "for i in range(len(s_fl1)):\n",
        "    proper_s_fl1.append(s_fl1[i][0])\n",
        "\n",
        "proper_s_fl1[:100]\n",
        "type(proper_s_fl1[:100])\n",
        "\n",
        "import statistics\n",
        "from statistics import stdev\n",
        "from fractions import Fraction as fr\n",
        "\n",
        "print(np.mean(proper_s_fl1))\n",
        "print(statistics.median(proper_s_fl1))\n",
        "print(np.std(proper_s_fl1))\n",
        "print(statistics.variance(proper_s_fl1))\n",
        "\n",
        "ordered= sorted(proper_s_fl1)\n",
        "i= round(len(ordered)*0.05)\n",
        "lower = ordered[i]\n",
        "i= round(len(ordered)*0.95)\n",
        "upper= ordered[i]\n",
        "\n",
        "print(lower)\n",
        "print(upper)\n"
      ]
    },
    {
      "cell_type": "code",
      "execution_count": 56,
      "id": "642633ab",
      "metadata": {
        "id": "642633ab",
        "outputId": "23b1eff2-1077-42e6-9c73-225d56ca07b8",
        "colab": {
          "base_uri": "https://localhost:8080/"
        }
      },
      "outputs": [
        {
          "output_type": "stream",
          "name": "stdout",
          "text": [
            "34836.537350129314\n",
            "494.5\n",
            "155482.00739880747\n",
            "24174752229.938194\n",
            "297.79998779296875\n",
            "102099.1015625\n"
          ]
        }
      ],
      "source": [
        "s = FlowCal.io.FCSData('04-blank-G11-2.fcs')\n",
        "s\n",
        "\n",
        "s_fl1 = s[:, ['FL1-H']]\n",
        "s_fl1\n",
        "\n",
        "s_fl1 = s_fl1.tolist()\n",
        "s_fl1[0][0]\n",
        "\n",
        "proper_s_fl1 = []\n",
        "for i in range(len(s_fl1)):\n",
        "    proper_s_fl1.append(s_fl1[i][0])\n",
        "\n",
        "proper_s_fl1[:100]\n",
        "type(proper_s_fl1[:100])\n",
        "\n",
        "import statistics\n",
        "from statistics import stdev\n",
        "from fractions import Fraction as fr\n",
        "\n",
        "print(np.mean(proper_s_fl1))\n",
        "print(statistics.median(proper_s_fl1))\n",
        "print(np.std(proper_s_fl1))\n",
        "print(statistics.variance(proper_s_fl1))\n",
        "\n",
        "ordered= sorted(proper_s_fl1)\n",
        "i= round(len(ordered)*0.05)\n",
        "lower = ordered[i]\n",
        "i= round(len(ordered)*0.95)\n",
        "upper= ordered[i]\n",
        "\n",
        "print(lower)\n",
        "print(upper)\n"
      ]
    },
    {
      "cell_type": "code",
      "execution_count": 57,
      "id": "7bcd1968",
      "metadata": {
        "id": "7bcd1968",
        "outputId": "6bca7e83-9900-4d98-ce8f-818c19daf994",
        "colab": {
          "base_uri": "https://localhost:8080/"
        }
      },
      "outputs": [
        {
          "output_type": "stream",
          "name": "stdout",
          "text": [
            "256231.58378265856\n",
            "256260.203125\n",
            "248026.38837074582\n",
            "61517380895.00442\n",
            "430.8999938964844\n",
            "679154.3125\n"
          ]
        }
      ],
      "source": [
        "s = FlowCal.io.FCSData('02-blank-G11-3.fcs')\n",
        "s\n",
        "\n",
        "s_fl1 = s[:, ['FL1-H']]\n",
        "s_fl1\n",
        "\n",
        "s_fl1 = s_fl1.tolist()\n",
        "s_fl1[0][0]\n",
        "\n",
        "proper_s_fl1 = []\n",
        "for i in range(len(s_fl1)):\n",
        "    proper_s_fl1.append(s_fl1[i][0])\n",
        "\n",
        "proper_s_fl1[:100]\n",
        "type(proper_s_fl1[:100])\n",
        "\n",
        "import statistics\n",
        "from statistics import stdev\n",
        "from fractions import Fraction as fr\n",
        "\n",
        "print(np.mean(proper_s_fl1))\n",
        "print(statistics.median(proper_s_fl1))\n",
        "print(np.std(proper_s_fl1))\n",
        "print(statistics.variance(proper_s_fl1))\n",
        "\n",
        "ordered= sorted(proper_s_fl1)\n",
        "i= round(len(ordered)*0.05)\n",
        "lower = ordered[i]\n",
        "i= round(len(ordered)*0.95)\n",
        "upper= ordered[i]\n",
        "\n",
        "print(lower)\n",
        "print(upper)\n"
      ]
    },
    {
      "cell_type": "code",
      "execution_count": 58,
      "id": "0b6aaa17",
      "metadata": {
        "id": "0b6aaa17",
        "outputId": "4def5566-b765-4c4e-a383-c2ffa0b670d9",
        "colab": {
          "base_uri": "https://localhost:8080/"
        }
      },
      "outputs": [
        {
          "output_type": "stream",
          "name": "stdout",
          "text": [
            "333251.73799268133\n",
            "317980.40625\n",
            "332872.73287460516\n",
            "110804465476.81775\n",
            "444.8999938964844\n",
            "905417.5\n"
          ]
        }
      ],
      "source": [
        "s = FlowCal.io.FCSData('04-blank-G11-3.fcs')\n",
        "s\n",
        "\n",
        "s_fl1 = s[:, ['FL1-H']]\n",
        "s_fl1\n",
        "\n",
        "s_fl1 = s_fl1.tolist()\n",
        "s_fl1[0][0]\n",
        "\n",
        "proper_s_fl1 = []\n",
        "for i in range(len(s_fl1)):\n",
        "    proper_s_fl1.append(s_fl1[i][0])\n",
        "\n",
        "proper_s_fl1[:100]\n",
        "type(proper_s_fl1[:100])\n",
        "\n",
        "import statistics\n",
        "from statistics import stdev\n",
        "from fractions import Fraction as fr\n",
        "\n",
        "print(np.mean(proper_s_fl1))\n",
        "print(statistics.median(proper_s_fl1))\n",
        "print(np.std(proper_s_fl1))\n",
        "print(statistics.variance(proper_s_fl1))\n",
        "\n",
        "ordered= sorted(proper_s_fl1)\n",
        "i= round(len(ordered)*0.05)\n",
        "lower = ordered[i]\n",
        "i= round(len(ordered)*0.95)\n",
        "upper= ordered[i]\n",
        "\n",
        "print(lower)\n",
        "print(upper)\n"
      ]
    },
    {
      "cell_type": "code",
      "execution_count": 59,
      "id": "edbfb355",
      "metadata": {
        "id": "edbfb355",
        "outputId": "9a9d28c2-190a-4aed-d3f7-d50ae54d6703",
        "colab": {
          "base_uri": "https://localhost:8080/"
        }
      },
      "outputs": [
        {
          "output_type": "stream",
          "name": "stdout",
          "text": [
            "226880.9135156672\n",
            "209190.90625\n",
            "221225.43258128501\n",
            "48940907566.31419\n",
            "426.70001220703125\n",
            "612512.1875\n"
          ]
        }
      ],
      "source": [
        "s = FlowCal.io.FCSData('02-blank-G11-4.fcs')\n",
        "s\n",
        "\n",
        "s_fl1 = s[:, ['FL1-H']]\n",
        "s_fl1\n",
        "\n",
        "s_fl1 = s_fl1.tolist()\n",
        "s_fl1[0][0]\n",
        "\n",
        "proper_s_fl1 = []\n",
        "for i in range(len(s_fl1)):\n",
        "    proper_s_fl1.append(s_fl1[i][0])\n",
        "\n",
        "proper_s_fl1[:100]\n",
        "type(proper_s_fl1[:100])\n",
        "\n",
        "import statistics\n",
        "from statistics import stdev\n",
        "from fractions import Fraction as fr\n",
        "\n",
        "print(np.mean(proper_s_fl1))\n",
        "print(statistics.median(proper_s_fl1))\n",
        "print(np.std(proper_s_fl1))\n",
        "print(statistics.variance(proper_s_fl1))\n",
        "\n",
        "ordered= sorted(proper_s_fl1)\n",
        "i= round(len(ordered)*0.05)\n",
        "lower = ordered[i]\n",
        "i= round(len(ordered)*0.95)\n",
        "upper= ordered[i]\n",
        "\n",
        "print(lower)\n",
        "print(upper)\n"
      ]
    },
    {
      "cell_type": "code",
      "execution_count": 60,
      "id": "b27159bc",
      "metadata": {
        "id": "b27159bc",
        "outputId": "f2cb3aca-2cce-4527-9d28-4fedb4063555",
        "colab": {
          "base_uri": "https://localhost:8080/"
        }
      },
      "outputs": [
        {
          "output_type": "stream",
          "name": "stdout",
          "text": [
            "214926.5508921453\n",
            "181119.0\n",
            "224000.92973878392\n",
            "50176651882.820625\n",
            "422.0\n",
            "601159.625\n"
          ]
        }
      ],
      "source": [
        "s = FlowCal.io.FCSData('04-blank-G11-4.fcs')\n",
        "s\n",
        "\n",
        "s_fl1 = s[:, ['FL1-H']]\n",
        "s_fl1\n",
        "\n",
        "s_fl1 = s_fl1.tolist()\n",
        "s_fl1[0][0]\n",
        "\n",
        "proper_s_fl1 = []\n",
        "for i in range(len(s_fl1)):\n",
        "    proper_s_fl1.append(s_fl1[i][0])\n",
        "\n",
        "proper_s_fl1[:100]\n",
        "type(proper_s_fl1[:100])\n",
        "\n",
        "import statistics\n",
        "from statistics import stdev\n",
        "from fractions import Fraction as fr\n",
        "\n",
        "print(np.mean(proper_s_fl1))\n",
        "print(statistics.median(proper_s_fl1))\n",
        "print(np.std(proper_s_fl1))\n",
        "print(statistics.variance(proper_s_fl1))\n",
        "\n",
        "ordered= sorted(proper_s_fl1)\n",
        "i= round(len(ordered)*0.05)\n",
        "lower = ordered[i]\n",
        "i= round(len(ordered)*0.95)\n",
        "upper= ordered[i]\n",
        "\n",
        "print(lower)\n",
        "print(upper)\n"
      ]
    },
    {
      "cell_type": "code",
      "execution_count": null,
      "id": "e38d3dfd",
      "metadata": {
        "id": "e38d3dfd"
      },
      "outputs": [],
      "source": []
    }
  ],
  "metadata": {
    "kernelspec": {
      "display_name": "Python 3",
      "language": "python",
      "name": "python3"
    },
    "language_info": {
      "codemirror_mode": {
        "name": "ipython",
        "version": 3
      },
      "file_extension": ".py",
      "mimetype": "text/x-python",
      "name": "python",
      "nbconvert_exporter": "python",
      "pygments_lexer": "ipython3",
      "version": "3.8.3"
    },
    "colab": {
      "provenance": []
    }
  },
  "nbformat": 4,
  "nbformat_minor": 5
}